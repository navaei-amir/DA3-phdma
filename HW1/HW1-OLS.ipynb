{
 "cells": [
  {
   "cell_type": "markdown",
   "metadata": {},
   "source": [
    "# Data Preparation\n",
    "In the first step we load the data set; filter it based on the occupational code and clean it."
   ]
  },
  {
   "cell_type": "code",
   "execution_count": 1,
   "metadata": {},
   "outputs": [],
   "source": [
    "# importing the basic libraries\n",
    "import pandas as pd\n",
    "import numpy as np\n",
    "import statsmodels.api as sm\n",
    "from sklearn.model_selection import train_test_split\n",
    "#the necessary libraries for LASSO\n",
    "from sklearn.linear_model import LassoCV\n",
    "from sklearn.linear_model import Lasso\n",
    "from sklearn.metrics import mean_squared_error\n",
    "from sklearn.preprocessing import StandardScaler\n",
    "# the necessary libraries for OLS with cross validation\n",
    "from sklearn.model_selection import cross_val_predict\n",
    "from sklearn.linear_model import LinearRegression\n",
    "from sklearn.model_selection import KFold\n",
    "# the necessary libraries for considering the interaction terms and powers in model 4\n",
    "from itertools import combinations\n",
    "# the necessary libraries for plotting\n",
    "import matplotlib.pyplot as plt"
   ]
  },
  {
   "cell_type": "markdown",
   "metadata": {},
   "source": [
    "* Loading the dataset from the current path"
   ]
  },
  {
   "cell_type": "code",
   "execution_count": 2,
   "metadata": {},
   "outputs": [
    {
     "data": {
      "text/html": [
       "<div>\n",
       "<style scoped>\n",
       "    .dataframe tbody tr th:only-of-type {\n",
       "        vertical-align: middle;\n",
       "    }\n",
       "\n",
       "    .dataframe tbody tr th {\n",
       "        vertical-align: top;\n",
       "    }\n",
       "\n",
       "    .dataframe thead th {\n",
       "        text-align: right;\n",
       "    }\n",
       "</style>\n",
       "<table border=\"1\" class=\"dataframe\">\n",
       "  <thead>\n",
       "    <tr style=\"text-align: right;\">\n",
       "      <th></th>\n",
       "      <th>Unnamed: 0</th>\n",
       "      <th>hhid</th>\n",
       "      <th>intmonth</th>\n",
       "      <th>stfips</th>\n",
       "      <th>weight</th>\n",
       "      <th>earnwke</th>\n",
       "      <th>uhours</th>\n",
       "      <th>grade92</th>\n",
       "      <th>race</th>\n",
       "      <th>ethnic</th>\n",
       "      <th>...</th>\n",
       "      <th>ownchild</th>\n",
       "      <th>chldpres</th>\n",
       "      <th>prcitshp</th>\n",
       "      <th>state</th>\n",
       "      <th>ind02</th>\n",
       "      <th>occ2012</th>\n",
       "      <th>class</th>\n",
       "      <th>unionmme</th>\n",
       "      <th>unioncov</th>\n",
       "      <th>lfsr94</th>\n",
       "    </tr>\n",
       "  </thead>\n",
       "  <tbody>\n",
       "    <tr>\n",
       "      <th>0</th>\n",
       "      <td>3</td>\n",
       "      <td>2600310997690</td>\n",
       "      <td>January</td>\n",
       "      <td>AL</td>\n",
       "      <td>3151.6801</td>\n",
       "      <td>1692.00</td>\n",
       "      <td>40</td>\n",
       "      <td>43</td>\n",
       "      <td>1</td>\n",
       "      <td>NaN</td>\n",
       "      <td>...</td>\n",
       "      <td>0</td>\n",
       "      <td>0</td>\n",
       "      <td>Native, Born In US</td>\n",
       "      <td>63</td>\n",
       "      <td>Employment services (5613)</td>\n",
       "      <td>630</td>\n",
       "      <td>Private, For Profit</td>\n",
       "      <td>No</td>\n",
       "      <td>No</td>\n",
       "      <td>Employed-At Work</td>\n",
       "    </tr>\n",
       "    <tr>\n",
       "      <th>1</th>\n",
       "      <td>5</td>\n",
       "      <td>75680310997590</td>\n",
       "      <td>January</td>\n",
       "      <td>AL</td>\n",
       "      <td>3457.1138</td>\n",
       "      <td>450.00</td>\n",
       "      <td>40</td>\n",
       "      <td>41</td>\n",
       "      <td>2</td>\n",
       "      <td>NaN</td>\n",
       "      <td>...</td>\n",
       "      <td>2</td>\n",
       "      <td>6</td>\n",
       "      <td>Native, Born In US</td>\n",
       "      <td>63</td>\n",
       "      <td>Outpatient care centers (6214)</td>\n",
       "      <td>5400</td>\n",
       "      <td>Private, For Profit</td>\n",
       "      <td>No</td>\n",
       "      <td>No</td>\n",
       "      <td>Employed-Absent</td>\n",
       "    </tr>\n",
       "    <tr>\n",
       "      <th>2</th>\n",
       "      <td>6</td>\n",
       "      <td>75680310997590</td>\n",
       "      <td>January</td>\n",
       "      <td>AL</td>\n",
       "      <td>3936.9110</td>\n",
       "      <td>1090.00</td>\n",
       "      <td>60</td>\n",
       "      <td>41</td>\n",
       "      <td>2</td>\n",
       "      <td>NaN</td>\n",
       "      <td>...</td>\n",
       "      <td>2</td>\n",
       "      <td>6</td>\n",
       "      <td>Native, Born In US</td>\n",
       "      <td>63</td>\n",
       "      <td>Motor vehicles and motor vehicle equipment man...</td>\n",
       "      <td>8140</td>\n",
       "      <td>Private, For Profit</td>\n",
       "      <td>No</td>\n",
       "      <td>No</td>\n",
       "      <td>Employed-At Work</td>\n",
       "    </tr>\n",
       "    <tr>\n",
       "      <th>3</th>\n",
       "      <td>10</td>\n",
       "      <td>179140131100930</td>\n",
       "      <td>January</td>\n",
       "      <td>AL</td>\n",
       "      <td>3288.3640</td>\n",
       "      <td>769.23</td>\n",
       "      <td>40</td>\n",
       "      <td>40</td>\n",
       "      <td>1</td>\n",
       "      <td>NaN</td>\n",
       "      <td>...</td>\n",
       "      <td>2</td>\n",
       "      <td>4</td>\n",
       "      <td>Native, Born In US</td>\n",
       "      <td>63</td>\n",
       "      <td>**Publishing, except newspapers and software (...</td>\n",
       "      <td>8255</td>\n",
       "      <td>Private, For Profit</td>\n",
       "      <td>Yes</td>\n",
       "      <td>NaN</td>\n",
       "      <td>Employed-At Work</td>\n",
       "    </tr>\n",
       "    <tr>\n",
       "      <th>4</th>\n",
       "      <td>11</td>\n",
       "      <td>179140131100930</td>\n",
       "      <td>January</td>\n",
       "      <td>AL</td>\n",
       "      <td>3422.8500</td>\n",
       "      <td>826.92</td>\n",
       "      <td>40</td>\n",
       "      <td>43</td>\n",
       "      <td>1</td>\n",
       "      <td>NaN</td>\n",
       "      <td>...</td>\n",
       "      <td>2</td>\n",
       "      <td>4</td>\n",
       "      <td>Native, Born In US</td>\n",
       "      <td>63</td>\n",
       "      <td>Banking and related activities (521, 52211,52219)</td>\n",
       "      <td>5940</td>\n",
       "      <td>Private, For Profit</td>\n",
       "      <td>No</td>\n",
       "      <td>No</td>\n",
       "      <td>Employed-At Work</td>\n",
       "    </tr>\n",
       "  </tbody>\n",
       "</table>\n",
       "<p>5 rows × 23 columns</p>\n",
       "</div>"
      ],
      "text/plain": [
       "   Unnamed: 0             hhid intmonth stfips     weight  earnwke  uhours  \\\n",
       "0           3    2600310997690  January     AL  3151.6801  1692.00      40   \n",
       "1           5   75680310997590  January     AL  3457.1138   450.00      40   \n",
       "2           6   75680310997590  January     AL  3936.9110  1090.00      60   \n",
       "3          10  179140131100930  January     AL  3288.3640   769.23      40   \n",
       "4          11  179140131100930  January     AL  3422.8500   826.92      40   \n",
       "\n",
       "   grade92  race  ethnic  ...  ownchild  chldpres            prcitshp  state  \\\n",
       "0       43     1     NaN  ...         0         0  Native, Born In US     63   \n",
       "1       41     2     NaN  ...         2         6  Native, Born In US     63   \n",
       "2       41     2     NaN  ...         2         6  Native, Born In US     63   \n",
       "3       40     1     NaN  ...         2         4  Native, Born In US     63   \n",
       "4       43     1     NaN  ...         2         4  Native, Born In US     63   \n",
       "\n",
       "                                               ind02 occ2012  \\\n",
       "0                         Employment services (5613)     630   \n",
       "1                     Outpatient care centers (6214)    5400   \n",
       "2  Motor vehicles and motor vehicle equipment man...    8140   \n",
       "3  **Publishing, except newspapers and software (...    8255   \n",
       "4  Banking and related activities (521, 52211,52219)    5940   \n",
       "\n",
       "                 class unionmme  unioncov            lfsr94  \n",
       "0  Private, For Profit       No        No  Employed-At Work  \n",
       "1  Private, For Profit       No        No   Employed-Absent  \n",
       "2  Private, For Profit       No        No  Employed-At Work  \n",
       "3  Private, For Profit      Yes       NaN  Employed-At Work  \n",
       "4  Private, For Profit       No        No  Employed-At Work  \n",
       "\n",
       "[5 rows x 23 columns]"
      ]
     },
     "execution_count": 2,
     "metadata": {},
     "output_type": "execute_result"
    }
   ],
   "source": [
    "\n",
    "data = pd.read_csv('morg-2014-emp.csv', low_memory= False)\n",
    "data.head()"
   ]
  },
  {
   "cell_type": "markdown",
   "metadata": {},
   "source": [
    "## Filtering the data based on the occupational codes\n",
    "We are going to continue with **__Arts, Design, Entertainment, Sports, and Media Occupations__** in this assignment."
   ]
  },
  {
   "cell_type": "code",
   "execution_count": 3,
   "metadata": {},
   "outputs": [],
   "source": [
    "#filtering data based on the Occupational code\n",
    "filtered_data = data[(data['occ2012'] >= 2600) & (data['occ2012'] <= 2920)]"
   ]
  },
  {
   "cell_type": "markdown",
   "metadata": {},
   "source": [
    "* Checking the data types to make the necessary adjustments"
   ]
  },
  {
   "cell_type": "code",
   "execution_count": 4,
   "metadata": {},
   "outputs": [
    {
     "data": {
      "text/plain": [
       "Unnamed: 0      int64\n",
       "hhid            int64\n",
       "intmonth       object\n",
       "stfips         object\n",
       "weight        float64\n",
       "earnwke       float64\n",
       "uhours          int64\n",
       "grade92         int64\n",
       "race            int64\n",
       "ethnic        float64\n",
       "age             int64\n",
       "sex             int64\n",
       "marital         int64\n",
       "ownchild        int64\n",
       "chldpres        int64\n",
       "prcitshp       object\n",
       "state          object\n",
       "ind02          object\n",
       "occ2012         int64\n",
       "class          object\n",
       "unionmme       object\n",
       "unioncov       object\n",
       "lfsr94         object\n",
       "dtype: object"
      ]
     },
     "execution_count": 4,
     "metadata": {},
     "output_type": "execute_result"
    }
   ],
   "source": [
    "filtered_data.dtypes"
   ]
  },
  {
   "cell_type": "markdown",
   "metadata": {},
   "source": [
    "# Converting the categorical columns from object to categorical type"
   ]
  },
  {
   "cell_type": "code",
   "execution_count": 5,
   "metadata": {},
   "outputs": [
    {
     "name": "stderr",
     "output_type": "stream",
     "text": [
      "C:\\Users\\PA\\AppData\\Local\\Temp\\ipykernel_12140\\2368441643.py:6: SettingWithCopyWarning: \n",
      "A value is trying to be set on a copy of a slice from a DataFrame.\n",
      "Try using .loc[row_indexer,col_indexer] = value instead\n",
      "\n",
      "See the caveats in the documentation: https://pandas.pydata.org/pandas-docs/stable/user_guide/indexing.html#returning-a-view-versus-a-copy\n",
      "  filtered_data[col] = pd.Categorical(filtered_data[col])\n",
      "C:\\Users\\PA\\AppData\\Local\\Temp\\ipykernel_12140\\2368441643.py:6: SettingWithCopyWarning: \n",
      "A value is trying to be set on a copy of a slice from a DataFrame.\n",
      "Try using .loc[row_indexer,col_indexer] = value instead\n",
      "\n",
      "See the caveats in the documentation: https://pandas.pydata.org/pandas-docs/stable/user_guide/indexing.html#returning-a-view-versus-a-copy\n",
      "  filtered_data[col] = pd.Categorical(filtered_data[col])\n",
      "C:\\Users\\PA\\AppData\\Local\\Temp\\ipykernel_12140\\2368441643.py:6: SettingWithCopyWarning: \n",
      "A value is trying to be set on a copy of a slice from a DataFrame.\n",
      "Try using .loc[row_indexer,col_indexer] = value instead\n",
      "\n",
      "See the caveats in the documentation: https://pandas.pydata.org/pandas-docs/stable/user_guide/indexing.html#returning-a-view-versus-a-copy\n",
      "  filtered_data[col] = pd.Categorical(filtered_data[col])\n",
      "C:\\Users\\PA\\AppData\\Local\\Temp\\ipykernel_12140\\2368441643.py:6: SettingWithCopyWarning: \n",
      "A value is trying to be set on a copy of a slice from a DataFrame.\n",
      "Try using .loc[row_indexer,col_indexer] = value instead\n",
      "\n",
      "See the caveats in the documentation: https://pandas.pydata.org/pandas-docs/stable/user_guide/indexing.html#returning-a-view-versus-a-copy\n",
      "  filtered_data[col] = pd.Categorical(filtered_data[col])\n",
      "C:\\Users\\PA\\AppData\\Local\\Temp\\ipykernel_12140\\2368441643.py:6: SettingWithCopyWarning: \n",
      "A value is trying to be set on a copy of a slice from a DataFrame.\n",
      "Try using .loc[row_indexer,col_indexer] = value instead\n",
      "\n",
      "See the caveats in the documentation: https://pandas.pydata.org/pandas-docs/stable/user_guide/indexing.html#returning-a-view-versus-a-copy\n",
      "  filtered_data[col] = pd.Categorical(filtered_data[col])\n",
      "C:\\Users\\PA\\AppData\\Local\\Temp\\ipykernel_12140\\2368441643.py:6: SettingWithCopyWarning: \n",
      "A value is trying to be set on a copy of a slice from a DataFrame.\n",
      "Try using .loc[row_indexer,col_indexer] = value instead\n",
      "\n",
      "See the caveats in the documentation: https://pandas.pydata.org/pandas-docs/stable/user_guide/indexing.html#returning-a-view-versus-a-copy\n",
      "  filtered_data[col] = pd.Categorical(filtered_data[col])\n",
      "C:\\Users\\PA\\AppData\\Local\\Temp\\ipykernel_12140\\2368441643.py:6: SettingWithCopyWarning: \n",
      "A value is trying to be set on a copy of a slice from a DataFrame.\n",
      "Try using .loc[row_indexer,col_indexer] = value instead\n",
      "\n",
      "See the caveats in the documentation: https://pandas.pydata.org/pandas-docs/stable/user_guide/indexing.html#returning-a-view-versus-a-copy\n",
      "  filtered_data[col] = pd.Categorical(filtered_data[col])\n",
      "C:\\Users\\PA\\AppData\\Local\\Temp\\ipykernel_12140\\2368441643.py:6: SettingWithCopyWarning: \n",
      "A value is trying to be set on a copy of a slice from a DataFrame.\n",
      "Try using .loc[row_indexer,col_indexer] = value instead\n",
      "\n",
      "See the caveats in the documentation: https://pandas.pydata.org/pandas-docs/stable/user_guide/indexing.html#returning-a-view-versus-a-copy\n",
      "  filtered_data[col] = pd.Categorical(filtered_data[col])\n"
     ]
    }
   ],
   "source": [
    "cat_cols = [\n",
    "    'intmonth','stfips','prcitshp', 'ind02','class', 'unionmme','unioncov',\n",
    "    'lfsr94', 'race', 'ethnic', 'sex', 'marital','occ2012' \n",
    "]\n",
    "for col in cat_cols:\n",
    "    filtered_data[col] = pd.Categorical(filtered_data[col])"
   ]
  },
  {
   "cell_type": "markdown",
   "metadata": {},
   "source": [
    "# Missing values, checking and handling\n",
    "First, let's see which variables include missing values and how can we deal with them."
   ]
  },
  {
   "cell_type": "code",
   "execution_count": 6,
   "metadata": {},
   "outputs": [
    {
     "data": {
      "text/plain": [
       "Unnamed: 0       0\n",
       "hhid             0\n",
       "intmonth         0\n",
       "stfips           0\n",
       "weight           0\n",
       "earnwke          0\n",
       "uhours           0\n",
       "grade92          0\n",
       "race             0\n",
       "ethnic        2107\n",
       "age              0\n",
       "sex              0\n",
       "marital          0\n",
       "ownchild         0\n",
       "chldpres         0\n",
       "prcitshp         0\n",
       "state            0\n",
       "ind02            0\n",
       "occ2012          0\n",
       "class            0\n",
       "unionmme         0\n",
       "unioncov       134\n",
       "lfsr94           0\n",
       "dtype: int64"
      ]
     },
     "execution_count": 6,
     "metadata": {},
     "output_type": "execute_result"
    }
   ],
   "source": [
    "missing_values = filtered_data.isnull().sum()\n",
    "missing_values"
   ]
  },
  {
   "cell_type": "markdown",
   "metadata": {},
   "source": [
    "* Only 2 variables have misisng values and for these 2, it is plausible to replace the missing values with the modes."
   ]
  },
  {
   "cell_type": "code",
   "execution_count": 7,
   "metadata": {},
   "outputs": [
    {
     "name": "stderr",
     "output_type": "stream",
     "text": [
      "C:\\Users\\PA\\AppData\\Local\\Temp\\ipykernel_12140\\3109804962.py:2: SettingWithCopyWarning: \n",
      "A value is trying to be set on a copy of a slice from a DataFrame\n",
      "\n",
      "See the caveats in the documentation: https://pandas.pydata.org/pandas-docs/stable/user_guide/indexing.html#returning-a-view-versus-a-copy\n",
      "  filtered_data['ethnic'].fillna(filtered_data['ethnic'].mode()[0], inplace=True)\n",
      "C:\\Users\\PA\\AppData\\Local\\Temp\\ipykernel_12140\\3109804962.py:3: SettingWithCopyWarning: \n",
      "A value is trying to be set on a copy of a slice from a DataFrame\n",
      "\n",
      "See the caveats in the documentation: https://pandas.pydata.org/pandas-docs/stable/user_guide/indexing.html#returning-a-view-versus-a-copy\n",
      "  filtered_data['unioncov'].fillna(filtered_data['unioncov'].mode()[0], inplace=True)\n"
     ]
    }
   ],
   "source": [
    "# fill missing values with mode\n",
    "filtered_data['ethnic'].fillna(filtered_data['ethnic'].mode()[0], inplace=True)\n",
    "filtered_data['unioncov'].fillna(filtered_data['unioncov'].mode()[0], inplace=True)"
   ]
  },
  {
   "cell_type": "markdown",
   "metadata": {},
   "source": [
    "# Creating the target Variable"
   ]
  },
  {
   "cell_type": "code",
   "execution_count": 8,
   "metadata": {},
   "outputs": [
    {
     "name": "stderr",
     "output_type": "stream",
     "text": [
      "C:\\Users\\PA\\AppData\\Local\\Temp\\ipykernel_12140\\649476128.py:2: SettingWithCopyWarning: \n",
      "A value is trying to be set on a copy of a slice from a DataFrame.\n",
      "Try using .loc[row_indexer,col_indexer] = value instead\n",
      "\n",
      "See the caveats in the documentation: https://pandas.pydata.org/pandas-docs/stable/user_guide/indexing.html#returning-a-view-versus-a-copy\n",
      "  filtered_data['hourly_wage'] = filtered_data['earnwke'].div(filtered_data['uhours'])\n"
     ]
    }
   ],
   "source": [
    "# Creating a new variable for hourly wage\n",
    "filtered_data['hourly_wage'] = filtered_data['earnwke'].div(filtered_data['uhours'])"
   ]
  },
  {
   "cell_type": "markdown",
   "metadata": {},
   "source": [
    "### Converting the categorical variables to dummies\n",
    "* When we convert a categorical variable to a set of dummies, the sufficient number of dummies is the number of categories minus 1. This is the reason that we drop the first category.\n",
    "* Also, after creating the set of dummies we exclude the original variable."
   ]
  },
  {
   "cell_type": "code",
   "execution_count": 9,
   "metadata": {},
   "outputs": [],
   "source": [
    "# Converting the categorical variables to dummies\n",
    "filtered_data = pd.get_dummies(filtered_data, columns = cat_cols, drop_first= True )"
   ]
  },
  {
   "cell_type": "code",
   "execution_count": 10,
   "metadata": {},
   "outputs": [],
   "source": [
    "drop_cols = cat_cols + ['Unnamed: 0','hhid', 'earnwke', 'uhours','state']\n",
    "keep_cols= [i for i in filtered_data.columns if i not in drop_cols]\n",
    "df = filtered_data[keep_cols].copy()\n",
    "df = df.reset_index(drop=True)"
   ]
  },
  {
   "cell_type": "code",
   "execution_count": 11,
   "metadata": {},
   "outputs": [
    {
     "data": {
      "text/html": [
       "<div>\n",
       "<style scoped>\n",
       "    .dataframe tbody tr th:only-of-type {\n",
       "        vertical-align: middle;\n",
       "    }\n",
       "\n",
       "    .dataframe tbody tr th {\n",
       "        vertical-align: top;\n",
       "    }\n",
       "\n",
       "    .dataframe thead th {\n",
       "        text-align: right;\n",
       "    }\n",
       "</style>\n",
       "<table border=\"1\" class=\"dataframe\">\n",
       "  <thead>\n",
       "    <tr style=\"text-align: right;\">\n",
       "      <th></th>\n",
       "      <th>weight</th>\n",
       "      <th>grade92</th>\n",
       "      <th>age</th>\n",
       "      <th>ownchild</th>\n",
       "      <th>chldpres</th>\n",
       "      <th>hourly_wage</th>\n",
       "      <th>intmonth_August</th>\n",
       "      <th>intmonth_December</th>\n",
       "      <th>intmonth_February</th>\n",
       "      <th>intmonth_January</th>\n",
       "      <th>...</th>\n",
       "      <th>occ2012_2800</th>\n",
       "      <th>occ2012_2810</th>\n",
       "      <th>occ2012_2825</th>\n",
       "      <th>occ2012_2830</th>\n",
       "      <th>occ2012_2840</th>\n",
       "      <th>occ2012_2850</th>\n",
       "      <th>occ2012_2860</th>\n",
       "      <th>occ2012_2900</th>\n",
       "      <th>occ2012_2910</th>\n",
       "      <th>occ2012_2920</th>\n",
       "    </tr>\n",
       "  </thead>\n",
       "  <tbody>\n",
       "    <tr>\n",
       "      <th>0</th>\n",
       "      <td>3202.3739</td>\n",
       "      <td>40</td>\n",
       "      <td>23</td>\n",
       "      <td>0</td>\n",
       "      <td>0</td>\n",
       "      <td>8.350000</td>\n",
       "      <td>0</td>\n",
       "      <td>0</td>\n",
       "      <td>0</td>\n",
       "      <td>1</td>\n",
       "      <td>...</td>\n",
       "      <td>0</td>\n",
       "      <td>0</td>\n",
       "      <td>0</td>\n",
       "      <td>0</td>\n",
       "      <td>0</td>\n",
       "      <td>0</td>\n",
       "      <td>0</td>\n",
       "      <td>0</td>\n",
       "      <td>0</td>\n",
       "      <td>0</td>\n",
       "    </tr>\n",
       "    <tr>\n",
       "      <th>1</th>\n",
       "      <td>9206.4248</td>\n",
       "      <td>40</td>\n",
       "      <td>23</td>\n",
       "      <td>0</td>\n",
       "      <td>0</td>\n",
       "      <td>7.750000</td>\n",
       "      <td>0</td>\n",
       "      <td>0</td>\n",
       "      <td>0</td>\n",
       "      <td>1</td>\n",
       "      <td>...</td>\n",
       "      <td>0</td>\n",
       "      <td>0</td>\n",
       "      <td>0</td>\n",
       "      <td>0</td>\n",
       "      <td>0</td>\n",
       "      <td>0</td>\n",
       "      <td>0</td>\n",
       "      <td>0</td>\n",
       "      <td>0</td>\n",
       "      <td>0</td>\n",
       "    </tr>\n",
       "    <tr>\n",
       "      <th>2</th>\n",
       "      <td>1533.1598</td>\n",
       "      <td>43</td>\n",
       "      <td>35</td>\n",
       "      <td>2</td>\n",
       "      <td>8</td>\n",
       "      <td>22.200000</td>\n",
       "      <td>0</td>\n",
       "      <td>0</td>\n",
       "      <td>0</td>\n",
       "      <td>1</td>\n",
       "      <td>...</td>\n",
       "      <td>0</td>\n",
       "      <td>0</td>\n",
       "      <td>0</td>\n",
       "      <td>0</td>\n",
       "      <td>0</td>\n",
       "      <td>0</td>\n",
       "      <td>0</td>\n",
       "      <td>0</td>\n",
       "      <td>0</td>\n",
       "      <td>0</td>\n",
       "    </tr>\n",
       "    <tr>\n",
       "      <th>3</th>\n",
       "      <td>1616.3952</td>\n",
       "      <td>40</td>\n",
       "      <td>27</td>\n",
       "      <td>1</td>\n",
       "      <td>1</td>\n",
       "      <td>17.500000</td>\n",
       "      <td>0</td>\n",
       "      <td>0</td>\n",
       "      <td>0</td>\n",
       "      <td>1</td>\n",
       "      <td>...</td>\n",
       "      <td>0</td>\n",
       "      <td>0</td>\n",
       "      <td>0</td>\n",
       "      <td>0</td>\n",
       "      <td>0</td>\n",
       "      <td>0</td>\n",
       "      <td>0</td>\n",
       "      <td>0</td>\n",
       "      <td>0</td>\n",
       "      <td>0</td>\n",
       "    </tr>\n",
       "    <tr>\n",
       "      <th>4</th>\n",
       "      <td>1833.6081</td>\n",
       "      <td>37</td>\n",
       "      <td>17</td>\n",
       "      <td>0</td>\n",
       "      <td>0</td>\n",
       "      <td>13.500000</td>\n",
       "      <td>0</td>\n",
       "      <td>0</td>\n",
       "      <td>0</td>\n",
       "      <td>1</td>\n",
       "      <td>...</td>\n",
       "      <td>0</td>\n",
       "      <td>0</td>\n",
       "      <td>0</td>\n",
       "      <td>0</td>\n",
       "      <td>0</td>\n",
       "      <td>0</td>\n",
       "      <td>0</td>\n",
       "      <td>0</td>\n",
       "      <td>0</td>\n",
       "      <td>0</td>\n",
       "    </tr>\n",
       "    <tr>\n",
       "      <th>...</th>\n",
       "      <td>...</td>\n",
       "      <td>...</td>\n",
       "      <td>...</td>\n",
       "      <td>...</td>\n",
       "      <td>...</td>\n",
       "      <td>...</td>\n",
       "      <td>...</td>\n",
       "      <td>...</td>\n",
       "      <td>...</td>\n",
       "      <td>...</td>\n",
       "      <td>...</td>\n",
       "      <td>...</td>\n",
       "      <td>...</td>\n",
       "      <td>...</td>\n",
       "      <td>...</td>\n",
       "      <td>...</td>\n",
       "      <td>...</td>\n",
       "      <td>...</td>\n",
       "      <td>...</td>\n",
       "      <td>...</td>\n",
       "      <td>...</td>\n",
       "    </tr>\n",
       "    <tr>\n",
       "      <th>2310</th>\n",
       "      <td>3374.2812</td>\n",
       "      <td>43</td>\n",
       "      <td>32</td>\n",
       "      <td>1</td>\n",
       "      <td>1</td>\n",
       "      <td>19.230750</td>\n",
       "      <td>0</td>\n",
       "      <td>1</td>\n",
       "      <td>0</td>\n",
       "      <td>0</td>\n",
       "      <td>...</td>\n",
       "      <td>0</td>\n",
       "      <td>0</td>\n",
       "      <td>0</td>\n",
       "      <td>0</td>\n",
       "      <td>0</td>\n",
       "      <td>0</td>\n",
       "      <td>0</td>\n",
       "      <td>0</td>\n",
       "      <td>0</td>\n",
       "      <td>0</td>\n",
       "    </tr>\n",
       "    <tr>\n",
       "      <th>2311</th>\n",
       "      <td>3677.2160</td>\n",
       "      <td>39</td>\n",
       "      <td>50</td>\n",
       "      <td>1</td>\n",
       "      <td>4</td>\n",
       "      <td>10.357143</td>\n",
       "      <td>0</td>\n",
       "      <td>1</td>\n",
       "      <td>0</td>\n",
       "      <td>0</td>\n",
       "      <td>...</td>\n",
       "      <td>0</td>\n",
       "      <td>0</td>\n",
       "      <td>0</td>\n",
       "      <td>0</td>\n",
       "      <td>0</td>\n",
       "      <td>0</td>\n",
       "      <td>0</td>\n",
       "      <td>0</td>\n",
       "      <td>0</td>\n",
       "      <td>0</td>\n",
       "    </tr>\n",
       "    <tr>\n",
       "      <th>2312</th>\n",
       "      <td>3814.6828</td>\n",
       "      <td>43</td>\n",
       "      <td>57</td>\n",
       "      <td>0</td>\n",
       "      <td>0</td>\n",
       "      <td>23.397222</td>\n",
       "      <td>0</td>\n",
       "      <td>1</td>\n",
       "      <td>0</td>\n",
       "      <td>0</td>\n",
       "      <td>...</td>\n",
       "      <td>0</td>\n",
       "      <td>0</td>\n",
       "      <td>0</td>\n",
       "      <td>0</td>\n",
       "      <td>0</td>\n",
       "      <td>0</td>\n",
       "      <td>0</td>\n",
       "      <td>0</td>\n",
       "      <td>0</td>\n",
       "      <td>0</td>\n",
       "    </tr>\n",
       "    <tr>\n",
       "      <th>2313</th>\n",
       "      <td>325.7699</td>\n",
       "      <td>41</td>\n",
       "      <td>36</td>\n",
       "      <td>2</td>\n",
       "      <td>8</td>\n",
       "      <td>38.450000</td>\n",
       "      <td>0</td>\n",
       "      <td>1</td>\n",
       "      <td>0</td>\n",
       "      <td>0</td>\n",
       "      <td>...</td>\n",
       "      <td>0</td>\n",
       "      <td>0</td>\n",
       "      <td>0</td>\n",
       "      <td>0</td>\n",
       "      <td>0</td>\n",
       "      <td>0</td>\n",
       "      <td>0</td>\n",
       "      <td>0</td>\n",
       "      <td>0</td>\n",
       "      <td>0</td>\n",
       "    </tr>\n",
       "    <tr>\n",
       "      <th>2314</th>\n",
       "      <td>304.4811</td>\n",
       "      <td>43</td>\n",
       "      <td>32</td>\n",
       "      <td>4</td>\n",
       "      <td>11</td>\n",
       "      <td>11.400000</td>\n",
       "      <td>0</td>\n",
       "      <td>1</td>\n",
       "      <td>0</td>\n",
       "      <td>0</td>\n",
       "      <td>...</td>\n",
       "      <td>0</td>\n",
       "      <td>0</td>\n",
       "      <td>0</td>\n",
       "      <td>1</td>\n",
       "      <td>0</td>\n",
       "      <td>0</td>\n",
       "      <td>0</td>\n",
       "      <td>0</td>\n",
       "      <td>0</td>\n",
       "      <td>0</td>\n",
       "    </tr>\n",
       "  </tbody>\n",
       "</table>\n",
       "<p>2315 rows × 300 columns</p>\n",
       "</div>"
      ],
      "text/plain": [
       "         weight  grade92  age  ownchild  chldpres  hourly_wage  \\\n",
       "0     3202.3739       40   23         0         0     8.350000   \n",
       "1     9206.4248       40   23         0         0     7.750000   \n",
       "2     1533.1598       43   35         2         8    22.200000   \n",
       "3     1616.3952       40   27         1         1    17.500000   \n",
       "4     1833.6081       37   17         0         0    13.500000   \n",
       "...         ...      ...  ...       ...       ...          ...   \n",
       "2310  3374.2812       43   32         1         1    19.230750   \n",
       "2311  3677.2160       39   50         1         4    10.357143   \n",
       "2312  3814.6828       43   57         0         0    23.397222   \n",
       "2313   325.7699       41   36         2         8    38.450000   \n",
       "2314   304.4811       43   32         4        11    11.400000   \n",
       "\n",
       "      intmonth_August  intmonth_December  intmonth_February  intmonth_January  \\\n",
       "0                   0                  0                  0                 1   \n",
       "1                   0                  0                  0                 1   \n",
       "2                   0                  0                  0                 1   \n",
       "3                   0                  0                  0                 1   \n",
       "4                   0                  0                  0                 1   \n",
       "...               ...                ...                ...               ...   \n",
       "2310                0                  1                  0                 0   \n",
       "2311                0                  1                  0                 0   \n",
       "2312                0                  1                  0                 0   \n",
       "2313                0                  1                  0                 0   \n",
       "2314                0                  1                  0                 0   \n",
       "\n",
       "      ...  occ2012_2800  occ2012_2810  occ2012_2825  occ2012_2830  \\\n",
       "0     ...             0             0             0             0   \n",
       "1     ...             0             0             0             0   \n",
       "2     ...             0             0             0             0   \n",
       "3     ...             0             0             0             0   \n",
       "4     ...             0             0             0             0   \n",
       "...   ...           ...           ...           ...           ...   \n",
       "2310  ...             0             0             0             0   \n",
       "2311  ...             0             0             0             0   \n",
       "2312  ...             0             0             0             0   \n",
       "2313  ...             0             0             0             0   \n",
       "2314  ...             0             0             0             1   \n",
       "\n",
       "      occ2012_2840  occ2012_2850  occ2012_2860  occ2012_2900  occ2012_2910  \\\n",
       "0                0             0             0             0             0   \n",
       "1                0             0             0             0             0   \n",
       "2                0             0             0             0             0   \n",
       "3                0             0             0             0             0   \n",
       "4                0             0             0             0             0   \n",
       "...            ...           ...           ...           ...           ...   \n",
       "2310             0             0             0             0             0   \n",
       "2311             0             0             0             0             0   \n",
       "2312             0             0             0             0             0   \n",
       "2313             0             0             0             0             0   \n",
       "2314             0             0             0             0             0   \n",
       "\n",
       "      occ2012_2920  \n",
       "0                0  \n",
       "1                0  \n",
       "2                0  \n",
       "3                0  \n",
       "4                0  \n",
       "...            ...  \n",
       "2310             0  \n",
       "2311             0  \n",
       "2312             0  \n",
       "2313             0  \n",
       "2314             0  \n",
       "\n",
       "[2315 rows x 300 columns]"
      ]
     },
     "execution_count": 11,
     "metadata": {},
     "output_type": "execute_result"
    }
   ],
   "source": [
    "df"
   ]
  },
  {
   "cell_type": "markdown",
   "metadata": {},
   "source": [
    "# LASSO and Dropping the insignificant variables"
   ]
  },
  {
   "cell_type": "markdown",
   "metadata": {},
   "source": [
    "* As we can see, we have almost 300 explanatory variables. \n",
    "* We will use LASSO to get rid of non-important features. \n",
    "* Then we'll use the rest of the features for implementing the regression model."
   ]
  },
  {
   "cell_type": "code",
   "execution_count": 12,
   "metadata": {},
   "outputs": [],
   "source": [
    "# Separating the target variable and the independent variables\n",
    "X = df.drop('hourly_wage', axis=1)\n",
    "y = df['hourly_wage']\n",
    "\n",
    "# normalizing the data\n",
    "scaler = StandardScaler()\n",
    "X_scaled = scaler.fit_transform(X)"
   ]
  },
  {
   "cell_type": "code",
   "execution_count": 13,
   "metadata": {},
   "outputs": [],
   "source": [
    "# Splitting the data into train and test\n",
    "X_train, X_test, y_train, y_test = train_test_split(X_scaled, y, test_size=0.3, random_state=123)"
   ]
  },
  {
   "cell_type": "markdown",
   "metadata": {},
   "source": [
    "* We use the cross validition with 5 folds to choose the best value for the regulization parameter."
   ]
  },
  {
   "cell_type": "code",
   "execution_count": 14,
   "metadata": {},
   "outputs": [
    {
     "name": "stderr",
     "output_type": "stream",
     "text": [
      "c:\\Users\\PA\\anaconda3\\lib\\site-packages\\sklearn\\linear_model\\_coordinate_descent.py:617: ConvergenceWarning: Objective did not converge. You might want to increase the number of iterations. Duality gap: 42.22171199461445, tolerance: 40.96758572217973\n",
      "  model = cd_fast.enet_coordinate_descent_gram(\n",
      "c:\\Users\\PA\\anaconda3\\lib\\site-packages\\sklearn\\linear_model\\_coordinate_descent.py:617: ConvergenceWarning: Objective did not converge. You might want to increase the number of iterations. Duality gap: 65.84160925738979, tolerance: 40.96758572217973\n",
      "  model = cd_fast.enet_coordinate_descent_gram(\n",
      "c:\\Users\\PA\\anaconda3\\lib\\site-packages\\sklearn\\linear_model\\_coordinate_descent.py:617: ConvergenceWarning: Objective did not converge. You might want to increase the number of iterations. Duality gap: 87.90087860677158, tolerance: 40.96758572217973\n",
      "  model = cd_fast.enet_coordinate_descent_gram(\n",
      "c:\\Users\\PA\\anaconda3\\lib\\site-packages\\sklearn\\linear_model\\_coordinate_descent.py:617: ConvergenceWarning: Objective did not converge. You might want to increase the number of iterations. Duality gap: 96.4451674912707, tolerance: 40.96758572217973\n",
      "  model = cd_fast.enet_coordinate_descent_gram(\n",
      "c:\\Users\\PA\\anaconda3\\lib\\site-packages\\sklearn\\linear_model\\_coordinate_descent.py:617: ConvergenceWarning: Objective did not converge. You might want to increase the number of iterations. Duality gap: 99.56076029333053, tolerance: 40.96758572217973\n",
      "  model = cd_fast.enet_coordinate_descent_gram(\n",
      "c:\\Users\\PA\\anaconda3\\lib\\site-packages\\sklearn\\linear_model\\_coordinate_descent.py:617: ConvergenceWarning: Objective did not converge. You might want to increase the number of iterations. Duality gap: 100.67204487486742, tolerance: 40.96758572217973\n",
      "  model = cd_fast.enet_coordinate_descent_gram(\n",
      "c:\\Users\\PA\\anaconda3\\lib\\site-packages\\sklearn\\linear_model\\_coordinate_descent.py:617: ConvergenceWarning: Objective did not converge. You might want to increase the number of iterations. Duality gap: 101.06310850247974, tolerance: 40.96758572217973\n",
      "  model = cd_fast.enet_coordinate_descent_gram(\n",
      "c:\\Users\\PA\\anaconda3\\lib\\site-packages\\sklearn\\linear_model\\_coordinate_descent.py:617: ConvergenceWarning: Objective did not converge. You might want to increase the number of iterations. Duality gap: 101.19813300156966, tolerance: 40.96758572217973\n",
      "  model = cd_fast.enet_coordinate_descent_gram(\n",
      "c:\\Users\\PA\\anaconda3\\lib\\site-packages\\sklearn\\linear_model\\_coordinate_descent.py:617: ConvergenceWarning: Objective did not converge. You might want to increase the number of iterations. Duality gap: 101.24280807073228, tolerance: 40.96758572217973\n",
      "  model = cd_fast.enet_coordinate_descent_gram(\n",
      "c:\\Users\\PA\\anaconda3\\lib\\site-packages\\sklearn\\linear_model\\_coordinate_descent.py:617: ConvergenceWarning: Objective did not converge. You might want to increase the number of iterations. Duality gap: 101.25593777105678, tolerance: 40.96758572217973\n",
      "  model = cd_fast.enet_coordinate_descent_gram(\n",
      "c:\\Users\\PA\\anaconda3\\lib\\site-packages\\sklearn\\linear_model\\_coordinate_descent.py:617: ConvergenceWarning: Objective did not converge. You might want to increase the number of iterations. Duality gap: 101.25834611372557, tolerance: 40.96758572217973\n",
      "  model = cd_fast.enet_coordinate_descent_gram(\n",
      "c:\\Users\\PA\\anaconda3\\lib\\site-packages\\sklearn\\linear_model\\_coordinate_descent.py:617: ConvergenceWarning: Objective did not converge. You might want to increase the number of iterations. Duality gap: 101.25733058445621, tolerance: 40.96758572217973\n",
      "  model = cd_fast.enet_coordinate_descent_gram(\n",
      "c:\\Users\\PA\\anaconda3\\lib\\site-packages\\sklearn\\linear_model\\_coordinate_descent.py:617: ConvergenceWarning: Objective did not converge. You might want to increase the number of iterations. Duality gap: 101.25541105133016, tolerance: 40.96758572217973\n",
      "  model = cd_fast.enet_coordinate_descent_gram(\n",
      "c:\\Users\\PA\\anaconda3\\lib\\site-packages\\sklearn\\linear_model\\_coordinate_descent.py:617: ConvergenceWarning: Objective did not converge. You might want to increase the number of iterations. Duality gap: 101.25343645719113, tolerance: 40.96758572217973\n",
      "  model = cd_fast.enet_coordinate_descent_gram(\n",
      "c:\\Users\\PA\\anaconda3\\lib\\site-packages\\sklearn\\linear_model\\_coordinate_descent.py:617: ConvergenceWarning: Objective did not converge. You might want to increase the number of iterations. Duality gap: 101.25169631908648, tolerance: 40.96758572217973\n",
      "  model = cd_fast.enet_coordinate_descent_gram(\n",
      "c:\\Users\\PA\\anaconda3\\lib\\site-packages\\sklearn\\linear_model\\_coordinate_descent.py:617: ConvergenceWarning: Objective did not converge. You might want to increase the number of iterations. Duality gap: 101.25016070064157, tolerance: 40.96758572217973\n",
      "  model = cd_fast.enet_coordinate_descent_gram(\n",
      "c:\\Users\\PA\\anaconda3\\lib\\site-packages\\sklearn\\linear_model\\_coordinate_descent.py:617: ConvergenceWarning: Objective did not converge. You might want to increase the number of iterations. Duality gap: 101.2488802872831, tolerance: 40.96758572217973\n",
      "  model = cd_fast.enet_coordinate_descent_gram(\n",
      "c:\\Users\\PA\\anaconda3\\lib\\site-packages\\sklearn\\linear_model\\_coordinate_descent.py:617: ConvergenceWarning: Objective did not converge. You might want to increase the number of iterations. Duality gap: 101.24782968265936, tolerance: 40.96758572217973\n",
      "  model = cd_fast.enet_coordinate_descent_gram(\n",
      "c:\\Users\\PA\\anaconda3\\lib\\site-packages\\sklearn\\linear_model\\_coordinate_descent.py:617: ConvergenceWarning: Objective did not converge. You might want to increase the number of iterations. Duality gap: 101.2469557421282, tolerance: 40.96758572217973\n",
      "  model = cd_fast.enet_coordinate_descent_gram(\n",
      "c:\\Users\\PA\\anaconda3\\lib\\site-packages\\sklearn\\linear_model\\_coordinate_descent.py:617: ConvergenceWarning: Objective did not converge. You might want to increase the number of iterations. Duality gap: 75.91424099699361, tolerance: 44.49863693657909\n",
      "  model = cd_fast.enet_coordinate_descent_gram(\n",
      "c:\\Users\\PA\\anaconda3\\lib\\site-packages\\sklearn\\linear_model\\_coordinate_descent.py:617: ConvergenceWarning: Objective did not converge. You might want to increase the number of iterations. Duality gap: 154.96166584140155, tolerance: 44.49863693657909\n",
      "  model = cd_fast.enet_coordinate_descent_gram(\n",
      "c:\\Users\\PA\\anaconda3\\lib\\site-packages\\sklearn\\linear_model\\_coordinate_descent.py:617: ConvergenceWarning: Objective did not converge. You might want to increase the number of iterations. Duality gap: 185.5818155835732, tolerance: 44.49863693657909\n",
      "  model = cd_fast.enet_coordinate_descent_gram(\n",
      "c:\\Users\\PA\\anaconda3\\lib\\site-packages\\sklearn\\linear_model\\_coordinate_descent.py:617: ConvergenceWarning: Objective did not converge. You might want to increase the number of iterations. Duality gap: 195.76818450784776, tolerance: 44.49863693657909\n",
      "  model = cd_fast.enet_coordinate_descent_gram(\n",
      "c:\\Users\\PA\\anaconda3\\lib\\site-packages\\sklearn\\linear_model\\_coordinate_descent.py:617: ConvergenceWarning: Objective did not converge. You might want to increase the number of iterations. Duality gap: 198.94573039602255, tolerance: 44.49863693657909\n",
      "  model = cd_fast.enet_coordinate_descent_gram(\n",
      "c:\\Users\\PA\\anaconda3\\lib\\site-packages\\sklearn\\linear_model\\_coordinate_descent.py:617: ConvergenceWarning: Objective did not converge. You might want to increase the number of iterations. Duality gap: 199.8522549935151, tolerance: 44.49863693657909\n",
      "  model = cd_fast.enet_coordinate_descent_gram(\n",
      "c:\\Users\\PA\\anaconda3\\lib\\site-packages\\sklearn\\linear_model\\_coordinate_descent.py:617: ConvergenceWarning: Objective did not converge. You might want to increase the number of iterations. Duality gap: 131.23321273282636, tolerance: 44.49863693657909\n",
      "  model = cd_fast.enet_coordinate_descent_gram(\n",
      "c:\\Users\\PA\\anaconda3\\lib\\site-packages\\sklearn\\linear_model\\_coordinate_descent.py:617: ConvergenceWarning: Objective did not converge. You might want to increase the number of iterations. Duality gap: 244.03208509460092, tolerance: 44.49863693657909\n",
      "  model = cd_fast.enet_coordinate_descent_gram(\n",
      "c:\\Users\\PA\\anaconda3\\lib\\site-packages\\sklearn\\linear_model\\_coordinate_descent.py:617: ConvergenceWarning: Objective did not converge. You might want to increase the number of iterations. Duality gap: 286.8081115060486, tolerance: 44.49863693657909\n",
      "  model = cd_fast.enet_coordinate_descent_gram(\n",
      "c:\\Users\\PA\\anaconda3\\lib\\site-packages\\sklearn\\linear_model\\_coordinate_descent.py:617: ConvergenceWarning: Objective did not converge. You might want to increase the number of iterations. Duality gap: 301.12528398563154, tolerance: 44.49863693657909\n",
      "  model = cd_fast.enet_coordinate_descent_gram(\n",
      "c:\\Users\\PA\\anaconda3\\lib\\site-packages\\sklearn\\linear_model\\_coordinate_descent.py:617: ConvergenceWarning: Objective did not converge. You might want to increase the number of iterations. Duality gap: 305.73391231376445, tolerance: 44.49863693657909\n",
      "  model = cd_fast.enet_coordinate_descent_gram(\n",
      "c:\\Users\\PA\\anaconda3\\lib\\site-packages\\sklearn\\linear_model\\_coordinate_descent.py:617: ConvergenceWarning: Objective did not converge. You might want to increase the number of iterations. Duality gap: 307.1784468316473, tolerance: 44.49863693657909\n",
      "  model = cd_fast.enet_coordinate_descent_gram(\n",
      "c:\\Users\\PA\\anaconda3\\lib\\site-packages\\sklearn\\linear_model\\_coordinate_descent.py:617: ConvergenceWarning: Objective did not converge. You might want to increase the number of iterations. Duality gap: 307.6093968132045, tolerance: 44.49863693657909\n",
      "  model = cd_fast.enet_coordinate_descent_gram(\n",
      "c:\\Users\\PA\\anaconda3\\lib\\site-packages\\sklearn\\linear_model\\_coordinate_descent.py:617: ConvergenceWarning: Objective did not converge. You might want to increase the number of iterations. Duality gap: 307.72041958983755, tolerance: 44.49863693657909\n",
      "  model = cd_fast.enet_coordinate_descent_gram(\n",
      "c:\\Users\\PA\\anaconda3\\lib\\site-packages\\sklearn\\linear_model\\_coordinate_descent.py:617: ConvergenceWarning: Objective did not converge. You might want to increase the number of iterations. Duality gap: 307.7334508836502, tolerance: 44.49863693657909\n",
      "  model = cd_fast.enet_coordinate_descent_gram(\n",
      "c:\\Users\\PA\\anaconda3\\lib\\site-packages\\sklearn\\linear_model\\_coordinate_descent.py:617: ConvergenceWarning: Objective did not converge. You might want to increase the number of iterations. Duality gap: 307.71890499891015, tolerance: 44.49863693657909\n",
      "  model = cd_fast.enet_coordinate_descent_gram(\n",
      "c:\\Users\\PA\\anaconda3\\lib\\site-packages\\sklearn\\linear_model\\_coordinate_descent.py:617: ConvergenceWarning: Objective did not converge. You might want to increase the number of iterations. Duality gap: 307.6986950718565, tolerance: 44.49863693657909\n",
      "  model = cd_fast.enet_coordinate_descent_gram(\n",
      "c:\\Users\\PA\\anaconda3\\lib\\site-packages\\sklearn\\linear_model\\_coordinate_descent.py:617: ConvergenceWarning: Objective did not converge. You might want to increase the number of iterations. Duality gap: 307.6793157613138, tolerance: 44.49863693657909\n",
      "  model = cd_fast.enet_coordinate_descent_gram(\n",
      "c:\\Users\\PA\\anaconda3\\lib\\site-packages\\sklearn\\linear_model\\_coordinate_descent.py:617: ConvergenceWarning: Objective did not converge. You might want to increase the number of iterations. Duality gap: 307.6623876768863, tolerance: 44.49863693657909\n",
      "  model = cd_fast.enet_coordinate_descent_gram(\n",
      "c:\\Users\\PA\\anaconda3\\lib\\site-packages\\sklearn\\linear_model\\_coordinate_descent.py:617: ConvergenceWarning: Objective did not converge. You might want to increase the number of iterations. Duality gap: 307.6480685605202, tolerance: 44.49863693657909\n",
      "  model = cd_fast.enet_coordinate_descent_gram(\n",
      "c:\\Users\\PA\\anaconda3\\lib\\site-packages\\sklearn\\linear_model\\_coordinate_descent.py:617: ConvergenceWarning: Objective did not converge. You might want to increase the number of iterations. Duality gap: 307.6360979694873, tolerance: 44.49863693657909\n",
      "  model = cd_fast.enet_coordinate_descent_gram(\n",
      "c:\\Users\\PA\\anaconda3\\lib\\site-packages\\sklearn\\linear_model\\_coordinate_descent.py:617: ConvergenceWarning: Objective did not converge. You might want to increase the number of iterations. Duality gap: 307.6261253441917, tolerance: 44.49863693657909\n",
      "  model = cd_fast.enet_coordinate_descent_gram(\n",
      "c:\\Users\\PA\\anaconda3\\lib\\site-packages\\sklearn\\linear_model\\_coordinate_descent.py:617: ConvergenceWarning: Objective did not converge. You might want to increase the number of iterations. Duality gap: 307.61784050485585, tolerance: 44.49863693657909\n",
      "  model = cd_fast.enet_coordinate_descent_gram(\n",
      "c:\\Users\\PA\\anaconda3\\lib\\site-packages\\sklearn\\linear_model\\_coordinate_descent.py:617: ConvergenceWarning: Objective did not converge. You might want to increase the number of iterations. Duality gap: 307.6109686153941, tolerance: 44.49863693657909\n",
      "  model = cd_fast.enet_coordinate_descent_gram(\n",
      "c:\\Users\\PA\\anaconda3\\lib\\site-packages\\sklearn\\linear_model\\_coordinate_descent.py:617: ConvergenceWarning: Objective did not converge. You might want to increase the number of iterations. Duality gap: 115.9776228312403, tolerance: 44.49863693657909\n",
      "  model = cd_fast.enet_coordinate_descent_gram(\n",
      "c:\\Users\\PA\\anaconda3\\lib\\site-packages\\sklearn\\linear_model\\_coordinate_descent.py:617: ConvergenceWarning: Objective did not converge. You might want to increase the number of iterations. Duality gap: 253.79121167690028, tolerance: 44.49863693657909\n",
      "  model = cd_fast.enet_coordinate_descent_gram(\n",
      "c:\\Users\\PA\\anaconda3\\lib\\site-packages\\sklearn\\linear_model\\_coordinate_descent.py:617: ConvergenceWarning: Objective did not converge. You might want to increase the number of iterations. Duality gap: 308.1950876090559, tolerance: 44.49863693657909\n",
      "  model = cd_fast.enet_coordinate_descent_gram(\n",
      "c:\\Users\\PA\\anaconda3\\lib\\site-packages\\sklearn\\linear_model\\_coordinate_descent.py:617: ConvergenceWarning: Objective did not converge. You might want to increase the number of iterations. Duality gap: 326.6405234733829, tolerance: 44.49863693657909\n",
      "  model = cd_fast.enet_coordinate_descent_gram(\n",
      "c:\\Users\\PA\\anaconda3\\lib\\site-packages\\sklearn\\linear_model\\_coordinate_descent.py:617: ConvergenceWarning: Objective did not converge. You might want to increase the number of iterations. Duality gap: 332.65355528052896, tolerance: 44.49863693657909\n",
      "  model = cd_fast.enet_coordinate_descent_gram(\n",
      "c:\\Users\\PA\\anaconda3\\lib\\site-packages\\sklearn\\linear_model\\_coordinate_descent.py:617: ConvergenceWarning: Objective did not converge. You might want to increase the number of iterations. Duality gap: 334.58997391187586, tolerance: 44.49863693657909\n",
      "  model = cd_fast.enet_coordinate_descent_gram(\n",
      "c:\\Users\\PA\\anaconda3\\lib\\site-packages\\sklearn\\linear_model\\_coordinate_descent.py:617: ConvergenceWarning: Objective did not converge. You might want to increase the number of iterations. Duality gap: 335.2105435865815, tolerance: 44.49863693657909\n",
      "  model = cd_fast.enet_coordinate_descent_gram(\n",
      "c:\\Users\\PA\\anaconda3\\lib\\site-packages\\sklearn\\linear_model\\_coordinate_descent.py:617: ConvergenceWarning: Objective did not converge. You might want to increase the number of iterations. Duality gap: 335.40858958731405, tolerance: 44.49863693657909\n",
      "  model = cd_fast.enet_coordinate_descent_gram(\n",
      "c:\\Users\\PA\\anaconda3\\lib\\site-packages\\sklearn\\linear_model\\_coordinate_descent.py:617: ConvergenceWarning: Objective did not converge. You might want to increase the number of iterations. Duality gap: 194.7746848918614, tolerance: 36.3850747504182\n",
      "  model = cd_fast.enet_coordinate_descent_gram(\n",
      "c:\\Users\\PA\\anaconda3\\lib\\site-packages\\sklearn\\linear_model\\_coordinate_descent.py:617: ConvergenceWarning: Objective did not converge. You might want to increase the number of iterations. Duality gap: 230.07819483272033, tolerance: 36.3850747504182\n",
      "  model = cd_fast.enet_coordinate_descent_gram(\n",
      "c:\\Users\\PA\\anaconda3\\lib\\site-packages\\sklearn\\linear_model\\_coordinate_descent.py:617: ConvergenceWarning: Objective did not converge. You might want to increase the number of iterations. Duality gap: 323.99594033617177, tolerance: 36.3850747504182\n",
      "  model = cd_fast.enet_coordinate_descent_gram(\n",
      "c:\\Users\\PA\\anaconda3\\lib\\site-packages\\sklearn\\linear_model\\_coordinate_descent.py:617: ConvergenceWarning: Objective did not converge. You might want to increase the number of iterations. Duality gap: 386.73642037587706, tolerance: 36.3850747504182\n",
      "  model = cd_fast.enet_coordinate_descent_gram(\n",
      "c:\\Users\\PA\\anaconda3\\lib\\site-packages\\sklearn\\linear_model\\_coordinate_descent.py:617: ConvergenceWarning: Objective did not converge. You might want to increase the number of iterations. Duality gap: 495.08477972229593, tolerance: 36.3850747504182\n",
      "  model = cd_fast.enet_coordinate_descent_gram(\n",
      "c:\\Users\\PA\\anaconda3\\lib\\site-packages\\sklearn\\linear_model\\_coordinate_descent.py:617: ConvergenceWarning: Objective did not converge. You might want to increase the number of iterations. Duality gap: 164.20051454854547, tolerance: 36.3850747504182\n",
      "  model = cd_fast.enet_coordinate_descent_gram(\n",
      "c:\\Users\\PA\\anaconda3\\lib\\site-packages\\sklearn\\linear_model\\_coordinate_descent.py:617: ConvergenceWarning: Objective did not converge. You might want to increase the number of iterations. Duality gap: 331.31899032677757, tolerance: 36.3850747504182\n",
      "  model = cd_fast.enet_coordinate_descent_gram(\n",
      "c:\\Users\\PA\\anaconda3\\lib\\site-packages\\sklearn\\linear_model\\_coordinate_descent.py:617: ConvergenceWarning: Objective did not converge. You might want to increase the number of iterations. Duality gap: 605.0155746283417, tolerance: 36.3850747504182\n",
      "  model = cd_fast.enet_coordinate_descent_gram(\n",
      "c:\\Users\\PA\\anaconda3\\lib\\site-packages\\sklearn\\linear_model\\_coordinate_descent.py:617: ConvergenceWarning: Objective did not converge. You might want to increase the number of iterations. Duality gap: 363.82140498046647, tolerance: 36.3850747504182\n",
      "  model = cd_fast.enet_coordinate_descent_gram(\n",
      "c:\\Users\\PA\\anaconda3\\lib\\site-packages\\sklearn\\linear_model\\_coordinate_descent.py:617: ConvergenceWarning: Objective did not converge. You might want to increase the number of iterations. Duality gap: 819.4088650651975, tolerance: 36.3850747504182\n",
      "  model = cd_fast.enet_coordinate_descent_gram(\n",
      "c:\\Users\\PA\\anaconda3\\lib\\site-packages\\sklearn\\linear_model\\_coordinate_descent.py:617: ConvergenceWarning: Objective did not converge. You might want to increase the number of iterations. Duality gap: 990.4478949996992, tolerance: 36.3850747504182\n",
      "  model = cd_fast.enet_coordinate_descent_gram(\n",
      "c:\\Users\\PA\\anaconda3\\lib\\site-packages\\sklearn\\linear_model\\_coordinate_descent.py:617: ConvergenceWarning: Objective did not converge. You might want to increase the number of iterations. Duality gap: 1045.999609351653, tolerance: 36.3850747504182\n",
      "  model = cd_fast.enet_coordinate_descent_gram(\n",
      "c:\\Users\\PA\\anaconda3\\lib\\site-packages\\sklearn\\linear_model\\_coordinate_descent.py:617: ConvergenceWarning: Objective did not converge. You might want to increase the number of iterations. Duality gap: 1063.4078669779992, tolerance: 36.3850747504182\n",
      "  model = cd_fast.enet_coordinate_descent_gram(\n",
      "c:\\Users\\PA\\anaconda3\\lib\\site-packages\\sklearn\\linear_model\\_coordinate_descent.py:617: ConvergenceWarning: Objective did not converge. You might want to increase the number of iterations. Duality gap: 1068.7869027476409, tolerance: 36.3850747504182\n",
      "  model = cd_fast.enet_coordinate_descent_gram(\n",
      "c:\\Users\\PA\\anaconda3\\lib\\site-packages\\sklearn\\linear_model\\_coordinate_descent.py:617: ConvergenceWarning: Objective did not converge. You might want to increase the number of iterations. Duality gap: 1070.4249387283926, tolerance: 36.3850747504182\n",
      "  model = cd_fast.enet_coordinate_descent_gram(\n",
      "c:\\Users\\PA\\anaconda3\\lib\\site-packages\\sklearn\\linear_model\\_coordinate_descent.py:617: ConvergenceWarning: Objective did not converge. You might want to increase the number of iterations. Duality gap: 1070.9073040240328, tolerance: 36.3850747504182\n",
      "  model = cd_fast.enet_coordinate_descent_gram(\n",
      "c:\\Users\\PA\\anaconda3\\lib\\site-packages\\sklearn\\linear_model\\_coordinate_descent.py:617: ConvergenceWarning: Objective did not converge. You might want to increase the number of iterations. Duality gap: 1071.0357688798686, tolerance: 36.3850747504182\n",
      "  model = cd_fast.enet_coordinate_descent_gram(\n",
      "c:\\Users\\PA\\anaconda3\\lib\\site-packages\\sklearn\\linear_model\\_coordinate_descent.py:617: ConvergenceWarning: Objective did not converge. You might want to increase the number of iterations. Duality gap: 1071.058156929037, tolerance: 36.3850747504182\n",
      "  model = cd_fast.enet_coordinate_descent_gram(\n",
      "c:\\Users\\PA\\anaconda3\\lib\\site-packages\\sklearn\\linear_model\\_coordinate_descent.py:617: ConvergenceWarning: Objective did not converge. You might want to increase the number of iterations. Duality gap: 1071.0506199812517, tolerance: 36.3850747504182\n",
      "  model = cd_fast.enet_coordinate_descent_gram(\n",
      "c:\\Users\\PA\\anaconda3\\lib\\site-packages\\sklearn\\linear_model\\_coordinate_descent.py:617: ConvergenceWarning: Objective did not converge. You might want to increase the number of iterations. Duality gap: 1071.0362824177137, tolerance: 36.3850747504182\n",
      "  model = cd_fast.enet_coordinate_descent_gram(\n",
      "c:\\Users\\PA\\anaconda3\\lib\\site-packages\\sklearn\\linear_model\\_coordinate_descent.py:617: ConvergenceWarning: Objective did not converge. You might want to increase the number of iterations. Duality gap: 1071.0218632609758, tolerance: 36.3850747504182\n",
      "  model = cd_fast.enet_coordinate_descent_gram(\n",
      "c:\\Users\\PA\\anaconda3\\lib\\site-packages\\sklearn\\linear_model\\_coordinate_descent.py:617: ConvergenceWarning: Objective did not converge. You might want to increase the number of iterations. Duality gap: 1071.0091355640325, tolerance: 36.3850747504182\n",
      "  model = cd_fast.enet_coordinate_descent_gram(\n",
      "c:\\Users\\PA\\anaconda3\\lib\\site-packages\\sklearn\\linear_model\\_coordinate_descent.py:617: ConvergenceWarning: Objective did not converge. You might want to increase the number of iterations. Duality gap: 1070.9982974015002, tolerance: 36.3850747504182\n",
      "  model = cd_fast.enet_coordinate_descent_gram(\n",
      "c:\\Users\\PA\\anaconda3\\lib\\site-packages\\sklearn\\linear_model\\_coordinate_descent.py:617: ConvergenceWarning: Objective did not converge. You might want to increase the number of iterations. Duality gap: 1070.9892649365938, tolerance: 36.3850747504182\n",
      "  model = cd_fast.enet_coordinate_descent_gram(\n",
      "c:\\Users\\PA\\anaconda3\\lib\\site-packages\\sklearn\\linear_model\\_coordinate_descent.py:617: ConvergenceWarning: Objective did not converge. You might want to increase the number of iterations. Duality gap: 1070.9816633780429, tolerance: 36.3850747504182\n",
      "  model = cd_fast.enet_coordinate_descent_gram(\n",
      "c:\\Users\\PA\\anaconda3\\lib\\site-packages\\sklearn\\linear_model\\_coordinate_descent.py:617: ConvergenceWarning: Objective did not converge. You might want to increase the number of iterations. Duality gap: 1070.9754195652495, tolerance: 36.3850747504182\n",
      "  model = cd_fast.enet_coordinate_descent_gram(\n",
      "c:\\Users\\PA\\anaconda3\\lib\\site-packages\\sklearn\\linear_model\\_coordinate_descent.py:617: ConvergenceWarning: Objective did not converge. You might want to increase the number of iterations. Duality gap: 1070.9702168205113, tolerance: 36.3850747504182\n",
      "  model = cd_fast.enet_coordinate_descent_gram(\n",
      "c:\\Users\\PA\\anaconda3\\lib\\site-packages\\sklearn\\linear_model\\_coordinate_descent.py:617: ConvergenceWarning: Objective did not converge. You might want to increase the number of iterations. Duality gap: 1070.9658764925553, tolerance: 36.3850747504182\n",
      "  model = cd_fast.enet_coordinate_descent_gram(\n",
      "c:\\Users\\PA\\anaconda3\\lib\\site-packages\\sklearn\\linear_model\\_coordinate_descent.py:617: ConvergenceWarning: Objective did not converge. You might want to increase the number of iterations. Duality gap: 1070.9622569277126, tolerance: 36.3850747504182\n",
      "  model = cd_fast.enet_coordinate_descent_gram(\n",
      "c:\\Users\\PA\\anaconda3\\lib\\site-packages\\sklearn\\linear_model\\_coordinate_descent.py:617: ConvergenceWarning: Objective did not converge. You might want to increase the number of iterations. Duality gap: 1070.9593325208407, tolerance: 36.3850747504182\n",
      "  model = cd_fast.enet_coordinate_descent_gram(\n",
      "c:\\Users\\PA\\anaconda3\\lib\\site-packages\\sklearn\\linear_model\\_coordinate_descent.py:617: ConvergenceWarning: Objective did not converge. You might want to increase the number of iterations. Duality gap: 54.31766707630595, tolerance: 40.99544329315465\n",
      "  model = cd_fast.enet_coordinate_descent_gram(\n",
      "c:\\Users\\PA\\anaconda3\\lib\\site-packages\\sklearn\\linear_model\\_coordinate_descent.py:617: ConvergenceWarning: Objective did not converge. You might want to increase the number of iterations. Duality gap: 84.97397163626738, tolerance: 40.99544329315465\n",
      "  model = cd_fast.enet_coordinate_descent_gram(\n",
      "c:\\Users\\PA\\anaconda3\\lib\\site-packages\\sklearn\\linear_model\\_coordinate_descent.py:617: ConvergenceWarning: Objective did not converge. You might want to increase the number of iterations. Duality gap: 95.96523786662146, tolerance: 40.99544329315465\n",
      "  model = cd_fast.enet_coordinate_descent_gram(\n",
      "c:\\Users\\PA\\anaconda3\\lib\\site-packages\\sklearn\\linear_model\\_coordinate_descent.py:617: ConvergenceWarning: Objective did not converge. You might want to increase the number of iterations. Duality gap: 170.18078139686259, tolerance: 40.99544329315465\n",
      "  model = cd_fast.enet_coordinate_descent_gram(\n",
      "c:\\Users\\PA\\anaconda3\\lib\\site-packages\\sklearn\\linear_model\\_coordinate_descent.py:617: ConvergenceWarning: Objective did not converge. You might want to increase the number of iterations. Duality gap: 67.79169909155462, tolerance: 40.99544329315465\n",
      "  model = cd_fast.enet_coordinate_descent_gram(\n",
      "c:\\Users\\PA\\anaconda3\\lib\\site-packages\\sklearn\\linear_model\\_coordinate_descent.py:617: ConvergenceWarning: Objective did not converge. You might want to increase the number of iterations. Duality gap: 78.65392443316523, tolerance: 40.99544329315465\n",
      "  model = cd_fast.enet_coordinate_descent_gram(\n",
      "c:\\Users\\PA\\anaconda3\\lib\\site-packages\\sklearn\\linear_model\\_coordinate_descent.py:617: ConvergenceWarning: Objective did not converge. You might want to increase the number of iterations. Duality gap: 192.52434187784093, tolerance: 40.99544329315465\n",
      "  model = cd_fast.enet_coordinate_descent_gram(\n",
      "c:\\Users\\PA\\anaconda3\\lib\\site-packages\\sklearn\\linear_model\\_coordinate_descent.py:617: ConvergenceWarning: Objective did not converge. You might want to increase the number of iterations. Duality gap: 257.4438686730573, tolerance: 40.99544329315465\n",
      "  model = cd_fast.enet_coordinate_descent_gram(\n",
      "c:\\Users\\PA\\anaconda3\\lib\\site-packages\\sklearn\\linear_model\\_coordinate_descent.py:617: ConvergenceWarning: Objective did not converge. You might want to increase the number of iterations. Duality gap: 361.8185213012621, tolerance: 40.99544329315465\n",
      "  model = cd_fast.enet_coordinate_descent_gram(\n",
      "c:\\Users\\PA\\anaconda3\\lib\\site-packages\\sklearn\\linear_model\\_coordinate_descent.py:617: ConvergenceWarning: Objective did not converge. You might want to increase the number of iterations. Duality gap: 396.4699716521427, tolerance: 40.99544329315465\n",
      "  model = cd_fast.enet_coordinate_descent_gram(\n",
      "c:\\Users\\PA\\anaconda3\\lib\\site-packages\\sklearn\\linear_model\\_coordinate_descent.py:617: ConvergenceWarning: Objective did not converge. You might want to increase the number of iterations. Duality gap: 407.17537188745337, tolerance: 40.99544329315465\n",
      "  model = cd_fast.enet_coordinate_descent_gram(\n",
      "c:\\Users\\PA\\anaconda3\\lib\\site-packages\\sklearn\\linear_model\\_coordinate_descent.py:617: ConvergenceWarning: Objective did not converge. You might want to increase the number of iterations. Duality gap: 410.3843899978674, tolerance: 40.99544329315465\n",
      "  model = cd_fast.enet_coordinate_descent_gram(\n",
      "c:\\Users\\PA\\anaconda3\\lib\\site-packages\\sklearn\\linear_model\\_coordinate_descent.py:617: ConvergenceWarning: Objective did not converge. You might want to increase the number of iterations. Duality gap: 411.3092451185803, tolerance: 40.99544329315465\n",
      "  model = cd_fast.enet_coordinate_descent_gram(\n",
      "c:\\Users\\PA\\anaconda3\\lib\\site-packages\\sklearn\\linear_model\\_coordinate_descent.py:617: ConvergenceWarning: Objective did not converge. You might want to increase the number of iterations. Duality gap: 411.54836887610145, tolerance: 40.99544329315465\n",
      "  model = cd_fast.enet_coordinate_descent_gram(\n",
      "c:\\Users\\PA\\anaconda3\\lib\\site-packages\\sklearn\\linear_model\\_coordinate_descent.py:617: ConvergenceWarning: Objective did not converge. You might want to increase the number of iterations. Duality gap: 411.5865457376349, tolerance: 40.99544329315465\n",
      "  model = cd_fast.enet_coordinate_descent_gram(\n",
      "c:\\Users\\PA\\anaconda3\\lib\\site-packages\\sklearn\\linear_model\\_coordinate_descent.py:617: ConvergenceWarning: Objective did not converge. You might want to increase the number of iterations. Duality gap: 411.5696407100186, tolerance: 40.99544329315465\n",
      "  model = cd_fast.enet_coordinate_descent_gram(\n",
      "c:\\Users\\PA\\anaconda3\\lib\\site-packages\\sklearn\\linear_model\\_coordinate_descent.py:617: ConvergenceWarning: Objective did not converge. You might want to increase the number of iterations. Duality gap: 411.5408816364943, tolerance: 40.99544329315465\n",
      "  model = cd_fast.enet_coordinate_descent_gram(\n",
      "c:\\Users\\PA\\anaconda3\\lib\\site-packages\\sklearn\\linear_model\\_coordinate_descent.py:617: ConvergenceWarning: Objective did not converge. You might want to increase the number of iterations. Duality gap: 411.5125422468991, tolerance: 40.99544329315465\n",
      "  model = cd_fast.enet_coordinate_descent_gram(\n",
      "c:\\Users\\PA\\anaconda3\\lib\\site-packages\\sklearn\\linear_model\\_coordinate_descent.py:617: ConvergenceWarning: Objective did not converge. You might want to increase the number of iterations. Duality gap: 310.2615801616921, tolerance: 40.99544329315465\n",
      "  model = cd_fast.enet_coordinate_descent_gram(\n",
      "c:\\Users\\PA\\anaconda3\\lib\\site-packages\\sklearn\\linear_model\\_coordinate_descent.py:617: ConvergenceWarning: Objective did not converge. You might want to increase the number of iterations. Duality gap: 390.39978752390016, tolerance: 40.99544329315465\n",
      "  model = cd_fast.enet_coordinate_descent_gram(\n",
      "c:\\Users\\PA\\anaconda3\\lib\\site-packages\\sklearn\\linear_model\\_coordinate_descent.py:617: ConvergenceWarning: Objective did not converge. You might want to increase the number of iterations. Duality gap: 416.28004137577955, tolerance: 40.99544329315465\n",
      "  model = cd_fast.enet_coordinate_descent_gram(\n",
      "c:\\Users\\PA\\anaconda3\\lib\\site-packages\\sklearn\\linear_model\\_coordinate_descent.py:617: ConvergenceWarning: Objective did not converge. You might want to increase the number of iterations. Duality gap: 424.25779904646333, tolerance: 40.99544329315465\n",
      "  model = cd_fast.enet_coordinate_descent_gram(\n",
      "c:\\Users\\PA\\anaconda3\\lib\\site-packages\\sklearn\\linear_model\\_coordinate_descent.py:617: ConvergenceWarning: Objective did not converge. You might want to increase the number of iterations. Duality gap: 426.68056463694666, tolerance: 40.99544329315465\n",
      "  model = cd_fast.enet_coordinate_descent_gram(\n",
      "c:\\Users\\PA\\anaconda3\\lib\\site-packages\\sklearn\\linear_model\\_coordinate_descent.py:617: ConvergenceWarning: Objective did not converge. You might want to increase the number of iterations. Duality gap: 427.40936971770134, tolerance: 40.99544329315465\n",
      "  model = cd_fast.enet_coordinate_descent_gram(\n",
      "c:\\Users\\PA\\anaconda3\\lib\\site-packages\\sklearn\\linear_model\\_coordinate_descent.py:617: ConvergenceWarning: Objective did not converge. You might want to increase the number of iterations. Duality gap: 427.62488722463604, tolerance: 40.99544329315465\n",
      "  model = cd_fast.enet_coordinate_descent_gram(\n",
      "c:\\Users\\PA\\anaconda3\\lib\\site-packages\\sklearn\\linear_model\\_coordinate_descent.py:617: ConvergenceWarning: Objective did not converge. You might want to increase the number of iterations. Duality gap: 427.685691843275, tolerance: 40.99544329315465\n",
      "  model = cd_fast.enet_coordinate_descent_gram(\n",
      "c:\\Users\\PA\\anaconda3\\lib\\site-packages\\sklearn\\linear_model\\_coordinate_descent.py:617: ConvergenceWarning: Objective did not converge. You might want to increase the number of iterations. Duality gap: 427.7003678950132, tolerance: 40.99544329315465\n",
      "  model = cd_fast.enet_coordinate_descent_gram(\n",
      "c:\\Users\\PA\\anaconda3\\lib\\site-packages\\sklearn\\linear_model\\_coordinate_descent.py:617: ConvergenceWarning: Objective did not converge. You might want to increase the number of iterations. Duality gap: 427.7017000578344, tolerance: 40.99544329315465\n",
      "  model = cd_fast.enet_coordinate_descent_gram(\n",
      "c:\\Users\\PA\\anaconda3\\lib\\site-packages\\sklearn\\linear_model\\_coordinate_descent.py:617: ConvergenceWarning: Objective did not converge. You might want to increase the number of iterations. Duality gap: 427.69951691676397, tolerance: 40.99544329315465\n",
      "  model = cd_fast.enet_coordinate_descent_gram(\n",
      "c:\\Users\\PA\\anaconda3\\lib\\site-packages\\sklearn\\linear_model\\_coordinate_descent.py:617: ConvergenceWarning: Objective did not converge. You might want to increase the number of iterations. Duality gap: 427.69671287818346, tolerance: 40.99544329315465\n",
      "  model = cd_fast.enet_coordinate_descent_gram(\n",
      "c:\\Users\\PA\\anaconda3\\lib\\site-packages\\sklearn\\linear_model\\_coordinate_descent.py:617: ConvergenceWarning: Objective did not converge. You might want to increase the number of iterations. Duality gap: 427.6940955898026, tolerance: 40.99544329315465\n",
      "  model = cd_fast.enet_coordinate_descent_gram(\n",
      "c:\\Users\\PA\\anaconda3\\lib\\site-packages\\sklearn\\linear_model\\_coordinate_descent.py:617: ConvergenceWarning: Objective did not converge. You might want to increase the number of iterations. Duality gap: 427.6917926641181, tolerance: 40.99544329315465\n",
      "  model = cd_fast.enet_coordinate_descent_gram(\n",
      "c:\\Users\\PA\\anaconda3\\lib\\site-packages\\sklearn\\linear_model\\_coordinate_descent.py:617: ConvergenceWarning: Objective did not converge. You might want to increase the number of iterations. Duality gap: 427.6898974550422, tolerance: 40.99544329315465\n",
      "  model = cd_fast.enet_coordinate_descent_gram(\n"
     ]
    }
   ],
   "source": [
    "alphas = np.logspace(-6, 2, 100)\n",
    "lasso_cv = LassoCV(alphas=alphas, cv=5)\n",
    "lasso_cv.fit(X_train, y_train)\n",
    "# Stoing the best lambda value\n",
    "selected_alpha = lasso_cv.alpha_"
   ]
  },
  {
   "cell_type": "markdown",
   "metadata": {},
   "source": [
    "* In this step we use the selected value of **__alpha__** to train tha LASSO model and exclude non-important features."
   ]
  },
  {
   "cell_type": "code",
   "execution_count": 15,
   "metadata": {},
   "outputs": [
    {
     "data": {
      "text/html": [
       "<style>#sk-container-id-1 {color: black;background-color: white;}#sk-container-id-1 pre{padding: 0;}#sk-container-id-1 div.sk-toggleable {background-color: white;}#sk-container-id-1 label.sk-toggleable__label {cursor: pointer;display: block;width: 100%;margin-bottom: 0;padding: 0.3em;box-sizing: border-box;text-align: center;}#sk-container-id-1 label.sk-toggleable__label-arrow:before {content: \"▸\";float: left;margin-right: 0.25em;color: #696969;}#sk-container-id-1 label.sk-toggleable__label-arrow:hover:before {color: black;}#sk-container-id-1 div.sk-estimator:hover label.sk-toggleable__label-arrow:before {color: black;}#sk-container-id-1 div.sk-toggleable__content {max-height: 0;max-width: 0;overflow: hidden;text-align: left;background-color: #f0f8ff;}#sk-container-id-1 div.sk-toggleable__content pre {margin: 0.2em;color: black;border-radius: 0.25em;background-color: #f0f8ff;}#sk-container-id-1 input.sk-toggleable__control:checked~div.sk-toggleable__content {max-height: 200px;max-width: 100%;overflow: auto;}#sk-container-id-1 input.sk-toggleable__control:checked~label.sk-toggleable__label-arrow:before {content: \"▾\";}#sk-container-id-1 div.sk-estimator input.sk-toggleable__control:checked~label.sk-toggleable__label {background-color: #d4ebff;}#sk-container-id-1 div.sk-label input.sk-toggleable__control:checked~label.sk-toggleable__label {background-color: #d4ebff;}#sk-container-id-1 input.sk-hidden--visually {border: 0;clip: rect(1px 1px 1px 1px);clip: rect(1px, 1px, 1px, 1px);height: 1px;margin: -1px;overflow: hidden;padding: 0;position: absolute;width: 1px;}#sk-container-id-1 div.sk-estimator {font-family: monospace;background-color: #f0f8ff;border: 1px dotted black;border-radius: 0.25em;box-sizing: border-box;margin-bottom: 0.5em;}#sk-container-id-1 div.sk-estimator:hover {background-color: #d4ebff;}#sk-container-id-1 div.sk-parallel-item::after {content: \"\";width: 100%;border-bottom: 1px solid gray;flex-grow: 1;}#sk-container-id-1 div.sk-label:hover label.sk-toggleable__label {background-color: #d4ebff;}#sk-container-id-1 div.sk-serial::before {content: \"\";position: absolute;border-left: 1px solid gray;box-sizing: border-box;top: 0;bottom: 0;left: 50%;z-index: 0;}#sk-container-id-1 div.sk-serial {display: flex;flex-direction: column;align-items: center;background-color: white;padding-right: 0.2em;padding-left: 0.2em;position: relative;}#sk-container-id-1 div.sk-item {position: relative;z-index: 1;}#sk-container-id-1 div.sk-parallel {display: flex;align-items: stretch;justify-content: center;background-color: white;position: relative;}#sk-container-id-1 div.sk-item::before, #sk-container-id-1 div.sk-parallel-item::before {content: \"\";position: absolute;border-left: 1px solid gray;box-sizing: border-box;top: 0;bottom: 0;left: 50%;z-index: -1;}#sk-container-id-1 div.sk-parallel-item {display: flex;flex-direction: column;z-index: 1;position: relative;background-color: white;}#sk-container-id-1 div.sk-parallel-item:first-child::after {align-self: flex-end;width: 50%;}#sk-container-id-1 div.sk-parallel-item:last-child::after {align-self: flex-start;width: 50%;}#sk-container-id-1 div.sk-parallel-item:only-child::after {width: 0;}#sk-container-id-1 div.sk-dashed-wrapped {border: 1px dashed gray;margin: 0 0.4em 0.5em 0.4em;box-sizing: border-box;padding-bottom: 0.4em;background-color: white;}#sk-container-id-1 div.sk-label label {font-family: monospace;font-weight: bold;display: inline-block;line-height: 1.2em;}#sk-container-id-1 div.sk-label-container {text-align: center;}#sk-container-id-1 div.sk-container {/* jupyter's `normalize.less` sets `[hidden] { display: none; }` but bootstrap.min.css set `[hidden] { display: none !important; }` so we also need the `!important` here to be able to override the default hidden behavior on the sphinx rendered scikit-learn.org. See: https://github.com/scikit-learn/scikit-learn/issues/21755 */display: inline-block !important;position: relative;}#sk-container-id-1 div.sk-text-repr-fallback {display: none;}</style><div id=\"sk-container-id-1\" class=\"sk-top-container\"><div class=\"sk-text-repr-fallback\"><pre>Lasso(alpha=0.5462277217684348)</pre><b>In a Jupyter environment, please rerun this cell to show the HTML representation or trust the notebook. <br />On GitHub, the HTML representation is unable to render, please try loading this page with nbviewer.org.</b></div><div class=\"sk-container\" hidden><div class=\"sk-item\"><div class=\"sk-estimator sk-toggleable\"><input class=\"sk-toggleable__control sk-hidden--visually\" id=\"sk-estimator-id-1\" type=\"checkbox\" checked><label for=\"sk-estimator-id-1\" class=\"sk-toggleable__label sk-toggleable__label-arrow\">Lasso</label><div class=\"sk-toggleable__content\"><pre>Lasso(alpha=0.5462277217684348)</pre></div></div></div></div></div>"
      ],
      "text/plain": [
       "Lasso(alpha=0.5462277217684348)"
      ]
     },
     "execution_count": 15,
     "metadata": {},
     "output_type": "execute_result"
    }
   ],
   "source": [
    "best_model = Lasso(alpha=selected_alpha)\n",
    "best_model.fit(X_train, y_train)"
   ]
  },
  {
   "cell_type": "markdown",
   "metadata": {},
   "source": [
    "## Detecting the significant coefficients"
   ]
  },
  {
   "cell_type": "code",
   "execution_count": 16,
   "metadata": {},
   "outputs": [
    {
     "name": "stdout",
     "output_type": "stream",
     "text": [
      "Index(['grade92', 'age', 'chldpres', 'stfips_CA', 'stfips_CT', 'stfips_DC',\n",
      "       'stfips_KS', 'stfips_MS', 'stfips_NC', 'stfips_NV', 'stfips_NY',\n",
      "       'stfips_OH', 'stfips_RI', 'stfips_TN', 'stfips_TX', 'stfips_WA',\n",
      "       'stfips_WI', 'prcitshp_Foreign Born, US Cit By Naturalization',\n",
      "       'prcitshp_Native, Born In US',\n",
      "       'ind02_** Apparel, fabrics, and notions, merchant wholesalers (*4243)',\n",
      "       'ind02_5275', 'ind02_Book stores and news dealers (45121)',\n",
      "       'ind02_Building material and supplies dealers (4441 exc. 44413)',\n",
      "       'ind02_Computer systems design and related services (5415)',\n",
      "       'ind02_Electronic component and product manufacturing, n.e.c. (3344, 3346)',\n",
      "       'ind02_Furniture and home furnishings stores (442)',\n",
      "       'ind02_Grocery stores (4451)',\n",
      "       'ind02_Independent artists, performing arts, spectator sports, and related industries (711)',\n",
      "       'ind02_Industrial and miscellaneous chemicals (3251, 3259)',\n",
      "       'ind02_Management, scientific, and technical consulting services (5416)',\n",
      "       'ind02_Museums, art galleries, historical sites, and similar institutions (712)',\n",
      "       'ind02_Navigational, measuring, electromedical, and control instruments manufacturing (3345)',\n",
      "       'ind02_Other amusement, gambling, and recreation industries (713 exc. 71395)',\n",
      "       'ind02_Pipeline transportation (486)',\n",
      "       'ind02_Printing and related support activities (3231)',\n",
      "       'ind02_Religious organizations (8131)',\n",
      "       'ind02_Retail bakeries (311811)', 'ind02_Retail florists (4531)',\n",
      "       'ind02_Scenic and sightseeing transportation (487)',\n",
      "       'ind02_Toys, amusement, and sporting goods manufacturing (33992, 33993)',\n",
      "       'class_Government - State', 'unionmme_Yes', 'race_4', 'race_8', 'sex_2',\n",
      "       'marital_4', 'marital_5', 'marital_7', 'occ2012_2630', 'occ2012_2700',\n",
      "       'occ2012_2710', 'occ2012_2720', 'occ2012_2740', 'occ2012_2760',\n",
      "       'occ2012_2800', 'occ2012_2825', 'occ2012_2910'],\n",
      "      dtype='object')\n"
     ]
    }
   ],
   "source": [
    "selected_features = X.columns[best_model.coef_ != 0]\n",
    "print(selected_features)"
   ]
  },
  {
   "cell_type": "markdown",
   "metadata": {},
   "source": [
    "# Model 0"
   ]
  },
  {
   "cell_type": "code",
   "execution_count": 17,
   "metadata": {},
   "outputs": [],
   "source": [
    "# Creating lists to store the RMSE and BIC values\n",
    "RMSE_full_sample = []\n",
    "RMSE_CV = []\n",
    "BIC_full_sample = []"
   ]
  },
  {
   "cell_type": "code",
   "execution_count": 18,
   "metadata": {},
   "outputs": [
    {
     "data": {
      "text/plain": [
       "['grade92', 'age', 'race_4', 'race_8', 'sex_2']"
      ]
     },
     "execution_count": 18,
     "metadata": {},
     "output_type": "execute_result"
    }
   ],
   "source": [
    "zero_features = ['race', 'sex', 'weight']\n",
    "model_0_features = ['grade92','age']\n",
    "for feat in zero_features:\n",
    "    model_0_features += [i for i in selected_features if feat in i]\n",
    "\n",
    "model_0_features"
   ]
  },
  {
   "cell_type": "code",
   "execution_count": 19,
   "metadata": {},
   "outputs": [
    {
     "data": {
      "text/plain": [
       "(2315, 5)"
      ]
     },
     "execution_count": 19,
     "metadata": {},
     "output_type": "execute_result"
    }
   ],
   "source": [
    "X_scaled_model_0 = X_scaled[:, [i for i in range(X_scaled.shape[1]) if X.columns[i] in model_0_features]]\n",
    "X_scaled_model_0.shape"
   ]
  },
  {
   "cell_type": "code",
   "execution_count": 20,
   "metadata": {},
   "outputs": [
    {
     "name": "stdout",
     "output_type": "stream",
     "text": [
      "25.301824144272633\n"
     ]
    }
   ],
   "source": [
    "model0 = LinearRegression()\n",
    "y_pred_cv = cross_val_predict(model0, X_scaled_model_0, y, cv=5)\n",
    "rmse_cv_value = np.sqrt(mean_squared_error(y, y_pred_cv))\n",
    "RMSE_CV.append(rmse_cv_value)\n",
    "print(rmse_cv_value)"
   ]
  },
  {
   "cell_type": "code",
   "execution_count": 21,
   "metadata": {},
   "outputs": [
    {
     "name": "stdout",
     "output_type": "stream",
     "text": [
      "RMSE of OLS model with full sample is:  25.271251158873717\n",
      "BIC of OLS model with full sample is:  21569.52860778832\n"
     ]
    }
   ],
   "source": [
    "# Building the OLS model using full sample and calculating the RMSE and BIC\n",
    "X_scaled_model_0 = sm.add_constant(X_scaled_model_0)\n",
    "model0_full_sample = sm.OLS(y, X_scaled_model_0).fit()\n",
    "y_pred_full_sample = model0_full_sample.predict(X_scaled_model_0)\n",
    "rmse_full_sample_value = np.sqrt(mean_squared_error(y, y_pred_full_sample))\n",
    "RMSE_full_sample.append(rmse_full_sample_value)\n",
    "BIC_full_sample.append(model0_full_sample.bic)\n",
    "print('RMSE of OLS model with full sample is: ', rmse_full_sample_value)\n",
    "print('BIC of OLS model with full sample is: ', model0_full_sample.bic)\n"
   ]
  },
  {
   "cell_type": "markdown",
   "metadata": {},
   "source": [
    "# Model 1"
   ]
  },
  {
   "cell_type": "code",
   "execution_count": 22,
   "metadata": {},
   "outputs": [
    {
     "data": {
      "text/plain": [
       "['grade92',\n",
       " 'age',\n",
       " 'race_4',\n",
       " 'race_8',\n",
       " 'sex_2',\n",
       " 'prcitshp_Foreign Born, US Cit By Naturalization',\n",
       " 'prcitshp_Native, Born In US']"
      ]
     },
     "execution_count": 22,
     "metadata": {},
     "output_type": "execute_result"
    }
   ],
   "source": [
    "basic_features = [ 'race', 'ethnic', 'sex','prcitshp', 'unioncov', 'lfsr94', 'intmonth']\n",
    "model_1_features = ['grade92','age']\n",
    "for feat in basic_features:\n",
    "    model_1_features += [i for i in selected_features if feat in i]\n",
    "\n",
    "model_1_features\n"
   ]
  },
  {
   "cell_type": "code",
   "execution_count": 23,
   "metadata": {},
   "outputs": [
    {
     "data": {
      "text/plain": [
       "(2315, 7)"
      ]
     },
     "execution_count": 23,
     "metadata": {},
     "output_type": "execute_result"
    }
   ],
   "source": [
    "X_scaled_model_1 = X_scaled[:, [i for i in range(len(X.columns)) if X.columns[i] in model_1_features]]\n",
    "X_scaled_model_1.shape"
   ]
  },
  {
   "cell_type": "code",
   "execution_count": 24,
   "metadata": {},
   "outputs": [
    {
     "name": "stdout",
     "output_type": "stream",
     "text": [
      "RMSE of OLS model with cross validation is:  25.305786947956214\n"
     ]
    }
   ],
   "source": [
    "# Building the OLS model using cross validation\n",
    "model1 = LinearRegression()\n",
    "y_pred_cv = cross_val_predict(model1, X_scaled_model_1, y, cv=5)\n",
    "rmse_cv_value = np.sqrt(mean_squared_error(y, y_pred_cv))\n",
    "RMSE_CV.append(rmse_cv_value)\n",
    "\n",
    "print('RMSE of OLS model with cross validation is: ', rmse_cv_value)"
   ]
  },
  {
   "cell_type": "code",
   "execution_count": 25,
   "metadata": {},
   "outputs": [
    {
     "name": "stdout",
     "output_type": "stream",
     "text": [
      "RMSE of OLS model with full sample is:  25.268128803746453\n",
      "BIC of OLS model with full sample is:  21584.450849014764\n"
     ]
    }
   ],
   "source": [
    "# Building the OLS model using full sample and calculating the RMSE and BIC\n",
    "X_scaled_model_1 = sm.add_constant(X_scaled_model_1)\n",
    "model1_full_sample = sm.OLS(y, X_scaled_model_1).fit()\n",
    "y_pred_full_sample = model1_full_sample.predict(X_scaled_model_1)\n",
    "rmse_full_sample_value = np.sqrt(mean_squared_error(y, y_pred_full_sample))\n",
    "RMSE_full_sample.append(rmse_full_sample_value)\n",
    "BIC_full_sample.append(model1_full_sample.bic)\n",
    "print('RMSE of OLS model with full sample is: ', rmse_full_sample_value)\n",
    "print('BIC of OLS model with full sample is: ', model1_full_sample.bic)"
   ]
  },
  {
   "cell_type": "markdown",
   "metadata": {},
   "source": [
    "# Model 2"
   ]
  },
  {
   "cell_type": "code",
   "execution_count": 26,
   "metadata": {},
   "outputs": [
    {
     "data": {
      "text/plain": [
       "['grade92',\n",
       " 'age',\n",
       " 'race_4',\n",
       " 'race_8',\n",
       " 'sex_2',\n",
       " 'prcitshp_Foreign Born, US Cit By Naturalization',\n",
       " 'prcitshp_Native, Born In US',\n",
       " 'chldpres',\n",
       " 'class_Government - State',\n",
       " 'marital_4',\n",
       " 'marital_5',\n",
       " 'marital_7',\n",
       " 'unionmme_Yes']"
      ]
     },
     "execution_count": 26,
     "metadata": {},
     "output_type": "execute_result"
    }
   ],
   "source": [
    "extra_features = ['ownchild', 'chldpres', 'class','marital','unionmme']\n",
    "model_2_features = model_1_features\n",
    "for feat in extra_features:\n",
    "    model_2_features += [i for i in selected_features if feat in i]\n",
    "model_2_features"
   ]
  },
  {
   "cell_type": "code",
   "execution_count": 27,
   "metadata": {},
   "outputs": [
    {
     "data": {
      "text/plain": [
       "(2315, 13)"
      ]
     },
     "execution_count": 27,
     "metadata": {},
     "output_type": "execute_result"
    }
   ],
   "source": [
    "X_scaled_model_2 = X_scaled[:, [i for i in range(len(X.columns)) if X.columns[i] in model_2_features]]\n",
    "X_scaled_model_2.shape"
   ]
  },
  {
   "cell_type": "code",
   "execution_count": 28,
   "metadata": {},
   "outputs": [
    {
     "name": "stdout",
     "output_type": "stream",
     "text": [
      "RMSE of OLS model with cross validation is:  25.247284818410307\n"
     ]
    }
   ],
   "source": [
    "# Building the 2nd OLS model using cross validation\n",
    "model2 = LinearRegression()\n",
    "y_pred_cv = cross_val_predict(model2, X_scaled_model_2, y, cv=5)\n",
    "rmse_cv_value = np.sqrt(mean_squared_error(y, y_pred_cv))\n",
    "RMSE_CV.append(rmse_cv_value)\n",
    "print('RMSE of OLS model with cross validation is: ', rmse_cv_value)"
   ]
  },
  {
   "cell_type": "code",
   "execution_count": 29,
   "metadata": {},
   "outputs": [
    {
     "name": "stdout",
     "output_type": "stream",
     "text": [
      "RMSE of OLS model with full sample is:  25.11443298702469\n",
      "BIC of OLS model with full sample is:  21602.68542056904\n"
     ]
    }
   ],
   "source": [
    "# Evaluating the OLS model using full sample and calculating the RMSE and BIC\n",
    "X_scaled_model_2 = sm.add_constant(X_scaled_model_2)\n",
    "model2_full_sample = sm.OLS(y, X_scaled_model_2).fit()\n",
    "y_pred_full_sample = model2_full_sample.predict(X_scaled_model_2)\n",
    "rmse_full_sample_value = np.sqrt(mean_squared_error(y, y_pred_full_sample))\n",
    "RMSE_full_sample.append(rmse_full_sample_value)\n",
    "BIC_full_sample.append(model2_full_sample.bic)\n",
    "print('RMSE of OLS model with full sample is: ', rmse_full_sample_value)\n",
    "print('BIC of OLS model with full sample is: ', model2_full_sample.bic)"
   ]
  },
  {
   "cell_type": "markdown",
   "metadata": {},
   "source": [
    "# Model 3"
   ]
  },
  {
   "cell_type": "code",
   "execution_count": 30,
   "metadata": {},
   "outputs": [
    {
     "data": {
      "text/plain": [
       "(2315, 57)"
      ]
     },
     "execution_count": 30,
     "metadata": {},
     "output_type": "execute_result"
    }
   ],
   "source": [
    "model_3_features = selected_features\n",
    "X_scaled_model_3 = X_scaled[:, [i for i in range(len(X.columns)) if X.columns[i] in model_3_features]]\n",
    "X_scaled_model_3.shape"
   ]
  },
  {
   "cell_type": "code",
   "execution_count": 31,
   "metadata": {},
   "outputs": [
    {
     "name": "stdout",
     "output_type": "stream",
     "text": [
      "RMSE of OLS model with cross validation is:  25.12315573289413\n"
     ]
    }
   ],
   "source": [
    "# Building the 3rd OLS model using cross validation\n",
    "model3 = LinearRegression()\n",
    "y_pred_cv = cross_val_predict(model3, X_scaled_model_3, y, cv=5)\n",
    "rmse_cv_value = np.sqrt(mean_squared_error(y, y_pred_cv))\n",
    "RMSE_CV.append(rmse_cv_value)\n",
    "print('RMSE of OLS model with cross validation is: ', rmse_cv_value)"
   ]
  },
  {
   "cell_type": "code",
   "execution_count": 32,
   "metadata": {},
   "outputs": [
    {
     "name": "stdout",
     "output_type": "stream",
     "text": [
      "RMSE of OLS model with full sample is:  24.658807728491034\n",
      "BIC of OLS model with full sample is:  21858.792082817345\n"
     ]
    }
   ],
   "source": [
    "# Evaluating the 3rd OLS model using full sample and calculating the RMSE and BIC\n",
    "X_scaled_model_3 = sm.add_constant(X_scaled_model_3)\n",
    "model3_full_sample = sm.OLS(y, X_scaled_model_3).fit()\n",
    "y_pred_full_sample = model3_full_sample.predict(X_scaled_model_3)\n",
    "rmse_full_sample_value = np.sqrt(mean_squared_error(y, y_pred_full_sample))\n",
    "RMSE_full_sample.append(rmse_full_sample_value)\n",
    "BIC_full_sample.append(model3_full_sample.bic)\n",
    "print('RMSE of OLS model with full sample is: ', rmse_full_sample_value)\n",
    "print('BIC of OLS model with full sample is: ', model3_full_sample.bic)"
   ]
  },
  {
   "cell_type": "markdown",
   "metadata": {},
   "source": [
    "# Model 4"
   ]
  },
  {
   "cell_type": "code",
   "execution_count": 33,
   "metadata": {},
   "outputs": [],
   "source": [
    "# Building the 4th OLS model, by including some interaction terms and some polynomial terms\n",
    "A = X_scaled_model_3[:, 1:]\n",
    "X_cp = pd.DataFrame(A, columns =  model_3_features)"
   ]
  },
  {
   "cell_type": "code",
   "execution_count": 34,
   "metadata": {},
   "outputs": [
    {
     "name": "stderr",
     "output_type": "stream",
     "text": [
      "C:\\Users\\PA\\AppData\\Local\\Temp\\ipykernel_12140\\3247356159.py:8: PerformanceWarning: DataFrame is highly fragmented.  This is usually the result of calling `frame.insert` many times, which has poor performance.  Consider joining all columns at once using pd.concat(axis=1) instead. To get a de-fragmented frame, use `newframe = frame.copy()`\n",
      "  X_cp[new_feature_interaction] = X_cp[feature] * X_cp[other_feature]\n",
      "C:\\Users\\PA\\AppData\\Local\\Temp\\ipykernel_12140\\3247356159.py:8: PerformanceWarning: DataFrame is highly fragmented.  This is usually the result of calling `frame.insert` many times, which has poor performance.  Consider joining all columns at once using pd.concat(axis=1) instead. To get a de-fragmented frame, use `newframe = frame.copy()`\n",
      "  X_cp[new_feature_interaction] = X_cp[feature] * X_cp[other_feature]\n",
      "C:\\Users\\PA\\AppData\\Local\\Temp\\ipykernel_12140\\3247356159.py:8: PerformanceWarning: DataFrame is highly fragmented.  This is usually the result of calling `frame.insert` many times, which has poor performance.  Consider joining all columns at once using pd.concat(axis=1) instead. To get a de-fragmented frame, use `newframe = frame.copy()`\n",
      "  X_cp[new_feature_interaction] = X_cp[feature] * X_cp[other_feature]\n",
      "C:\\Users\\PA\\AppData\\Local\\Temp\\ipykernel_12140\\3247356159.py:8: PerformanceWarning: DataFrame is highly fragmented.  This is usually the result of calling `frame.insert` many times, which has poor performance.  Consider joining all columns at once using pd.concat(axis=1) instead. To get a de-fragmented frame, use `newframe = frame.copy()`\n",
      "  X_cp[new_feature_interaction] = X_cp[feature] * X_cp[other_feature]\n",
      "C:\\Users\\PA\\AppData\\Local\\Temp\\ipykernel_12140\\3247356159.py:8: PerformanceWarning: DataFrame is highly fragmented.  This is usually the result of calling `frame.insert` many times, which has poor performance.  Consider joining all columns at once using pd.concat(axis=1) instead. To get a de-fragmented frame, use `newframe = frame.copy()`\n",
      "  X_cp[new_feature_interaction] = X_cp[feature] * X_cp[other_feature]\n",
      "C:\\Users\\PA\\AppData\\Local\\Temp\\ipykernel_12140\\3247356159.py:3: PerformanceWarning: DataFrame is highly fragmented.  This is usually the result of calling `frame.insert` many times, which has poor performance.  Consider joining all columns at once using pd.concat(axis=1) instead. To get a de-fragmented frame, use `newframe = frame.copy()`\n",
      "  X_cp[new_feature_square] = X_cp[feature] ** 2\n",
      "C:\\Users\\PA\\AppData\\Local\\Temp\\ipykernel_12140\\3247356159.py:8: PerformanceWarning: DataFrame is highly fragmented.  This is usually the result of calling `frame.insert` many times, which has poor performance.  Consider joining all columns at once using pd.concat(axis=1) instead. To get a de-fragmented frame, use `newframe = frame.copy()`\n",
      "  X_cp[new_feature_interaction] = X_cp[feature] * X_cp[other_feature]\n",
      "C:\\Users\\PA\\AppData\\Local\\Temp\\ipykernel_12140\\3247356159.py:8: PerformanceWarning: DataFrame is highly fragmented.  This is usually the result of calling `frame.insert` many times, which has poor performance.  Consider joining all columns at once using pd.concat(axis=1) instead. To get a de-fragmented frame, use `newframe = frame.copy()`\n",
      "  X_cp[new_feature_interaction] = X_cp[feature] * X_cp[other_feature]\n",
      "C:\\Users\\PA\\AppData\\Local\\Temp\\ipykernel_12140\\3247356159.py:8: PerformanceWarning: DataFrame is highly fragmented.  This is usually the result of calling `frame.insert` many times, which has poor performance.  Consider joining all columns at once using pd.concat(axis=1) instead. To get a de-fragmented frame, use `newframe = frame.copy()`\n",
      "  X_cp[new_feature_interaction] = X_cp[feature] * X_cp[other_feature]\n",
      "C:\\Users\\PA\\AppData\\Local\\Temp\\ipykernel_12140\\3247356159.py:8: PerformanceWarning: DataFrame is highly fragmented.  This is usually the result of calling `frame.insert` many times, which has poor performance.  Consider joining all columns at once using pd.concat(axis=1) instead. To get a de-fragmented frame, use `newframe = frame.copy()`\n",
      "  X_cp[new_feature_interaction] = X_cp[feature] * X_cp[other_feature]\n",
      "C:\\Users\\PA\\AppData\\Local\\Temp\\ipykernel_12140\\3247356159.py:8: PerformanceWarning: DataFrame is highly fragmented.  This is usually the result of calling `frame.insert` many times, which has poor performance.  Consider joining all columns at once using pd.concat(axis=1) instead. To get a de-fragmented frame, use `newframe = frame.copy()`\n",
      "  X_cp[new_feature_interaction] = X_cp[feature] * X_cp[other_feature]\n",
      "C:\\Users\\PA\\AppData\\Local\\Temp\\ipykernel_12140\\3247356159.py:8: PerformanceWarning: DataFrame is highly fragmented.  This is usually the result of calling `frame.insert` many times, which has poor performance.  Consider joining all columns at once using pd.concat(axis=1) instead. To get a de-fragmented frame, use `newframe = frame.copy()`\n",
      "  X_cp[new_feature_interaction] = X_cp[feature] * X_cp[other_feature]\n",
      "C:\\Users\\PA\\AppData\\Local\\Temp\\ipykernel_12140\\3247356159.py:8: PerformanceWarning: DataFrame is highly fragmented.  This is usually the result of calling `frame.insert` many times, which has poor performance.  Consider joining all columns at once using pd.concat(axis=1) instead. To get a de-fragmented frame, use `newframe = frame.copy()`\n",
      "  X_cp[new_feature_interaction] = X_cp[feature] * X_cp[other_feature]\n",
      "C:\\Users\\PA\\AppData\\Local\\Temp\\ipykernel_12140\\3247356159.py:8: PerformanceWarning: DataFrame is highly fragmented.  This is usually the result of calling `frame.insert` many times, which has poor performance.  Consider joining all columns at once using pd.concat(axis=1) instead. To get a de-fragmented frame, use `newframe = frame.copy()`\n",
      "  X_cp[new_feature_interaction] = X_cp[feature] * X_cp[other_feature]\n",
      "C:\\Users\\PA\\AppData\\Local\\Temp\\ipykernel_12140\\3247356159.py:8: PerformanceWarning: DataFrame is highly fragmented.  This is usually the result of calling `frame.insert` many times, which has poor performance.  Consider joining all columns at once using pd.concat(axis=1) instead. To get a de-fragmented frame, use `newframe = frame.copy()`\n",
      "  X_cp[new_feature_interaction] = X_cp[feature] * X_cp[other_feature]\n",
      "C:\\Users\\PA\\AppData\\Local\\Temp\\ipykernel_12140\\3247356159.py:8: PerformanceWarning: DataFrame is highly fragmented.  This is usually the result of calling `frame.insert` many times, which has poor performance.  Consider joining all columns at once using pd.concat(axis=1) instead. To get a de-fragmented frame, use `newframe = frame.copy()`\n",
      "  X_cp[new_feature_interaction] = X_cp[feature] * X_cp[other_feature]\n",
      "C:\\Users\\PA\\AppData\\Local\\Temp\\ipykernel_12140\\3247356159.py:8: PerformanceWarning: DataFrame is highly fragmented.  This is usually the result of calling `frame.insert` many times, which has poor performance.  Consider joining all columns at once using pd.concat(axis=1) instead. To get a de-fragmented frame, use `newframe = frame.copy()`\n",
      "  X_cp[new_feature_interaction] = X_cp[feature] * X_cp[other_feature]\n",
      "C:\\Users\\PA\\AppData\\Local\\Temp\\ipykernel_12140\\3247356159.py:8: PerformanceWarning: DataFrame is highly fragmented.  This is usually the result of calling `frame.insert` many times, which has poor performance.  Consider joining all columns at once using pd.concat(axis=1) instead. To get a de-fragmented frame, use `newframe = frame.copy()`\n",
      "  X_cp[new_feature_interaction] = X_cp[feature] * X_cp[other_feature]\n",
      "C:\\Users\\PA\\AppData\\Local\\Temp\\ipykernel_12140\\3247356159.py:3: PerformanceWarning: DataFrame is highly fragmented.  This is usually the result of calling `frame.insert` many times, which has poor performance.  Consider joining all columns at once using pd.concat(axis=1) instead. To get a de-fragmented frame, use `newframe = frame.copy()`\n",
      "  X_cp[new_feature_square] = X_cp[feature] ** 2\n",
      "C:\\Users\\PA\\AppData\\Local\\Temp\\ipykernel_12140\\3247356159.py:8: PerformanceWarning: DataFrame is highly fragmented.  This is usually the result of calling `frame.insert` many times, which has poor performance.  Consider joining all columns at once using pd.concat(axis=1) instead. To get a de-fragmented frame, use `newframe = frame.copy()`\n",
      "  X_cp[new_feature_interaction] = X_cp[feature] * X_cp[other_feature]\n",
      "C:\\Users\\PA\\AppData\\Local\\Temp\\ipykernel_12140\\3247356159.py:8: PerformanceWarning: DataFrame is highly fragmented.  This is usually the result of calling `frame.insert` many times, which has poor performance.  Consider joining all columns at once using pd.concat(axis=1) instead. To get a de-fragmented frame, use `newframe = frame.copy()`\n",
      "  X_cp[new_feature_interaction] = X_cp[feature] * X_cp[other_feature]\n",
      "C:\\Users\\PA\\AppData\\Local\\Temp\\ipykernel_12140\\3247356159.py:8: PerformanceWarning: DataFrame is highly fragmented.  This is usually the result of calling `frame.insert` many times, which has poor performance.  Consider joining all columns at once using pd.concat(axis=1) instead. To get a de-fragmented frame, use `newframe = frame.copy()`\n",
      "  X_cp[new_feature_interaction] = X_cp[feature] * X_cp[other_feature]\n",
      "C:\\Users\\PA\\AppData\\Local\\Temp\\ipykernel_12140\\3247356159.py:8: PerformanceWarning: DataFrame is highly fragmented.  This is usually the result of calling `frame.insert` many times, which has poor performance.  Consider joining all columns at once using pd.concat(axis=1) instead. To get a de-fragmented frame, use `newframe = frame.copy()`\n",
      "  X_cp[new_feature_interaction] = X_cp[feature] * X_cp[other_feature]\n",
      "C:\\Users\\PA\\AppData\\Local\\Temp\\ipykernel_12140\\3247356159.py:8: PerformanceWarning: DataFrame is highly fragmented.  This is usually the result of calling `frame.insert` many times, which has poor performance.  Consider joining all columns at once using pd.concat(axis=1) instead. To get a de-fragmented frame, use `newframe = frame.copy()`\n",
      "  X_cp[new_feature_interaction] = X_cp[feature] * X_cp[other_feature]\n",
      "C:\\Users\\PA\\AppData\\Local\\Temp\\ipykernel_12140\\3247356159.py:8: PerformanceWarning: DataFrame is highly fragmented.  This is usually the result of calling `frame.insert` many times, which has poor performance.  Consider joining all columns at once using pd.concat(axis=1) instead. To get a de-fragmented frame, use `newframe = frame.copy()`\n",
      "  X_cp[new_feature_interaction] = X_cp[feature] * X_cp[other_feature]\n",
      "C:\\Users\\PA\\AppData\\Local\\Temp\\ipykernel_12140\\3247356159.py:8: PerformanceWarning: DataFrame is highly fragmented.  This is usually the result of calling `frame.insert` many times, which has poor performance.  Consider joining all columns at once using pd.concat(axis=1) instead. To get a de-fragmented frame, use `newframe = frame.copy()`\n",
      "  X_cp[new_feature_interaction] = X_cp[feature] * X_cp[other_feature]\n",
      "C:\\Users\\PA\\AppData\\Local\\Temp\\ipykernel_12140\\3247356159.py:8: PerformanceWarning: DataFrame is highly fragmented.  This is usually the result of calling `frame.insert` many times, which has poor performance.  Consider joining all columns at once using pd.concat(axis=1) instead. To get a de-fragmented frame, use `newframe = frame.copy()`\n",
      "  X_cp[new_feature_interaction] = X_cp[feature] * X_cp[other_feature]\n",
      "C:\\Users\\PA\\AppData\\Local\\Temp\\ipykernel_12140\\3247356159.py:8: PerformanceWarning: DataFrame is highly fragmented.  This is usually the result of calling `frame.insert` many times, which has poor performance.  Consider joining all columns at once using pd.concat(axis=1) instead. To get a de-fragmented frame, use `newframe = frame.copy()`\n",
      "  X_cp[new_feature_interaction] = X_cp[feature] * X_cp[other_feature]\n",
      "C:\\Users\\PA\\AppData\\Local\\Temp\\ipykernel_12140\\3247356159.py:8: PerformanceWarning: DataFrame is highly fragmented.  This is usually the result of calling `frame.insert` many times, which has poor performance.  Consider joining all columns at once using pd.concat(axis=1) instead. To get a de-fragmented frame, use `newframe = frame.copy()`\n",
      "  X_cp[new_feature_interaction] = X_cp[feature] * X_cp[other_feature]\n",
      "C:\\Users\\PA\\AppData\\Local\\Temp\\ipykernel_12140\\3247356159.py:8: PerformanceWarning: DataFrame is highly fragmented.  This is usually the result of calling `frame.insert` many times, which has poor performance.  Consider joining all columns at once using pd.concat(axis=1) instead. To get a de-fragmented frame, use `newframe = frame.copy()`\n",
      "  X_cp[new_feature_interaction] = X_cp[feature] * X_cp[other_feature]\n",
      "C:\\Users\\PA\\AppData\\Local\\Temp\\ipykernel_12140\\3247356159.py:8: PerformanceWarning: DataFrame is highly fragmented.  This is usually the result of calling `frame.insert` many times, which has poor performance.  Consider joining all columns at once using pd.concat(axis=1) instead. To get a de-fragmented frame, use `newframe = frame.copy()`\n",
      "  X_cp[new_feature_interaction] = X_cp[feature] * X_cp[other_feature]\n",
      "C:\\Users\\PA\\AppData\\Local\\Temp\\ipykernel_12140\\3247356159.py:3: PerformanceWarning: DataFrame is highly fragmented.  This is usually the result of calling `frame.insert` many times, which has poor performance.  Consider joining all columns at once using pd.concat(axis=1) instead. To get a de-fragmented frame, use `newframe = frame.copy()`\n",
      "  X_cp[new_feature_square] = X_cp[feature] ** 2\n",
      "C:\\Users\\PA\\AppData\\Local\\Temp\\ipykernel_12140\\3247356159.py:8: PerformanceWarning: DataFrame is highly fragmented.  This is usually the result of calling `frame.insert` many times, which has poor performance.  Consider joining all columns at once using pd.concat(axis=1) instead. To get a de-fragmented frame, use `newframe = frame.copy()`\n",
      "  X_cp[new_feature_interaction] = X_cp[feature] * X_cp[other_feature]\n",
      "C:\\Users\\PA\\AppData\\Local\\Temp\\ipykernel_12140\\3247356159.py:8: PerformanceWarning: DataFrame is highly fragmented.  This is usually the result of calling `frame.insert` many times, which has poor performance.  Consider joining all columns at once using pd.concat(axis=1) instead. To get a de-fragmented frame, use `newframe = frame.copy()`\n",
      "  X_cp[new_feature_interaction] = X_cp[feature] * X_cp[other_feature]\n",
      "C:\\Users\\PA\\AppData\\Local\\Temp\\ipykernel_12140\\3247356159.py:8: PerformanceWarning: DataFrame is highly fragmented.  This is usually the result of calling `frame.insert` many times, which has poor performance.  Consider joining all columns at once using pd.concat(axis=1) instead. To get a de-fragmented frame, use `newframe = frame.copy()`\n",
      "  X_cp[new_feature_interaction] = X_cp[feature] * X_cp[other_feature]\n",
      "C:\\Users\\PA\\AppData\\Local\\Temp\\ipykernel_12140\\3247356159.py:8: PerformanceWarning: DataFrame is highly fragmented.  This is usually the result of calling `frame.insert` many times, which has poor performance.  Consider joining all columns at once using pd.concat(axis=1) instead. To get a de-fragmented frame, use `newframe = frame.copy()`\n",
      "  X_cp[new_feature_interaction] = X_cp[feature] * X_cp[other_feature]\n",
      "C:\\Users\\PA\\AppData\\Local\\Temp\\ipykernel_12140\\3247356159.py:8: PerformanceWarning: DataFrame is highly fragmented.  This is usually the result of calling `frame.insert` many times, which has poor performance.  Consider joining all columns at once using pd.concat(axis=1) instead. To get a de-fragmented frame, use `newframe = frame.copy()`\n",
      "  X_cp[new_feature_interaction] = X_cp[feature] * X_cp[other_feature]\n",
      "C:\\Users\\PA\\AppData\\Local\\Temp\\ipykernel_12140\\3247356159.py:8: PerformanceWarning: DataFrame is highly fragmented.  This is usually the result of calling `frame.insert` many times, which has poor performance.  Consider joining all columns at once using pd.concat(axis=1) instead. To get a de-fragmented frame, use `newframe = frame.copy()`\n",
      "  X_cp[new_feature_interaction] = X_cp[feature] * X_cp[other_feature]\n",
      "C:\\Users\\PA\\AppData\\Local\\Temp\\ipykernel_12140\\3247356159.py:8: PerformanceWarning: DataFrame is highly fragmented.  This is usually the result of calling `frame.insert` many times, which has poor performance.  Consider joining all columns at once using pd.concat(axis=1) instead. To get a de-fragmented frame, use `newframe = frame.copy()`\n",
      "  X_cp[new_feature_interaction] = X_cp[feature] * X_cp[other_feature]\n",
      "C:\\Users\\PA\\AppData\\Local\\Temp\\ipykernel_12140\\3247356159.py:8: PerformanceWarning: DataFrame is highly fragmented.  This is usually the result of calling `frame.insert` many times, which has poor performance.  Consider joining all columns at once using pd.concat(axis=1) instead. To get a de-fragmented frame, use `newframe = frame.copy()`\n",
      "  X_cp[new_feature_interaction] = X_cp[feature] * X_cp[other_feature]\n",
      "C:\\Users\\PA\\AppData\\Local\\Temp\\ipykernel_12140\\3247356159.py:8: PerformanceWarning: DataFrame is highly fragmented.  This is usually the result of calling `frame.insert` many times, which has poor performance.  Consider joining all columns at once using pd.concat(axis=1) instead. To get a de-fragmented frame, use `newframe = frame.copy()`\n",
      "  X_cp[new_feature_interaction] = X_cp[feature] * X_cp[other_feature]\n",
      "C:\\Users\\PA\\AppData\\Local\\Temp\\ipykernel_12140\\3247356159.py:8: PerformanceWarning: DataFrame is highly fragmented.  This is usually the result of calling `frame.insert` many times, which has poor performance.  Consider joining all columns at once using pd.concat(axis=1) instead. To get a de-fragmented frame, use `newframe = frame.copy()`\n",
      "  X_cp[new_feature_interaction] = X_cp[feature] * X_cp[other_feature]\n",
      "C:\\Users\\PA\\AppData\\Local\\Temp\\ipykernel_12140\\3247356159.py:8: PerformanceWarning: DataFrame is highly fragmented.  This is usually the result of calling `frame.insert` many times, which has poor performance.  Consider joining all columns at once using pd.concat(axis=1) instead. To get a de-fragmented frame, use `newframe = frame.copy()`\n",
      "  X_cp[new_feature_interaction] = X_cp[feature] * X_cp[other_feature]\n",
      "C:\\Users\\PA\\AppData\\Local\\Temp\\ipykernel_12140\\3247356159.py:8: PerformanceWarning: DataFrame is highly fragmented.  This is usually the result of calling `frame.insert` many times, which has poor performance.  Consider joining all columns at once using pd.concat(axis=1) instead. To get a de-fragmented frame, use `newframe = frame.copy()`\n",
      "  X_cp[new_feature_interaction] = X_cp[feature] * X_cp[other_feature]\n",
      "C:\\Users\\PA\\AppData\\Local\\Temp\\ipykernel_12140\\3247356159.py:3: PerformanceWarning: DataFrame is highly fragmented.  This is usually the result of calling `frame.insert` many times, which has poor performance.  Consider joining all columns at once using pd.concat(axis=1) instead. To get a de-fragmented frame, use `newframe = frame.copy()`\n",
      "  X_cp[new_feature_square] = X_cp[feature] ** 2\n",
      "C:\\Users\\PA\\AppData\\Local\\Temp\\ipykernel_12140\\3247356159.py:8: PerformanceWarning: DataFrame is highly fragmented.  This is usually the result of calling `frame.insert` many times, which has poor performance.  Consider joining all columns at once using pd.concat(axis=1) instead. To get a de-fragmented frame, use `newframe = frame.copy()`\n",
      "  X_cp[new_feature_interaction] = X_cp[feature] * X_cp[other_feature]\n",
      "C:\\Users\\PA\\AppData\\Local\\Temp\\ipykernel_12140\\3247356159.py:8: PerformanceWarning: DataFrame is highly fragmented.  This is usually the result of calling `frame.insert` many times, which has poor performance.  Consider joining all columns at once using pd.concat(axis=1) instead. To get a de-fragmented frame, use `newframe = frame.copy()`\n",
      "  X_cp[new_feature_interaction] = X_cp[feature] * X_cp[other_feature]\n",
      "C:\\Users\\PA\\AppData\\Local\\Temp\\ipykernel_12140\\3247356159.py:8: PerformanceWarning: DataFrame is highly fragmented.  This is usually the result of calling `frame.insert` many times, which has poor performance.  Consider joining all columns at once using pd.concat(axis=1) instead. To get a de-fragmented frame, use `newframe = frame.copy()`\n",
      "  X_cp[new_feature_interaction] = X_cp[feature] * X_cp[other_feature]\n",
      "C:\\Users\\PA\\AppData\\Local\\Temp\\ipykernel_12140\\3247356159.py:8: PerformanceWarning: DataFrame is highly fragmented.  This is usually the result of calling `frame.insert` many times, which has poor performance.  Consider joining all columns at once using pd.concat(axis=1) instead. To get a de-fragmented frame, use `newframe = frame.copy()`\n",
      "  X_cp[new_feature_interaction] = X_cp[feature] * X_cp[other_feature]\n",
      "C:\\Users\\PA\\AppData\\Local\\Temp\\ipykernel_12140\\3247356159.py:8: PerformanceWarning: DataFrame is highly fragmented.  This is usually the result of calling `frame.insert` many times, which has poor performance.  Consider joining all columns at once using pd.concat(axis=1) instead. To get a de-fragmented frame, use `newframe = frame.copy()`\n",
      "  X_cp[new_feature_interaction] = X_cp[feature] * X_cp[other_feature]\n",
      "C:\\Users\\PA\\AppData\\Local\\Temp\\ipykernel_12140\\3247356159.py:8: PerformanceWarning: DataFrame is highly fragmented.  This is usually the result of calling `frame.insert` many times, which has poor performance.  Consider joining all columns at once using pd.concat(axis=1) instead. To get a de-fragmented frame, use `newframe = frame.copy()`\n",
      "  X_cp[new_feature_interaction] = X_cp[feature] * X_cp[other_feature]\n",
      "C:\\Users\\PA\\AppData\\Local\\Temp\\ipykernel_12140\\3247356159.py:8: PerformanceWarning: DataFrame is highly fragmented.  This is usually the result of calling `frame.insert` many times, which has poor performance.  Consider joining all columns at once using pd.concat(axis=1) instead. To get a de-fragmented frame, use `newframe = frame.copy()`\n",
      "  X_cp[new_feature_interaction] = X_cp[feature] * X_cp[other_feature]\n",
      "C:\\Users\\PA\\AppData\\Local\\Temp\\ipykernel_12140\\3247356159.py:8: PerformanceWarning: DataFrame is highly fragmented.  This is usually the result of calling `frame.insert` many times, which has poor performance.  Consider joining all columns at once using pd.concat(axis=1) instead. To get a de-fragmented frame, use `newframe = frame.copy()`\n",
      "  X_cp[new_feature_interaction] = X_cp[feature] * X_cp[other_feature]\n",
      "C:\\Users\\PA\\AppData\\Local\\Temp\\ipykernel_12140\\3247356159.py:8: PerformanceWarning: DataFrame is highly fragmented.  This is usually the result of calling `frame.insert` many times, which has poor performance.  Consider joining all columns at once using pd.concat(axis=1) instead. To get a de-fragmented frame, use `newframe = frame.copy()`\n",
      "  X_cp[new_feature_interaction] = X_cp[feature] * X_cp[other_feature]\n",
      "C:\\Users\\PA\\AppData\\Local\\Temp\\ipykernel_12140\\3247356159.py:8: PerformanceWarning: DataFrame is highly fragmented.  This is usually the result of calling `frame.insert` many times, which has poor performance.  Consider joining all columns at once using pd.concat(axis=1) instead. To get a de-fragmented frame, use `newframe = frame.copy()`\n",
      "  X_cp[new_feature_interaction] = X_cp[feature] * X_cp[other_feature]\n",
      "C:\\Users\\PA\\AppData\\Local\\Temp\\ipykernel_12140\\3247356159.py:8: PerformanceWarning: DataFrame is highly fragmented.  This is usually the result of calling `frame.insert` many times, which has poor performance.  Consider joining all columns at once using pd.concat(axis=1) instead. To get a de-fragmented frame, use `newframe = frame.copy()`\n",
      "  X_cp[new_feature_interaction] = X_cp[feature] * X_cp[other_feature]\n",
      "C:\\Users\\PA\\AppData\\Local\\Temp\\ipykernel_12140\\3247356159.py:8: PerformanceWarning: DataFrame is highly fragmented.  This is usually the result of calling `frame.insert` many times, which has poor performance.  Consider joining all columns at once using pd.concat(axis=1) instead. To get a de-fragmented frame, use `newframe = frame.copy()`\n",
      "  X_cp[new_feature_interaction] = X_cp[feature] * X_cp[other_feature]\n",
      "C:\\Users\\PA\\AppData\\Local\\Temp\\ipykernel_12140\\3247356159.py:3: PerformanceWarning: DataFrame is highly fragmented.  This is usually the result of calling `frame.insert` many times, which has poor performance.  Consider joining all columns at once using pd.concat(axis=1) instead. To get a de-fragmented frame, use `newframe = frame.copy()`\n",
      "  X_cp[new_feature_square] = X_cp[feature] ** 2\n",
      "C:\\Users\\PA\\AppData\\Local\\Temp\\ipykernel_12140\\3247356159.py:8: PerformanceWarning: DataFrame is highly fragmented.  This is usually the result of calling `frame.insert` many times, which has poor performance.  Consider joining all columns at once using pd.concat(axis=1) instead. To get a de-fragmented frame, use `newframe = frame.copy()`\n",
      "  X_cp[new_feature_interaction] = X_cp[feature] * X_cp[other_feature]\n",
      "C:\\Users\\PA\\AppData\\Local\\Temp\\ipykernel_12140\\3247356159.py:8: PerformanceWarning: DataFrame is highly fragmented.  This is usually the result of calling `frame.insert` many times, which has poor performance.  Consider joining all columns at once using pd.concat(axis=1) instead. To get a de-fragmented frame, use `newframe = frame.copy()`\n",
      "  X_cp[new_feature_interaction] = X_cp[feature] * X_cp[other_feature]\n",
      "C:\\Users\\PA\\AppData\\Local\\Temp\\ipykernel_12140\\3247356159.py:8: PerformanceWarning: DataFrame is highly fragmented.  This is usually the result of calling `frame.insert` many times, which has poor performance.  Consider joining all columns at once using pd.concat(axis=1) instead. To get a de-fragmented frame, use `newframe = frame.copy()`\n",
      "  X_cp[new_feature_interaction] = X_cp[feature] * X_cp[other_feature]\n",
      "C:\\Users\\PA\\AppData\\Local\\Temp\\ipykernel_12140\\3247356159.py:8: PerformanceWarning: DataFrame is highly fragmented.  This is usually the result of calling `frame.insert` many times, which has poor performance.  Consider joining all columns at once using pd.concat(axis=1) instead. To get a de-fragmented frame, use `newframe = frame.copy()`\n",
      "  X_cp[new_feature_interaction] = X_cp[feature] * X_cp[other_feature]\n",
      "C:\\Users\\PA\\AppData\\Local\\Temp\\ipykernel_12140\\3247356159.py:8: PerformanceWarning: DataFrame is highly fragmented.  This is usually the result of calling `frame.insert` many times, which has poor performance.  Consider joining all columns at once using pd.concat(axis=1) instead. To get a de-fragmented frame, use `newframe = frame.copy()`\n",
      "  X_cp[new_feature_interaction] = X_cp[feature] * X_cp[other_feature]\n",
      "C:\\Users\\PA\\AppData\\Local\\Temp\\ipykernel_12140\\3247356159.py:8: PerformanceWarning: DataFrame is highly fragmented.  This is usually the result of calling `frame.insert` many times, which has poor performance.  Consider joining all columns at once using pd.concat(axis=1) instead. To get a de-fragmented frame, use `newframe = frame.copy()`\n",
      "  X_cp[new_feature_interaction] = X_cp[feature] * X_cp[other_feature]\n",
      "C:\\Users\\PA\\AppData\\Local\\Temp\\ipykernel_12140\\3247356159.py:8: PerformanceWarning: DataFrame is highly fragmented.  This is usually the result of calling `frame.insert` many times, which has poor performance.  Consider joining all columns at once using pd.concat(axis=1) instead. To get a de-fragmented frame, use `newframe = frame.copy()`\n",
      "  X_cp[new_feature_interaction] = X_cp[feature] * X_cp[other_feature]\n",
      "C:\\Users\\PA\\AppData\\Local\\Temp\\ipykernel_12140\\3247356159.py:8: PerformanceWarning: DataFrame is highly fragmented.  This is usually the result of calling `frame.insert` many times, which has poor performance.  Consider joining all columns at once using pd.concat(axis=1) instead. To get a de-fragmented frame, use `newframe = frame.copy()`\n",
      "  X_cp[new_feature_interaction] = X_cp[feature] * X_cp[other_feature]\n",
      "C:\\Users\\PA\\AppData\\Local\\Temp\\ipykernel_12140\\3247356159.py:8: PerformanceWarning: DataFrame is highly fragmented.  This is usually the result of calling `frame.insert` many times, which has poor performance.  Consider joining all columns at once using pd.concat(axis=1) instead. To get a de-fragmented frame, use `newframe = frame.copy()`\n",
      "  X_cp[new_feature_interaction] = X_cp[feature] * X_cp[other_feature]\n",
      "C:\\Users\\PA\\AppData\\Local\\Temp\\ipykernel_12140\\3247356159.py:8: PerformanceWarning: DataFrame is highly fragmented.  This is usually the result of calling `frame.insert` many times, which has poor performance.  Consider joining all columns at once using pd.concat(axis=1) instead. To get a de-fragmented frame, use `newframe = frame.copy()`\n",
      "  X_cp[new_feature_interaction] = X_cp[feature] * X_cp[other_feature]\n",
      "C:\\Users\\PA\\AppData\\Local\\Temp\\ipykernel_12140\\3247356159.py:8: PerformanceWarning: DataFrame is highly fragmented.  This is usually the result of calling `frame.insert` many times, which has poor performance.  Consider joining all columns at once using pd.concat(axis=1) instead. To get a de-fragmented frame, use `newframe = frame.copy()`\n",
      "  X_cp[new_feature_interaction] = X_cp[feature] * X_cp[other_feature]\n",
      "C:\\Users\\PA\\AppData\\Local\\Temp\\ipykernel_12140\\3247356159.py:8: PerformanceWarning: DataFrame is highly fragmented.  This is usually the result of calling `frame.insert` many times, which has poor performance.  Consider joining all columns at once using pd.concat(axis=1) instead. To get a de-fragmented frame, use `newframe = frame.copy()`\n",
      "  X_cp[new_feature_interaction] = X_cp[feature] * X_cp[other_feature]\n"
     ]
    }
   ],
   "source": [
    "for feature in model_1_features:\n",
    "    new_feature_square = f\"{feature}^2\"\n",
    "    X_cp[new_feature_square] = X_cp[feature] ** 2\n",
    "    \n",
    "    for other_feature in model_1_features:\n",
    "        if feature != other_feature:\n",
    "            new_feature_interaction = f\"{feature}*{other_feature}\"\n",
    "            X_cp[new_feature_interaction] = X_cp[feature] * X_cp[other_feature]\n",
    "\n",
    "model_4_features = X_cp.columns"
   ]
  },
  {
   "cell_type": "code",
   "execution_count": 35,
   "metadata": {},
   "outputs": [
    {
     "data": {
      "text/plain": [
       "(2315, 226)"
      ]
     },
     "execution_count": 35,
     "metadata": {},
     "output_type": "execute_result"
    }
   ],
   "source": [
    "X_cp_scaled = scaler.fit_transform(X_cp)\n",
    "X_scaled_model_4 = X_cp_scaled[:, [i for i in range(len(X_cp.columns)) if X_cp.columns[i] in model_4_features]]\n",
    "X_scaled_model_4.shape"
   ]
  },
  {
   "cell_type": "code",
   "execution_count": 36,
   "metadata": {},
   "outputs": [
    {
     "data": {
      "text/plain": [
       "['grade92',\n",
       " 'age',\n",
       " 'race_4',\n",
       " 'race_8',\n",
       " 'sex_2',\n",
       " 'prcitshp_Foreign Born, US Cit By Naturalization',\n",
       " 'prcitshp_Native, Born In US',\n",
       " 'chldpres',\n",
       " 'class_Government - State',\n",
       " 'marital_4',\n",
       " 'marital_5',\n",
       " 'marital_7',\n",
       " 'unionmme_Yes']"
      ]
     },
     "execution_count": 36,
     "metadata": {},
     "output_type": "execute_result"
    }
   ],
   "source": [
    "model_1_features"
   ]
  },
  {
   "cell_type": "code",
   "execution_count": 37,
   "metadata": {},
   "outputs": [
    {
     "name": "stdout",
     "output_type": "stream",
     "text": [
      "RMSE of OLS model with cross validation is:  257866971042583.38\n"
     ]
    }
   ],
   "source": [
    "# Building the 4th OLS model using cross validation\n",
    "model4 = LinearRegression()\n",
    "y_pred_cv = cross_val_predict(model4, X_scaled_model_4, y, cv=5)\n",
    "rmse_cv_value = np.sqrt(mean_squared_error(y, y_pred_cv))\n",
    "RMSE_CV.append(rmse_cv_value)\n",
    "print('RMSE of OLS model with cross validation is: ', rmse_cv_value)"
   ]
  },
  {
   "cell_type": "code",
   "execution_count": 38,
   "metadata": {},
   "outputs": [
    {
     "name": "stdout",
     "output_type": "stream",
     "text": [
      "RMSE of OLS model with full sample is:  24.144798047414778\n",
      "BIC of OLS model with full sample is:  22303.561786717688\n"
     ]
    }
   ],
   "source": [
    "# Building the 4th OLS model, by including some interaction terms and some polynomial terms\n",
    "X_scaled_model_4 = sm.add_constant(X_scaled_model_4)\n",
    "model4_full_sample = sm.OLS(y, X_scaled_model_4).fit()\n",
    "y_pred_full_sample = model4_full_sample.predict(X_scaled_model_4)\n",
    "rmse_full_sample_value = np.sqrt(mean_squared_error(y, y_pred_full_sample))\n",
    "RMSE_full_sample.append(rmse_full_sample_value)\n",
    "BIC_full_sample.append(model4_full_sample.bic)\n",
    "print('RMSE of OLS model with full sample is: ', rmse_full_sample_value)\n",
    "print('BIC of OLS model with full sample is: ', model4_full_sample.bic)"
   ]
  },
  {
   "cell_type": "code",
   "execution_count": 40,
   "metadata": {},
   "outputs": [
    {
     "data": {
      "text/html": [
       "<div>\n",
       "<style scoped>\n",
       "    .dataframe tbody tr th:only-of-type {\n",
       "        vertical-align: middle;\n",
       "    }\n",
       "\n",
       "    .dataframe tbody tr th {\n",
       "        vertical-align: top;\n",
       "    }\n",
       "\n",
       "    .dataframe thead th {\n",
       "        text-align: right;\n",
       "    }\n",
       "</style>\n",
       "<table border=\"1\" class=\"dataframe\">\n",
       "  <thead>\n",
       "    <tr style=\"text-align: right;\">\n",
       "      <th></th>\n",
       "      <th>Num- Vars</th>\n",
       "      <th>RMSE_CV</th>\n",
       "      <th>RMSE_full_sample</th>\n",
       "      <th>BIC_full_sample</th>\n",
       "    </tr>\n",
       "  </thead>\n",
       "  <tbody>\n",
       "    <tr>\n",
       "      <th>model_0</th>\n",
       "      <td>5</td>\n",
       "      <td>2.530182e+01</td>\n",
       "      <td>25.271251</td>\n",
       "      <td>21569.528608</td>\n",
       "    </tr>\n",
       "    <tr>\n",
       "      <th>model_1</th>\n",
       "      <td>13</td>\n",
       "      <td>2.530579e+01</td>\n",
       "      <td>25.268129</td>\n",
       "      <td>21584.450849</td>\n",
       "    </tr>\n",
       "    <tr>\n",
       "      <th>model_2</th>\n",
       "      <td>13</td>\n",
       "      <td>2.524728e+01</td>\n",
       "      <td>25.114433</td>\n",
       "      <td>21602.685421</td>\n",
       "    </tr>\n",
       "    <tr>\n",
       "      <th>model_3</th>\n",
       "      <td>57</td>\n",
       "      <td>2.512316e+01</td>\n",
       "      <td>24.658808</td>\n",
       "      <td>21858.792083</td>\n",
       "    </tr>\n",
       "    <tr>\n",
       "      <th>model_4</th>\n",
       "      <td>226</td>\n",
       "      <td>2.578670e+14</td>\n",
       "      <td>24.144798</td>\n",
       "      <td>22303.561787</td>\n",
       "    </tr>\n",
       "  </tbody>\n",
       "</table>\n",
       "</div>"
      ],
      "text/plain": [
       "         Num- Vars       RMSE_CV  RMSE_full_sample  BIC_full_sample\n",
       "model_0          5  2.530182e+01         25.271251     21569.528608\n",
       "model_1         13  2.530579e+01         25.268129     21584.450849\n",
       "model_2         13  2.524728e+01         25.114433     21602.685421\n",
       "model_3         57  2.512316e+01         24.658808     21858.792083\n",
       "model_4        226  2.578670e+14         24.144798     22303.561787"
      ]
     },
     "execution_count": 40,
     "metadata": {},
     "output_type": "execute_result"
    }
   ],
   "source": [
    "# Creating a dataframe to store the RMSE and BIC values\n",
    "results = pd.DataFrame()\n",
    "results['Num- Vars'] = [len(i) for i in [model_0_features, model_1_features, model_2_features, model_3_features, model_4_features]]\n",
    "results['RMSE_CV'] = RMSE_CV\n",
    "results['RMSE_full_sample'] = RMSE_full_sample\n",
    "results['BIC_full_sample'] = BIC_full_sample\n",
    "results.index = ['model_0', 'model_1', 'model_2', 'model_3', 'model_4']\n",
    "results\n"
   ]
  },
  {
   "cell_type": "code",
   "execution_count": 41,
   "metadata": {},
   "outputs": [
    {
     "data": {
      "image/png": "[encoded data removed]",
      "text/plain": [
       "<Figure size 1000x600 with 3 Axes>"
      ]
     },
     "metadata": {},
     "output_type": "display_data"
    }
   ],
   "source": [
    "model_complexity = range(0, 5)\n",
    "plt.figure(figsize=(10, 6))\n",
    "\n",
    "plt.subplot(2, 2, 1)\n",
    "plt.plot(model_complexity, RMSE_full_sample, marker='o')\n",
    "plt.title('RMSE (Full Sample)')\n",
    "plt.xlabel('Model Complexity')\n",
    "plt.ylabel('RMSE')\n",
    "\n",
    "plt.subplot(2, 2, 2)\n",
    "plt.plot(model_complexity, RMSE_CV, marker='o')\n",
    "plt.title('RMSE (Cross-Validated)')\n",
    "plt.xlabel('Model Complexity')\n",
    "plt.ylabel('RMSE')\n",
    "\n",
    "plt.subplot(2, 2, 3)\n",
    "plt.plot(model_complexity, BIC_full_sample, marker='o')\n",
    "plt.title('BIC (Full Sample)')\n",
    "plt.xlabel('Model Complexity')\n",
    "plt.ylabel('BIC')\n",
    "\n",
    "plt.tight_layout()\n",
    "plt.show()"
   ]
  }
 ],
 "metadata": {
  "kernelspec": {
   "display_name": "Python 3",
   "language": "python",
   "name": "python3"
  },
  "language_info": {
   "codemirror_mode": {
    "name": "ipython",
    "version": 3
   },
   "file_extension": ".py",
   "mimetype": "text/x-python",
   "name": "python",
   "nbconvert_exporter": "python",
   "pygments_lexer": "ipython3",
   "version": "3.10.9"
  }
 },
 "nbformat": 4,
 "nbformat_minor": 2
}
