{
 "cells": [
  {
   "cell_type": "markdown",
   "metadata": {},
   "source": [
    "### Airbnb Pricing Project -- Milan\n",
    "\n",
    "* We start with importing the necessary libraries."
   ]
  },
  {
   "cell_type": "code",
   "execution_count": 1,
   "metadata": {},
   "outputs": [],
   "source": [
    "import pandas as pd\n",
    "import numpy as np\n",
    "import matplotlib.pyplot as plt\n",
    "import seaborn as sns\n",
    "import scipy.stats as stats\n",
    "import math\n",
    "import statsmodels.api as sm\n",
    "from statsmodels.formula.api import ols"
   ]
  },
  {
   "cell_type": "markdown",
   "metadata": {},
   "source": [
    "* Loading the dataset and evaluating the statistics:"
   ]
  },
  {
   "cell_type": "code",
   "execution_count": 2,
   "metadata": {},
   "outputs": [
    {
     "name": "stdout",
     "output_type": "stream",
     "text": [
      "        id                           listing_url       scrape_id last_scraped  \\\n",
      "0     6400     https://www.airbnb.com/rooms/6400  20230913045258   2023-09-14   \n",
      "1    23986    https://www.airbnb.com/rooms/23986  20230913045258   2023-09-14   \n",
      "2  1734055  https://www.airbnb.com/rooms/1734055  20230913045258   2023-09-14   \n",
      "3   189441   https://www.airbnb.com/rooms/189441  20230913045258   2023-09-13   \n",
      "4  2192436  https://www.airbnb.com/rooms/2192436  20230913045258   2023-09-14   \n",
      "\n",
      "        source                                               name  \\\n",
      "0  city scrape  Rental unit in Milan · ★4.89 · 3 bedrooms · 1 ...   \n",
      "1  city scrape  Rental unit in Milan · ★4.64 · 1 bedroom · 1 b...   \n",
      "2  city scrape  Rental unit in Milan · ★4.58 · 1 bedroom · 1 b...   \n",
      "3  city scrape  Loft in Milano · ★4.70 · 1 bedroom · 1 bed · 1...   \n",
      "4  city scrape  Rental unit in Milan · ★4.85 · 1 bedroom · 1 b...   \n",
      "\n",
      "                                         description  \\\n",
      "0  Enjoy your stay at The Studio, a light-filled ...   \n",
      "1  I look forward to welcoming you in my flat; it...   \n",
      "2  A cozy penthouse in China Town, just a few ste...   \n",
      "3  <b>The space</b><br />A lovely loft close to c...   \n",
      "4  Benvenuti nel nostro bel  bilocale,  situato n...   \n",
      "\n",
      "                               neighborhood_overview  \\\n",
      "0  The neighborhood is quiet and very well connec...   \n",
      "1                                                NaN   \n",
      "2  Milan’s Chinatown, known in Italian as Quartie...   \n",
      "3                                                NaN   \n",
      "4  Il quartiere appare caldo, accogliente, vitale...   \n",
      "\n",
      "                                         picture_url   host_id  ...  \\\n",
      "0  https://a0.muscache.com/pictures/474737/5955ba...     13822  ...   \n",
      "1  https://a0.muscache.com/pictures/623d63f8-56cf...     95941  ...   \n",
      "2  https://a0.muscache.com/pictures/d1a8b813-f38c...   9134504  ...   \n",
      "3  https://a0.muscache.com/pictures/2768235/ce578...    913914  ...   \n",
      "4  https://a0.muscache.com/pictures/ad16d0e0-9ac1...  11180301  ...   \n",
      "\n",
      "  review_scores_communication review_scores_location review_scores_value  \\\n",
      "0                        5.00                   4.56                4.67   \n",
      "1                        4.73                   4.69                4.46   \n",
      "2                        5.00                   4.74                4.53   \n",
      "3                        4.86                   4.25                4.60   \n",
      "4                        4.95                   4.79                4.76   \n",
      "\n",
      "            license instant_bookable calculated_host_listings_count  \\\n",
      "0               NaN                f                              1   \n",
      "1               NaN                f                              1   \n",
      "2               NaN                f                              1   \n",
      "3  015146-LNI-00630                f                              1   \n",
      "4               NaN                t                              1   \n",
      "\n",
      "  calculated_host_listings_count_entire_homes  \\\n",
      "0                                           0   \n",
      "1                                           1   \n",
      "2                                           1   \n",
      "3                                           0   \n",
      "4                                           1   \n",
      "\n",
      "  calculated_host_listings_count_private_rooms  \\\n",
      "0                                            1   \n",
      "1                                            0   \n",
      "2                                            0   \n",
      "3                                            1   \n",
      "4                                            0   \n",
      "\n",
      "  calculated_host_listings_count_shared_rooms reviews_per_month  \n",
      "0                                           0              0.07  \n",
      "1                                           0              0.19  \n",
      "2                                           0              0.20  \n",
      "3                                           0              1.00  \n",
      "4                                           0              1.47  \n",
      "\n",
      "[5 rows x 75 columns]\n"
     ]
    }
   ],
   "source": [
    "data = pd.read_csv('listings.csv')\n",
    "\n",
    "print(data.head())"
   ]
  },
  {
   "cell_type": "markdown",
   "metadata": {},
   "source": [
    "* Let's proceed with omitting the unnecessary columns."
   ]
  },
  {
   "cell_type": "code",
   "execution_count": 3,
   "metadata": {},
   "outputs": [
    {
     "data": {
      "text/plain": [
       "Index(['id', 'listing_url', 'scrape_id', 'last_scraped', 'source', 'name',\n",
       "       'description', 'neighborhood_overview', 'picture_url', 'host_id',\n",
       "       'host_url', 'host_name', 'host_since', 'host_location', 'host_about',\n",
       "       'host_response_time', 'host_response_rate', 'host_acceptance_rate',\n",
       "       'host_is_superhost', 'host_thumbnail_url', 'host_picture_url',\n",
       "       'host_neighbourhood', 'host_listings_count',\n",
       "       'host_total_listings_count', 'host_verifications',\n",
       "       'host_has_profile_pic', 'host_identity_verified', 'neighbourhood',\n",
       "       'neighbourhood_cleansed', 'neighbourhood_group_cleansed', 'latitude',\n",
       "       'longitude', 'property_type', 'room_type', 'accommodates', 'bathrooms',\n",
       "       'bathrooms_text', 'bedrooms', 'beds', 'amenities', 'price',\n",
       "       'minimum_nights', 'maximum_nights', 'minimum_minimum_nights',\n",
       "       'maximum_minimum_nights', 'minimum_maximum_nights',\n",
       "       'maximum_maximum_nights', 'minimum_nights_avg_ntm',\n",
       "       'maximum_nights_avg_ntm', 'calendar_updated', 'has_availability',\n",
       "       'availability_30', 'availability_60', 'availability_90',\n",
       "       'availability_365', 'calendar_last_scraped', 'number_of_reviews',\n",
       "       'number_of_reviews_ltm', 'number_of_reviews_l30d', 'first_review',\n",
       "       'last_review', 'review_scores_rating', 'review_scores_accuracy',\n",
       "       'review_scores_cleanliness', 'review_scores_checkin',\n",
       "       'review_scores_communication', 'review_scores_location',\n",
       "       'review_scores_value', 'license', 'instant_bookable',\n",
       "       'calculated_host_listings_count',\n",
       "       'calculated_host_listings_count_entire_homes',\n",
       "       'calculated_host_listings_count_private_rooms',\n",
       "       'calculated_host_listings_count_shared_rooms', 'reviews_per_month'],\n",
       "      dtype='object')"
      ]
     },
     "execution_count": 3,
     "metadata": {},
     "output_type": "execute_result"
    }
   ],
   "source": [
    "cols = data.columns\n",
    "cols"
   ]
  },
  {
   "cell_type": "code",
   "execution_count": 4,
   "metadata": {},
   "outputs": [],
   "source": [
    "## Adding a new column to the data frame: new_data = 1\n",
    "data['new_data'] = 1"
   ]
  },
  {
   "cell_type": "code",
   "execution_count": 5,
   "metadata": {},
   "outputs": [],
   "source": [
    "# loading the listings-Dec2022.csv file\n",
    "data2 = pd.read_csv('listings-Dec2022.csv')\n",
    "\n",
    "# adding a new column to the data frame: new_data = 0\n",
    "data2['new_data'] = 0"
   ]
  },
  {
   "cell_type": "code",
   "execution_count": 6,
   "metadata": {},
   "outputs": [
    {
     "data": {
      "text/plain": [
       "(43108, 76)"
      ]
     },
     "execution_count": 6,
     "metadata": {},
     "output_type": "execute_result"
    }
   ],
   "source": [
    "# merging the two data frames\n",
    "data = pd.concat([data, data2])\n",
    "\n",
    "# checking the shape of the new data frame\n",
    "data.shape"
   ]
  },
  {
   "cell_type": "markdown",
   "metadata": {},
   "source": [
    "### Dropping the unnecessary columns"
   ]
  },
  {
   "cell_type": "code",
   "execution_count": 7,
   "metadata": {},
   "outputs": [
    {
     "data": {
      "text/plain": [
       "(43108, 22)"
      ]
     },
     "execution_count": 7,
     "metadata": {},
     "output_type": "execute_result"
    }
   ],
   "source": [
    "drop_cols = ['id', 'listing_url', 'scrape_id', 'last_scraped','source', 'description', 'neighborhood_overview',\n",
    "              'picture_url', 'host_id','host_url', 'host_name', 'host_total_listings_count','host_since',\n",
    "              'host_location','host_verifications' ,'host_about','host_is_superhost' ,'host_thumbnail_url',\n",
    "              'host_picture_url','host_neighbourhood', 'neighbourhood', 'neighbourhood_group_cleansed',\n",
    "              'latitude', 'longitude', 'bathrooms', 'minimum_nights', 'maximum_nights', 'minimum_minimum_nights',\n",
    "              'maximum_minimum_nights', 'minimum_maximum_nights', 'maximum_maximum_nights', 'minimum_nights_avg_ntm',\n",
    "              'maximum_nights_avg_ntm', 'calendar_updated', 'availability_60', 'availability_90', 'availability_365', \n",
    "              'calendar_last_scraped', 'first_review', 'last_review', 'number_of_reviews_ltm', 'review_scores_accuracy',\n",
    "              'review_scores_cleanliness', 'review_scores_checkin', 'review_scores_communication', 'number_of_reviews_l30d',\n",
    "              'host_listings_count', 'review_scores_location', 'review_scores_value', 'license', 'calculated_host_listings_count',\n",
    "              'calculated_host_listings_count_entire_homes', 'calculated_host_listings_count_private_rooms', \n",
    "              'calculated_host_listings_count_shared_rooms']\n",
    "\n",
    "data = data.drop(drop_cols, axis=1)\n",
    "data.shape"
   ]
  },
  {
   "cell_type": "code",
   "execution_count": 8,
   "metadata": {},
   "outputs": [
    {
     "data": {
      "text/html": [
       "<div>\n",
       "<style scoped>\n",
       "    .dataframe tbody tr th:only-of-type {\n",
       "        vertical-align: middle;\n",
       "    }\n",
       "\n",
       "    .dataframe tbody tr th {\n",
       "        vertical-align: top;\n",
       "    }\n",
       "\n",
       "    .dataframe thead th {\n",
       "        text-align: right;\n",
       "    }\n",
       "</style>\n",
       "<table border=\"1\" class=\"dataframe\">\n",
       "  <thead>\n",
       "    <tr style=\"text-align: right;\">\n",
       "      <th></th>\n",
       "      <th>name</th>\n",
       "      <th>host_response_time</th>\n",
       "      <th>host_response_rate</th>\n",
       "      <th>host_acceptance_rate</th>\n",
       "      <th>host_has_profile_pic</th>\n",
       "      <th>host_identity_verified</th>\n",
       "      <th>neighbourhood_cleansed</th>\n",
       "      <th>property_type</th>\n",
       "      <th>room_type</th>\n",
       "      <th>accommodates</th>\n",
       "      <th>...</th>\n",
       "      <th>beds</th>\n",
       "      <th>amenities</th>\n",
       "      <th>price</th>\n",
       "      <th>has_availability</th>\n",
       "      <th>availability_30</th>\n",
       "      <th>number_of_reviews</th>\n",
       "      <th>review_scores_rating</th>\n",
       "      <th>instant_bookable</th>\n",
       "      <th>reviews_per_month</th>\n",
       "      <th>new_data</th>\n",
       "    </tr>\n",
       "  </thead>\n",
       "  <tbody>\n",
       "    <tr>\n",
       "      <th>0</th>\n",
       "      <td>Rental unit in Milan · ★4.89 · 3 bedrooms · 1 ...</td>\n",
       "      <td>NaN</td>\n",
       "      <td>NaN</td>\n",
       "      <td>0%</td>\n",
       "      <td>t</td>\n",
       "      <td>f</td>\n",
       "      <td>TIBALDI</td>\n",
       "      <td>Private room in rental unit</td>\n",
       "      <td>Private room</td>\n",
       "      <td>1</td>\n",
       "      <td>...</td>\n",
       "      <td>1.0</td>\n",
       "      <td>[\"Washer\", \"Kitchen\", \"Paid parking on premise...</td>\n",
       "      <td>$100.00</td>\n",
       "      <td>t</td>\n",
       "      <td>23</td>\n",
       "      <td>12</td>\n",
       "      <td>4.89</td>\n",
       "      <td>f</td>\n",
       "      <td>0.07</td>\n",
       "      <td>1</td>\n",
       "    </tr>\n",
       "    <tr>\n",
       "      <th>1</th>\n",
       "      <td>Rental unit in Milan · ★4.64 · 1 bedroom · 1 b...</td>\n",
       "      <td>within a day</td>\n",
       "      <td>100%</td>\n",
       "      <td>56%</td>\n",
       "      <td>t</td>\n",
       "      <td>t</td>\n",
       "      <td>NAVIGLI</td>\n",
       "      <td>Entire rental unit</td>\n",
       "      <td>Entire home/apt</td>\n",
       "      <td>4</td>\n",
       "      <td>...</td>\n",
       "      <td>1.0</td>\n",
       "      <td>[\"Hot water\", \"Washer\", \"Bed linens\", \"Extra p...</td>\n",
       "      <td>$150.00</td>\n",
       "      <td>t</td>\n",
       "      <td>23</td>\n",
       "      <td>26</td>\n",
       "      <td>4.64</td>\n",
       "      <td>f</td>\n",
       "      <td>0.19</td>\n",
       "      <td>1</td>\n",
       "    </tr>\n",
       "    <tr>\n",
       "      <th>2</th>\n",
       "      <td>Rental unit in Milan · ★4.58 · 1 bedroom · 1 b...</td>\n",
       "      <td>within a day</td>\n",
       "      <td>100%</td>\n",
       "      <td>50%</td>\n",
       "      <td>t</td>\n",
       "      <td>t</td>\n",
       "      <td>SARPI</td>\n",
       "      <td>Entire rental unit</td>\n",
       "      <td>Entire home/apt</td>\n",
       "      <td>2</td>\n",
       "      <td>...</td>\n",
       "      <td>1.0</td>\n",
       "      <td>[\"Dishwasher\", \"Heating\", \"Hangers\", \"Dryer\", ...</td>\n",
       "      <td>$171.00</td>\n",
       "      <td>t</td>\n",
       "      <td>24</td>\n",
       "      <td>20</td>\n",
       "      <td>4.58</td>\n",
       "      <td>f</td>\n",
       "      <td>0.20</td>\n",
       "      <td>1</td>\n",
       "    </tr>\n",
       "    <tr>\n",
       "      <th>3</th>\n",
       "      <td>Loft in Milano · ★4.70 · 1 bedroom · 1 bed · 1...</td>\n",
       "      <td>within an hour</td>\n",
       "      <td>100%</td>\n",
       "      <td>89%</td>\n",
       "      <td>t</td>\n",
       "      <td>t</td>\n",
       "      <td>BOVISASCA</td>\n",
       "      <td>Private room in loft</td>\n",
       "      <td>Private room</td>\n",
       "      <td>1</td>\n",
       "      <td>...</td>\n",
       "      <td>1.0</td>\n",
       "      <td>[\"HDTV with Netflix\", \"Dishwasher\", \"Heating\",...</td>\n",
       "      <td>$40.00</td>\n",
       "      <td>t</td>\n",
       "      <td>13</td>\n",
       "      <td>142</td>\n",
       "      <td>4.70</td>\n",
       "      <td>f</td>\n",
       "      <td>1.00</td>\n",
       "      <td>1</td>\n",
       "    </tr>\n",
       "    <tr>\n",
       "      <th>4</th>\n",
       "      <td>Rental unit in Milan · ★4.85 · 1 bedroom · 1 b...</td>\n",
       "      <td>within an hour</td>\n",
       "      <td>100%</td>\n",
       "      <td>75%</td>\n",
       "      <td>t</td>\n",
       "      <td>t</td>\n",
       "      <td>TORTONA</td>\n",
       "      <td>Entire rental unit</td>\n",
       "      <td>Entire home/apt</td>\n",
       "      <td>2</td>\n",
       "      <td>...</td>\n",
       "      <td>1.0</td>\n",
       "      <td>[\"Heating\", \"Shower gel\", \"Hangers\", \"Room-dar...</td>\n",
       "      <td>$94.00</td>\n",
       "      <td>t</td>\n",
       "      <td>1</td>\n",
       "      <td>169</td>\n",
       "      <td>4.85</td>\n",
       "      <td>t</td>\n",
       "      <td>1.47</td>\n",
       "      <td>1</td>\n",
       "    </tr>\n",
       "  </tbody>\n",
       "</table>\n",
       "<p>5 rows × 22 columns</p>\n",
       "</div>"
      ],
      "text/plain": [
       "                                                name host_response_time  \\\n",
       "0  Rental unit in Milan · ★4.89 · 3 bedrooms · 1 ...                NaN   \n",
       "1  Rental unit in Milan · ★4.64 · 1 bedroom · 1 b...       within a day   \n",
       "2  Rental unit in Milan · ★4.58 · 1 bedroom · 1 b...       within a day   \n",
       "3  Loft in Milano · ★4.70 · 1 bedroom · 1 bed · 1...     within an hour   \n",
       "4  Rental unit in Milan · ★4.85 · 1 bedroom · 1 b...     within an hour   \n",
       "\n",
       "  host_response_rate host_acceptance_rate host_has_profile_pic  \\\n",
       "0                NaN                   0%                    t   \n",
       "1               100%                  56%                    t   \n",
       "2               100%                  50%                    t   \n",
       "3               100%                  89%                    t   \n",
       "4               100%                  75%                    t   \n",
       "\n",
       "  host_identity_verified neighbourhood_cleansed                property_type  \\\n",
       "0                      f                TIBALDI  Private room in rental unit   \n",
       "1                      t                NAVIGLI           Entire rental unit   \n",
       "2                      t                  SARPI           Entire rental unit   \n",
       "3                      t              BOVISASCA         Private room in loft   \n",
       "4                      t                TORTONA           Entire rental unit   \n",
       "\n",
       "         room_type  accommodates  ... beds  \\\n",
       "0     Private room             1  ...  1.0   \n",
       "1  Entire home/apt             4  ...  1.0   \n",
       "2  Entire home/apt             2  ...  1.0   \n",
       "3     Private room             1  ...  1.0   \n",
       "4  Entire home/apt             2  ...  1.0   \n",
       "\n",
       "                                           amenities    price  \\\n",
       "0  [\"Washer\", \"Kitchen\", \"Paid parking on premise...  $100.00   \n",
       "1  [\"Hot water\", \"Washer\", \"Bed linens\", \"Extra p...  $150.00   \n",
       "2  [\"Dishwasher\", \"Heating\", \"Hangers\", \"Dryer\", ...  $171.00   \n",
       "3  [\"HDTV with Netflix\", \"Dishwasher\", \"Heating\",...   $40.00   \n",
       "4  [\"Heating\", \"Shower gel\", \"Hangers\", \"Room-dar...   $94.00   \n",
       "\n",
       "  has_availability availability_30 number_of_reviews  review_scores_rating  \\\n",
       "0                t              23                12                  4.89   \n",
       "1                t              23                26                  4.64   \n",
       "2                t              24                20                  4.58   \n",
       "3                t              13               142                  4.70   \n",
       "4                t               1               169                  4.85   \n",
       "\n",
       "   instant_bookable  reviews_per_month new_data  \n",
       "0                 f               0.07        1  \n",
       "1                 f               0.19        1  \n",
       "2                 f               0.20        1  \n",
       "3                 f               1.00        1  \n",
       "4                 t               1.47        1  \n",
       "\n",
       "[5 rows x 22 columns]"
      ]
     },
     "execution_count": 8,
     "metadata": {},
     "output_type": "execute_result"
    }
   ],
   "source": [
    "data.head()"
   ]
  },
  {
   "cell_type": "markdown",
   "metadata": {},
   "source": [
    "### Checking for missing values:"
   ]
  },
  {
   "cell_type": "code",
   "execution_count": 9,
   "metadata": {},
   "outputs": [
    {
     "data": {
      "text/plain": [
       "name                          7\n",
       "host_response_time        11095\n",
       "host_response_rate        11095\n",
       "host_acceptance_rate       8030\n",
       "host_has_profile_pic          0\n",
       "host_identity_verified        0\n",
       "neighbourhood_cleansed        0\n",
       "property_type                 0\n",
       "room_type                     0\n",
       "accommodates                  0\n",
       "bathrooms_text               24\n",
       "bedrooms                   6847\n",
       "beds                        555\n",
       "amenities                     0\n",
       "price                         0\n",
       "has_availability              0\n",
       "availability_30               0\n",
       "number_of_reviews             0\n",
       "review_scores_rating       8392\n",
       "instant_bookable              0\n",
       "reviews_per_month          8392\n",
       "new_data                      0\n",
       "dtype: int64"
      ]
     },
     "execution_count": 9,
     "metadata": {},
     "output_type": "execute_result"
    }
   ],
   "source": [
    "# Data Cleaning\n",
    "# check for missing values\n",
    "data.isnull().sum()"
   ]
  },
  {
   "cell_type": "markdown",
   "metadata": {},
   "source": [
    "* It seems that there are a lot of missing values for number of the \"bedrooms\" which could be an important feature. \n",
    "* The good point is that we can extract the number of bedrooms from the column \"name\". "
   ]
  },
  {
   "cell_type": "code",
   "execution_count": 10,
   "metadata": {},
   "outputs": [
    {
     "data": {
      "text/plain": [
       "20253"
      ]
     },
     "execution_count": 10,
     "metadata": {},
     "output_type": "execute_result"
    }
   ],
   "source": [
    "# Extracting number of bedrooms from the name column\n",
    "data['num_bedrooms'] = data['name'].str.extract('(\\d+) bedroom', expand=True)\n",
    "\n",
    "# checking for missing values in the new column\n",
    "data['num_bedrooms'].isnull().sum()"
   ]
  },
  {
   "cell_type": "markdown",
   "metadata": {},
   "source": [
    "* Since the number of missing values for the new column is less than the previous column, we can replace the missing value of the original column with the new feature values."
   ]
  },
  {
   "cell_type": "code",
   "execution_count": 11,
   "metadata": {},
   "outputs": [
    {
     "data": {
      "text/plain": [
       "2869"
      ]
     },
     "execution_count": 11,
     "metadata": {},
     "output_type": "execute_result"
    }
   ],
   "source": [
    "# Replacing the missing values in column \"bedrooms\" with the values in column \"num_bedrooms\"\n",
    "data['bedrooms'] = data['bedrooms'].fillna(data['num_bedrooms'])\n",
    "\n",
    "# checking for missing values in the \"bedrooms\" column\n",
    "data['bedrooms'].isnull().sum()"
   ]
  },
  {
   "cell_type": "code",
   "execution_count": 12,
   "metadata": {},
   "outputs": [],
   "source": [
    "# dropping the \"num_bedrooms\" column\n",
    "data = data.drop('num_bedrooms', axis=1)"
   ]
  },
  {
   "cell_type": "code",
   "execution_count": 13,
   "metadata": {},
   "outputs": [],
   "source": [
    "# dropping the rows with missing values in the \"bedrooms\" column\n",
    "data = data.dropna(subset=['bedrooms'])"
   ]
  },
  {
   "cell_type": "markdown",
   "metadata": {},
   "source": [
    "* It does not seem that these 3 variables are very esseintial to our model: \"host_response_time\", \"host_response_rate\", \"host_acceptance_rate\".\n",
    "* Considering the number of missing values for these columns, a trivial choice is to drop them as well. "
   ]
  },
  {
   "cell_type": "code",
   "execution_count": 14,
   "metadata": {},
   "outputs": [],
   "source": [
    "# Dropping the columns: \"host_response_time\", \"host_response_rate\", \"host_acceptance_rate\"\n",
    "data = data.drop(['host_response_time', 'host_response_rate', 'host_acceptance_rate'], axis=1)"
   ]
  },
  {
   "cell_type": "code",
   "execution_count": 15,
   "metadata": {},
   "outputs": [],
   "source": [
    "# dropping the rows with missing values in the \"beds\" and \"bathrooms_text\" columns\n",
    "data = data.dropna(subset=['beds', 'bathrooms_text'])"
   ]
  },
  {
   "cell_type": "markdown",
   "metadata": {},
   "source": [
    "* A closer look to the data shows that, the 0 ratings could be equivalent to missing values. \n",
    "* If the number of these observations is limited, we can drop them all. Otherwise we need to replace them with the mean."
   ]
  },
  {
   "cell_type": "code",
   "execution_count": 16,
   "metadata": {},
   "outputs": [
    {
     "data": {
      "text/plain": [
       "(318, 19)"
      ]
     },
     "execution_count": 16,
     "metadata": {},
     "output_type": "execute_result"
    }
   ],
   "source": [
    "# Checking for the number of observations with review_scores_rating = 0\n",
    "data[data['review_scores_rating'] == 0].shape"
   ]
  },
  {
   "cell_type": "code",
   "execution_count": 17,
   "metadata": {},
   "outputs": [],
   "source": [
    "# dropping the rows with review_scores_rating = 0\n",
    "data = data[data['review_scores_rating'] != 0]"
   ]
  },
  {
   "cell_type": "code",
   "execution_count": 18,
   "metadata": {},
   "outputs": [
    {
     "data": {
      "text/plain": [
       "count    31669.000000\n",
       "mean         4.685539\n",
       "std          0.464426\n",
       "min          1.000000\n",
       "25%          4.580000\n",
       "50%          4.830000\n",
       "75%          5.000000\n",
       "max          5.000000\n",
       "Name: review_scores_rating, dtype: float64"
      ]
     },
     "execution_count": 18,
     "metadata": {},
     "output_type": "execute_result"
    }
   ],
   "source": [
    "# checking the statistics of the \"review_scores_rating\" column\n",
    "data['review_scores_rating'].describe()"
   ]
  },
  {
   "cell_type": "markdown",
   "metadata": {},
   "source": [
    "* It seems plausible to replace the missing values with the mean."
   ]
  },
  {
   "cell_type": "code",
   "execution_count": 19,
   "metadata": {},
   "outputs": [],
   "source": [
    "# replacing the missing values in the \"review_scores_rating\" column with the mean\n",
    "data['review_scores_rating'] = data['review_scores_rating'].fillna(data['review_scores_rating'].mean())\n",
    "\n",
    "# replacing the missing values in the \"reviews_per_month\" column with the mean\n",
    "data['reviews_per_month'] = data['reviews_per_month'].fillna(data['reviews_per_month'].mean())"
   ]
  },
  {
   "cell_type": "code",
   "execution_count": 20,
   "metadata": {},
   "outputs": [
    {
     "data": {
      "text/plain": [
       "name                      6\n",
       "host_has_profile_pic      0\n",
       "host_identity_verified    0\n",
       "neighbourhood_cleansed    0\n",
       "property_type             0\n",
       "room_type                 0\n",
       "accommodates              0\n",
       "bathrooms_text            0\n",
       "bedrooms                  0\n",
       "beds                      0\n",
       "amenities                 0\n",
       "price                     0\n",
       "has_availability          0\n",
       "availability_30           0\n",
       "number_of_reviews         0\n",
       "review_scores_rating      0\n",
       "instant_bookable          0\n",
       "reviews_per_month         0\n",
       "new_data                  0\n",
       "dtype: int64"
      ]
     },
     "execution_count": 20,
     "metadata": {},
     "output_type": "execute_result"
    }
   ],
   "source": [
    "data.isnull().sum()"
   ]
  },
  {
   "cell_type": "code",
   "execution_count": 21,
   "metadata": {},
   "outputs": [],
   "source": [
    "# Dropping the column \"name\" - we have extracted all the information we need from it\n",
    "data = data.drop('name', axis=1)"
   ]
  },
  {
   "cell_type": "markdown",
   "metadata": {},
   "source": [
    "### Encoding Categorical Variables"
   ]
  },
  {
   "cell_type": "code",
   "execution_count": 22,
   "metadata": {},
   "outputs": [
    {
     "data": {
      "text/plain": [
       "host_has_profile_pic       object\n",
       "host_identity_verified     object\n",
       "neighbourhood_cleansed     object\n",
       "property_type              object\n",
       "room_type                  object\n",
       "accommodates                int64\n",
       "bathrooms_text             object\n",
       "bedrooms                   object\n",
       "beds                      float64\n",
       "amenities                  object\n",
       "price                      object\n",
       "has_availability           object\n",
       "availability_30             int64\n",
       "number_of_reviews           int64\n",
       "review_scores_rating      float64\n",
       "instant_bookable           object\n",
       "reviews_per_month         float64\n",
       "new_data                    int64\n",
       "dtype: object"
      ]
     },
     "execution_count": 22,
     "metadata": {},
     "output_type": "execute_result"
    }
   ],
   "source": [
    "# Checking the data types of the columns\n",
    "data.dtypes"
   ]
  },
  {
   "cell_type": "markdown",
   "metadata": {},
   "source": [
    "* These variables are categorical and need to be converted: \n",
    "\"host_has_profile_pic\", \"host_identity_verified\", 'neighbourhood_cleansed', 'property_type', 'room_type', 'has_availability', 'instant_bookable'"
   ]
  },
  {
   "cell_type": "code",
   "execution_count": 23,
   "metadata": {},
   "outputs": [],
   "source": [
    "# Converting the above columns to categorical variables\n",
    "data['host_has_profile_pic'] = data['host_has_profile_pic'].astype('category')\n",
    "data['host_identity_verified'] = data['host_identity_verified'].astype('category')\n",
    "data['neighbourhood_cleansed'] = data['neighbourhood_cleansed'].astype('category')\n",
    "data['room_type'] = data['room_type'].astype('category')\n",
    "data['has_availability'] = data['has_availability'].astype('category')\n",
    "data['instant_bookable'] = data['instant_bookable'].astype('category')\n",
    "data['property_type'] = data['property_type'].astype('category')"
   ]
  },
  {
   "cell_type": "code",
   "execution_count": 24,
   "metadata": {},
   "outputs": [
    {
     "data": {
      "text/html": [
       "<div>\n",
       "<style scoped>\n",
       "    .dataframe tbody tr th:only-of-type {\n",
       "        vertical-align: middle;\n",
       "    }\n",
       "\n",
       "    .dataframe tbody tr th {\n",
       "        vertical-align: top;\n",
       "    }\n",
       "\n",
       "    .dataframe thead th {\n",
       "        text-align: right;\n",
       "    }\n",
       "</style>\n",
       "<table border=\"1\" class=\"dataframe\">\n",
       "  <thead>\n",
       "    <tr style=\"text-align: right;\">\n",
       "      <th></th>\n",
       "      <th>host_has_profile_pic</th>\n",
       "      <th>host_identity_verified</th>\n",
       "      <th>neighbourhood_cleansed</th>\n",
       "      <th>property_type</th>\n",
       "      <th>room_type</th>\n",
       "      <th>accommodates</th>\n",
       "      <th>bathrooms_text</th>\n",
       "      <th>bedrooms</th>\n",
       "      <th>beds</th>\n",
       "      <th>amenities</th>\n",
       "      <th>price</th>\n",
       "      <th>has_availability</th>\n",
       "      <th>availability_30</th>\n",
       "      <th>number_of_reviews</th>\n",
       "      <th>review_scores_rating</th>\n",
       "      <th>instant_bookable</th>\n",
       "      <th>reviews_per_month</th>\n",
       "      <th>new_data</th>\n",
       "    </tr>\n",
       "  </thead>\n",
       "  <tbody>\n",
       "    <tr>\n",
       "      <th>0</th>\n",
       "      <td>t</td>\n",
       "      <td>f</td>\n",
       "      <td>TIBALDI</td>\n",
       "      <td>Private room in rental unit</td>\n",
       "      <td>Private room</td>\n",
       "      <td>1</td>\n",
       "      <td>3.5 baths</td>\n",
       "      <td>3</td>\n",
       "      <td>1.0</td>\n",
       "      <td>[\"Washer\", \"Kitchen\", \"Paid parking on premise...</td>\n",
       "      <td>$100.00</td>\n",
       "      <td>t</td>\n",
       "      <td>23</td>\n",
       "      <td>12</td>\n",
       "      <td>4.89</td>\n",
       "      <td>f</td>\n",
       "      <td>0.07</td>\n",
       "      <td>1</td>\n",
       "    </tr>\n",
       "    <tr>\n",
       "      <th>1</th>\n",
       "      <td>t</td>\n",
       "      <td>t</td>\n",
       "      <td>NAVIGLI</td>\n",
       "      <td>Entire rental unit</td>\n",
       "      <td>Entire home/apt</td>\n",
       "      <td>4</td>\n",
       "      <td>1 bath</td>\n",
       "      <td>1.0</td>\n",
       "      <td>1.0</td>\n",
       "      <td>[\"Hot water\", \"Washer\", \"Bed linens\", \"Extra p...</td>\n",
       "      <td>$150.00</td>\n",
       "      <td>t</td>\n",
       "      <td>23</td>\n",
       "      <td>26</td>\n",
       "      <td>4.64</td>\n",
       "      <td>f</td>\n",
       "      <td>0.19</td>\n",
       "      <td>1</td>\n",
       "    </tr>\n",
       "    <tr>\n",
       "      <th>2</th>\n",
       "      <td>t</td>\n",
       "      <td>t</td>\n",
       "      <td>SARPI</td>\n",
       "      <td>Entire rental unit</td>\n",
       "      <td>Entire home/apt</td>\n",
       "      <td>2</td>\n",
       "      <td>1 bath</td>\n",
       "      <td>1.0</td>\n",
       "      <td>1.0</td>\n",
       "      <td>[\"Dishwasher\", \"Heating\", \"Hangers\", \"Dryer\", ...</td>\n",
       "      <td>$171.00</td>\n",
       "      <td>t</td>\n",
       "      <td>24</td>\n",
       "      <td>20</td>\n",
       "      <td>4.58</td>\n",
       "      <td>f</td>\n",
       "      <td>0.20</td>\n",
       "      <td>1</td>\n",
       "    </tr>\n",
       "    <tr>\n",
       "      <th>3</th>\n",
       "      <td>t</td>\n",
       "      <td>t</td>\n",
       "      <td>BOVISASCA</td>\n",
       "      <td>Private room in loft</td>\n",
       "      <td>Private room</td>\n",
       "      <td>1</td>\n",
       "      <td>1 shared bath</td>\n",
       "      <td>1.0</td>\n",
       "      <td>1.0</td>\n",
       "      <td>[\"HDTV with Netflix\", \"Dishwasher\", \"Heating\",...</td>\n",
       "      <td>$40.00</td>\n",
       "      <td>t</td>\n",
       "      <td>13</td>\n",
       "      <td>142</td>\n",
       "      <td>4.70</td>\n",
       "      <td>f</td>\n",
       "      <td>1.00</td>\n",
       "      <td>1</td>\n",
       "    </tr>\n",
       "    <tr>\n",
       "      <th>4</th>\n",
       "      <td>t</td>\n",
       "      <td>t</td>\n",
       "      <td>TORTONA</td>\n",
       "      <td>Entire rental unit</td>\n",
       "      <td>Entire home/apt</td>\n",
       "      <td>2</td>\n",
       "      <td>1 bath</td>\n",
       "      <td>1.0</td>\n",
       "      <td>1.0</td>\n",
       "      <td>[\"Heating\", \"Shower gel\", \"Hangers\", \"Room-dar...</td>\n",
       "      <td>$94.00</td>\n",
       "      <td>t</td>\n",
       "      <td>1</td>\n",
       "      <td>169</td>\n",
       "      <td>4.85</td>\n",
       "      <td>t</td>\n",
       "      <td>1.47</td>\n",
       "      <td>1</td>\n",
       "    </tr>\n",
       "  </tbody>\n",
       "</table>\n",
       "</div>"
      ],
      "text/plain": [
       "  host_has_profile_pic host_identity_verified neighbourhood_cleansed  \\\n",
       "0                    t                      f                TIBALDI   \n",
       "1                    t                      t                NAVIGLI   \n",
       "2                    t                      t                  SARPI   \n",
       "3                    t                      t              BOVISASCA   \n",
       "4                    t                      t                TORTONA   \n",
       "\n",
       "                 property_type        room_type  accommodates bathrooms_text  \\\n",
       "0  Private room in rental unit     Private room             1      3.5 baths   \n",
       "1           Entire rental unit  Entire home/apt             4         1 bath   \n",
       "2           Entire rental unit  Entire home/apt             2         1 bath   \n",
       "3         Private room in loft     Private room             1  1 shared bath   \n",
       "4           Entire rental unit  Entire home/apt             2         1 bath   \n",
       "\n",
       "  bedrooms  beds                                          amenities    price  \\\n",
       "0        3   1.0  [\"Washer\", \"Kitchen\", \"Paid parking on premise...  $100.00   \n",
       "1      1.0   1.0  [\"Hot water\", \"Washer\", \"Bed linens\", \"Extra p...  $150.00   \n",
       "2      1.0   1.0  [\"Dishwasher\", \"Heating\", \"Hangers\", \"Dryer\", ...  $171.00   \n",
       "3      1.0   1.0  [\"HDTV with Netflix\", \"Dishwasher\", \"Heating\",...   $40.00   \n",
       "4      1.0   1.0  [\"Heating\", \"Shower gel\", \"Hangers\", \"Room-dar...   $94.00   \n",
       "\n",
       "  has_availability  availability_30  number_of_reviews  review_scores_rating  \\\n",
       "0                t               23                 12                  4.89   \n",
       "1                t               23                 26                  4.64   \n",
       "2                t               24                 20                  4.58   \n",
       "3                t               13                142                  4.70   \n",
       "4                t                1                169                  4.85   \n",
       "\n",
       "  instant_bookable  reviews_per_month  new_data  \n",
       "0                f               0.07         1  \n",
       "1                f               0.19         1  \n",
       "2                f               0.20         1  \n",
       "3                f               1.00         1  \n",
       "4                t               1.47         1  "
      ]
     },
     "execution_count": 24,
     "metadata": {},
     "output_type": "execute_result"
    }
   ],
   "source": [
    "data.head()"
   ]
  },
  {
   "cell_type": "code",
   "execution_count": 25,
   "metadata": {},
   "outputs": [
    {
     "data": {
      "text/plain": [
       "host_has_profile_pic      category\n",
       "host_identity_verified    category\n",
       "neighbourhood_cleansed    category\n",
       "property_type             category\n",
       "room_type                 category\n",
       "accommodates                 int64\n",
       "bathrooms_text              object\n",
       "bedrooms                    object\n",
       "beds                       float64\n",
       "amenities                   object\n",
       "price                       object\n",
       "has_availability          category\n",
       "availability_30              int64\n",
       "number_of_reviews            int64\n",
       "review_scores_rating       float64\n",
       "instant_bookable          category\n",
       "reviews_per_month          float64\n",
       "new_data                     int64\n",
       "dtype: object"
      ]
     },
     "execution_count": 25,
     "metadata": {},
     "output_type": "execute_result"
    }
   ],
   "source": [
    "data.dtypes"
   ]
  },
  {
   "cell_type": "markdown",
   "metadata": {},
   "source": [
    "* These 3 columns need to be converted to numeric type: \"bathrooms_text\", \"bedrooms\", \"price\""
   ]
  },
  {
   "cell_type": "code",
   "execution_count": 26,
   "metadata": {},
   "outputs": [
    {
     "data": {
      "text/plain": [
       "0        3.5 baths\n",
       "1           1 bath\n",
       "2           1 bath\n",
       "3    1 shared bath\n",
       "4           1 bath\n",
       "Name: bathrooms_text, dtype: object"
      ]
     },
     "execution_count": 26,
     "metadata": {},
     "output_type": "execute_result"
    }
   ],
   "source": [
    "data['bathrooms_text'].head()"
   ]
  },
  {
   "cell_type": "code",
   "execution_count": 27,
   "metadata": {},
   "outputs": [],
   "source": [
    "# Extracting the number of bathrooms from the \"bathrooms_text\" column\n",
    "data['bathrooms'] = data['bathrooms_text'].str.extract('(\\d+) ', expand=True)\n",
    "\n",
    "# Converting the \"bathrooms\" column to numeric\n",
    "data['bathrooms'] = pd.to_numeric(data['bathrooms'])\n",
    "\n",
    "# Dropping the \"bathrooms_text\" column\n",
    "data = data.drop('bathrooms_text', axis=1)\n",
    "\n",
    "# Converting the \"bedrooms\" column to numeric\n",
    "data['bedrooms'] = pd.to_numeric(data['bedrooms'])"
   ]
  },
  {
   "cell_type": "code",
   "execution_count": 28,
   "metadata": {},
   "outputs": [
    {
     "data": {
      "text/plain": [
       "0    $100.00\n",
       "1    $150.00\n",
       "2    $171.00\n",
       "3     $40.00\n",
       "4     $94.00\n",
       "Name: price, dtype: object"
      ]
     },
     "execution_count": 28,
     "metadata": {},
     "output_type": "execute_result"
    }
   ],
   "source": [
    "data['price'].head()"
   ]
  },
  {
   "cell_type": "code",
   "execution_count": 29,
   "metadata": {},
   "outputs": [
    {
     "name": "stderr",
     "output_type": "stream",
     "text": [
      "C:\\Users\\PA\\AppData\\Local\\Temp\\ipykernel_9380\\528802465.py:2: FutureWarning: The default value of regex will change from True to False in a future version. In addition, single character regular expressions will *not* be treated as literal strings when regex=True.\n",
      "  data['price'] = data['price'].str.replace('$', '')\n"
     ]
    }
   ],
   "source": [
    "# Extracting the numberic part from the \"price\" column\n",
    "data['price'] = data['price'].str.replace('$', '')\n",
    "data['price'] = data['price'].str.replace(',', '')\n",
    "data['price'] = pd.to_numeric(data['price'])"
   ]
  },
  {
   "cell_type": "code",
   "execution_count": 30,
   "metadata": {},
   "outputs": [
    {
     "data": {
      "text/plain": [
       "(39395, 18)"
      ]
     },
     "execution_count": 30,
     "metadata": {},
     "output_type": "execute_result"
    }
   ],
   "source": [
    "data.shape"
   ]
  },
  {
   "cell_type": "code",
   "execution_count": 31,
   "metadata": {},
   "outputs": [],
   "source": [
    "# Convering the categorical variables to dummy variables\n",
    "data = pd.get_dummies(data, columns= ['host_has_profile_pic', 'host_identity_verified', 'neighbourhood_cleansed', 'room_type', 'has_availability','instant_bookable', 'property_type'] ,drop_first=True)"
   ]
  },
  {
   "cell_type": "code",
   "execution_count": 32,
   "metadata": {},
   "outputs": [
    {
     "data": {
      "text/plain": [
       "(39395, 156)"
      ]
     },
     "execution_count": 32,
     "metadata": {},
     "output_type": "execute_result"
    }
   ],
   "source": [
    "# Store the cleaned data in a new dataframe\n",
    "data_cleaned = data.copy()\n",
    "\n",
    "data.shape"
   ]
  },
  {
   "cell_type": "markdown",
   "metadata": {},
   "source": [
    "* The \"amenities\" column include several strings which every one of them can be considered as a dummy."
   ]
  },
  {
   "cell_type": "code",
   "execution_count": 33,
   "metadata": {},
   "outputs": [
    {
     "data": {
      "text/plain": [
       "0    [\"Washer\", \"Kitchen\", \"Paid parking on premise...\n",
       "1    [\"Hot water\", \"Washer\", \"Bed linens\", \"Extra p...\n",
       "2    [\"Dishwasher\", \"Heating\", \"Hangers\", \"Dryer\", ...\n",
       "3    [\"HDTV with Netflix\", \"Dishwasher\", \"Heating\",...\n",
       "4    [\"Heating\", \"Shower gel\", \"Hangers\", \"Room-dar...\n",
       "Name: amenities, dtype: object"
      ]
     },
     "execution_count": 33,
     "metadata": {},
     "output_type": "execute_result"
    }
   ],
   "source": [
    "data['amenities'].head()"
   ]
  },
  {
   "cell_type": "code",
   "execution_count": 34,
   "metadata": {},
   "outputs": [],
   "source": [
    "# The \"amenities\" column include several strings which every one of them can be considered as a dummy.\n",
    "# Convert the 'amenities' column from a string representation of a list to an actual list\n",
    "from sklearn.preprocessing import MultiLabelBinarizer\n",
    "mlb = MultiLabelBinarizer()\n",
    "data['amenities'] = data['amenities'].str.strip('[]').str.replace('\"', '').str.split(',')\n",
    "data = data.join(pd.DataFrame(mlb.fit_transform(data.pop('amenities')),\n",
    "                                columns=mlb.classes_,\n",
    "                                index=data.index))"
   ]
  },
  {
   "cell_type": "markdown",
   "metadata": {},
   "source": [
    "### Filtering the data based on the number of the guests"
   ]
  },
  {
   "cell_type": "code",
   "execution_count": 35,
   "metadata": {},
   "outputs": [],
   "source": [
    "# Filtering the data based on \"accommodates\" between 2 and 6\n",
    "data = data[(data['accommodates'] >= 2) & (data['accommodates'] <= 6)]\n"
   ]
  },
  {
   "cell_type": "code",
   "execution_count": 36,
   "metadata": {},
   "outputs": [],
   "source": [
    "# Removing the columns without proper names\n",
    "data = data.drop(['', ' '], axis=1)"
   ]
  },
  {
   "cell_type": "code",
   "execution_count": 37,
   "metadata": {},
   "outputs": [
    {
     "data": {
      "text/plain": [
       "(64618, 4223)"
      ]
     },
     "execution_count": 37,
     "metadata": {},
     "output_type": "execute_result"
    }
   ],
   "source": [
    "data.shape"
   ]
  },
  {
   "cell_type": "code",
   "execution_count": 38,
   "metadata": {},
   "outputs": [],
   "source": [
    "# storing the cleaned data in a new dataframe\n",
    "data_cleaned_2 = data.copy()"
   ]
  },
  {
   "cell_type": "markdown",
   "metadata": {},
   "source": [
    "### Dropping the columns with more than 99% zeros\n",
    "* As we can see our dataset has 3788 columns now; which makes the computations very costly.\n",
    "* On the other hand, for a lot of amenities we have only one active (1) observation.\n",
    "* It makes sense to omit these columns. Not only this procedure makes the computations more efficient, it also increase the accuracy of the models."
   ]
  },
  {
   "cell_type": "code",
   "execution_count": 39,
   "metadata": {},
   "outputs": [
    {
     "data": {
      "text/plain": [
       "3997"
      ]
     },
     "execution_count": 39,
     "metadata": {},
     "output_type": "execute_result"
    }
   ],
   "source": [
    "# checking the percentage of zeros in each column\n",
    "data_zero = (data == 0).astype(int).sum(axis=0)\n",
    "data_zero = data_zero/data.shape[0]\n",
    "data_zero = data_zero.sort_values(ascending=False)\n",
    "\n",
    "# Checking the number of columns with more than 99% zeros\n",
    "data_zero[data_zero > 0.99].shape[0]"
   ]
  },
  {
   "cell_type": "code",
   "execution_count": 40,
   "metadata": {},
   "outputs": [],
   "source": [
    "# Dropping the observations with a price higher than 5000\n",
    "data = data[data['price'] <= 5000]"
   ]
  },
  {
   "cell_type": "code",
   "execution_count": 41,
   "metadata": {},
   "outputs": [
    {
     "name": "stderr",
     "output_type": "stream",
     "text": [
      "C:\\Users\\PA\\AppData\\Local\\Temp\\ipykernel_9380\\82555254.py:2: UserWarning: \n",
      "\n",
      "`distplot` is a deprecated function and will be removed in seaborn v0.14.0.\n",
      "\n",
      "Please adapt your code to use either `displot` (a figure-level function with\n",
      "similar flexibility) or `histplot` (an axes-level function for histograms).\n",
      "\n",
      "For a guide to updating your code to use the new functions, please see\n",
      "https://gist.github.com/mwaskom/de44147ed2974457ad6372750bbe5751\n",
      "\n",
      "  sns.distplot(data['price'])\n"
     ]
    },
    {
     "data": {
      "image/png": "[encoded data removed]",
      "text/plain": [
       "<Figure size 640x480 with 1 Axes>"
      ]
     },
     "metadata": {},
     "output_type": "display_data"
    }
   ],
   "source": [
    "# Checking the distribution of the target variable\n",
    "sns.distplot(data['price'])\n",
    "plt.title('Distribution of Price')\n",
    "plt.show()"
   ]
  },
  {
   "cell_type": "markdown",
   "metadata": {},
   "source": [
    "### Deleting the observations with missing values"
   ]
  },
  {
   "cell_type": "code",
   "execution_count": 42,
   "metadata": {},
   "outputs": [
    {
     "data": {
      "text/plain": [
       "51"
      ]
     },
     "execution_count": 42,
     "metadata": {},
     "output_type": "execute_result"
    }
   ],
   "source": [
    "# checking the missing values\n",
    "sum(data.isnull().sum())"
   ]
  },
  {
   "cell_type": "code",
   "execution_count": 43,
   "metadata": {},
   "outputs": [],
   "source": [
    "# dropping the rows with missing values\n",
    "data = data.dropna()\n"
   ]
  },
  {
   "cell_type": "code",
   "execution_count": 44,
   "metadata": {},
   "outputs": [
    {
     "data": {
      "text/plain": [
       "\"# Storing the cleaned data in a new csv file\\ndata.to_csv('data_cleaned_2.csv', index=False)\""
      ]
     },
     "execution_count": 44,
     "metadata": {},
     "output_type": "execute_result"
    }
   ],
   "source": [
    "\"\"\"# Storing the cleaned data in a new csv file\n",
    "data.to_csv('data_cleaned_2.csv', index=False)\"\"\""
   ]
  },
  {
   "cell_type": "code",
   "execution_count": 45,
   "metadata": {},
   "outputs": [],
   "source": [
    "# Dropping the columns with more than 99% zeros\n",
    "data_2 = data.drop(data_zero[data_zero > 0.99].index, axis=1)"
   ]
  },
  {
   "cell_type": "code",
   "execution_count": 46,
   "metadata": {},
   "outputs": [
    {
     "data": {
      "text/plain": [
       "((64437, 226), (64437, 4223))"
      ]
     },
     "execution_count": 46,
     "metadata": {},
     "output_type": "execute_result"
    }
   ],
   "source": [
    "data_2.shape, data.shape"
   ]
  },
  {
   "cell_type": "code",
   "execution_count": 47,
   "metadata": {},
   "outputs": [],
   "source": [
    "# Seperating the new and old data using the column \"new_data\"\n",
    "data_new = data_2[data_2['new_data'] == 1]\n",
    "data_dec = data_2[data_2['new_data'] == 0]"
   ]
  },
  {
   "cell_type": "code",
   "execution_count": 48,
   "metadata": {},
   "outputs": [],
   "source": [
    "# Dropping the \"new_data\" column\n",
    "data_new = data_new.drop('new_data', axis=1)\n",
    "data_dec = data_dec.drop('new_data', axis=1)"
   ]
  },
  {
   "cell_type": "markdown",
   "metadata": {},
   "source": [
    "# Splitting Data:\n",
    "1. Target variable and the features\n",
    "2. Test and Train Sets"
   ]
  },
  {
   "cell_type": "code",
   "execution_count": 49,
   "metadata": {},
   "outputs": [],
   "source": [
    "# Splitting target variable and predictors\n",
    "X = data_new.drop('price', axis=1)\n",
    "y = data_new['price']"
   ]
  },
  {
   "cell_type": "code",
   "execution_count": 50,
   "metadata": {},
   "outputs": [],
   "source": [
    "# Splitting target variable and predictors for the Dec data\n",
    "X_dec = data_dec.drop('price', axis=1)\n",
    "y_dec = data_dec['price']"
   ]
  },
  {
   "cell_type": "code",
   "execution_count": 51,
   "metadata": {},
   "outputs": [],
   "source": [
    "from sklearn.model_selection import train_test_split\n",
    "\n",
    "# Perform the train-test split\n",
    "X_train, X_test, y_train, y_test = train_test_split(X, y, test_size=0.2, random_state=122)"
   ]
  },
  {
   "cell_type": "markdown",
   "metadata": {},
   "source": [
    "* For linear regression it is necessary to scale the data."
   ]
  },
  {
   "cell_type": "code",
   "execution_count": 52,
   "metadata": {},
   "outputs": [],
   "source": [
    "# Scaling the data\n",
    "from sklearn.preprocessing import StandardScaler\n",
    "scaler = StandardScaler()\n",
    "X_train_scaled = scaler.fit_transform(X_train)\n",
    "X_test_scaled = scaler.transform(X_test)"
   ]
  },
  {
   "cell_type": "code",
   "execution_count": 53,
   "metadata": {},
   "outputs": [],
   "source": [
    "# Scaling the new data\n",
    "X_dec_scaled = scaler.transform(X_dec)"
   ]
  },
  {
   "cell_type": "markdown",
   "metadata": {},
   "source": [
    "# Models"
   ]
  },
  {
   "cell_type": "code",
   "execution_count": 54,
   "metadata": {},
   "outputs": [],
   "source": [
    "# Preparing some lists to store the results\n",
    "models = []\n",
    "Train_RMSE = []\n",
    "Test_RMSE = []\n",
    "Dec_RMSE = []"
   ]
  },
  {
   "cell_type": "markdown",
   "metadata": {},
   "source": [
    "## LASSO - Feature Selection\n",
    "\n",
    "* We have lots of features, which probably many of them are not important and deterministic in price prediction.\n",
    "* We implement LASSO in the first step, to omit the unnecessary features.\n",
    "* Then we run an OLS model on the remaining features."
   ]
  },
  {
   "cell_type": "code",
   "execution_count": 55,
   "metadata": {},
   "outputs": [
    {
     "name": "stdout",
     "output_type": "stream",
     "text": [
      "Best lambda value:  0.7847599703514607\n"
     ]
    }
   ],
   "source": [
    "# Avoiding the ConvergenceWarning\n",
    "from sklearn.exceptions import ConvergenceWarning\n",
    "import warnings\n",
    "warnings.filterwarnings(action='ignore', category=ConvergenceWarning)\n",
    "\n",
    "# implementing the LASSO method with the optimal regularization parameter\n",
    "from sklearn.linear_model import Lasso\n",
    "from sklearn.linear_model import LassoCV\n",
    "\n",
    "# Lasso- Parameter tuning using cross validation\n",
    "alphas = np.logspace(-6, 2, 20)\n",
    "lasso_cv = LassoCV(alphas=alphas, cv=5)\n",
    "lasso_cv.fit(X_train_scaled, y_train)\n",
    "\n",
    "# Stoing the best lambda value\n",
    "selected_alpha = lasso_cv.alpha_\n",
    "print(\"Best lambda value: \", selected_alpha)\n",
    "\n",
    "warnings.resetwarnings()"
   ]
  },
  {
   "cell_type": "code",
   "execution_count": 56,
   "metadata": {},
   "outputs": [
    {
     "data": {
      "text/html": [
       "<style>#sk-container-id-1 {color: black;background-color: white;}#sk-container-id-1 pre{padding: 0;}#sk-container-id-1 div.sk-toggleable {background-color: white;}#sk-container-id-1 label.sk-toggleable__label {cursor: pointer;display: block;width: 100%;margin-bottom: 0;padding: 0.3em;box-sizing: border-box;text-align: center;}#sk-container-id-1 label.sk-toggleable__label-arrow:before {content: \"▸\";float: left;margin-right: 0.25em;color: #696969;}#sk-container-id-1 label.sk-toggleable__label-arrow:hover:before {color: black;}#sk-container-id-1 div.sk-estimator:hover label.sk-toggleable__label-arrow:before {color: black;}#sk-container-id-1 div.sk-toggleable__content {max-height: 0;max-width: 0;overflow: hidden;text-align: left;background-color: #f0f8ff;}#sk-container-id-1 div.sk-toggleable__content pre {margin: 0.2em;color: black;border-radius: 0.25em;background-color: #f0f8ff;}#sk-container-id-1 input.sk-toggleable__control:checked~div.sk-toggleable__content {max-height: 200px;max-width: 100%;overflow: auto;}#sk-container-id-1 input.sk-toggleable__control:checked~label.sk-toggleable__label-arrow:before {content: \"▾\";}#sk-container-id-1 div.sk-estimator input.sk-toggleable__control:checked~label.sk-toggleable__label {background-color: #d4ebff;}#sk-container-id-1 div.sk-label input.sk-toggleable__control:checked~label.sk-toggleable__label {background-color: #d4ebff;}#sk-container-id-1 input.sk-hidden--visually {border: 0;clip: rect(1px 1px 1px 1px);clip: rect(1px, 1px, 1px, 1px);height: 1px;margin: -1px;overflow: hidden;padding: 0;position: absolute;width: 1px;}#sk-container-id-1 div.sk-estimator {font-family: monospace;background-color: #f0f8ff;border: 1px dotted black;border-radius: 0.25em;box-sizing: border-box;margin-bottom: 0.5em;}#sk-container-id-1 div.sk-estimator:hover {background-color: #d4ebff;}#sk-container-id-1 div.sk-parallel-item::after {content: \"\";width: 100%;border-bottom: 1px solid gray;flex-grow: 1;}#sk-container-id-1 div.sk-label:hover label.sk-toggleable__label {background-color: #d4ebff;}#sk-container-id-1 div.sk-serial::before {content: \"\";position: absolute;border-left: 1px solid gray;box-sizing: border-box;top: 0;bottom: 0;left: 50%;z-index: 0;}#sk-container-id-1 div.sk-serial {display: flex;flex-direction: column;align-items: center;background-color: white;padding-right: 0.2em;padding-left: 0.2em;position: relative;}#sk-container-id-1 div.sk-item {position: relative;z-index: 1;}#sk-container-id-1 div.sk-parallel {display: flex;align-items: stretch;justify-content: center;background-color: white;position: relative;}#sk-container-id-1 div.sk-item::before, #sk-container-id-1 div.sk-parallel-item::before {content: \"\";position: absolute;border-left: 1px solid gray;box-sizing: border-box;top: 0;bottom: 0;left: 50%;z-index: -1;}#sk-container-id-1 div.sk-parallel-item {display: flex;flex-direction: column;z-index: 1;position: relative;background-color: white;}#sk-container-id-1 div.sk-parallel-item:first-child::after {align-self: flex-end;width: 50%;}#sk-container-id-1 div.sk-parallel-item:last-child::after {align-self: flex-start;width: 50%;}#sk-container-id-1 div.sk-parallel-item:only-child::after {width: 0;}#sk-container-id-1 div.sk-dashed-wrapped {border: 1px dashed gray;margin: 0 0.4em 0.5em 0.4em;box-sizing: border-box;padding-bottom: 0.4em;background-color: white;}#sk-container-id-1 div.sk-label label {font-family: monospace;font-weight: bold;display: inline-block;line-height: 1.2em;}#sk-container-id-1 div.sk-label-container {text-align: center;}#sk-container-id-1 div.sk-container {/* jupyter's `normalize.less` sets `[hidden] { display: none; }` but bootstrap.min.css set `[hidden] { display: none !important; }` so we also need the `!important` here to be able to override the default hidden behavior on the sphinx rendered scikit-learn.org. See: https://github.com/scikit-learn/scikit-learn/issues/21755 */display: inline-block !important;position: relative;}#sk-container-id-1 div.sk-text-repr-fallback {display: none;}</style><div id=\"sk-container-id-1\" class=\"sk-top-container\"><div class=\"sk-text-repr-fallback\"><pre>Lasso(alpha=0.7847599703514607)</pre><b>In a Jupyter environment, please rerun this cell to show the HTML representation or trust the notebook. <br />On GitHub, the HTML representation is unable to render, please try loading this page with nbviewer.org.</b></div><div class=\"sk-container\" hidden><div class=\"sk-item\"><div class=\"sk-estimator sk-toggleable\"><input class=\"sk-toggleable__control sk-hidden--visually\" id=\"sk-estimator-id-1\" type=\"checkbox\" checked><label for=\"sk-estimator-id-1\" class=\"sk-toggleable__label sk-toggleable__label-arrow\">Lasso</label><div class=\"sk-toggleable__content\"><pre>Lasso(alpha=0.7847599703514607)</pre></div></div></div></div></div>"
      ],
      "text/plain": [
       "Lasso(alpha=0.7847599703514607)"
      ]
     },
     "execution_count": 56,
     "metadata": {},
     "output_type": "execute_result"
    }
   ],
   "source": [
    "# Define the LASSO model using the best parameter\n",
    "best_lasso_model = Lasso(alpha=selected_alpha)\n",
    "best_lasso_model.fit(X_train_scaled, y_train)"
   ]
  },
  {
   "cell_type": "code",
   "execution_count": 57,
   "metadata": {},
   "outputs": [
    {
     "name": "stdout",
     "output_type": "stream",
     "text": [
      "Number of non-zero coefficients:  154\n"
     ]
    }
   ],
   "source": [
    "# Checking the number of non-zero coefficients of the LASSO model\n",
    "print(\"Number of non-zero coefficients: \", np.sum(best_lasso_model.coef_ != 0))"
   ]
  },
  {
   "cell_type": "code",
   "execution_count": 58,
   "metadata": {},
   "outputs": [
    {
     "data": {
      "text/plain": [
       "Index(['accommodates', 'bedrooms', 'beds', 'availability_30',\n",
       "       'number_of_reviews', 'review_scores_rating', 'reviews_per_month',\n",
       "       'bathrooms', 'host_has_profile_pic_t', 'host_identity_verified_t',\n",
       "       ...\n",
       "       'Clothing storage', 'Coffee maker: Nespresso', 'Elevator', 'Gas stove',\n",
       "       'Heating', 'Hot water', 'Kitchen', 'Outdoor dining area',\n",
       "       'Pets allowed', 'Single level home'],\n",
       "      dtype='object', length=154)"
      ]
     },
     "execution_count": 58,
     "metadata": {},
     "output_type": "execute_result"
    }
   ],
   "source": [
    "# getting the features from the LASSO model that have a non-zero coefficient\n",
    "selected_features = X.columns[best_lasso_model.coef_ != 0]\n",
    "selected_features"
   ]
  },
  {
   "cell_type": "code",
   "execution_count": 59,
   "metadata": {},
   "outputs": [],
   "source": [
    "# Choosing training and testing sets based on the selected features\n",
    "X_train_selected = X_train_scaled[:, best_lasso_model.coef_ != 0]\n",
    "X_test_selected = X_test_scaled[:, best_lasso_model.coef_ != 0]"
   ]
  },
  {
   "cell_type": "code",
   "execution_count": 60,
   "metadata": {},
   "outputs": [],
   "source": [
    "# choosing the same features for the new data\n",
    "X_dec_selected = X_dec_scaled[:, best_lasso_model.coef_ != 0]"
   ]
  },
  {
   "cell_type": "code",
   "execution_count": 61,
   "metadata": {},
   "outputs": [
    {
     "name": "stdout",
     "output_type": "stream",
     "text": [
      "Training MSE: 42228.51590405695 \n",
      " Training RMSE: 205.4957807451456 \n",
      " Training MAE: 78.42070927034386 \n",
      " Training R2: 0.12315426626129622\n",
      "Test MSE: 45781.85299929151 \n",
      " Test RMSE: 213.96694370694624 \n",
      " Test MAE: 80.98481823868265 \n",
      " Test R2: 0.1070775437682282\n"
     ]
    }
   ],
   "source": [
    "from sklearn.linear_model import LinearRegression\n",
    "from sklearn.metrics import mean_squared_error\n",
    "from sklearn.metrics import r2_score\n",
    "\n",
    "# Creating a linear regression model\n",
    "ols_model = LinearRegression()\n",
    "\n",
    "# Fitting the model\n",
    "ols_model.fit(X_train_selected, y_train)\n",
    "\n",
    "# Checking the model performance on the training data\n",
    "y_train_pred = ols_model.predict(X_train_selected)\n",
    "ols_train_mse = mean_squared_error(y_train, y_train_pred)\n",
    "ols_train_rmse = np.sqrt(ols_train_mse)\n",
    "ols_train_mae = np.mean(np.abs(y_train - y_train_pred))\n",
    "ols_train_r2 = ols_model.score(X_train_selected, y_train)\n",
    "print('Training MSE:', ols_train_mse, '\\n', 'Training RMSE:', ols_train_rmse,\n",
    "      '\\n', 'Training MAE:', ols_train_mae, '\\n', 'Training R2:', ols_train_r2)\n",
    "\n",
    "# Checking the model performance on the test data\n",
    "y_test_pred = ols_model.predict(X_test_selected)\n",
    "ols_test_mse = mean_squared_error(y_test, y_test_pred)\n",
    "ols_test_rmse = np.sqrt(ols_test_mse)\n",
    "ols_test_mae = np.mean(np.abs(y_test - y_test_pred))\n",
    "ols_test_r2 = ols_model.score(X_test_selected, y_test)\n",
    "print('Test MSE:', ols_test_mse, '\\n', 'Test RMSE:', ols_test_rmse,\n",
    "      '\\n', 'Test MAE:', ols_test_mae, '\\n', 'Test R2:', ols_test_r2)"
   ]
  },
  {
   "cell_type": "code",
   "execution_count": 62,
   "metadata": {},
   "outputs": [
    {
     "data": {
      "image/png": "[encoded data removed]",
      "text/plain": [
       "<Figure size 640x480 with 1 Axes>"
      ]
     },
     "metadata": {},
     "output_type": "display_data"
    }
   ],
   "source": [
    "# Plotting the results of OLS prediction\n",
    "plt.scatter(y_test, y_test_pred)\n",
    "plt.xlabel('y_test')\n",
    "plt.ylabel('y_pred_test')\n",
    "plt.xlim(0, 1500)\n",
    "plt.ylim(0, 1500)\n",
    "plt.title('OLS model')\n",
    "plt.show()"
   ]
  },
  {
   "cell_type": "code",
   "execution_count": 63,
   "metadata": {},
   "outputs": [
    {
     "name": "stdout",
     "output_type": "stream",
     "text": [
      "New MSE: 32525.585442059004 \n",
      " New RMSE: 180.34851106138638 \n",
      " New MAE: 86.76946851883662 \n",
      " New R2: 0.019597542740314222\n"
     ]
    }
   ],
   "source": [
    "# Checking the model performance on the new data\n",
    "y_new_pred = ols_model.predict(X_dec_selected)\n",
    "ols_new_mse = mean_squared_error(y_dec, y_new_pred)\n",
    "ols_new_rmse = np.sqrt(ols_new_mse)\n",
    "ols_new_mae = np.mean(np.abs(y_dec - y_new_pred))\n",
    "ols_new_r2 = ols_model.score(X_dec_selected, y_dec)\n",
    "print('New MSE:', ols_new_mse, '\\n', 'New RMSE:', ols_new_rmse,\n",
    "      '\\n', 'New MAE:', ols_new_mae, '\\n', 'New R2:', ols_new_r2)"
   ]
  },
  {
   "cell_type": "code",
   "execution_count": 64,
   "metadata": {},
   "outputs": [],
   "source": [
    "# Recording the results\n",
    "models.append('OLS')\n",
    "Train_RMSE.append(ols_train_rmse)\n",
    "Test_RMSE.append(ols_test_rmse)\n",
    "Dec_RMSE.append(ols_new_rmse)"
   ]
  },
  {
   "cell_type": "markdown",
   "metadata": {},
   "source": [
    "# Decision Tree Regression Model"
   ]
  },
  {
   "cell_type": "code",
   "execution_count": 65,
   "metadata": {},
   "outputs": [
    {
     "name": "stdout",
     "output_type": "stream",
     "text": [
      "Training MSE: 0.11685644277889881 \n",
      " Training RMSE: 0.3418427164338869 \n",
      " Training MAE: 0.004540213317959066 \n",
      " Training R2: 0.9999975735573198\n",
      "Test MSE: 59288.83010233497 \n",
      " Test RMSE: 243.49297752160118 \n",
      " Test MAE: 83.90465552032286 \n",
      " Test R2: -0.1563605300751898\n"
     ]
    }
   ],
   "source": [
    "from sklearn.tree import DecisionTreeRegressor\n",
    "# Creating a decision tree regression model\n",
    "dtree_model = DecisionTreeRegressor(random_state=42)\n",
    "\n",
    "# Fitting the model to the training data\n",
    "dtree_model.fit(X_train, y_train)\n",
    "\n",
    "# Checking the model performance on the training data\n",
    "y_train_pred = dtree_model.predict(X_train)\n",
    "dtree_train_mse = mean_squared_error(y_train, y_train_pred)\n",
    "dtree_train_rmse = np.sqrt(dtree_train_mse)\n",
    "dtree_train_mae = np.mean(np.abs(y_train - y_train_pred))\n",
    "dtree_train_r2 = dtree_model.score(X_train, y_train)\n",
    "print('Training MSE:', dtree_train_mse, '\\n', 'Training RMSE:', dtree_train_rmse,\n",
    "      '\\n', 'Training MAE:', dtree_train_mae, '\\n', 'Training R2:', dtree_train_r2)\n",
    "\n",
    "# Checking the model performance on the test data\n",
    "y_test_pred = dtree_model.predict(X_test)\n",
    "dtree_test_mse = mean_squared_error(y_test, y_test_pred)\n",
    "dtree_test_rmse = np.sqrt(dtree_test_mse)\n",
    "dtree_test_mae = np.mean(np.abs(y_test - y_test_pred))\n",
    "dtree_test_r2 = dtree_model.score(X_test, y_test)\n",
    "print('Test MSE:', dtree_test_mse, '\\n', 'Test RMSE:', dtree_test_rmse,\n",
    "      '\\n', 'Test MAE:', dtree_test_mae, '\\n', 'Test R2:', dtree_test_r2)"
   ]
  },
  {
   "cell_type": "code",
   "execution_count": 66,
   "metadata": {},
   "outputs": [
    {
     "data": {
      "image/png": "[encoded data removed]",
      "text/plain": [
       "<Figure size 640x480 with 1 Axes>"
      ]
     },
     "metadata": {},
     "output_type": "display_data"
    }
   ],
   "source": [
    "# Plotting the results from the default regression tree model\n",
    "plt.scatter(y_test, y_test_pred)\n",
    "plt.xlabel('y_test')\n",
    "plt.ylabel('y_pred_test')\n",
    "plt.title('Decision Tree Regression')\n",
    "plt.show()"
   ]
  },
  {
   "cell_type": "code",
   "execution_count": 67,
   "metadata": {},
   "outputs": [
    {
     "name": "stdout",
     "output_type": "stream",
     "text": [
      "New MSE: 88961.017672293 \n",
      " New RMSE: 298.2633361180905 \n",
      " New MAE: 99.02292836252396 \n",
      " New R2: -1.681507469914957\n"
     ]
    }
   ],
   "source": [
    "# Checking the model performance on the new data\n",
    "y_new_pred = dtree_model.predict(X_dec)\n",
    "dtree_new_mse = mean_squared_error(y_dec, y_new_pred)\n",
    "dtree_new_rmse = np.sqrt(dtree_new_mse)\n",
    "dtree_new_mae = np.mean(np.abs(y_dec - y_new_pred))\n",
    "dtree_new_r2 = dtree_model.score(X_dec, y_dec)\n",
    "print('New MSE:', dtree_new_mse, '\\n', 'New RMSE:', dtree_new_rmse,\n",
    "      '\\n', 'New MAE:', dtree_new_mae, '\\n', 'New R2:', dtree_new_r2)"
   ]
  },
  {
   "cell_type": "code",
   "execution_count": 68,
   "metadata": {},
   "outputs": [],
   "source": [
    "# Recording the results\n",
    "models.append('Decision Tree - Default')\n",
    "Train_RMSE.append(dtree_train_rmse)\n",
    "Test_RMSE.append(dtree_test_rmse)\n",
    "Dec_RMSE.append(dtree_new_rmse)"
   ]
  },
  {
   "cell_type": "code",
   "execution_count": 69,
   "metadata": {},
   "outputs": [
    {
     "name": "stdout",
     "output_type": "stream",
     "text": [
      "Tuned Decision Tree Parameters: {'min_samples_split': 14, 'min_samples_leaf': 19, 'max_depth': 10}\n"
     ]
    }
   ],
   "source": [
    "# defining the grid of parameters\n",
    "from sklearn.model_selection import RandomizedSearchCV\n",
    "\n",
    "param_grid = {'max_depth': np.arange(3, 20), 'min_samples_leaf': np.arange(5, 20), 'min_samples_split': np.arange(5, 20)}\n",
    "\n",
    "# defining the model\n",
    "dtree_model_cv = DecisionTreeRegressor(random_state=42)\n",
    "\n",
    "# defining the random search\n",
    "dtree_cv = RandomizedSearchCV(dtree_model_cv, param_grid, cv = 5)\n",
    "\n",
    "# fitting the model to the training data\n",
    "dtree_cv.fit(X_train, y_train)\n",
    "# storing the best parameters\n",
    "best_params = dtree_cv.best_params_\n",
    "\n",
    "# printing the best parameters\n",
    "print(\"Tuned Decision Tree Parameters: {}\".format(best_params))"
   ]
  },
  {
   "cell_type": "code",
   "execution_count": 70,
   "metadata": {},
   "outputs": [
    {
     "name": "stdout",
     "output_type": "stream",
     "text": [
      "Training MSE: 36694.10212814406 \n",
      " Training RMSE: 191.55704666794188 \n",
      " Training MAE: 74.61936187391005 \n",
      " Training R2: 0.23807251532265394\n",
      "Test MSE: 42253.850284106746 \n",
      " Test RMSE: 205.55741359558587 \n",
      " Test MAE: 79.41356664356661 \n",
      " Test R2: 0.17588718434970252\n"
     ]
    }
   ],
   "source": [
    "# Creating a decision tree regression model with the best parameters\n",
    "dtree_model_best = DecisionTreeRegressor(random_state=42, **best_params)\n",
    "\n",
    "# Fitting the model to the training data\n",
    "dtree_model_best.fit(X_train, y_train)\n",
    "\n",
    "# Checking the model performance on the training data\n",
    "y_train_pred = dtree_model_best.predict(X_train)\n",
    "dtree_tuned_train_mse = mean_squared_error(y_train, y_train_pred)\n",
    "dtree_tuned_train_rmse = np.sqrt(dtree_tuned_train_mse)\n",
    "dtree_tuned_train_mae = np.mean(np.abs(y_train - y_train_pred))\n",
    "dtree_tuned_train_r2 = dtree_model_best.score(X_train, y_train)\n",
    "print('Training MSE:', dtree_tuned_train_mse, '\\n', 'Training RMSE:', dtree_tuned_train_rmse,\n",
    "      '\\n', 'Training MAE:', dtree_tuned_train_mae, '\\n', 'Training R2:', dtree_tuned_train_r2)\n",
    "\n",
    "# Checking the model performance on the test data\n",
    "y_test_pred = dtree_model_best.predict(X_test)\n",
    "dtree_tuned_test_mse = mean_squared_error(y_test, y_test_pred)\n",
    "dtree_tuned_test_rmse = np.sqrt(dtree_tuned_test_mse)\n",
    "dtree_tuned_test_mae = np.mean(np.abs(y_test - y_test_pred))\n",
    "dtree_tuned_test_r2 = dtree_model_best.score(X_test, y_test)\n",
    "print('Test MSE:', dtree_tuned_test_mse, '\\n', 'Test RMSE:', dtree_tuned_test_rmse,\n",
    "      '\\n', 'Test MAE:', dtree_tuned_test_mae, '\\n', 'Test R2:', dtree_tuned_test_r2)"
   ]
  },
  {
   "cell_type": "code",
   "execution_count": 71,
   "metadata": {},
   "outputs": [
    {
     "data": {
      "image/png": "[encoded data removed]",
      "text/plain": [
       "<Figure size 640x480 with 1 Axes>"
      ]
     },
     "metadata": {},
     "output_type": "display_data"
    }
   ],
   "source": [
    "# Plotting the results from the Tuned regression tree model\n",
    "plt.scatter(y_test, y_test_pred)\n",
    "plt.xlabel('y_test')\n",
    "plt.ylabel('y_pred_test')\n",
    "plt.title('Tuned Decision Tree Regression')\n",
    "plt.show()"
   ]
  },
  {
   "cell_type": "code",
   "execution_count": 72,
   "metadata": {},
   "outputs": [
    {
     "name": "stdout",
     "output_type": "stream",
     "text": [
      "New MSE: 37766.867809272044 \n",
      " New RMSE: 194.33699547248344 \n",
      " New MAE: 87.43360323121993 \n",
      " New R2: -0.1383878107027885\n"
     ]
    }
   ],
   "source": [
    "# Checking the model performance on the new data\n",
    "y_new_pred = dtree_model_best.predict(X_dec)\n",
    "dtree_tuned_new_mse = mean_squared_error(y_dec, y_new_pred)\n",
    "dtree_tuned_new_rmse = np.sqrt(dtree_tuned_new_mse)\n",
    "dtree_tuned_new_mae = np.mean(np.abs(y_dec - y_new_pred))\n",
    "dtree_tuned_new_r2 = dtree_model_best.score(X_dec, y_dec)\n",
    "print('New MSE:', dtree_tuned_new_mse, '\\n', 'New RMSE:', dtree_tuned_new_rmse,\n",
    "      '\\n', 'New MAE:', dtree_tuned_new_mae, '\\n', 'New R2:', dtree_tuned_new_r2)"
   ]
  },
  {
   "cell_type": "code",
   "execution_count": 73,
   "metadata": {},
   "outputs": [],
   "source": [
    "# Recording the results\n",
    "models.append('Decision Tree - Tuned')\n",
    "Train_RMSE.append(dtree_tuned_train_rmse)\n",
    "Test_RMSE.append(dtree_tuned_test_rmse)\n",
    "Dec_RMSE.append(dtree_tuned_new_rmse)"
   ]
  },
  {
   "cell_type": "markdown",
   "metadata": {},
   "source": [
    "# K-Nearest Neighbors (KNN) Regression"
   ]
  },
  {
   "cell_type": "code",
   "execution_count": 74,
   "metadata": {},
   "outputs": [
    {
     "name": "stdout",
     "output_type": "stream",
     "text": [
      "Training MSE: 31241.229257711155 \n",
      " Training RMSE: 176.75188615036376 \n",
      " Training MAE: 69.6188166618622 \n",
      " Training R2: 0.35129762424956423\n",
      "Test MSE: 45756.99492649179 \n",
      " Test RMSE: 213.90884723753663 \n",
      " Test MAE: 87.42075526088209 \n",
      " Test R2: 0.10756237192539908\n"
     ]
    }
   ],
   "source": [
    "# Creating a KNN regression model\n",
    "from sklearn.neighbors import KNeighborsRegressor\n",
    "\n",
    "\n",
    "knn_model = KNeighborsRegressor()\n",
    "\n",
    "# Fitting the model to the training data\n",
    "knn_model.fit(X_train, y_train)\n",
    "\n",
    "# Checking the model performance on the training data\n",
    "y_train_pred = knn_model.predict(X_train)\n",
    "knn_train_mse = mean_squared_error(y_train, y_train_pred)\n",
    "knn_train_rmse = np.sqrt(knn_train_mse)\n",
    "knn_train_mae = np.mean(np.abs(y_train - y_train_pred))\n",
    "knn_train_r2 = knn_model.score(X_train, y_train)\n",
    "print('Training MSE:', knn_train_mse, '\\n', 'Training RMSE:', knn_train_rmse,\n",
    "      '\\n', 'Training MAE:', knn_train_mae, '\\n', 'Training R2:', knn_train_r2)\n",
    "\n",
    "# Checking the model performance on the test data\n",
    "y_test_pred = knn_model.predict(X_test)\n",
    "knn_test_mse = mean_squared_error(y_test, y_test_pred)\n",
    "knn_test_rmse = np.sqrt(knn_test_mse)\n",
    "knn_test_mae = np.mean(np.abs(y_test - y_test_pred))\n",
    "knn_test_r2 = knn_model.score(X_test, y_test)\n",
    "print('Test MSE:', knn_test_mse, '\\n', 'Test RMSE:', knn_test_rmse,\n",
    "      '\\n', 'Test MAE:', knn_test_mae, '\\n', 'Test R2:', knn_test_r2)"
   ]
  },
  {
   "cell_type": "code",
   "execution_count": 75,
   "metadata": {},
   "outputs": [
    {
     "data": {
      "image/png": "[encoded data removed]",
      "text/plain": [
       "<Figure size 640x480 with 1 Axes>"
      ]
     },
     "metadata": {},
     "output_type": "display_data"
    }
   ],
   "source": [
    "# Plotting the results from the Default KNN model\n",
    "plt.scatter(y_test, y_test_pred)\n",
    "plt.xlabel('y_test')\n",
    "plt.ylabel('y_pred_test')\n",
    "plt.title('Default KNN Regression')\n",
    "plt.show()"
   ]
  },
  {
   "cell_type": "code",
   "execution_count": 76,
   "metadata": {},
   "outputs": [
    {
     "name": "stdout",
     "output_type": "stream",
     "text": [
      "New MSE: 37745.612667015164 \n",
      " New RMSE: 194.28230147652454 \n",
      " New MAE: 86.36818872491342 \n",
      " New R2: -0.13774712757857022\n"
     ]
    }
   ],
   "source": [
    "# Checking the model performance on the new data\n",
    "y_new_pred = knn_model.predict(X_dec)\n",
    "knn_new_mse = mean_squared_error(y_dec, y_new_pred)\n",
    "knn_new_rmse = np.sqrt(knn_new_mse)\n",
    "knn_new_mae = np.mean(np.abs(y_dec - y_new_pred))\n",
    "knn_new_r2 = knn_model.score(X_dec, y_dec)\n",
    "print('New MSE:', knn_new_mse, '\\n', 'New RMSE:', knn_new_rmse,\n",
    "      '\\n', 'New MAE:', knn_new_mae, '\\n', 'New R2:', knn_new_r2)"
   ]
  },
  {
   "cell_type": "code",
   "execution_count": 77,
   "metadata": {},
   "outputs": [],
   "source": [
    "# Recording the results\n",
    "models.append('KNN - Default')\n",
    "Train_RMSE.append(knn_train_rmse)\n",
    "Test_RMSE.append(knn_test_rmse)\n",
    "Dec_RMSE.append(knn_new_rmse)"
   ]
  },
  {
   "cell_type": "markdown",
   "metadata": {},
   "source": [
    "# Tuned KNN Regression"
   ]
  },
  {
   "cell_type": "code",
   "execution_count": 78,
   "metadata": {},
   "outputs": [],
   "source": [
    "# defining the grid of parameters\n",
    "param_grid = {'n_neighbors': np.arange(1, 20), 'weights': ['uniform', 'distance']}\n",
    "\n",
    "# defining the model\n",
    "knn_model_cv = KNeighborsRegressor()\n",
    "\n",
    "# defining the random search\n",
    "knn_cv = RandomizedSearchCV(knn_model_cv, param_grid, cv = 5)\n",
    "\n",
    "# fitting the model to the training data\n",
    "knn_cv.fit(X_train, y_train)\n",
    "\n",
    "# storing the best parameters\n",
    "best_params = knn_cv.best_params_"
   ]
  },
  {
   "cell_type": "code",
   "execution_count": 79,
   "metadata": {},
   "outputs": [
    {
     "name": "stdout",
     "output_type": "stream",
     "text": [
      "Tuned KNN Parameters: {'weights': 'distance', 'n_neighbors': 19}\n"
     ]
    }
   ],
   "source": [
    "# printing the best parameters\n",
    "print(\"Tuned KNN Parameters: {}\".format(best_params))"
   ]
  },
  {
   "cell_type": "code",
   "execution_count": 80,
   "metadata": {},
   "outputs": [
    {
     "name": "stdout",
     "output_type": "stream",
     "text": [
      "Training MSE: 0.11685644413808648 \n",
      " Training RMSE: 0.34184271842191766 \n",
      " Training MAE: 0.004544336676817947 \n",
      " Training R2: 0.9999975735572916\n",
      "Test MSE: 45425.85685155635 \n",
      " Test RMSE: 213.1334249984182 \n",
      " Test MAE: 84.8594068927536 \n",
      " Test R2: 0.114020839721095\n"
     ]
    }
   ],
   "source": [
    "# Creating a KNN regression model with the best parameters\n",
    "knn_model_best = KNeighborsRegressor(**best_params)\n",
    "# Fitting the model to the training data\n",
    "knn_model_best.fit(X_train, y_train)\n",
    "\n",
    "# Checking the model performance on the training data\n",
    "y_train_pred = knn_model_best.predict(X_train)\n",
    "knn_tuned_train_mse = mean_squared_error(y_train, y_train_pred)\n",
    "knn_tuned_train_rmse = np.sqrt(knn_tuned_train_mse)\n",
    "knn_tuned_train_mae = np.mean(np.abs(y_train - y_train_pred))\n",
    "knn_tuned_train_r2 = knn_model_best.score(X_train, y_train)\n",
    "print('Training MSE:', knn_tuned_train_mse, '\\n', 'Training RMSE:', knn_tuned_train_rmse,\n",
    "      '\\n', 'Training MAE:', knn_tuned_train_mae, '\\n', 'Training R2:', knn_tuned_train_r2)\n",
    "\n",
    "# Checking the model performance on the test data\n",
    "y_test_pred = knn_model_best.predict(X_test)\n",
    "knn_tuned_test_mse = mean_squared_error(y_test, y_test_pred)\n",
    "knn_tuned_test_rmse = np.sqrt(knn_tuned_test_mse)\n",
    "knn_tuned_test_mae = np.mean(np.abs(y_test - y_test_pred))\n",
    "knn_tuned_test_r2 = knn_model_best.score(X_test, y_test)\n",
    "print('Test MSE:', knn_tuned_test_mse, '\\n', 'Test RMSE:', knn_tuned_test_rmse,\n",
    "      '\\n', 'Test MAE:', knn_tuned_test_mae, '\\n', 'Test R2:', knn_tuned_test_r2)"
   ]
  },
  {
   "cell_type": "code",
   "execution_count": 81,
   "metadata": {},
   "outputs": [
    {
     "data": {
      "image/png": "[encoded data removed]",
      "text/plain": [
       "<Figure size 640x480 with 1 Axes>"
      ]
     },
     "metadata": {},
     "output_type": "display_data"
    }
   ],
   "source": [
    "# Plotting the results from the Tuned KNN model\n",
    "plt.scatter(y_test, y_test_pred)\n",
    "plt.xlabel('y_test')\n",
    "plt.ylabel('y_pred_test')\n",
    "plt.xlim(0, 1500)\n",
    "plt.ylim(0, 1500)\n",
    "plt.title('Tuned KNN regression')\n",
    "plt.show()"
   ]
  },
  {
   "cell_type": "code",
   "execution_count": 82,
   "metadata": {},
   "outputs": [
    {
     "name": "stdout",
     "output_type": "stream",
     "text": [
      "New MSE: 32137.65695943725 \n",
      " New RMSE: 179.2697881948803 \n",
      " New MAE: 81.67906095734695 \n",
      " New R2: 0.03129067700475052\n"
     ]
    }
   ],
   "source": [
    "# Checking the model performance on the new data\n",
    "y_new_pred = knn_model_best.predict(X_dec)\n",
    "knn_tuned_new_mse = mean_squared_error(y_dec, y_new_pred)\n",
    "knn_tuned_new_rmse = np.sqrt(knn_tuned_new_mse)\n",
    "knn_tuned_new_mae = np.mean(np.abs(y_dec - y_new_pred))\n",
    "knn_tuned_new_r2 = knn_model_best.score(X_dec, y_dec)\n",
    "print('New MSE:', knn_tuned_new_mse, '\\n', 'New RMSE:', knn_tuned_new_rmse,\n",
    "      '\\n', 'New MAE:', knn_tuned_new_mae, '\\n', 'New R2:', knn_tuned_new_r2)"
   ]
  },
  {
   "cell_type": "code",
   "execution_count": 83,
   "metadata": {},
   "outputs": [],
   "source": [
    "# Recording the results\n",
    "models.append('KNN - Tuned')\n",
    "Train_RMSE.append(knn_tuned_train_rmse)\n",
    "Test_RMSE.append(knn_tuned_test_rmse)\n",
    "Dec_RMSE.append(knn_tuned_new_rmse)"
   ]
  },
  {
   "cell_type": "markdown",
   "metadata": {},
   "source": [
    "# Model 5: Random Forest Regression"
   ]
  },
  {
   "cell_type": "code",
   "execution_count": 84,
   "metadata": {},
   "outputs": [
    {
     "name": "stdout",
     "output_type": "stream",
     "text": [
      "Training MSE: 5566.7022771211705 \n",
      " Training RMSE: 74.61033626194946 \n",
      " Training MAE: 26.129951709186127 \n",
      " Training R2: 0.8844113026899368\n",
      "Test MSE: 38173.37336072838 \n",
      " Test RMSE: 195.38007411383686 \n",
      " Test MAE: 70.02306418756606 \n",
      " Test R2: 0.2554721997722207\n"
     ]
    }
   ],
   "source": [
    "# Creating a random forest regression model\n",
    "from sklearn.ensemble import RandomForestRegressor\n",
    "\n",
    "\n",
    "rf_model = RandomForestRegressor(n_estimators=100, random_state=42)\n",
    "\n",
    "# Fitting the model to the training data\n",
    "rf_model.fit(X_train, y_train)\n",
    "\n",
    "# Checking the model performance on the training data\n",
    "y_train_pred = rf_model.predict(X_train)\n",
    "rf_train_mse = mean_squared_error(y_train, y_train_pred)\n",
    "rf_train_rmse = np.sqrt(rf_train_mse)\n",
    "rf_train_mae = np.mean(np.abs(y_train - y_train_pred))\n",
    "rf_train_r2 = rf_model.score(X_train, y_train)\n",
    "print('Training MSE:', rf_train_mse, '\\n', 'Training RMSE:', rf_train_rmse, '\\n', 'Training MAE:', rf_train_mae, '\\n', 'Training R2:', rf_train_r2)\n",
    "\n",
    "# Checking the model performance on the test data\n",
    "y_test_pred = rf_model.predict(X_test)\n",
    "rf_test_mse = mean_squared_error(y_test, y_test_pred)\n",
    "rf_test_rmse = np.sqrt(rf_test_mse)\n",
    "rf_test_mae = np.mean(np.abs(y_test - y_test_pred))\n",
    "rf_test_r2 = rf_model.score(X_test, y_test)\n",
    "print('Test MSE:', rf_test_mse, '\\n', 'Test RMSE:', rf_test_rmse, '\\n', 'Test MAE:', rf_test_mae, '\\n', 'Test R2:', rf_test_r2)"
   ]
  },
  {
   "cell_type": "code",
   "execution_count": 85,
   "metadata": {},
   "outputs": [
    {
     "data": {
      "image/png": "[encoded data removed]",
      "text/plain": [
       "<Figure size 640x480 with 1 Axes>"
      ]
     },
     "metadata": {},
     "output_type": "display_data"
    }
   ],
   "source": [
    "# Plotting the results from the Random Forest model\n",
    "plt.scatter(y_test, y_test_pred)\n",
    "plt.xlabel('y_test')\n",
    "plt.ylabel('y_pred_test')\n",
    "plt.xlim(0, 500)\n",
    "plt.ylim(0, 500)\n",
    "plt.title('Random Forest Regression')\n",
    "plt.show()"
   ]
  },
  {
   "cell_type": "code",
   "execution_count": 86,
   "metadata": {},
   "outputs": [
    {
     "name": "stdout",
     "output_type": "stream",
     "text": [
      "New MSE: 34809.02779182416 \n",
      " New RMSE: 186.57177651462763 \n",
      " New MAE: 83.02504088367454 \n",
      " New R2: -0.04923111815215764\n"
     ]
    }
   ],
   "source": [
    "# Checking the model performance on the new data\n",
    "y_new_pred = rf_model.predict(X_dec)\n",
    "rf_new_mse = mean_squared_error(y_dec, y_new_pred)\n",
    "rf_new_rmse = np.sqrt(rf_new_mse)\n",
    "rf_new_mae = np.mean(np.abs(y_dec - y_new_pred))\n",
    "rf_new_r2 = rf_model.score(X_dec, y_dec)\n",
    "print('New MSE:', rf_new_mse, '\\n', 'New RMSE:', rf_new_rmse, '\\n', 'New MAE:', rf_new_mae, '\\n', 'New R2:', rf_new_r2)\n"
   ]
  },
  {
   "cell_type": "code",
   "execution_count": 87,
   "metadata": {},
   "outputs": [],
   "source": [
    "# Recording the results\n",
    "models.append('Random Forest - Default')\n",
    "Train_RMSE.append(rf_train_rmse)\n",
    "Test_RMSE.append(rf_test_rmse)\n",
    "Dec_RMSE.append(rf_new_rmse)"
   ]
  },
  {
   "cell_type": "code",
   "execution_count": 88,
   "metadata": {},
   "outputs": [
    {
     "data": {
      "text/plain": [
       "'# defining the grid of parameters\\nparam_grid = {\"n_estimators\": np.arange(200, 500, 100), \"max_features\": [\\'sqrt\\'], \\'bootstrap\\': [True, False]}\\n\\n# defining the model\\nrf_model_cv = RandomForestRegressor(random_state=42)\\n# defining the random search\\nrf_cv = RandomizedSearchCV(rf_model_cv, param_grid, cv = 5)\\n\\n# fitting the model to the training data\\nrf_cv.fit(X_train, y_train)\\n\\n# storing the best parameters\\nbest_params = rf_cv.best_params_\\n\\n# printing the best parameters\\nprint(\"Tuned Random Forest Parameters: {}\".format(best_params))'"
      ]
     },
     "execution_count": 88,
     "metadata": {},
     "output_type": "execute_result"
    }
   ],
   "source": [
    "\"\"\"# defining the grid of parameters\n",
    "param_grid = {\"n_estimators\": np.arange(200, 500, 100), \"max_features\": ['sqrt'], 'bootstrap': [True, False]}\n",
    "\n",
    "# defining the model\n",
    "rf_model_cv = RandomForestRegressor(random_state=42)\n",
    "# defining the random search\n",
    "rf_cv = RandomizedSearchCV(rf_model_cv, param_grid, cv = 5)\n",
    "\n",
    "# fitting the model to the training data\n",
    "rf_cv.fit(X_train, y_train)\n",
    "\n",
    "# storing the best parameters\n",
    "best_params = rf_cv.best_params_\n",
    "\n",
    "# printing the best parameters\n",
    "print(\"Tuned Random Forest Parameters: {}\".format(best_params))\"\"\""
   ]
  },
  {
   "cell_type": "code",
   "execution_count": 89,
   "metadata": {},
   "outputs": [
    {
     "name": "stdout",
     "output_type": "stream",
     "text": [
      "Training MSE: 0.12037170453364393 \n",
      " Training RMSE: 0.3469462559729445 \n",
      " Training MAE: 0.010298528462985103 \n",
      " Training R2: 0.9999975005653567\n",
      "Test MSE: 38764.61045195002 \n",
      " Test RMSE: 196.88730393793813 \n",
      " Test MAE: 72.63186694395256 \n",
      " Test R2: 0.24394079942201796\n"
     ]
    }
   ],
   "source": [
    "# Creating a random forest regression model with the best parameters\n",
    "best_params = {'n_estimators': 210, 'max_features': 'sqrt', 'bootstrap': False}\n",
    "\n",
    "rf_model_best = RandomForestRegressor(**best_params)\n",
    "\n",
    "# Fitting the model to the training data\n",
    "rf_model_best.fit(X_train, y_train)\n",
    "\n",
    "# Checking the model performance on the training data\n",
    "y_train_pred = rf_model_best.predict(X_train)\n",
    "rf_tuned_train_mse = mean_squared_error(y_train, y_train_pred)\n",
    "rf_tuned_train_rmse = np.sqrt(rf_tuned_train_mse)\n",
    "rf_tuned_train_mae = np.mean(np.abs(y_train - y_train_pred))\n",
    "rf_tuned_train_r2 = rf_model_best.score(X_train, y_train)\n",
    "print('Training MSE:', rf_tuned_train_mse, '\\n', 'Training RMSE:', rf_tuned_train_rmse,\n",
    "      '\\n', 'Training MAE:', rf_tuned_train_mae, '\\n', 'Training R2:', rf_tuned_train_r2)\n",
    "\n",
    "# Checking the model performance on the test data\n",
    "y_test_pred = rf_model_best.predict(X_test)\n",
    "rf_tuned_test_mse = mean_squared_error(y_test, y_test_pred)\n",
    "rf_tuned_test_rmse = np.sqrt(rf_tuned_test_mse)\n",
    "rf_tuned_test_mae = np.mean(np.abs(y_test - y_test_pred))\n",
    "rf_tuned_test_r2 = rf_model_best.score(X_test, y_test)\n",
    "print('Test MSE:', rf_tuned_test_mse, '\\n', 'Test RMSE:', rf_tuned_test_rmse,\n",
    "      '\\n', 'Test MAE:', rf_tuned_test_mae, '\\n', 'Test R2:', rf_tuned_test_r2)"
   ]
  },
  {
   "cell_type": "code",
   "execution_count": 90,
   "metadata": {},
   "outputs": [
    {
     "data": {
      "image/png": "[encoded data removed]",
      "text/plain": [
       "<Figure size 640x480 with 1 Axes>"
      ]
     },
     "metadata": {},
     "output_type": "display_data"
    }
   ],
   "source": [
    "# Plotting the results from the Tuned Random Forest model\n",
    "plt.scatter(y_test, y_test_pred)\n",
    "plt.xlabel('y_test')\n",
    "plt.ylabel('y_pred_test')\n",
    "plt.xlim(0, 500)\n",
    "plt.ylim(0, 500)\n",
    "plt.title('Random Forest Regression')\n",
    "plt.show()"
   ]
  },
  {
   "cell_type": "code",
   "execution_count": 91,
   "metadata": {},
   "outputs": [
    {
     "name": "stdout",
     "output_type": "stream",
     "text": [
      "New MSE: 25038.33817368612 \n",
      " New RMSE: 158.23507251455385 \n",
      " New MAE: 73.3749032555504 \n",
      " New R2: 0.245281893083524\n"
     ]
    }
   ],
   "source": [
    "# Checking the model performance on the new data\n",
    "y_new_pred = rf_model_best.predict(X_dec)\n",
    "rf_tuned_new_mse = mean_squared_error(y_dec, y_new_pred)\n",
    "rf_tuned_new_rmse = np.sqrt(rf_tuned_new_mse)\n",
    "rf_tuned_new_mae = np.mean(np.abs(y_dec - y_new_pred))\n",
    "rf_tuned_new_r2 = rf_model_best.score(X_dec, y_dec)\n",
    "print('New MSE:', rf_tuned_new_mse, '\\n', 'New RMSE:', rf_tuned_new_rmse,\n",
    "      '\\n', 'New MAE:', rf_tuned_new_mae, '\\n', 'New R2:', rf_tuned_new_r2)"
   ]
  },
  {
   "cell_type": "code",
   "execution_count": 92,
   "metadata": {},
   "outputs": [],
   "source": [
    "# Recording the results\n",
    "models.append('Random Forest - Tuned')\n",
    "Train_RMSE.append(rf_tuned_train_rmse)\n",
    "Test_RMSE.append(rf_tuned_test_rmse)\n",
    "Dec_RMSE.append(rf_tuned_new_rmse)"
   ]
  },
  {
   "cell_type": "markdown",
   "metadata": {},
   "source": [
    "# Model 6: GBM"
   ]
  },
  {
   "cell_type": "code",
   "execution_count": 93,
   "metadata": {},
   "outputs": [
    {
     "name": "stdout",
     "output_type": "stream",
     "text": [
      "Training MSE: 35193.48674046693 \n",
      " Training RMSE: 187.5992716949267 \n",
      " Training MAE: 72.16154369898328 \n",
      " Training R2: 0.2692317491365265\n",
      "Test MSE: 40240.103387706644 \n",
      " Test RMSE: 200.5993603870826 \n",
      " Test MAE: 74.3630375005708 \n",
      " Test R2: 0.215163004509068\n"
     ]
    }
   ],
   "source": [
    "# Creating a gradient boosting regression model\n",
    "from sklearn.ensemble import GradientBoostingRegressor\n",
    "\n",
    "GBM_model = GradientBoostingRegressor(random_state=42)\n",
    "\n",
    "# Fitting the model to the training data\n",
    "GBM_model.fit(X_train, y_train)\n",
    "\n",
    "# Checking the model performance on the training data\n",
    "y_train_pred = GBM_model.predict(X_train)\n",
    "GBM_train_mse = mean_squared_error(y_train, y_train_pred)\n",
    "GBM_train_rmse = np.sqrt(GBM_train_mse)\n",
    "GBM_train_mae = np.mean(np.abs(y_train - y_train_pred))\n",
    "GBM_train_r2 = GBM_model.score(X_train, y_train)\n",
    "print('Training MSE:', GBM_train_mse, '\\n', 'Training RMSE:', GBM_train_rmse,\n",
    "      '\\n', 'Training MAE:', GBM_train_mae, '\\n', 'Training R2:', GBM_train_r2)\n",
    "\n",
    "# Checking the model performance on the test data\n",
    "y_test_pred = GBM_model.predict(X_test)\n",
    "GBM_test_mse = mean_squared_error(y_test, y_test_pred)\n",
    "GBM_test_rmse = np.sqrt(GBM_test_mse)\n",
    "GBM_test_mae = np.mean(np.abs(y_test - y_test_pred))\n",
    "GBM_test_r2 = GBM_model.score(X_test, y_test)\n",
    "print('Test MSE:', GBM_test_mse, '\\n', 'Test RMSE:', GBM_test_rmse,\n",
    "      '\\n', 'Test MAE:', GBM_test_mae, '\\n', 'Test R2:', GBM_test_r2)"
   ]
  },
  {
   "cell_type": "code",
   "execution_count": 94,
   "metadata": {},
   "outputs": [
    {
     "data": {
      "image/png": "[encoded data removed]",
      "text/plain": [
       "<Figure size 640x480 with 1 Axes>"
      ]
     },
     "metadata": {},
     "output_type": "display_data"
    }
   ],
   "source": [
    "# Plotting the results from the Default GBM model\n",
    "plt.scatter(y_test, y_test_pred)\n",
    "plt.xlabel('y_test')\n",
    "plt.ylabel('y_pred_test')\n",
    "plt.xlim(0, 500)\n",
    "plt.ylim(0, 500)\n",
    "plt.title('Default GBM Regression')\n",
    "plt.show()\n"
   ]
  },
  {
   "cell_type": "code",
   "execution_count": 95,
   "metadata": {},
   "outputs": [
    {
     "name": "stdout",
     "output_type": "stream",
     "text": [
      "New MSE: 30225.957486921994 \n",
      " New RMSE: 173.8561402048314 \n",
      " New MAE: 80.79538708268322 \n",
      " New R2: 0.08891407824174768\n"
     ]
    }
   ],
   "source": [
    "# Checking the model performance on the new data\n",
    "y_new_pred = GBM_model.predict(X_dec)\n",
    "GBM_new_mse = mean_squared_error(y_dec, y_new_pred)\n",
    "GBM_new_rmse = np.sqrt(GBM_new_mse)\n",
    "GBM_new_mae = np.mean(np.abs(y_dec - y_new_pred))\n",
    "GBM_new_r2 = GBM_model.score(X_dec, y_dec)\n",
    "print('New MSE:', GBM_new_mse, '\\n', 'New RMSE:', GBM_new_rmse,\n",
    "      '\\n', 'New MAE:', GBM_new_mae, '\\n', 'New R2:', GBM_new_r2)"
   ]
  },
  {
   "cell_type": "code",
   "execution_count": 96,
   "metadata": {},
   "outputs": [],
   "source": [
    "# Recording the results\n",
    "models.append('GBM - Default')\n",
    "Train_RMSE.append(GBM_train_rmse)\n",
    "Test_RMSE.append(GBM_test_rmse)\n",
    "Dec_RMSE.append(GBM_new_rmse)"
   ]
  },
  {
   "cell_type": "code",
   "execution_count": 97,
   "metadata": {},
   "outputs": [
    {
     "data": {
      "text/html": [
       "<div>\n",
       "<style scoped>\n",
       "    .dataframe tbody tr th:only-of-type {\n",
       "        vertical-align: middle;\n",
       "    }\n",
       "\n",
       "    .dataframe tbody tr th {\n",
       "        vertical-align: top;\n",
       "    }\n",
       "\n",
       "    .dataframe thead th {\n",
       "        text-align: right;\n",
       "    }\n",
       "</style>\n",
       "<table border=\"1\" class=\"dataframe\">\n",
       "  <thead>\n",
       "    <tr style=\"text-align: right;\">\n",
       "      <th></th>\n",
       "      <th>Model</th>\n",
       "      <th>Train_RMSE</th>\n",
       "      <th>Test_RMSE</th>\n",
       "      <th>Dec_RMSE</th>\n",
       "    </tr>\n",
       "  </thead>\n",
       "  <tbody>\n",
       "    <tr>\n",
       "      <th>5</th>\n",
       "      <td>Random Forest - Default</td>\n",
       "      <td>74.61</td>\n",
       "      <td>195.38</td>\n",
       "      <td>186.57</td>\n",
       "    </tr>\n",
       "    <tr>\n",
       "      <th>6</th>\n",
       "      <td>Random Forest - Tuned</td>\n",
       "      <td>0.35</td>\n",
       "      <td>196.89</td>\n",
       "      <td>158.24</td>\n",
       "    </tr>\n",
       "    <tr>\n",
       "      <th>7</th>\n",
       "      <td>GBM - Default</td>\n",
       "      <td>187.60</td>\n",
       "      <td>200.60</td>\n",
       "      <td>173.86</td>\n",
       "    </tr>\n",
       "    <tr>\n",
       "      <th>2</th>\n",
       "      <td>Decision Tree - Tuned</td>\n",
       "      <td>191.56</td>\n",
       "      <td>205.56</td>\n",
       "      <td>194.34</td>\n",
       "    </tr>\n",
       "    <tr>\n",
       "      <th>4</th>\n",
       "      <td>KNN - Tuned</td>\n",
       "      <td>0.34</td>\n",
       "      <td>213.13</td>\n",
       "      <td>179.27</td>\n",
       "    </tr>\n",
       "    <tr>\n",
       "      <th>3</th>\n",
       "      <td>KNN - Default</td>\n",
       "      <td>176.75</td>\n",
       "      <td>213.91</td>\n",
       "      <td>194.28</td>\n",
       "    </tr>\n",
       "    <tr>\n",
       "      <th>0</th>\n",
       "      <td>OLS</td>\n",
       "      <td>205.50</td>\n",
       "      <td>213.97</td>\n",
       "      <td>180.35</td>\n",
       "    </tr>\n",
       "    <tr>\n",
       "      <th>1</th>\n",
       "      <td>Decision Tree - Default</td>\n",
       "      <td>0.34</td>\n",
       "      <td>243.49</td>\n",
       "      <td>298.26</td>\n",
       "    </tr>\n",
       "  </tbody>\n",
       "</table>\n",
       "</div>"
      ],
      "text/plain": [
       "                     Model  Train_RMSE  Test_RMSE  Dec_RMSE\n",
       "5  Random Forest - Default       74.61     195.38    186.57\n",
       "6    Random Forest - Tuned        0.35     196.89    158.24\n",
       "7            GBM - Default      187.60     200.60    173.86\n",
       "2    Decision Tree - Tuned      191.56     205.56    194.34\n",
       "4              KNN - Tuned        0.34     213.13    179.27\n",
       "3            KNN - Default      176.75     213.91    194.28\n",
       "0                      OLS      205.50     213.97    180.35\n",
       "1  Decision Tree - Default        0.34     243.49    298.26"
      ]
     },
     "execution_count": 97,
     "metadata": {},
     "output_type": "execute_result"
    }
   ],
   "source": [
    "# storing the results in a dataframe using the above lists\n",
    "results = pd.DataFrame({'Model': models, 'Train_RMSE': Train_RMSE, 'Test_RMSE': Test_RMSE, 'Dec_RMSE': Dec_RMSE})\n",
    "\n",
    "# sorting the results based on the test RMSE\n",
    "results = results.sort_values(by='Test_RMSE', ascending=True)\n",
    "\n",
    "# printing the results only by 2 decimal points\n",
    "pd.options.display.float_format = '{:,.2f}'.format\n",
    "results"
   ]
  },
  {
   "cell_type": "code",
   "execution_count": 98,
   "metadata": {},
   "outputs": [],
   "source": [
    "import shap"
   ]
  },
  {
   "cell_type": "code",
   "execution_count": 100,
   "metadata": {},
   "outputs": [],
   "source": [
    "# Create a SHAP explainer object for your Random Forest model\n",
    "explainer = shap.TreeExplainer(rf_model_best)\n",
    "\n",
    "# Compute SHAP values for your data\n",
    "shap_values = explainer.shap_values(X_train[:10])"
   ]
  },
  {
   "cell_type": "code",
   "execution_count": 103,
   "metadata": {},
   "outputs": [],
   "source": [
    "# Select SHAP values for the first instance\n",
    "shap_value_single = shap_values[1][1]  # Assuming binary classification or regression\n",
    "\n",
    "# Corresponding features for the first instance\n",
    "features_single = X.iloc[1]"
   ]
  },
  {
   "cell_type": "code",
   "execution_count": 104,
   "metadata": {},
   "outputs": [
    {
     "ename": "ValueError",
     "evalue": "visualize() can only display Explanation objects (or arrays of them)!",
     "output_type": "error",
     "traceback": [
      "\u001b[1;31m---------------------------------------------------------------------------\u001b[0m",
      "\u001b[1;31mValueError\u001b[0m                                Traceback (most recent call last)",
      "\u001b[1;32mc:\\Users\\PA\\Documents\\Austria\\CEU\\3rd Semester\\Prediction\\Git\\DA3-phdma\\HW2\\HW2.ipynb Cell 127\u001b[0m line \u001b[0;36m1\n\u001b[1;32m----> <a href='vscode-notebook-cell:/c%3A/Users/PA/Documents/Austria/CEU/3rd%20Semester/Prediction/Git/DA3-phdma/HW2/HW2.ipynb#Y301sZmlsZQ%3D%3D?line=0'>1</a>\u001b[0m shap\u001b[39m.\u001b[39;49mforce_plot(explainer\u001b[39m.\u001b[39;49mexpected_value[\u001b[39m0\u001b[39;49m], shap_value_single, features_single)\n",
      "File \u001b[1;32mc:\\Users\\PA\\anaconda3\\lib\\site-packages\\shap\\plots\\_force.py:138\u001b[0m, in \u001b[0;36mforce\u001b[1;34m(base_value, shap_values, features, feature_names, out_names, link, plot_cmap, matplotlib, show, figsize, ordering_keys, ordering_keys_time_format, text_rotation, contribution_threshold)\u001b[0m\n\u001b[0;32m    135\u001b[0m link \u001b[39m=\u001b[39m convert_to_link(link)\n\u001b[0;32m    137\u001b[0m \u001b[39mif\u001b[39;00m \u001b[39mtype\u001b[39m(shap_values) \u001b[39m!=\u001b[39m np\u001b[39m.\u001b[39mndarray:\n\u001b[1;32m--> 138\u001b[0m     \u001b[39mreturn\u001b[39;00m visualize(shap_values)\n\u001b[0;32m    140\u001b[0m \u001b[39m# convert from a DataFrame or other types\u001b[39;00m\n\u001b[0;32m    141\u001b[0m \u001b[39mif\u001b[39;00m \u001b[39mstr\u001b[39m(\u001b[39mtype\u001b[39m(features)) \u001b[39m==\u001b[39m \u001b[39m\"\u001b[39m\u001b[39m<class \u001b[39m\u001b[39m'\u001b[39m\u001b[39mpandas.core.frame.DataFrame\u001b[39m\u001b[39m'\u001b[39m\u001b[39m>\u001b[39m\u001b[39m\"\u001b[39m:\n",
      "File \u001b[1;32mc:\\Users\\PA\\anaconda3\\lib\\site-packages\\shap\\plots\\_force.py:428\u001b[0m, in \u001b[0;36mvisualize\u001b[1;34m(e, plot_cmap, matplotlib, figsize, show, ordering_keys, ordering_keys_time_format, text_rotation, min_perc)\u001b[0m\n\u001b[0;32m    421\u001b[0m     \u001b[39mreturn\u001b[39;00m AdditiveForceArrayVisualizer(\n\u001b[0;32m    422\u001b[0m         e,\n\u001b[0;32m    423\u001b[0m         plot_cmap\u001b[39m=\u001b[39mplot_cmap,\n\u001b[0;32m    424\u001b[0m         ordering_keys\u001b[39m=\u001b[39mordering_keys,\n\u001b[0;32m    425\u001b[0m         ordering_keys_time_format\u001b[39m=\u001b[39mordering_keys_time_format,\n\u001b[0;32m    426\u001b[0m     )\n\u001b[0;32m    427\u001b[0m \u001b[39melse\u001b[39;00m:\n\u001b[1;32m--> 428\u001b[0m     \u001b[39mraise\u001b[39;00m \u001b[39mValueError\u001b[39;00m(\u001b[39m\"\u001b[39m\u001b[39mvisualize() can only display Explanation objects (or arrays of them)!\u001b[39m\u001b[39m\"\u001b[39m)\n",
      "\u001b[1;31mValueError\u001b[0m: visualize() can only display Explanation objects (or arrays of them)!"
     ]
    }
   ],
   "source": [
    "shap.force_plot(explainer.expected_value[0], shap_value_single, features_single)\n"
   ]
  },
  {
   "cell_type": "code",
   "execution_count": 108,
   "metadata": {},
   "outputs": [
    {
     "ename": "TypeError",
     "evalue": "The shap_values arg is the wrong type. Try explainer.shap_values().",
     "output_type": "error",
     "traceback": [
      "\u001b[1;31m---------------------------------------------------------------------------\u001b[0m",
      "\u001b[1;31mTypeError\u001b[0m                                 Traceback (most recent call last)",
      "\u001b[1;32mc:\\Users\\PA\\Documents\\Austria\\CEU\\3rd Semester\\Prediction\\Git\\DA3-phdma\\HW2\\HW2.ipynb Cell 128\u001b[0m line \u001b[0;36m1\n\u001b[1;32m----> <a href='vscode-notebook-cell:/c%3A/Users/PA/Documents/Austria/CEU/3rd%20Semester/Prediction/Git/DA3-phdma/HW2/HW2.ipynb#Y302sZmlsZQ%3D%3D?line=0'>1</a>\u001b[0m shap\u001b[39m.\u001b[39;49mdecision_plot(explainer\u001b[39m.\u001b[39;49mexpected_value[\u001b[39m0\u001b[39;49m], shap_value_single, features_single)\n",
      "File \u001b[1;32mc:\\Users\\PA\\anaconda3\\lib\\site-packages\\shap\\plots\\_decision.py:368\u001b[0m, in \u001b[0;36mdecision\u001b[1;34m(base_value, shap_values, features, feature_names, feature_order, feature_display_range, highlight, link, plot_color, axis_color, y_demarc_color, alpha, color_bar, auto_size_plot, title, xlim, show, return_objects, ignore_warnings, new_base_value, legend_labels, legend_location)\u001b[0m\n\u001b[0;32m    366\u001b[0m \u001b[39m# validate shap_values\u001b[39;00m\n\u001b[0;32m    367\u001b[0m \u001b[39mif\u001b[39;00m \u001b[39mnot\u001b[39;00m \u001b[39misinstance\u001b[39m(shap_values, np\u001b[39m.\u001b[39mndarray):\n\u001b[1;32m--> 368\u001b[0m     \u001b[39mraise\u001b[39;00m \u001b[39mTypeError\u001b[39;00m(\u001b[39m\"\u001b[39m\u001b[39mThe shap_values arg is the wrong type. Try explainer.shap_values().\u001b[39m\u001b[39m\"\u001b[39m)\n\u001b[0;32m    370\u001b[0m \u001b[39m# calculate the various dimensions involved (observations, features, interactions, display, etc.\u001b[39;00m\n\u001b[0;32m    371\u001b[0m \u001b[39mif\u001b[39;00m shap_values\u001b[39m.\u001b[39mndim \u001b[39m==\u001b[39m \u001b[39m1\u001b[39m:\n",
      "\u001b[1;31mTypeError\u001b[0m: The shap_values arg is the wrong type. Try explainer.shap_values()."
     ]
    }
   ],
   "source": [
    "shap.decision_plot(explainer.expected_value[0], shap_value_single, features_single)\n"
   ]
  },
  {
   "cell_type": "code",
   "execution_count": null,
   "metadata": {},
   "outputs": [],
   "source": []
  }
 ],
 "metadata": {
  "kernelspec": {
   "display_name": "Python 3",
   "language": "python",
   "name": "python3"
  },
  "language_info": {
   "codemirror_mode": {
    "name": "ipython",
    "version": 3
   },
   "file_extension": ".py",
   "mimetype": "text/x-python",
   "name": "python",
   "nbconvert_exporter": "python",
   "pygments_lexer": "ipython3",
   "version": "3.10.9"
  }
 },
 "nbformat": 4,
 "nbformat_minor": 2
}
