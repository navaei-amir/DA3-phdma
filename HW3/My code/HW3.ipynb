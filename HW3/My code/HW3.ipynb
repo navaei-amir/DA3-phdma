{
 "cells": [
  {
   "cell_type": "markdown",
   "metadata": {},
   "source": [
    "## Assignment 3 - Prediction with Machine Learning\n",
    "\n",
    "### Amirhooshang Navei - CEU, Fall 2023"
   ]
  },
  {
   "cell_type": "code",
   "execution_count": 1,
   "metadata": {},
   "outputs": [],
   "source": [
    "# importing the necessary libraries\n",
    "import numpy as np\n",
    "import pandas as pd\n",
    "import matplotlib.pyplot as plt\n",
    "import seaborn as sns\n",
    "import os\n"
   ]
  },
  {
   "cell_type": "markdown",
   "metadata": {},
   "source": [
    "### Import Data"
   ]
  },
  {
   "cell_type": "code",
   "execution_count": 2,
   "metadata": {},
   "outputs": [
    {
     "data": {
      "text/html": [
       "<div>\n",
       "<style scoped>\n",
       "    .dataframe tbody tr th:only-of-type {\n",
       "        vertical-align: middle;\n",
       "    }\n",
       "\n",
       "    .dataframe tbody tr th {\n",
       "        vertical-align: top;\n",
       "    }\n",
       "\n",
       "    .dataframe thead th {\n",
       "        text-align: right;\n",
       "    }\n",
       "</style>\n",
       "<table border=\"1\" class=\"dataframe\">\n",
       "  <thead>\n",
       "    <tr style=\"text-align: right;\">\n",
       "      <th></th>\n",
       "      <th>comp_id</th>\n",
       "      <th>begin</th>\n",
       "      <th>end</th>\n",
       "      <th>COGS</th>\n",
       "      <th>amort</th>\n",
       "      <th>curr_assets</th>\n",
       "      <th>curr_liab</th>\n",
       "      <th>extra_exp</th>\n",
       "      <th>extra_inc</th>\n",
       "      <th>extra_profit_loss</th>\n",
       "      <th>...</th>\n",
       "      <th>gender</th>\n",
       "      <th>origin</th>\n",
       "      <th>nace_main</th>\n",
       "      <th>ind2</th>\n",
       "      <th>ind</th>\n",
       "      <th>urban_m</th>\n",
       "      <th>region_m</th>\n",
       "      <th>founded_date</th>\n",
       "      <th>exit_date</th>\n",
       "      <th>labor_avg</th>\n",
       "    </tr>\n",
       "  </thead>\n",
       "  <tbody>\n",
       "    <tr>\n",
       "      <th>0</th>\n",
       "      <td>1001034.0</td>\n",
       "      <td>2005-01-01</td>\n",
       "      <td>2005-12-31</td>\n",
       "      <td>NaN</td>\n",
       "      <td>692.592590</td>\n",
       "      <td>7266.666504</td>\n",
       "      <td>7574.074219</td>\n",
       "      <td>0.0</td>\n",
       "      <td>0.0</td>\n",
       "      <td>0.0</td>\n",
       "      <td>...</td>\n",
       "      <td>mix</td>\n",
       "      <td>Domestic</td>\n",
       "      <td>5630.0</td>\n",
       "      <td>56.0</td>\n",
       "      <td>3.0</td>\n",
       "      <td>1</td>\n",
       "      <td>Central</td>\n",
       "      <td>1990-11-19</td>\n",
       "      <td>NaN</td>\n",
       "      <td>NaN</td>\n",
       "    </tr>\n",
       "    <tr>\n",
       "      <th>1</th>\n",
       "      <td>1001034.0</td>\n",
       "      <td>2006-01-01</td>\n",
       "      <td>2006-12-31</td>\n",
       "      <td>NaN</td>\n",
       "      <td>603.703674</td>\n",
       "      <td>13122.222656</td>\n",
       "      <td>12211.111328</td>\n",
       "      <td>0.0</td>\n",
       "      <td>0.0</td>\n",
       "      <td>0.0</td>\n",
       "      <td>...</td>\n",
       "      <td>mix</td>\n",
       "      <td>Domestic</td>\n",
       "      <td>5630.0</td>\n",
       "      <td>56.0</td>\n",
       "      <td>3.0</td>\n",
       "      <td>1</td>\n",
       "      <td>Central</td>\n",
       "      <td>1990-11-19</td>\n",
       "      <td>NaN</td>\n",
       "      <td>NaN</td>\n",
       "    </tr>\n",
       "    <tr>\n",
       "      <th>2</th>\n",
       "      <td>1001034.0</td>\n",
       "      <td>2007-01-01</td>\n",
       "      <td>2007-12-31</td>\n",
       "      <td>NaN</td>\n",
       "      <td>425.925934</td>\n",
       "      <td>8196.295898</td>\n",
       "      <td>7800.000000</td>\n",
       "      <td>0.0</td>\n",
       "      <td>0.0</td>\n",
       "      <td>0.0</td>\n",
       "      <td>...</td>\n",
       "      <td>mix</td>\n",
       "      <td>Domestic</td>\n",
       "      <td>5630.0</td>\n",
       "      <td>56.0</td>\n",
       "      <td>3.0</td>\n",
       "      <td>1</td>\n",
       "      <td>Central</td>\n",
       "      <td>1990-11-19</td>\n",
       "      <td>NaN</td>\n",
       "      <td>NaN</td>\n",
       "    </tr>\n",
       "    <tr>\n",
       "      <th>3</th>\n",
       "      <td>1001034.0</td>\n",
       "      <td>2008-01-01</td>\n",
       "      <td>2008-12-31</td>\n",
       "      <td>NaN</td>\n",
       "      <td>300.000000</td>\n",
       "      <td>8485.185547</td>\n",
       "      <td>7781.481445</td>\n",
       "      <td>0.0</td>\n",
       "      <td>0.0</td>\n",
       "      <td>0.0</td>\n",
       "      <td>...</td>\n",
       "      <td>mix</td>\n",
       "      <td>Domestic</td>\n",
       "      <td>5630.0</td>\n",
       "      <td>56.0</td>\n",
       "      <td>3.0</td>\n",
       "      <td>1</td>\n",
       "      <td>Central</td>\n",
       "      <td>1990-11-19</td>\n",
       "      <td>NaN</td>\n",
       "      <td>NaN</td>\n",
       "    </tr>\n",
       "    <tr>\n",
       "      <th>4</th>\n",
       "      <td>1001034.0</td>\n",
       "      <td>2009-01-01</td>\n",
       "      <td>2009-12-31</td>\n",
       "      <td>NaN</td>\n",
       "      <td>207.407410</td>\n",
       "      <td>5137.037109</td>\n",
       "      <td>15300.000000</td>\n",
       "      <td>0.0</td>\n",
       "      <td>0.0</td>\n",
       "      <td>0.0</td>\n",
       "      <td>...</td>\n",
       "      <td>mix</td>\n",
       "      <td>Domestic</td>\n",
       "      <td>5630.0</td>\n",
       "      <td>56.0</td>\n",
       "      <td>3.0</td>\n",
       "      <td>1</td>\n",
       "      <td>Central</td>\n",
       "      <td>1990-11-19</td>\n",
       "      <td>NaN</td>\n",
       "      <td>0.083333</td>\n",
       "    </tr>\n",
       "  </tbody>\n",
       "</table>\n",
       "<p>5 rows × 48 columns</p>\n",
       "</div>"
      ],
      "text/plain": [
       "     comp_id       begin         end  COGS       amort   curr_assets  \\\n",
       "0  1001034.0  2005-01-01  2005-12-31   NaN  692.592590   7266.666504   \n",
       "1  1001034.0  2006-01-01  2006-12-31   NaN  603.703674  13122.222656   \n",
       "2  1001034.0  2007-01-01  2007-12-31   NaN  425.925934   8196.295898   \n",
       "3  1001034.0  2008-01-01  2008-12-31   NaN  300.000000   8485.185547   \n",
       "4  1001034.0  2009-01-01  2009-12-31   NaN  207.407410   5137.037109   \n",
       "\n",
       "      curr_liab  extra_exp  extra_inc  extra_profit_loss  ...  gender  \\\n",
       "0   7574.074219        0.0        0.0                0.0  ...     mix   \n",
       "1  12211.111328        0.0        0.0                0.0  ...     mix   \n",
       "2   7800.000000        0.0        0.0                0.0  ...     mix   \n",
       "3   7781.481445        0.0        0.0                0.0  ...     mix   \n",
       "4  15300.000000        0.0        0.0                0.0  ...     mix   \n",
       "\n",
       "     origin  nace_main  ind2  ind  urban_m  region_m  founded_date  exit_date  \\\n",
       "0  Domestic     5630.0  56.0  3.0        1   Central    1990-11-19        NaN   \n",
       "1  Domestic     5630.0  56.0  3.0        1   Central    1990-11-19        NaN   \n",
       "2  Domestic     5630.0  56.0  3.0        1   Central    1990-11-19        NaN   \n",
       "3  Domestic     5630.0  56.0  3.0        1   Central    1990-11-19        NaN   \n",
       "4  Domestic     5630.0  56.0  3.0        1   Central    1990-11-19        NaN   \n",
       "\n",
       "   labor_avg  \n",
       "0        NaN  \n",
       "1        NaN  \n",
       "2        NaN  \n",
       "3        NaN  \n",
       "4   0.083333  \n",
       "\n",
       "[5 rows x 48 columns]"
      ]
     },
     "execution_count": 2,
     "metadata": {},
     "output_type": "execute_result"
    }
   ],
   "source": [
    "df = pd.read_csv(r'C:\\Users\\PA\\Documents\\Austria\\CEU\\3rd Semester\\Prediction\\Git\\DA3-phdma\\HW3\\Data Cleaning- Prep code\\cs_bisnode_panel.csv')\n",
    "\n",
    "df.head()"
   ]
  },
  {
   "cell_type": "markdown",
   "metadata": {},
   "source": [
    "### Exploring the Data"
   ]
  },
  {
   "cell_type": "markdown",
   "metadata": {},
   "source": [
    "* Checking the number of years in our dataset"
   ]
  },
  {
   "cell_type": "code",
   "execution_count": 3,
   "metadata": {},
   "outputs": [
    {
     "data": {
      "text/plain": [
       "array([2005, 2006, 2007, 2008, 2009, 2010, 2011, 2012, 2013, 2014, 2015,\n",
       "       2016], dtype=int64)"
      ]
     },
     "execution_count": 3,
     "metadata": {},
     "output_type": "execute_result"
    }
   ],
   "source": [
    "df['year'].unique()"
   ]
  },
  {
   "cell_type": "markdown",
   "metadata": {},
   "source": [
    "* Checking the number of companies in our dataset"
   ]
  },
  {
   "cell_type": "code",
   "execution_count": 6,
   "metadata": {},
   "outputs": [
    {
     "data": {
      "text/plain": [
       "46412"
      ]
     },
     "execution_count": 6,
     "metadata": {},
     "output_type": "execute_result"
    }
   ],
   "source": [
    "df['comp_id'].nunique()\n"
   ]
  },
  {
   "cell_type": "markdown",
   "metadata": {},
   "source": [
    "* Checking the number of observations in 2012, 2013 and 2014"
   ]
  },
  {
   "cell_type": "code",
   "execution_count": 8,
   "metadata": {},
   "outputs": [
    {
     "data": {
      "text/plain": [
       "(28469, 48)"
      ]
     },
     "execution_count": 8,
     "metadata": {},
     "output_type": "execute_result"
    }
   ],
   "source": [
    "df[df['year']==2012].shape, df[df['year']==2013].shape, df[df['year']==2014].shape"
   ]
  },
  {
   "cell_type": "markdown",
   "metadata": {},
   "source": [
    "* Keeping the observations within years 2010-2015"
   ]
  },
  {
   "cell_type": "code",
   "execution_count": 11,
   "metadata": {},
   "outputs": [],
   "source": [
    "df_2 = df[df['year'].isin([2010, 2011, 2012, 2013, 2014, 2015])]"
   ]
  },
  {
   "cell_type": "markdown",
   "metadata": {},
   "source": [
    "### Dropping the columns with many missing values"
   ]
  },
  {
   "cell_type": "code",
   "execution_count": 13,
   "metadata": {},
   "outputs": [
    {
     "data": {
      "text/plain": [
       "D                       167606\n",
       "finished_prod           158855\n",
       "wages                   158707\n",
       "COGS                    158556\n",
       "net_exp_sales           158556\n",
       "net_dom_sales           158556\n",
       "exit_year               150648\n",
       "exit_date               147067\n",
       "labor_avg                53346\n",
       "birth_year               43221\n",
       "founded_year             18409\n",
       "gender                   18403\n",
       "inoffice_days            18403\n",
       "ceo_count                18403\n",
       "foreign                  18403\n",
       "origin                   18403\n",
       "female                   18403\n",
       "ind                       4966\n",
       "amort                     4117\n",
       "personnel_exp             4117\n",
       "material_exp              4117\n",
       "extra_profit_loss         3755\n",
       "extra_inc                 3751\n",
       "extra_exp                 3751\n",
       "sales                     3742\n",
       "inc_bef_tax               3742\n",
       "region_m                   459\n",
       "profit_loss_year            67\n",
       "nace_main                   59\n",
       "ind2                        59\n",
       "tang_assets                 57\n",
       "inventories                 57\n",
       "curr_liab                   57\n",
       "curr_assets                 57\n",
       "subscribed_cap              57\n",
       "share_eq                    57\n",
       "liq_assets                  57\n",
       "intang_assets               57\n",
       "fixed_assets                57\n",
       "founded_date                11\n",
       "end                          0\n",
       "urban_m                      0\n",
       "year                         0\n",
       "balsheet_notfullyear         0\n",
       "begin                        0\n",
       "balsheet_flag                0\n",
       "balsheet_length              0\n",
       "comp_id                      0\n",
       "dtype: int64"
      ]
     },
     "execution_count": 13,
     "metadata": {},
     "output_type": "execute_result"
    }
   ],
   "source": [
    "df_2.isnull().sum().sort_values(ascending=False)"
   ]
  },
  {
   "cell_type": "markdown",
   "metadata": {},
   "source": [
    "* Dropping the columns with many missing values"
   ]
  },
  {
   "cell_type": "code",
   "execution_count": 14,
   "metadata": {},
   "outputs": [],
   "source": [
    "df_2 = df_2.drop(['D', 'COGS', 'finished_prod', 'net_dom_sales', 'net_exp_sales', 'wages'], axis=1)"
   ]
  },
  {
   "cell_type": "markdown",
   "metadata": {},
   "source": [
    "### Stacking- Unstacking"
   ]
  },
  {
   "cell_type": "markdown",
   "metadata": {},
   "source": [
    "* Converting the dataset to panel format and turning the missing values to NaN\n",
    "* Converting the panel format back to long format"
   ]
  },
  {
   "cell_type": "code",
   "execution_count": 15,
   "metadata": {},
   "outputs": [],
   "source": [
    "df_2 = (\n",
    "    df_2.set_index([\"year\", \"comp_id\"])\n",
    "    .unstack(fill_value=\"toReplace\")\n",
    "    .stack()\n",
    "    .reset_index()\n",
    ")\n",
    "df_2 = df_2.replace(\"toReplace\", np.nan)"
   ]
  },
  {
   "cell_type": "markdown",
   "metadata": {},
   "source": [
    "* Sorting the df_2 by comp_id and year"
   ]
  },
  {
   "cell_type": "code",
   "execution_count": 16,
   "metadata": {},
   "outputs": [],
   "source": [
    "df_2 = df_2.sort_values(['comp_id', 'year'])"
   ]
  },
  {
   "cell_type": "code",
   "execution_count": 17,
   "metadata": {},
   "outputs": [
    {
     "data": {
      "text/html": [
       "<div>\n",
       "<style scoped>\n",
       "    .dataframe tbody tr th:only-of-type {\n",
       "        vertical-align: middle;\n",
       "    }\n",
       "\n",
       "    .dataframe tbody tr th {\n",
       "        vertical-align: top;\n",
       "    }\n",
       "\n",
       "    .dataframe thead th {\n",
       "        text-align: right;\n",
       "    }\n",
       "</style>\n",
       "<table border=\"1\" class=\"dataframe\">\n",
       "  <thead>\n",
       "    <tr style=\"text-align: right;\">\n",
       "      <th></th>\n",
       "      <th>year</th>\n",
       "      <th>comp_id</th>\n",
       "      <th>begin</th>\n",
       "      <th>end</th>\n",
       "      <th>amort</th>\n",
       "      <th>curr_assets</th>\n",
       "      <th>curr_liab</th>\n",
       "      <th>extra_exp</th>\n",
       "      <th>extra_inc</th>\n",
       "      <th>extra_profit_loss</th>\n",
       "      <th>...</th>\n",
       "      <th>gender</th>\n",
       "      <th>origin</th>\n",
       "      <th>nace_main</th>\n",
       "      <th>ind2</th>\n",
       "      <th>ind</th>\n",
       "      <th>urban_m</th>\n",
       "      <th>region_m</th>\n",
       "      <th>founded_date</th>\n",
       "      <th>exit_date</th>\n",
       "      <th>labor_avg</th>\n",
       "    </tr>\n",
       "  </thead>\n",
       "  <tbody>\n",
       "    <tr>\n",
       "      <th>0</th>\n",
       "      <td>2010</td>\n",
       "      <td>1001034.0</td>\n",
       "      <td>2010-01-01</td>\n",
       "      <td>2010-12-31</td>\n",
       "      <td>177.777771</td>\n",
       "      <td>2096.296387</td>\n",
       "      <td>19629.628906</td>\n",
       "      <td>0.0</td>\n",
       "      <td>0.0</td>\n",
       "      <td>0.0</td>\n",
       "      <td>...</td>\n",
       "      <td>mix</td>\n",
       "      <td>Domestic</td>\n",
       "      <td>5630.0</td>\n",
       "      <td>56.0</td>\n",
       "      <td>3.0</td>\n",
       "      <td>1.0</td>\n",
       "      <td>Central</td>\n",
       "      <td>1990-11-19</td>\n",
       "      <td>NaN</td>\n",
       "      <td>0.083333</td>\n",
       "    </tr>\n",
       "    <tr>\n",
       "      <th>39375</th>\n",
       "      <td>2011</td>\n",
       "      <td>1001034.0</td>\n",
       "      <td>2011-01-01</td>\n",
       "      <td>2011-12-31</td>\n",
       "      <td>155.555557</td>\n",
       "      <td>3607.407471</td>\n",
       "      <td>22555.554688</td>\n",
       "      <td>0.0</td>\n",
       "      <td>0.0</td>\n",
       "      <td>0.0</td>\n",
       "      <td>...</td>\n",
       "      <td>mix</td>\n",
       "      <td>Domestic</td>\n",
       "      <td>5630.0</td>\n",
       "      <td>56.0</td>\n",
       "      <td>3.0</td>\n",
       "      <td>1.0</td>\n",
       "      <td>Central</td>\n",
       "      <td>1990-11-19</td>\n",
       "      <td>NaN</td>\n",
       "      <td>0.083333</td>\n",
       "    </tr>\n",
       "    <tr>\n",
       "      <th>78750</th>\n",
       "      <td>2012</td>\n",
       "      <td>1001034.0</td>\n",
       "      <td>2012-01-01</td>\n",
       "      <td>2012-12-31</td>\n",
       "      <td>140.740738</td>\n",
       "      <td>148.148148</td>\n",
       "      <td>21429.628906</td>\n",
       "      <td>0.0</td>\n",
       "      <td>0.0</td>\n",
       "      <td>0.0</td>\n",
       "      <td>...</td>\n",
       "      <td>mix</td>\n",
       "      <td>Domestic</td>\n",
       "      <td>5630.0</td>\n",
       "      <td>56.0</td>\n",
       "      <td>3.0</td>\n",
       "      <td>1.0</td>\n",
       "      <td>Central</td>\n",
       "      <td>1990-11-19</td>\n",
       "      <td>NaN</td>\n",
       "      <td>0.083333</td>\n",
       "    </tr>\n",
       "    <tr>\n",
       "      <th>118125</th>\n",
       "      <td>2013</td>\n",
       "      <td>1001034.0</td>\n",
       "      <td>2013-01-01</td>\n",
       "      <td>2013-12-31</td>\n",
       "      <td>140.740738</td>\n",
       "      <td>140.740738</td>\n",
       "      <td>21851.851562</td>\n",
       "      <td>0.0</td>\n",
       "      <td>0.0</td>\n",
       "      <td>0.0</td>\n",
       "      <td>...</td>\n",
       "      <td>mix</td>\n",
       "      <td>Domestic</td>\n",
       "      <td>5630.0</td>\n",
       "      <td>56.0</td>\n",
       "      <td>3.0</td>\n",
       "      <td>1.0</td>\n",
       "      <td>Central</td>\n",
       "      <td>1990-11-19</td>\n",
       "      <td>NaN</td>\n",
       "      <td>NaN</td>\n",
       "    </tr>\n",
       "    <tr>\n",
       "      <th>157500</th>\n",
       "      <td>2014</td>\n",
       "      <td>1001034.0</td>\n",
       "      <td>2014-01-01</td>\n",
       "      <td>2014-12-31</td>\n",
       "      <td>29.629629</td>\n",
       "      <td>144.444443</td>\n",
       "      <td>22340.740234</td>\n",
       "      <td>0.0</td>\n",
       "      <td>0.0</td>\n",
       "      <td>0.0</td>\n",
       "      <td>...</td>\n",
       "      <td>mix</td>\n",
       "      <td>Domestic</td>\n",
       "      <td>5630.0</td>\n",
       "      <td>56.0</td>\n",
       "      <td>3.0</td>\n",
       "      <td>1.0</td>\n",
       "      <td>Central</td>\n",
       "      <td>1990-11-19</td>\n",
       "      <td>NaN</td>\n",
       "      <td>NaN</td>\n",
       "    </tr>\n",
       "  </tbody>\n",
       "</table>\n",
       "<p>5 rows × 42 columns</p>\n",
       "</div>"
      ],
      "text/plain": [
       "        year    comp_id       begin         end       amort  curr_assets  \\\n",
       "0       2010  1001034.0  2010-01-01  2010-12-31  177.777771  2096.296387   \n",
       "39375   2011  1001034.0  2011-01-01  2011-12-31  155.555557  3607.407471   \n",
       "78750   2012  1001034.0  2012-01-01  2012-12-31  140.740738   148.148148   \n",
       "118125  2013  1001034.0  2013-01-01  2013-12-31  140.740738   140.740738   \n",
       "157500  2014  1001034.0  2014-01-01  2014-12-31   29.629629   144.444443   \n",
       "\n",
       "           curr_liab  extra_exp  extra_inc  extra_profit_loss  ...  gender  \\\n",
       "0       19629.628906        0.0        0.0                0.0  ...     mix   \n",
       "39375   22555.554688        0.0        0.0                0.0  ...     mix   \n",
       "78750   21429.628906        0.0        0.0                0.0  ...     mix   \n",
       "118125  21851.851562        0.0        0.0                0.0  ...     mix   \n",
       "157500  22340.740234        0.0        0.0                0.0  ...     mix   \n",
       "\n",
       "          origin  nace_main  ind2  ind  urban_m  region_m  founded_date  \\\n",
       "0       Domestic     5630.0  56.0  3.0      1.0   Central    1990-11-19   \n",
       "39375   Domestic     5630.0  56.0  3.0      1.0   Central    1990-11-19   \n",
       "78750   Domestic     5630.0  56.0  3.0      1.0   Central    1990-11-19   \n",
       "118125  Domestic     5630.0  56.0  3.0      1.0   Central    1990-11-19   \n",
       "157500  Domestic     5630.0  56.0  3.0      1.0   Central    1990-11-19   \n",
       "\n",
       "        exit_date  labor_avg  \n",
       "0             NaN   0.083333  \n",
       "39375         NaN   0.083333  \n",
       "78750         NaN   0.083333  \n",
       "118125        NaN        NaN  \n",
       "157500        NaN        NaN  \n",
       "\n",
       "[5 rows x 42 columns]"
      ]
     },
     "execution_count": 17,
     "metadata": {},
     "output_type": "execute_result"
    }
   ],
   "source": [
    "df_2.head()"
   ]
  },
  {
   "cell_type": "markdown",
   "metadata": {},
   "source": [
    "### Defining a new variable: profit_growth"
   ]
  },
  {
   "cell_type": "code",
   "execution_count": 18,
   "metadata": {},
   "outputs": [],
   "source": [
    "df_2['profit_growth'] = df_2['profit_loss_year'].div(df_2['profit_loss_year'].shift(1))-1"
   ]
  },
  {
   "cell_type": "code",
   "execution_count": 20,
   "metadata": {},
   "outputs": [
    {
     "data": {
      "text/html": [
       "<div>\n",
       "<style scoped>\n",
       "    .dataframe tbody tr th:only-of-type {\n",
       "        vertical-align: middle;\n",
       "    }\n",
       "\n",
       "    .dataframe tbody tr th {\n",
       "        vertical-align: top;\n",
       "    }\n",
       "\n",
       "    .dataframe thead th {\n",
       "        text-align: right;\n",
       "    }\n",
       "</style>\n",
       "<table border=\"1\" class=\"dataframe\">\n",
       "  <thead>\n",
       "    <tr style=\"text-align: right;\">\n",
       "      <th></th>\n",
       "      <th>year</th>\n",
       "      <th>comp_id</th>\n",
       "      <th>begin</th>\n",
       "      <th>end</th>\n",
       "      <th>amort</th>\n",
       "      <th>curr_assets</th>\n",
       "      <th>curr_liab</th>\n",
       "      <th>extra_exp</th>\n",
       "      <th>extra_inc</th>\n",
       "      <th>extra_profit_loss</th>\n",
       "      <th>...</th>\n",
       "      <th>origin</th>\n",
       "      <th>nace_main</th>\n",
       "      <th>ind2</th>\n",
       "      <th>ind</th>\n",
       "      <th>urban_m</th>\n",
       "      <th>region_m</th>\n",
       "      <th>founded_date</th>\n",
       "      <th>exit_date</th>\n",
       "      <th>labor_avg</th>\n",
       "      <th>profit_growth</th>\n",
       "    </tr>\n",
       "  </thead>\n",
       "  <tbody>\n",
       "    <tr>\n",
       "      <th>0</th>\n",
       "      <td>2010</td>\n",
       "      <td>1001034.0</td>\n",
       "      <td>2010-01-01</td>\n",
       "      <td>2010-12-31</td>\n",
       "      <td>177.777771</td>\n",
       "      <td>2096.296387</td>\n",
       "      <td>19629.628906</td>\n",
       "      <td>0.0</td>\n",
       "      <td>0.0</td>\n",
       "      <td>0.0</td>\n",
       "      <td>...</td>\n",
       "      <td>Domestic</td>\n",
       "      <td>5630.0</td>\n",
       "      <td>56.0</td>\n",
       "      <td>3.0</td>\n",
       "      <td>1.0</td>\n",
       "      <td>Central</td>\n",
       "      <td>1990-11-19</td>\n",
       "      <td>NaN</td>\n",
       "      <td>0.083333</td>\n",
       "      <td>NaN</td>\n",
       "    </tr>\n",
       "    <tr>\n",
       "      <th>39375</th>\n",
       "      <td>2011</td>\n",
       "      <td>1001034.0</td>\n",
       "      <td>2011-01-01</td>\n",
       "      <td>2011-12-31</td>\n",
       "      <td>155.555557</td>\n",
       "      <td>3607.407471</td>\n",
       "      <td>22555.554688</td>\n",
       "      <td>0.0</td>\n",
       "      <td>0.0</td>\n",
       "      <td>0.0</td>\n",
       "      <td>...</td>\n",
       "      <td>Domestic</td>\n",
       "      <td>5630.0</td>\n",
       "      <td>56.0</td>\n",
       "      <td>3.0</td>\n",
       "      <td>1.0</td>\n",
       "      <td>Central</td>\n",
       "      <td>1990-11-19</td>\n",
       "      <td>NaN</td>\n",
       "      <td>0.083333</td>\n",
       "      <td>-0.791953</td>\n",
       "    </tr>\n",
       "    <tr>\n",
       "      <th>78750</th>\n",
       "      <td>2012</td>\n",
       "      <td>1001034.0</td>\n",
       "      <td>2012-01-01</td>\n",
       "      <td>2012-12-31</td>\n",
       "      <td>140.740738</td>\n",
       "      <td>148.148148</td>\n",
       "      <td>21429.628906</td>\n",
       "      <td>0.0</td>\n",
       "      <td>0.0</td>\n",
       "      <td>0.0</td>\n",
       "      <td>...</td>\n",
       "      <td>Domestic</td>\n",
       "      <td>5630.0</td>\n",
       "      <td>56.0</td>\n",
       "      <td>3.0</td>\n",
       "      <td>1.0</td>\n",
       "      <td>Central</td>\n",
       "      <td>1990-11-19</td>\n",
       "      <td>NaN</td>\n",
       "      <td>0.083333</td>\n",
       "      <td>0.575472</td>\n",
       "    </tr>\n",
       "    <tr>\n",
       "      <th>118125</th>\n",
       "      <td>2013</td>\n",
       "      <td>1001034.0</td>\n",
       "      <td>2013-01-01</td>\n",
       "      <td>2013-12-31</td>\n",
       "      <td>140.740738</td>\n",
       "      <td>140.740738</td>\n",
       "      <td>21851.851562</td>\n",
       "      <td>0.0</td>\n",
       "      <td>0.0</td>\n",
       "      <td>0.0</td>\n",
       "      <td>...</td>\n",
       "      <td>Domestic</td>\n",
       "      <td>5630.0</td>\n",
       "      <td>56.0</td>\n",
       "      <td>3.0</td>\n",
       "      <td>1.0</td>\n",
       "      <td>Central</td>\n",
       "      <td>1990-11-19</td>\n",
       "      <td>NaN</td>\n",
       "      <td>NaN</td>\n",
       "      <td>-0.744012</td>\n",
       "    </tr>\n",
       "    <tr>\n",
       "      <th>157500</th>\n",
       "      <td>2014</td>\n",
       "      <td>1001034.0</td>\n",
       "      <td>2014-01-01</td>\n",
       "      <td>2014-12-31</td>\n",
       "      <td>29.629629</td>\n",
       "      <td>144.444443</td>\n",
       "      <td>22340.740234</td>\n",
       "      <td>0.0</td>\n",
       "      <td>0.0</td>\n",
       "      <td>0.0</td>\n",
       "      <td>...</td>\n",
       "      <td>Domestic</td>\n",
       "      <td>5630.0</td>\n",
       "      <td>56.0</td>\n",
       "      <td>3.0</td>\n",
       "      <td>1.0</td>\n",
       "      <td>Central</td>\n",
       "      <td>1990-11-19</td>\n",
       "      <td>NaN</td>\n",
       "      <td>NaN</td>\n",
       "      <td>-0.292398</td>\n",
       "    </tr>\n",
       "  </tbody>\n",
       "</table>\n",
       "<p>5 rows × 43 columns</p>\n",
       "</div>"
      ],
      "text/plain": [
       "        year    comp_id       begin         end       amort  curr_assets  \\\n",
       "0       2010  1001034.0  2010-01-01  2010-12-31  177.777771  2096.296387   \n",
       "39375   2011  1001034.0  2011-01-01  2011-12-31  155.555557  3607.407471   \n",
       "78750   2012  1001034.0  2012-01-01  2012-12-31  140.740738   148.148148   \n",
       "118125  2013  1001034.0  2013-01-01  2013-12-31  140.740738   140.740738   \n",
       "157500  2014  1001034.0  2014-01-01  2014-12-31   29.629629   144.444443   \n",
       "\n",
       "           curr_liab  extra_exp  extra_inc  extra_profit_loss  ...    origin  \\\n",
       "0       19629.628906        0.0        0.0                0.0  ...  Domestic   \n",
       "39375   22555.554688        0.0        0.0                0.0  ...  Domestic   \n",
       "78750   21429.628906        0.0        0.0                0.0  ...  Domestic   \n",
       "118125  21851.851562        0.0        0.0                0.0  ...  Domestic   \n",
       "157500  22340.740234        0.0        0.0                0.0  ...  Domestic   \n",
       "\n",
       "        nace_main  ind2  ind  urban_m  region_m  founded_date  exit_date  \\\n",
       "0          5630.0  56.0  3.0      1.0   Central    1990-11-19        NaN   \n",
       "39375      5630.0  56.0  3.0      1.0   Central    1990-11-19        NaN   \n",
       "78750      5630.0  56.0  3.0      1.0   Central    1990-11-19        NaN   \n",
       "118125     5630.0  56.0  3.0      1.0   Central    1990-11-19        NaN   \n",
       "157500     5630.0  56.0  3.0      1.0   Central    1990-11-19        NaN   \n",
       "\n",
       "        labor_avg  profit_growth  \n",
       "0        0.083333            NaN  \n",
       "39375    0.083333      -0.791953  \n",
       "78750    0.083333       0.575472  \n",
       "118125        NaN      -0.744012  \n",
       "157500        NaN      -0.292398  \n",
       "\n",
       "[5 rows x 43 columns]"
      ]
     },
     "execution_count": 20,
     "metadata": {},
     "output_type": "execute_result"
    }
   ],
   "source": [
    "df_2.head()"
   ]
  },
  {
   "cell_type": "markdown",
   "metadata": {},
   "source": [
    "* shifting the \"profit_growth\" by 1 year for easier access"
   ]
  },
  {
   "cell_type": "code",
   "execution_count": 21,
   "metadata": {},
   "outputs": [],
   "source": [
    "df_2['profit_growth'] = df_2['profit_growth'].shift(-1)"
   ]
  },
  {
   "cell_type": "code",
   "execution_count": 22,
   "metadata": {},
   "outputs": [
    {
     "data": {
      "text/html": [
       "<div>\n",
       "<style scoped>\n",
       "    .dataframe tbody tr th:only-of-type {\n",
       "        vertical-align: middle;\n",
       "    }\n",
       "\n",
       "    .dataframe tbody tr th {\n",
       "        vertical-align: top;\n",
       "    }\n",
       "\n",
       "    .dataframe thead th {\n",
       "        text-align: right;\n",
       "    }\n",
       "</style>\n",
       "<table border=\"1\" class=\"dataframe\">\n",
       "  <thead>\n",
       "    <tr style=\"text-align: right;\">\n",
       "      <th></th>\n",
       "      <th>year</th>\n",
       "      <th>comp_id</th>\n",
       "      <th>begin</th>\n",
       "      <th>end</th>\n",
       "      <th>amort</th>\n",
       "      <th>curr_assets</th>\n",
       "      <th>curr_liab</th>\n",
       "      <th>extra_exp</th>\n",
       "      <th>extra_inc</th>\n",
       "      <th>extra_profit_loss</th>\n",
       "      <th>...</th>\n",
       "      <th>origin</th>\n",
       "      <th>nace_main</th>\n",
       "      <th>ind2</th>\n",
       "      <th>ind</th>\n",
       "      <th>urban_m</th>\n",
       "      <th>region_m</th>\n",
       "      <th>founded_date</th>\n",
       "      <th>exit_date</th>\n",
       "      <th>labor_avg</th>\n",
       "      <th>profit_growth</th>\n",
       "    </tr>\n",
       "  </thead>\n",
       "  <tbody>\n",
       "    <tr>\n",
       "      <th>0</th>\n",
       "      <td>2010</td>\n",
       "      <td>1001034.0</td>\n",
       "      <td>2010-01-01</td>\n",
       "      <td>2010-12-31</td>\n",
       "      <td>177.777771</td>\n",
       "      <td>2096.296387</td>\n",
       "      <td>19629.628906</td>\n",
       "      <td>0.0</td>\n",
       "      <td>0.0</td>\n",
       "      <td>0.0</td>\n",
       "      <td>...</td>\n",
       "      <td>Domestic</td>\n",
       "      <td>5630.0</td>\n",
       "      <td>56.0</td>\n",
       "      <td>3.0</td>\n",
       "      <td>1.0</td>\n",
       "      <td>Central</td>\n",
       "      <td>1990-11-19</td>\n",
       "      <td>NaN</td>\n",
       "      <td>0.083333</td>\n",
       "      <td>-0.791953</td>\n",
       "    </tr>\n",
       "    <tr>\n",
       "      <th>39375</th>\n",
       "      <td>2011</td>\n",
       "      <td>1001034.0</td>\n",
       "      <td>2011-01-01</td>\n",
       "      <td>2011-12-31</td>\n",
       "      <td>155.555557</td>\n",
       "      <td>3607.407471</td>\n",
       "      <td>22555.554688</td>\n",
       "      <td>0.0</td>\n",
       "      <td>0.0</td>\n",
       "      <td>0.0</td>\n",
       "      <td>...</td>\n",
       "      <td>Domestic</td>\n",
       "      <td>5630.0</td>\n",
       "      <td>56.0</td>\n",
       "      <td>3.0</td>\n",
       "      <td>1.0</td>\n",
       "      <td>Central</td>\n",
       "      <td>1990-11-19</td>\n",
       "      <td>NaN</td>\n",
       "      <td>0.083333</td>\n",
       "      <td>0.575472</td>\n",
       "    </tr>\n",
       "    <tr>\n",
       "      <th>78750</th>\n",
       "      <td>2012</td>\n",
       "      <td>1001034.0</td>\n",
       "      <td>2012-01-01</td>\n",
       "      <td>2012-12-31</td>\n",
       "      <td>140.740738</td>\n",
       "      <td>148.148148</td>\n",
       "      <td>21429.628906</td>\n",
       "      <td>0.0</td>\n",
       "      <td>0.0</td>\n",
       "      <td>0.0</td>\n",
       "      <td>...</td>\n",
       "      <td>Domestic</td>\n",
       "      <td>5630.0</td>\n",
       "      <td>56.0</td>\n",
       "      <td>3.0</td>\n",
       "      <td>1.0</td>\n",
       "      <td>Central</td>\n",
       "      <td>1990-11-19</td>\n",
       "      <td>NaN</td>\n",
       "      <td>0.083333</td>\n",
       "      <td>-0.744012</td>\n",
       "    </tr>\n",
       "    <tr>\n",
       "      <th>118125</th>\n",
       "      <td>2013</td>\n",
       "      <td>1001034.0</td>\n",
       "      <td>2013-01-01</td>\n",
       "      <td>2013-12-31</td>\n",
       "      <td>140.740738</td>\n",
       "      <td>140.740738</td>\n",
       "      <td>21851.851562</td>\n",
       "      <td>0.0</td>\n",
       "      <td>0.0</td>\n",
       "      <td>0.0</td>\n",
       "      <td>...</td>\n",
       "      <td>Domestic</td>\n",
       "      <td>5630.0</td>\n",
       "      <td>56.0</td>\n",
       "      <td>3.0</td>\n",
       "      <td>1.0</td>\n",
       "      <td>Central</td>\n",
       "      <td>1990-11-19</td>\n",
       "      <td>NaN</td>\n",
       "      <td>NaN</td>\n",
       "      <td>-0.292398</td>\n",
       "    </tr>\n",
       "    <tr>\n",
       "      <th>157500</th>\n",
       "      <td>2014</td>\n",
       "      <td>1001034.0</td>\n",
       "      <td>2014-01-01</td>\n",
       "      <td>2014-12-31</td>\n",
       "      <td>29.629629</td>\n",
       "      <td>144.444443</td>\n",
       "      <td>22340.740234</td>\n",
       "      <td>0.0</td>\n",
       "      <td>0.0</td>\n",
       "      <td>0.0</td>\n",
       "      <td>...</td>\n",
       "      <td>Domestic</td>\n",
       "      <td>5630.0</td>\n",
       "      <td>56.0</td>\n",
       "      <td>3.0</td>\n",
       "      <td>1.0</td>\n",
       "      <td>Central</td>\n",
       "      <td>1990-11-19</td>\n",
       "      <td>NaN</td>\n",
       "      <td>NaN</td>\n",
       "      <td>0.239669</td>\n",
       "    </tr>\n",
       "  </tbody>\n",
       "</table>\n",
       "<p>5 rows × 43 columns</p>\n",
       "</div>"
      ],
      "text/plain": [
       "        year    comp_id       begin         end       amort  curr_assets  \\\n",
       "0       2010  1001034.0  2010-01-01  2010-12-31  177.777771  2096.296387   \n",
       "39375   2011  1001034.0  2011-01-01  2011-12-31  155.555557  3607.407471   \n",
       "78750   2012  1001034.0  2012-01-01  2012-12-31  140.740738   148.148148   \n",
       "118125  2013  1001034.0  2013-01-01  2013-12-31  140.740738   140.740738   \n",
       "157500  2014  1001034.0  2014-01-01  2014-12-31   29.629629   144.444443   \n",
       "\n",
       "           curr_liab  extra_exp  extra_inc  extra_profit_loss  ...    origin  \\\n",
       "0       19629.628906        0.0        0.0                0.0  ...  Domestic   \n",
       "39375   22555.554688        0.0        0.0                0.0  ...  Domestic   \n",
       "78750   21429.628906        0.0        0.0                0.0  ...  Domestic   \n",
       "118125  21851.851562        0.0        0.0                0.0  ...  Domestic   \n",
       "157500  22340.740234        0.0        0.0                0.0  ...  Domestic   \n",
       "\n",
       "        nace_main  ind2  ind  urban_m  region_m  founded_date  exit_date  \\\n",
       "0          5630.0  56.0  3.0      1.0   Central    1990-11-19        NaN   \n",
       "39375      5630.0  56.0  3.0      1.0   Central    1990-11-19        NaN   \n",
       "78750      5630.0  56.0  3.0      1.0   Central    1990-11-19        NaN   \n",
       "118125     5630.0  56.0  3.0      1.0   Central    1990-11-19        NaN   \n",
       "157500     5630.0  56.0  3.0      1.0   Central    1990-11-19        NaN   \n",
       "\n",
       "        labor_avg  profit_growth  \n",
       "0        0.083333      -0.791953  \n",
       "39375    0.083333       0.575472  \n",
       "78750    0.083333      -0.744012  \n",
       "118125        NaN      -0.292398  \n",
       "157500        NaN       0.239669  \n",
       "\n",
       "[5 rows x 43 columns]"
      ]
     },
     "execution_count": 22,
     "metadata": {},
     "output_type": "execute_result"
    }
   ],
   "source": [
    "df_2.head()"
   ]
  },
  {
   "cell_type": "markdown",
   "metadata": {},
   "source": [
    "# Define the binary Target Variable"
   ]
  },
  {
   "cell_type": "code",
   "execution_count": 23,
   "metadata": {},
   "outputs": [],
   "source": [
    "# defining the target variable: \"fast_growth\"\n",
    "df_2['fast_growth'] = np.where((df_2['profit_growth']>0.3) & \n",
    "                               (df_2['year']==2012) & \n",
    "                               (df_2['profit_loss_year']>0), 1, 0)"
   ]
  },
  {
   "cell_type": "code",
   "execution_count": 24,
   "metadata": {},
   "outputs": [
    {
     "data": {
      "text/html": [
       "<div>\n",
       "<style scoped>\n",
       "    .dataframe tbody tr th:only-of-type {\n",
       "        vertical-align: middle;\n",
       "    }\n",
       "\n",
       "    .dataframe tbody tr th {\n",
       "        vertical-align: top;\n",
       "    }\n",
       "\n",
       "    .dataframe thead th {\n",
       "        text-align: right;\n",
       "    }\n",
       "</style>\n",
       "<table border=\"1\" class=\"dataframe\">\n",
       "  <thead>\n",
       "    <tr style=\"text-align: right;\">\n",
       "      <th></th>\n",
       "      <th>year</th>\n",
       "      <th>comp_id</th>\n",
       "      <th>begin</th>\n",
       "      <th>end</th>\n",
       "      <th>amort</th>\n",
       "      <th>curr_assets</th>\n",
       "      <th>curr_liab</th>\n",
       "      <th>extra_exp</th>\n",
       "      <th>extra_inc</th>\n",
       "      <th>extra_profit_loss</th>\n",
       "      <th>...</th>\n",
       "      <th>nace_main</th>\n",
       "      <th>ind2</th>\n",
       "      <th>ind</th>\n",
       "      <th>urban_m</th>\n",
       "      <th>region_m</th>\n",
       "      <th>founded_date</th>\n",
       "      <th>exit_date</th>\n",
       "      <th>labor_avg</th>\n",
       "      <th>profit_growth</th>\n",
       "      <th>fast_growth</th>\n",
       "    </tr>\n",
       "  </thead>\n",
       "  <tbody>\n",
       "    <tr>\n",
       "      <th>0</th>\n",
       "      <td>2010</td>\n",
       "      <td>1001034.0</td>\n",
       "      <td>2010-01-01</td>\n",
       "      <td>2010-12-31</td>\n",
       "      <td>177.777771</td>\n",
       "      <td>2096.296387</td>\n",
       "      <td>19629.628906</td>\n",
       "      <td>0.0</td>\n",
       "      <td>0.0</td>\n",
       "      <td>0.0</td>\n",
       "      <td>...</td>\n",
       "      <td>5630.0</td>\n",
       "      <td>56.0</td>\n",
       "      <td>3.0</td>\n",
       "      <td>1.0</td>\n",
       "      <td>Central</td>\n",
       "      <td>1990-11-19</td>\n",
       "      <td>NaN</td>\n",
       "      <td>0.083333</td>\n",
       "      <td>-0.791953</td>\n",
       "      <td>0</td>\n",
       "    </tr>\n",
       "    <tr>\n",
       "      <th>39375</th>\n",
       "      <td>2011</td>\n",
       "      <td>1001034.0</td>\n",
       "      <td>2011-01-01</td>\n",
       "      <td>2011-12-31</td>\n",
       "      <td>155.555557</td>\n",
       "      <td>3607.407471</td>\n",
       "      <td>22555.554688</td>\n",
       "      <td>0.0</td>\n",
       "      <td>0.0</td>\n",
       "      <td>0.0</td>\n",
       "      <td>...</td>\n",
       "      <td>5630.0</td>\n",
       "      <td>56.0</td>\n",
       "      <td>3.0</td>\n",
       "      <td>1.0</td>\n",
       "      <td>Central</td>\n",
       "      <td>1990-11-19</td>\n",
       "      <td>NaN</td>\n",
       "      <td>0.083333</td>\n",
       "      <td>0.575472</td>\n",
       "      <td>0</td>\n",
       "    </tr>\n",
       "    <tr>\n",
       "      <th>78750</th>\n",
       "      <td>2012</td>\n",
       "      <td>1001034.0</td>\n",
       "      <td>2012-01-01</td>\n",
       "      <td>2012-12-31</td>\n",
       "      <td>140.740738</td>\n",
       "      <td>148.148148</td>\n",
       "      <td>21429.628906</td>\n",
       "      <td>0.0</td>\n",
       "      <td>0.0</td>\n",
       "      <td>0.0</td>\n",
       "      <td>...</td>\n",
       "      <td>5630.0</td>\n",
       "      <td>56.0</td>\n",
       "      <td>3.0</td>\n",
       "      <td>1.0</td>\n",
       "      <td>Central</td>\n",
       "      <td>1990-11-19</td>\n",
       "      <td>NaN</td>\n",
       "      <td>0.083333</td>\n",
       "      <td>-0.744012</td>\n",
       "      <td>0</td>\n",
       "    </tr>\n",
       "    <tr>\n",
       "      <th>118125</th>\n",
       "      <td>2013</td>\n",
       "      <td>1001034.0</td>\n",
       "      <td>2013-01-01</td>\n",
       "      <td>2013-12-31</td>\n",
       "      <td>140.740738</td>\n",
       "      <td>140.740738</td>\n",
       "      <td>21851.851562</td>\n",
       "      <td>0.0</td>\n",
       "      <td>0.0</td>\n",
       "      <td>0.0</td>\n",
       "      <td>...</td>\n",
       "      <td>5630.0</td>\n",
       "      <td>56.0</td>\n",
       "      <td>3.0</td>\n",
       "      <td>1.0</td>\n",
       "      <td>Central</td>\n",
       "      <td>1990-11-19</td>\n",
       "      <td>NaN</td>\n",
       "      <td>NaN</td>\n",
       "      <td>-0.292398</td>\n",
       "      <td>0</td>\n",
       "    </tr>\n",
       "    <tr>\n",
       "      <th>157500</th>\n",
       "      <td>2014</td>\n",
       "      <td>1001034.0</td>\n",
       "      <td>2014-01-01</td>\n",
       "      <td>2014-12-31</td>\n",
       "      <td>29.629629</td>\n",
       "      <td>144.444443</td>\n",
       "      <td>22340.740234</td>\n",
       "      <td>0.0</td>\n",
       "      <td>0.0</td>\n",
       "      <td>0.0</td>\n",
       "      <td>...</td>\n",
       "      <td>5630.0</td>\n",
       "      <td>56.0</td>\n",
       "      <td>3.0</td>\n",
       "      <td>1.0</td>\n",
       "      <td>Central</td>\n",
       "      <td>1990-11-19</td>\n",
       "      <td>NaN</td>\n",
       "      <td>NaN</td>\n",
       "      <td>0.239669</td>\n",
       "      <td>0</td>\n",
       "    </tr>\n",
       "  </tbody>\n",
       "</table>\n",
       "<p>5 rows × 44 columns</p>\n",
       "</div>"
      ],
      "text/plain": [
       "        year    comp_id       begin         end       amort  curr_assets  \\\n",
       "0       2010  1001034.0  2010-01-01  2010-12-31  177.777771  2096.296387   \n",
       "39375   2011  1001034.0  2011-01-01  2011-12-31  155.555557  3607.407471   \n",
       "78750   2012  1001034.0  2012-01-01  2012-12-31  140.740738   148.148148   \n",
       "118125  2013  1001034.0  2013-01-01  2013-12-31  140.740738   140.740738   \n",
       "157500  2014  1001034.0  2014-01-01  2014-12-31   29.629629   144.444443   \n",
       "\n",
       "           curr_liab  extra_exp  extra_inc  extra_profit_loss  ...  nace_main  \\\n",
       "0       19629.628906        0.0        0.0                0.0  ...     5630.0   \n",
       "39375   22555.554688        0.0        0.0                0.0  ...     5630.0   \n",
       "78750   21429.628906        0.0        0.0                0.0  ...     5630.0   \n",
       "118125  21851.851562        0.0        0.0                0.0  ...     5630.0   \n",
       "157500  22340.740234        0.0        0.0                0.0  ...     5630.0   \n",
       "\n",
       "        ind2  ind  urban_m  region_m  founded_date  exit_date  labor_avg  \\\n",
       "0       56.0  3.0      1.0   Central    1990-11-19        NaN   0.083333   \n",
       "39375   56.0  3.0      1.0   Central    1990-11-19        NaN   0.083333   \n",
       "78750   56.0  3.0      1.0   Central    1990-11-19        NaN   0.083333   \n",
       "118125  56.0  3.0      1.0   Central    1990-11-19        NaN        NaN   \n",
       "157500  56.0  3.0      1.0   Central    1990-11-19        NaN        NaN   \n",
       "\n",
       "        profit_growth  fast_growth  \n",
       "0           -0.791953            0  \n",
       "39375        0.575472            0  \n",
       "78750       -0.744012            0  \n",
       "118125      -0.292398            0  \n",
       "157500       0.239669            0  \n",
       "\n",
       "[5 rows x 44 columns]"
      ]
     },
     "execution_count": 24,
     "metadata": {},
     "output_type": "execute_result"
    }
   ],
   "source": [
    "df_2.head()"
   ]
  },
  {
   "cell_type": "markdown",
   "metadata": {},
   "source": [
    "* Shifting the profit growth back:"
   ]
  },
  {
   "cell_type": "code",
   "execution_count": 25,
   "metadata": {},
   "outputs": [],
   "source": [
    "df_2['profit_growth'] = df_2['profit_growth'].shift(1)"
   ]
  },
  {
   "cell_type": "code",
   "execution_count": 26,
   "metadata": {},
   "outputs": [
    {
     "data": {
      "text/html": [
       "<div>\n",
       "<style scoped>\n",
       "    .dataframe tbody tr th:only-of-type {\n",
       "        vertical-align: middle;\n",
       "    }\n",
       "\n",
       "    .dataframe tbody tr th {\n",
       "        vertical-align: top;\n",
       "    }\n",
       "\n",
       "    .dataframe thead th {\n",
       "        text-align: right;\n",
       "    }\n",
       "</style>\n",
       "<table border=\"1\" class=\"dataframe\">\n",
       "  <thead>\n",
       "    <tr style=\"text-align: right;\">\n",
       "      <th></th>\n",
       "      <th>year</th>\n",
       "      <th>comp_id</th>\n",
       "      <th>begin</th>\n",
       "      <th>end</th>\n",
       "      <th>amort</th>\n",
       "      <th>curr_assets</th>\n",
       "      <th>curr_liab</th>\n",
       "      <th>extra_exp</th>\n",
       "      <th>extra_inc</th>\n",
       "      <th>extra_profit_loss</th>\n",
       "      <th>...</th>\n",
       "      <th>nace_main</th>\n",
       "      <th>ind2</th>\n",
       "      <th>ind</th>\n",
       "      <th>urban_m</th>\n",
       "      <th>region_m</th>\n",
       "      <th>founded_date</th>\n",
       "      <th>exit_date</th>\n",
       "      <th>labor_avg</th>\n",
       "      <th>profit_growth</th>\n",
       "      <th>fast_growth</th>\n",
       "    </tr>\n",
       "  </thead>\n",
       "  <tbody>\n",
       "    <tr>\n",
       "      <th>0</th>\n",
       "      <td>2010</td>\n",
       "      <td>1001034.0</td>\n",
       "      <td>2010-01-01</td>\n",
       "      <td>2010-12-31</td>\n",
       "      <td>177.777771</td>\n",
       "      <td>2096.296387</td>\n",
       "      <td>19629.628906</td>\n",
       "      <td>0.0</td>\n",
       "      <td>0.0</td>\n",
       "      <td>0.0</td>\n",
       "      <td>...</td>\n",
       "      <td>5630.0</td>\n",
       "      <td>56.0</td>\n",
       "      <td>3.0</td>\n",
       "      <td>1.0</td>\n",
       "      <td>Central</td>\n",
       "      <td>1990-11-19</td>\n",
       "      <td>NaN</td>\n",
       "      <td>0.083333</td>\n",
       "      <td>NaN</td>\n",
       "      <td>0</td>\n",
       "    </tr>\n",
       "    <tr>\n",
       "      <th>39375</th>\n",
       "      <td>2011</td>\n",
       "      <td>1001034.0</td>\n",
       "      <td>2011-01-01</td>\n",
       "      <td>2011-12-31</td>\n",
       "      <td>155.555557</td>\n",
       "      <td>3607.407471</td>\n",
       "      <td>22555.554688</td>\n",
       "      <td>0.0</td>\n",
       "      <td>0.0</td>\n",
       "      <td>0.0</td>\n",
       "      <td>...</td>\n",
       "      <td>5630.0</td>\n",
       "      <td>56.0</td>\n",
       "      <td>3.0</td>\n",
       "      <td>1.0</td>\n",
       "      <td>Central</td>\n",
       "      <td>1990-11-19</td>\n",
       "      <td>NaN</td>\n",
       "      <td>0.083333</td>\n",
       "      <td>-0.791953</td>\n",
       "      <td>0</td>\n",
       "    </tr>\n",
       "    <tr>\n",
       "      <th>78750</th>\n",
       "      <td>2012</td>\n",
       "      <td>1001034.0</td>\n",
       "      <td>2012-01-01</td>\n",
       "      <td>2012-12-31</td>\n",
       "      <td>140.740738</td>\n",
       "      <td>148.148148</td>\n",
       "      <td>21429.628906</td>\n",
       "      <td>0.0</td>\n",
       "      <td>0.0</td>\n",
       "      <td>0.0</td>\n",
       "      <td>...</td>\n",
       "      <td>5630.0</td>\n",
       "      <td>56.0</td>\n",
       "      <td>3.0</td>\n",
       "      <td>1.0</td>\n",
       "      <td>Central</td>\n",
       "      <td>1990-11-19</td>\n",
       "      <td>NaN</td>\n",
       "      <td>0.083333</td>\n",
       "      <td>0.575472</td>\n",
       "      <td>0</td>\n",
       "    </tr>\n",
       "    <tr>\n",
       "      <th>118125</th>\n",
       "      <td>2013</td>\n",
       "      <td>1001034.0</td>\n",
       "      <td>2013-01-01</td>\n",
       "      <td>2013-12-31</td>\n",
       "      <td>140.740738</td>\n",
       "      <td>140.740738</td>\n",
       "      <td>21851.851562</td>\n",
       "      <td>0.0</td>\n",
       "      <td>0.0</td>\n",
       "      <td>0.0</td>\n",
       "      <td>...</td>\n",
       "      <td>5630.0</td>\n",
       "      <td>56.0</td>\n",
       "      <td>3.0</td>\n",
       "      <td>1.0</td>\n",
       "      <td>Central</td>\n",
       "      <td>1990-11-19</td>\n",
       "      <td>NaN</td>\n",
       "      <td>NaN</td>\n",
       "      <td>-0.744012</td>\n",
       "      <td>0</td>\n",
       "    </tr>\n",
       "    <tr>\n",
       "      <th>157500</th>\n",
       "      <td>2014</td>\n",
       "      <td>1001034.0</td>\n",
       "      <td>2014-01-01</td>\n",
       "      <td>2014-12-31</td>\n",
       "      <td>29.629629</td>\n",
       "      <td>144.444443</td>\n",
       "      <td>22340.740234</td>\n",
       "      <td>0.0</td>\n",
       "      <td>0.0</td>\n",
       "      <td>0.0</td>\n",
       "      <td>...</td>\n",
       "      <td>5630.0</td>\n",
       "      <td>56.0</td>\n",
       "      <td>3.0</td>\n",
       "      <td>1.0</td>\n",
       "      <td>Central</td>\n",
       "      <td>1990-11-19</td>\n",
       "      <td>NaN</td>\n",
       "      <td>NaN</td>\n",
       "      <td>-0.292398</td>\n",
       "      <td>0</td>\n",
       "    </tr>\n",
       "  </tbody>\n",
       "</table>\n",
       "<p>5 rows × 44 columns</p>\n",
       "</div>"
      ],
      "text/plain": [
       "        year    comp_id       begin         end       amort  curr_assets  \\\n",
       "0       2010  1001034.0  2010-01-01  2010-12-31  177.777771  2096.296387   \n",
       "39375   2011  1001034.0  2011-01-01  2011-12-31  155.555557  3607.407471   \n",
       "78750   2012  1001034.0  2012-01-01  2012-12-31  140.740738   148.148148   \n",
       "118125  2013  1001034.0  2013-01-01  2013-12-31  140.740738   140.740738   \n",
       "157500  2014  1001034.0  2014-01-01  2014-12-31   29.629629   144.444443   \n",
       "\n",
       "           curr_liab  extra_exp  extra_inc  extra_profit_loss  ...  nace_main  \\\n",
       "0       19629.628906        0.0        0.0                0.0  ...     5630.0   \n",
       "39375   22555.554688        0.0        0.0                0.0  ...     5630.0   \n",
       "78750   21429.628906        0.0        0.0                0.0  ...     5630.0   \n",
       "118125  21851.851562        0.0        0.0                0.0  ...     5630.0   \n",
       "157500  22340.740234        0.0        0.0                0.0  ...     5630.0   \n",
       "\n",
       "        ind2  ind  urban_m  region_m  founded_date  exit_date  labor_avg  \\\n",
       "0       56.0  3.0      1.0   Central    1990-11-19        NaN   0.083333   \n",
       "39375   56.0  3.0      1.0   Central    1990-11-19        NaN   0.083333   \n",
       "78750   56.0  3.0      1.0   Central    1990-11-19        NaN   0.083333   \n",
       "118125  56.0  3.0      1.0   Central    1990-11-19        NaN        NaN   \n",
       "157500  56.0  3.0      1.0   Central    1990-11-19        NaN        NaN   \n",
       "\n",
       "        profit_growth  fast_growth  \n",
       "0                 NaN            0  \n",
       "39375       -0.791953            0  \n",
       "78750        0.575472            0  \n",
       "118125      -0.744012            0  \n",
       "157500      -0.292398            0  \n",
       "\n",
       "[5 rows x 44 columns]"
      ]
     },
     "execution_count": 26,
     "metadata": {},
     "output_type": "execute_result"
    }
   ],
   "source": [
    "df_2.head()"
   ]
  },
  {
   "cell_type": "markdown",
   "metadata": {},
   "source": [
    "* Keeping the observations from 2012"
   ]
  },
  {
   "cell_type": "code",
   "execution_count": 28,
   "metadata": {},
   "outputs": [],
   "source": [
    "df_2012 = df_2[df_2['year']==2012]"
   ]
  },
  {
   "cell_type": "markdown",
   "metadata": {},
   "source": [
    "* Dropping the observations with missing values in the \"profit_loss_year\" variable"
   ]
  },
  {
   "cell_type": "code",
   "execution_count": 31,
   "metadata": {},
   "outputs": [],
   "source": [
    "df_2012 = df_2012.dropna(subset=['profit_loss_year'])"
   ]
  },
  {
   "cell_type": "markdown",
   "metadata": {},
   "source": [
    "* checking the stats of \"fast_growth\" variable"
   ]
  },
  {
   "cell_type": "code",
   "execution_count": 33,
   "metadata": {},
   "outputs": [
    {
     "data": {
      "text/plain": [
       "([<matplotlib.axis.XTick at 0x1c45da0fac0>,\n",
       "  <matplotlib.axis.XTick at 0x1c45da0fa90>],\n",
       " [Text(0, 0, '0'), Text(1, 0, '1')])"
      ]
     },
     "execution_count": 33,
     "metadata": {},
     "output_type": "execute_result"
    },
    {
     "data": {
      "image/png": "[encoded data removed]",
      "text/plain": [
       "<Figure size 640x480 with 1 Axes>"
      ]
     },
     "metadata": {},
     "output_type": "display_data"
    }
   ],
   "source": [
    "df_2012['fast_growth'].hist()\n",
    "\n",
    "plt.xticks([0,1])"
   ]
  },
  {
   "cell_type": "code",
   "execution_count": 34,
   "metadata": {},
   "outputs": [
    {
     "data": {
      "text/plain": [
       "0    0.872333\n",
       "1    0.127667\n",
       "Name: fast_growth, dtype: float64"
      ]
     },
     "execution_count": 34,
     "metadata": {},
     "output_type": "execute_result"
    }
   ],
   "source": [
    "df_2012['fast_growth'].value_counts(normalize=True)"
   ]
  },
  {
   "cell_type": "markdown",
   "metadata": {},
   "source": [
    "### Handling the missing values"
   ]
  },
  {
   "cell_type": "code",
   "execution_count": 35,
   "metadata": {},
   "outputs": [
    {
     "data": {
      "text/plain": [
       "exit_year               25052\n",
       "exit_date               24485\n",
       "birth_year               7653\n",
       "labor_avg                7061\n",
       "profit_growth            3836\n",
       "founded_year             3184\n",
       "gender                   3182\n",
       "inoffice_days            3182\n",
       "ceo_count                3182\n",
       "female                   3182\n",
       "foreign                  3182\n",
       "origin                   3182\n",
       "material_exp             1092\n",
       "personnel_exp            1092\n",
       "amort                    1092\n",
       "inc_bef_tax              1023\n",
       "extra_profit_loss        1023\n",
       "extra_inc                1023\n",
       "extra_exp                1023\n",
       "sales                    1023\n",
       "ind                       854\n",
       "region_m                   78\n",
       "nace_main                   6\n",
       "ind2                        6\n",
       "founded_date                3\n",
       "urban_m                     0\n",
       "year                        0\n",
       "balsheet_flag               0\n",
       "balsheet_notfullyear        0\n",
       "balsheet_length             0\n",
       "comp_id                     0\n",
       "tang_assets                 0\n",
       "subscribed_cap              0\n",
       "share_eq                    0\n",
       "profit_loss_year            0\n",
       "liq_assets                  0\n",
       "inventories                 0\n",
       "intang_assets               0\n",
       "fixed_assets                0\n",
       "curr_liab                   0\n",
       "curr_assets                 0\n",
       "end                         0\n",
       "begin                       0\n",
       "fast_growth                 0\n",
       "dtype: int64"
      ]
     },
     "execution_count": 35,
     "metadata": {},
     "output_type": "execute_result"
    }
   ],
   "source": [
    "# checking the missing values in each column\n",
    "df_2012.isnull().sum()\n",
    "\n",
    "# sorting the missing values in descending order\n",
    "df_2012.isnull().sum().sort_values(ascending=False)"
   ]
  },
  {
   "cell_type": "markdown",
   "metadata": {},
   "source": [
    "* Exit Year and Exit Date:"
   ]
  },
  {
   "cell_type": "code",
   "execution_count": 36,
   "metadata": {},
   "outputs": [
    {
     "data": {
      "text/plain": [
       "4"
      ]
     },
     "execution_count": 36,
     "metadata": {},
     "output_type": "execute_result"
    }
   ],
   "source": [
    "# check if for any observation \"exit_year\" is smaller than \"year\"\n",
    "sum(df_2012['exit_year']<df_2012['year'])"
   ]
  },
  {
   "cell_type": "code",
   "execution_count": 37,
   "metadata": {},
   "outputs": [],
   "source": [
    "# dropping the observations with \"exit_year\" smaller than \"year\"\n",
    "df_2012 = df_2012.drop(df_2012[df_2012['exit_year']<df_2012['year']].index)"
   ]
  },
  {
   "cell_type": "code",
   "execution_count": 40,
   "metadata": {},
   "outputs": [
    {
     "data": {
      "text/plain": [
       "2016.0    1407\n",
       "2015.0    1131\n",
       "2014.0     489\n",
       "2013.0     240\n",
       "2017.0      66\n",
       "2012.0      60\n",
       "Name: exit_year, dtype: int64"
      ]
     },
     "execution_count": 40,
     "metadata": {},
     "output_type": "execute_result"
    }
   ],
   "source": [
    "# checking the values of the \"exit_year\" variable\n",
    "df_2012['exit_year'].value_counts()"
   ]
  },
  {
   "cell_type": "code",
   "execution_count": 41,
   "metadata": {},
   "outputs": [],
   "source": [
    "# dropping the \"exit_year\" and \"exit_date\" variables\n",
    "df_2012 = df_2012.drop(['exit_year', 'exit_date'], axis=1)"
   ]
  },
  {
   "cell_type": "markdown",
   "metadata": {},
   "source": [
    "* Birth Year:"
   ]
  },
  {
   "cell_type": "code",
   "execution_count": 42,
   "metadata": {},
   "outputs": [
    {
     "data": {
      "text/plain": [
       "<Axes: >"
      ]
     },
     "execution_count": 42,
     "metadata": {},
     "output_type": "execute_result"
    },
    {
     "data": {
      "image/png": "[encoded data removed]",
      "text/plain": [
       "<Figure size 640x480 with 1 Axes>"
      ]
     },
     "metadata": {},
     "output_type": "display_data"
    }
   ],
   "source": [
    "# checking the distribution of \"birth_year\"\n",
    "df_2012['birth_year'].hist()"
   ]
  },
  {
   "cell_type": "code",
   "execution_count": 43,
   "metadata": {},
   "outputs": [
    {
     "data": {
      "text/plain": [
       "count    20793.000000\n",
       "mean      1965.760653\n",
       "std         11.514953\n",
       "min       1920.000000\n",
       "25%       1957.000000\n",
       "50%       1967.000000\n",
       "75%       1975.000000\n",
       "max       2016.000000\n",
       "Name: birth_year, dtype: float64"
      ]
     },
     "execution_count": 43,
     "metadata": {},
     "output_type": "execute_result"
    }
   ],
   "source": [
    "# checking the statistics of \"birth_year\"\n",
    "df_2012['birth_year'].describe()"
   ]
  },
  {
   "cell_type": "code",
   "execution_count": 44,
   "metadata": {},
   "outputs": [],
   "source": [
    "# adding a flag variable to indicate the missing values\n",
    "df_2012['birth_year_flag'] = np.where(df_2012['birth_year'].isnull(), 1, 0)\n",
    "\n",
    "# replacing the missing values in \"birth_year\" with the median\n",
    "df_2012['birth_year'] = df_2012['birth_year'].fillna(df_2012['birth_year'].median())"
   ]
  },
  {
   "cell_type": "code",
   "execution_count": 45,
   "metadata": {},
   "outputs": [],
   "source": [
    "# adding a flag variable to indicate the missing values for \"labor_avg\"\n",
    "df_2012['labor_avg_flag'] = np.where(df_2012['labor_avg'].isnull(), 1, 0)\n",
    "\n",
    "# filling the missing values with the average\n",
    "df_2012['labor_avg'] = df_2012['labor_avg'].fillna(df_2012['labor_avg'].mean())"
   ]
  },
  {
   "cell_type": "markdown",
   "metadata": {},
   "source": [
    "* Founded year:"
   ]
  },
  {
   "cell_type": "code",
   "execution_count": 46,
   "metadata": {},
   "outputs": [
    {
     "data": {
      "text/plain": [
       "<Axes: >"
      ]
     },
     "execution_count": 46,
     "metadata": {},
     "output_type": "execute_result"
    },
    {
     "data": {
      "image/png": "[encoded data removed]",
      "text/plain": [
       "<Figure size 640x480 with 1 Axes>"
      ]
     },
     "metadata": {},
     "output_type": "display_data"
    }
   ],
   "source": [
    "# Checking the distribution of \"founded_year\"\n",
    "df_2012['founded_year'].hist()"
   ]
  },
  {
   "cell_type": "code",
   "execution_count": 47,
   "metadata": {},
   "outputs": [
    {
     "data": {
      "text/plain": [
       "count    25261.000000\n",
       "mean      2003.453466\n",
       "std          6.898892\n",
       "min       1978.000000\n",
       "25%       1998.000000\n",
       "50%       2005.000000\n",
       "75%       2010.000000\n",
       "max       2012.000000\n",
       "Name: founded_year, dtype: float64"
      ]
     },
     "execution_count": 47,
     "metadata": {},
     "output_type": "execute_result"
    }
   ],
   "source": [
    "# checking the statistics of \"founded_year\"\n",
    "df_2012['founded_year'].describe()"
   ]
  },
  {
   "cell_type": "code",
   "execution_count": 48,
   "metadata": {},
   "outputs": [],
   "source": [
    "# adding a flag variable to indicate the missing values of \"founded_year\"\n",
    "df_2012['founded_year_flag'] = np.where(df_2012['founded_year'].isnull(), 1, 0)\n",
    "\n",
    "# replacing the missing values in \"founded_year\" with the median\n",
    "df_2012['founded_year'] = df_2012['founded_year'].fillna(df_2012['founded_year'].median())"
   ]
  },
  {
   "cell_type": "markdown",
   "metadata": {},
   "source": [
    "* Origin:"
   ]
  },
  {
   "cell_type": "code",
   "execution_count": 49,
   "metadata": {},
   "outputs": [
    {
     "data": {
      "text/plain": [
       "<Axes: >"
      ]
     },
     "execution_count": 49,
     "metadata": {},
     "output_type": "execute_result"
    },
    {
     "data": {
      "image/png": "[encoded data removed]",
      "text/plain": [
       "<Figure size 640x480 with 1 Axes>"
      ]
     },
     "metadata": {},
     "output_type": "display_data"
    }
   ],
   "source": [
    "# checking the distribution of \"origin\"\n",
    "df_2012['origin'].hist()"
   ]
  },
  {
   "cell_type": "code",
   "execution_count": 50,
   "metadata": {},
   "outputs": [
    {
     "data": {
      "text/plain": [
       "count        25263\n",
       "unique           3\n",
       "top       Domestic\n",
       "freq         22135\n",
       "Name: origin, dtype: object"
      ]
     },
     "execution_count": 50,
     "metadata": {},
     "output_type": "execute_result"
    }
   ],
   "source": [
    "# checking the statistics of \"origin\"\n",
    "df_2012['origin'].describe()"
   ]
  },
  {
   "cell_type": "code",
   "execution_count": 51,
   "metadata": {},
   "outputs": [],
   "source": [
    "# adding a flag variable to indicate the missing values of \"origin\"\n",
    "df_2012['origin_flag'] = np.where(df_2012['origin'].isnull(), 1, 0)\n",
    "\n",
    "# replacing the missing values in \"origin\" with the mode and \n",
    "df_2012['origin'] = df_2012['origin'].fillna(df_2012['origin'].mode()[0])"
   ]
  },
  {
   "cell_type": "markdown",
   "metadata": {},
   "source": [
    "* Dropping the observations with missing values in the \"profit_growth\" variable"
   ]
  },
  {
   "cell_type": "code",
   "execution_count": 53,
   "metadata": {},
   "outputs": [],
   "source": [
    "df_2012 = df_2012.dropna(subset=['profit_growth'])"
   ]
  },
  {
   "cell_type": "code",
   "execution_count": 54,
   "metadata": {},
   "outputs": [
    {
     "data": {
      "text/plain": [
       "foreign                 2020\n",
       "female                  2020\n",
       "ceo_count               2020\n",
       "inoffice_days           2020\n",
       "gender                  2020\n",
       "ind                      769\n",
       "amort                    411\n",
       "personnel_exp            411\n",
       "material_exp             411\n",
       "extra_exp                357\n",
       "extra_inc                357\n",
       "extra_profit_loss        357\n",
       "sales                    357\n",
       "inc_bef_tax              357\n",
       "region_m                  67\n",
       "ind2                       6\n",
       "nace_main                  6\n",
       "founded_date               3\n",
       "labor_avg                  0\n",
       "urban_m                    0\n",
       "profit_growth              0\n",
       "fast_growth                0\n",
       "origin                     0\n",
       "birth_year_flag            0\n",
       "labor_avg_flag             0\n",
       "birth_year                 0\n",
       "founded_year_flag          0\n",
       "year                       0\n",
       "balsheet_length            0\n",
       "founded_year               0\n",
       "inventories                0\n",
       "begin                      0\n",
       "end                        0\n",
       "curr_assets                0\n",
       "curr_liab                  0\n",
       "fixed_assets               0\n",
       "intang_assets              0\n",
       "liq_assets                 0\n",
       "balsheet_notfullyear       0\n",
       "profit_loss_year           0\n",
       "share_eq                   0\n",
       "subscribed_cap             0\n",
       "tang_assets                0\n",
       "balsheet_flag              0\n",
       "comp_id                    0\n",
       "origin_flag                0\n",
       "dtype: int64"
      ]
     },
     "execution_count": 54,
     "metadata": {},
     "output_type": "execute_result"
    }
   ],
   "source": [
    "df_2012.isnull().sum().sort_values(ascending=False)"
   ]
  },
  {
   "cell_type": "code",
   "execution_count": 55,
   "metadata": {},
   "outputs": [
    {
     "data": {
      "text/plain": [
       "(24610, 46)"
      ]
     },
     "execution_count": 55,
     "metadata": {},
     "output_type": "execute_result"
    }
   ],
   "source": [
    "df_2012.shape"
   ]
  },
  {
   "cell_type": "markdown",
   "metadata": {},
   "source": [
    "* Foreign:"
   ]
  },
  {
   "cell_type": "code",
   "execution_count": 56,
   "metadata": {},
   "outputs": [
    {
     "data": {
      "text/plain": [
       "<Axes: >"
      ]
     },
     "execution_count": 56,
     "metadata": {},
     "output_type": "execute_result"
    },
    {
     "data": {
      "image/png": "[encoded data removed]",
      "text/plain": [
       "<Figure size 640x480 with 1 Axes>"
      ]
     },
     "metadata": {},
     "output_type": "display_data"
    }
   ],
   "source": [
    "# checking the distribution of \"foreign\"\n",
    "df_2012['foreign'].hist()"
   ]
  },
  {
   "cell_type": "code",
   "execution_count": 57,
   "metadata": {},
   "outputs": [],
   "source": [
    "# create a flag variable to indicate the missing values for \"foreign\" and fill the missing values with the mode\n",
    "df_2012['foreign_flag'] = np.where(df_2012['foreign'].isnull(), 1, 0)\n",
    "df_2012['foreign'] = df_2012['foreign'].fillna(df_2012['foreign'].mode()[0])"
   ]
  },
  {
   "cell_type": "markdown",
   "metadata": {},
   "source": [
    "* CEO_count:"
   ]
  },
  {
   "cell_type": "code",
   "execution_count": 58,
   "metadata": {},
   "outputs": [
    {
     "data": {
      "text/plain": [
       "<Axes: >"
      ]
     },
     "execution_count": 58,
     "metadata": {},
     "output_type": "execute_result"
    },
    {
     "data": {
      "image/png": "[encoded data removed]",
      "text/plain": [
       "<Figure size 640x480 with 1 Axes>"
      ]
     },
     "metadata": {},
     "output_type": "display_data"
    }
   ],
   "source": [
    "# checking the distribution of \"ceo_count\"\n",
    "df_2012['ceo_count'].hist()"
   ]
  },
  {
   "cell_type": "code",
   "execution_count": 59,
   "metadata": {},
   "outputs": [],
   "source": [
    "# create a flag variable to indicate the missing values for \"ceo_count\" and fill the missing values with the mode\n",
    "df_2012['ceo_count_flag'] = np.where(df_2012['ceo_count'].isnull(), 1, 0)\n",
    "df_2012['ceo_count'] = df_2012['ceo_count'].fillna(df_2012['ceo_count'].mode()[0])"
   ]
  },
  {
   "cell_type": "markdown",
   "metadata": {},
   "source": [
    "* In office days:"
   ]
  },
  {
   "cell_type": "code",
   "execution_count": 60,
   "metadata": {},
   "outputs": [
    {
     "data": {
      "text/plain": [
       "<Axes: >"
      ]
     },
     "execution_count": 60,
     "metadata": {},
     "output_type": "execute_result"
    },
    {
     "data": {
      "image/png": "[encoded data removed]",
      "text/plain": [
       "<Figure size 640x480 with 1 Axes>"
      ]
     },
     "metadata": {},
     "output_type": "display_data"
    }
   ],
   "source": [
    "# checking the distribution of \"inoffice_days\"\n",
    "df_2012['inoffice_days'].hist()"
   ]
  },
  {
   "cell_type": "code",
   "execution_count": 61,
   "metadata": {},
   "outputs": [],
   "source": [
    "# create a flag variable to indicate the missing values for \"inoffice_days\" and fill the missing values with the mean\n",
    "df_2012['inoffice_days_flag'] = np.where(df_2012['inoffice_days'].isnull(), 1, 0)\n",
    "df_2012['inoffice_days'] = df_2012['inoffice_days'].fillna(df_2012['inoffice_days'].mean())"
   ]
  },
  {
   "cell_type": "markdown",
   "metadata": {},
   "source": [
    "* Female:"
   ]
  },
  {
   "cell_type": "code",
   "execution_count": 62,
   "metadata": {},
   "outputs": [
    {
     "data": {
      "text/plain": [
       "<Axes: >"
      ]
     },
     "execution_count": 62,
     "metadata": {},
     "output_type": "execute_result"
    },
    {
     "data": {
      "image/png": "[encoded data removed]",
      "text/plain": [
       "<Figure size 640x480 with 1 Axes>"
      ]
     },
     "metadata": {},
     "output_type": "display_data"
    }
   ],
   "source": [
    "# checking the distribution of \"female\"\n",
    "df_2012['female'].hist()"
   ]
  },
  {
   "cell_type": "code",
   "execution_count": 63,
   "metadata": {},
   "outputs": [],
   "source": [
    "# create a flag variable for missing values of \"female\" and fill the missing values with the mean\n",
    "df_2012['female_flag'] = np.where(df_2012['female'].isnull(), 1, 0)\n",
    "df_2012['female'] = df_2012['female'].fillna(df_2012['female'].mean())"
   ]
  },
  {
   "cell_type": "markdown",
   "metadata": {},
   "source": [
    "* Gender:"
   ]
  },
  {
   "cell_type": "code",
   "execution_count": 64,
   "metadata": {},
   "outputs": [
    {
     "data": {
      "text/plain": [
       "<Axes: >"
      ]
     },
     "execution_count": 64,
     "metadata": {},
     "output_type": "execute_result"
    },
    {
     "data": {
      "image/png": "[encoded data removed]",
      "text/plain": [
       "<Figure size 640x480 with 1 Axes>"
      ]
     },
     "metadata": {},
     "output_type": "display_data"
    }
   ],
   "source": [
    "# checking the distribution of \"gender\"\n",
    "df_2012['gender'].hist()"
   ]
  },
  {
   "cell_type": "code",
   "execution_count": 65,
   "metadata": {},
   "outputs": [],
   "source": [
    "# create a flag variable for missing values of \"gender\"\n",
    "df_2012[\"gender_flag\"] = np.where(df_2012['gender'].isnull(), 1, 0)\n",
    "\n",
    "# filling the missing values based on \"female\"\n",
    "df_2012.loc[df_2012['female'] == 1, 'gender'] = 'female' \n",
    "df_2012.loc[(df_2012['female'] > 0) & (df_2012['female'] < 1), 'gender'] = 'mix' \n",
    "df_2012.loc[df_2012['female'] == 0, 'gender'] = 'male'"
   ]
  },
  {
   "cell_type": "markdown",
   "metadata": {},
   "source": [
    "## Dropping the missing observations"
   ]
  },
  {
   "cell_type": "code",
   "execution_count": 67,
   "metadata": {},
   "outputs": [],
   "source": [
    "df_2012 = df_2012.dropna(subset=['liq_assets', 'fixed_assets', 'curr_assets', 'inc_bef_tax', 'profit_loss_year', 'tang_assets', 'ind'])"
   ]
  },
  {
   "cell_type": "code",
   "execution_count": 68,
   "metadata": {},
   "outputs": [
    {
     "data": {
      "text/plain": [
       "region_m                64\n",
       "amort                   52\n",
       "personnel_exp           52\n",
       "material_exp            52\n",
       "founded_date             3\n",
       "year                     0\n",
       "birth_year               0\n",
       "inoffice_days            0\n",
       "gender                   0\n",
       "origin                   0\n",
       "nace_main                0\n",
       "ind2                     0\n",
       "ind                      0\n",
       "urban_m                  0\n",
       "labor_avg                0\n",
       "foreign                  0\n",
       "profit_growth            0\n",
       "fast_growth              0\n",
       "birth_year_flag          0\n",
       "labor_avg_flag           0\n",
       "founded_year_flag        0\n",
       "origin_flag              0\n",
       "foreign_flag             0\n",
       "ceo_count_flag           0\n",
       "inoffice_days_flag       0\n",
       "female_flag              0\n",
       "female                   0\n",
       "founded_year             0\n",
       "ceo_count                0\n",
       "intang_assets            0\n",
       "begin                    0\n",
       "end                      0\n",
       "curr_assets              0\n",
       "curr_liab                0\n",
       "extra_exp                0\n",
       "extra_inc                0\n",
       "extra_profit_loss        0\n",
       "fixed_assets             0\n",
       "inc_bef_tax              0\n",
       "inventories              0\n",
       "comp_id                  0\n",
       "liq_assets               0\n",
       "profit_loss_year         0\n",
       "sales                    0\n",
       "share_eq                 0\n",
       "subscribed_cap           0\n",
       "tang_assets              0\n",
       "balsheet_flag            0\n",
       "balsheet_length          0\n",
       "balsheet_notfullyear     0\n",
       "gender_flag              0\n",
       "dtype: int64"
      ]
     },
     "execution_count": 68,
     "metadata": {},
     "output_type": "execute_result"
    }
   ],
   "source": [
    "df_2012.isnull().sum().sort_values(ascending=False)"
   ]
  },
  {
   "cell_type": "code",
   "execution_count": 69,
   "metadata": {},
   "outputs": [
    {
     "data": {
      "text/plain": [
       "(23498, 51)"
      ]
     },
     "execution_count": 69,
     "metadata": {},
     "output_type": "execute_result"
    }
   ],
   "source": [
    "df_2012.shape"
   ]
  },
  {
   "cell_type": "code",
   "execution_count": 70,
   "metadata": {},
   "outputs": [],
   "source": [
    "# dropping the observations with missing values\n",
    "df_2012 = df_2012.dropna() "
   ]
  },
  {
   "cell_type": "code",
   "execution_count": 71,
   "metadata": {},
   "outputs": [
    {
     "data": {
      "text/plain": [
       "<Axes: >"
      ]
     },
     "execution_count": 71,
     "metadata": {},
     "output_type": "execute_result"
    },
    {
     "data": {
      "image/png": "[encoded data removed]",
      "text/plain": [
       "<Figure size 640x480 with 1 Axes>"
      ]
     },
     "metadata": {},
     "output_type": "display_data"
    }
   ],
   "source": [
    "# checking the distribution of \"fast_growth\"\n",
    "df_2012['fast_growth'].hist()"
   ]
  },
  {
   "cell_type": "markdown",
   "metadata": {},
   "source": [
    "### Feature Engineering"
   ]
  },
  {
   "cell_type": "markdown",
   "metadata": {},
   "source": [
    "* Creating a flag variable for negative values of \"sales\" and converting the negative values to 0."
   ]
  },
  {
   "cell_type": "code",
   "execution_count": 72,
   "metadata": {},
   "outputs": [],
   "source": [
    "df_2012['sales_neg_flag'] = np.where(df_2012['sales']<0, 1, 0)\n",
    "\n",
    "df_2012['sales'] = df_2012['sales'].mask(df_2012['sales']<0, 1)"
   ]
  },
  {
   "cell_type": "markdown",
   "metadata": {},
   "source": [
    "* Creating the \"Sales in thousands\" and \"log- Sales in thousands\" variables:"
   ]
  },
  {
   "cell_type": "code",
   "execution_count": 73,
   "metadata": {},
   "outputs": [
    {
     "name": "stderr",
     "output_type": "stream",
     "text": [
      "c:\\Users\\PA\\anaconda3\\lib\\site-packages\\pandas\\core\\arraylike.py:402: RuntimeWarning: divide by zero encountered in log\n",
      "  result = getattr(ufunc, method)(*inputs, **kwargs)\n"
     ]
    },
    {
     "data": {
      "text/plain": [
       "<Axes: >"
      ]
     },
     "execution_count": 73,
     "metadata": {},
     "output_type": "execute_result"
    },
    {
     "data": {
      "image/png": "[encoded data removed]",
      "text/plain": [
       "<Figure size 640x480 with 1 Axes>"
      ]
     },
     "metadata": {},
     "output_type": "display_data"
    }
   ],
   "source": [
    "df_2012['sales_thous'] = df_2012['sales'].div(1000)\n",
    "\n",
    "df_2012['sales_thous_log'] = np.where(df_2012['sales_thous']>0, np.log(df_2012['sales_thous']), 0)\n",
    "\n",
    "df_2012['sales_thous_log'].hist()"
   ]
  },
  {
   "cell_type": "markdown",
   "metadata": {},
   "source": [
    "* Defining the \"age\" of the company and a dummy variable for young firms."
   ]
  },
  {
   "cell_type": "code",
   "execution_count": 74,
   "metadata": {},
   "outputs": [],
   "source": [
    "df_2012['age'] = df_2012['year'] - df_2012['founded_year']\n",
    "\n",
    "df_2012['new'] = np.where(df_2012['age']<=1, 1, 0)"
   ]
  },
  {
   "cell_type": "markdown",
   "metadata": {},
   "source": [
    "* Dropping the very large or very small companies"
   ]
  },
  {
   "cell_type": "code",
   "execution_count": 75,
   "metadata": {},
   "outputs": [],
   "source": [
    "df_2012 = df_2012.drop(df_2012[(df_2012['sales']>10000000) | (df_2012['sales']<1000)].index)"
   ]
  },
  {
   "cell_type": "code",
   "execution_count": 76,
   "metadata": {},
   "outputs": [
    {
     "data": {
      "text/plain": [
       "(19050, 56)"
      ]
     },
     "execution_count": 76,
     "metadata": {},
     "output_type": "execute_result"
    }
   ],
   "source": [
    "df_2012.shape"
   ]
  },
  {
   "cell_type": "markdown",
   "metadata": {},
   "source": [
    "### Defining categories for ind2"
   ]
  },
  {
   "cell_type": "code",
   "execution_count": 77,
   "metadata": {},
   "outputs": [],
   "source": [
    "df_2012[\"ind2_cat\"] = df_2012[\"ind2\"].copy()\n",
    "df_2012[\"ind2_cat\"] = np.where(df_2012[\"ind2\"] > 56, 60, df_2012[\"ind2_cat\"])\n",
    "df_2012[\"ind2_cat\"] = np.where(df_2012[\"ind2\"] < 26, 20, df_2012[\"ind2_cat\"])\n",
    "df_2012[\"ind2_cat\"] = np.where(\n",
    "    (df_2012[\"ind2\"] < 55) & (df_2012[\"ind2\"] > 35), 40, df_2012[\"ind2_cat\"]\n",
    ")\n",
    "df_2012[\"ind2_cat\"] = np.where(df_2012[\"ind2\"] == 31, 30, df_2012[\"ind2_cat\"])\n",
    "df_2012[\"ind2_cat\"] = np.where(df_2012[\"ind2\"].isna(), 99, df_2012[\"ind2_cat\"])"
   ]
  },
  {
   "cell_type": "code",
   "execution_count": 78,
   "metadata": {},
   "outputs": [
    {
     "data": {
      "text/plain": [
       "ind2_cat\n",
       "26.0      996\n",
       "27.0      613\n",
       "28.0     1791\n",
       "29.0      259\n",
       "30.0      151\n",
       "33.0     1704\n",
       "55.0     2133\n",
       "56.0    11403\n",
       "Name: comp_id, dtype: int64"
      ]
     },
     "execution_count": 78,
     "metadata": {},
     "output_type": "execute_result"
    }
   ],
   "source": [
    "df_2012.groupby(\"ind2_cat\").count()[\"comp_id\"]"
   ]
  },
  {
   "cell_type": "markdown",
   "metadata": {},
   "source": [
    "* Adding \"Age Squared\" to dataset"
   ]
  },
  {
   "cell_type": "code",
   "execution_count": 80,
   "metadata": {},
   "outputs": [],
   "source": [
    "df_2012[\"age_sq\"] = df_2012[\"age\"] ** 2"
   ]
  },
  {
   "cell_type": "markdown",
   "metadata": {},
   "source": [
    "* converting the \"foreign\" variable to a dummy"
   ]
  },
  {
   "cell_type": "code",
   "execution_count": null,
   "metadata": {},
   "outputs": [],
   "source": [
    "df_2012[\"foreign_management\"] = np.where(\n",
    "    df_2012[\"foreign\"] >= 0.5, 1, np.where(df_2012[\"foreign\"].isna(), np.nan, 0)\n",
    ")"
   ]
  },
  {
   "cell_type": "markdown",
   "metadata": {},
   "source": [
    "* \"flag_asset_problem\""
   ]
  },
  {
   "cell_type": "code",
   "execution_count": 81,
   "metadata": {},
   "outputs": [],
   "source": [
    "# create a flag variable for negative values of assets\n",
    "df_2012[\"flag_asset_problem\"] = np.where(\n",
    "    (df_2012[\"intang_assets\"] < 0)\n",
    "    | (df_2012[\"curr_assets\"] < 0)\n",
    "    | (df_2012[\"fixed_assets\"] < 0),\n",
    "    1,\n",
    "    0,\n",
    ")\n",
    "\n",
    "# Changing the negative values to 0\n",
    "df_2012[\"intang_assets\"] = np.where(df_2012[\"intang_assets\"] < 0, 0, df_2012[\"intang_assets\"])\n",
    "df_2012[\"curr_assets\"] = np.where(df_2012[\"curr_assets\"] < 0, 0, df_2012[\"curr_assets\"])\n",
    "df_2012[\"fixed_assets\"] = np.where(df_2012[\"fixed_assets\"] < 0, 0, df_2012[\"fixed_assets\"])\n"
   ]
  },
  {
   "cell_type": "markdown",
   "metadata": {},
   "source": [
    "### Defining the \"Total Assets\" variable"
   ]
  },
  {
   "cell_type": "code",
   "execution_count": 82,
   "metadata": {},
   "outputs": [],
   "source": [
    "df_2012[\"total_assets\"] = (\n",
    "    df_2012[\"intang_assets\"] + df_2012[\"curr_assets\"] + df_2012[\"fixed_assets\"]\n",
    ")"
   ]
  },
  {
   "cell_type": "markdown",
   "metadata": {},
   "source": [
    "* Seperating the Profit-Loss and Balance Sheet variables"
   ]
  },
  {
   "cell_type": "code",
   "execution_count": 83,
   "metadata": {},
   "outputs": [],
   "source": [
    "# profit-loss variables:\n",
    "pl_names = [\n",
    "    \"extra_exp\",\n",
    "    \"extra_inc\",\n",
    "    \"extra_profit_loss\",\n",
    "    \"inc_bef_tax\",\n",
    "    \"inventories\",\n",
    "    \"material_exp\",\n",
    "    \"profit_loss_year\",\n",
    "    \"personnel_exp\",\n",
    "]\n",
    "\n",
    "# balance sheet variables:\n",
    "bs_names = [\n",
    "    \"intang_assets\",\n",
    "    \"curr_liab\",\n",
    "    \"fixed_assets\",\n",
    "    \"liq_assets\",\n",
    "    \"curr_assets\",\n",
    "    \"share_eq\",\n",
    "    \"subscribed_cap\",\n",
    "    \"tang_assets\",\n",
    "]"
   ]
  },
  {
   "cell_type": "markdown",
   "metadata": {},
   "source": [
    "* Normalizing the Profit-Loss and Balance sheet variables"
   ]
  },
  {
   "cell_type": "code",
   "execution_count": 84,
   "metadata": {},
   "outputs": [],
   "source": [
    "# normalizing the profit-loss variables\n",
    "for i in pl_names:\n",
    "    df_2012[i + \"/sales\"] = df_2012[i] / df_2012[\"sales\"]\n",
    "\n",
    "# normalizing the balance sheet variables\n",
    "for i in bs_names:\n",
    "    df_2012[i + \"/total_assets\"] = df_2012[i] / df_2012[\"total_assets\"]"
   ]
  },
  {
   "cell_type": "markdown",
   "metadata": {},
   "source": [
    "* Winsorizing, adding the quadratic form of some profit and balance sheet variables."
   ]
  },
  {
   "cell_type": "code",
   "execution_count": 85,
   "metadata": {},
   "outputs": [],
   "source": [
    "# list of variables that should be between -1 and 1\n",
    "var_list = [\n",
    "    \"extra_profit_loss/sales\",\n",
    "    \"inc_bef_tax/sales\",\n",
    "    \"profit_loss_year/sales\",\n",
    "    \"share_eq/total_assets\",\n",
    "]\n",
    "\n",
    "for i in var_list:\n",
    "    df_2012[i + \"_flag_low\"] = np.where(df_2012[i] < -1, 1, 0)\n",
    "\n",
    "for i in var_list:\n",
    "    df_2012[i] = np.where(df_2012[i] < -1, -1, df_2012[i])\n",
    "\n",
    "for i in var_list:\n",
    "    df_2012[i + \"_flag_high\"] = np.where(df_2012[i] > 1, 1, 0)\n",
    "\n",
    "for i in var_list:\n",
    "    df_2012[i] = np.where(df_2012[i] > 1, 1, df_2012[i])\n",
    "\n",
    "# adding the quadratic terms of the variables in \"var_list\"\n",
    "for i in var_list:\n",
    "    df_2012[i + \"_sq\"] = df_2012[i] ** 2"
   ]
  },
  {
   "cell_type": "markdown",
   "metadata": {},
   "source": [
    "* Creating the \"ceo_age\" and categorizing into 3 bins."
   ]
  },
  {
   "cell_type": "code",
   "execution_count": 88,
   "metadata": {},
   "outputs": [],
   "source": [
    "df_2012[\"ceo_age\"] = df_2012[\"year\"] - df_2012[\"birth_year\"]\n",
    "\n",
    "\n",
    "df_2012[\"ceo_age_0_25_flag\"] = np.where(df_2012[\"ceo_age\"] <= 25, 1, 0)\n",
    "df_2012[\"ceo_age_25_65_flag\"] = np.where(\n",
    "    (df_2012[\"ceo_age\"] > 25) & (df_2012[\"ceo_age\"] <= 65), 1, 0\n",
    ")\n",
    "df_2012[\"ceo_age_65_120_flag\"] = np.where(df_2012[\"ceo_age\"] > 65, 1, 0)\n",
    "\n",
    "\n",
    "df_2012[\"ceo_age\"] = np.where(df_2012[\"ceo_age\"] < 25, 25, df_2012[\"ceo_age\"])\n",
    "df_2012[\"ceo_age\"] = np.where(df_2012[\"ceo_age\"] > 65, 65, df_2012[\"ceo_age\"])\n",
    "df_2012[\"ceo_age\"] = np.where(\n",
    "    (df_2012[\"ceo_age\"] > 25) & (df_2012[\"ceo_age\"] < 65),\n",
    "    df_2012[\"ceo_age\"].mean(),\n",
    "    df_2012[\"ceo_age\"],\n",
    ")"
   ]
  },
  {
   "cell_type": "markdown",
   "metadata": {},
   "source": [
    "* Adding the quadratic term of \"sales_thous_log\""
   ]
  },
  {
   "cell_type": "code",
   "execution_count": 89,
   "metadata": {},
   "outputs": [],
   "source": [
    "df_2012[\"sales_thous_log_sq\"] = df_2012[\"sales_thous_log\"] ** 2"
   ]
  },
  {
   "cell_type": "markdown",
   "metadata": {},
   "source": [
    "### Plotting \"fast growth\" against \"Sales Thousands Log\""
   ]
  },
  {
   "cell_type": "code",
   "execution_count": 90,
   "metadata": {},
   "outputs": [
    {
     "data": {
      "image/png": "[encoded data removed]",
      "text/plain": [
       "<Figure size 640x480 with 1 Axes>"
      ]
     },
     "metadata": {
      "image/png": {
       "height": 480,
       "width": 640
      }
     },
     "output_type": "display_data"
    },
    {
     "data": {
      "text/plain": [
       "<Figure Size: (640 x 480)>"
      ]
     },
     "execution_count": 90,
     "metadata": {},
     "output_type": "execute_result"
    }
   ],
   "source": [
    "from plotnine import *\n",
    "(\n",
    "    ggplot(df_2012, aes(x=\"sales_thous_log\", y=\"fast_growth\"))\n",
    "    + geom_point(color='blue')\n",
    "    + geom_smooth(method=\"lm\", formula=\"y ~ x + I(x**2)\", color=\"green\", se=False)\n",
    "    + geom_smooth(method=\"loess\", color=\"red\", se=False, size=1.5, span=0.9)\n",
    "    + labs(x=\"sales_thous_log\", y=\"fast_growth\")\n",
    "    + theme_bw()\n",
    ")"
   ]
  },
  {
   "cell_type": "code",
   "execution_count": 92,
   "metadata": {},
   "outputs": [
    {
     "data": {
      "text/plain": [
       "(0.0    19017\n",
       " 1.0       33\n",
       " Name: balsheet_flag, dtype: int64,\n",
       " 0.0    18884\n",
       " 1.0      166\n",
       " Name: balsheet_notfullyear, dtype: int64)"
      ]
     },
     "execution_count": 92,
     "metadata": {},
     "output_type": "execute_result"
    }
   ],
   "source": [
    "# checking for non-zero values in the \"balsheet_flag\" and \"balsheet_notfullyear\" variable\n",
    "df_2012['balsheet_flag'].value_counts(), df_2012['balsheet_notfullyear'].value_counts()"
   ]
  },
  {
   "cell_type": "markdown",
   "metadata": {},
   "source": [
    "### Dropping the columns that we have extracted their information"
   ]
  },
  {
   "cell_type": "code",
   "execution_count": 94,
   "metadata": {},
   "outputs": [],
   "source": [
    "# list of columns that should be dropped\n",
    "drop_cols = [\"year\", 'comp_id', \"begin\", \"end\", 'founded_year', 'foreign', 'ceo_age', 'founded_date', 'nace_main', 'birth_year' ]\n",
    "\n",
    "df_2012 = df_2012.drop(drop_cols, axis=1)\n"
   ]
  },
  {
   "cell_type": "code",
   "execution_count": 95,
   "metadata": {},
   "outputs": [
    {
     "data": {
      "text/plain": [
       "amort                       float64\n",
       "curr_assets                 float64\n",
       "curr_liab                   float64\n",
       "extra_exp                   float64\n",
       "extra_inc                   float64\n",
       "                             ...   \n",
       "share_eq/total_assets_sq    float64\n",
       "ceo_age_0_25_flag             int32\n",
       "ceo_age_25_65_flag            int32\n",
       "ceo_age_65_120_flag           int32\n",
       "sales_thous_log_sq          float64\n",
       "Length: 82, dtype: object"
      ]
     },
     "execution_count": 95,
     "metadata": {},
     "output_type": "execute_result"
    }
   ],
   "source": [
    "# checking the types of the variables\n",
    "df_2012.dtypes"
   ]
  },
  {
   "cell_type": "markdown",
   "metadata": {},
   "source": [
    "### Categorical variables and converting them into dummies"
   ]
  },
  {
   "cell_type": "code",
   "execution_count": 97,
   "metadata": {},
   "outputs": [],
   "source": [
    "cat_cols = ['gender', 'origin', 'ind', 'urban_m', 'region_m', 'ind2_cat']\n",
    "\n",
    "df_2012 = pd.get_dummies(df_2012, columns=cat_cols, drop_first=True)"
   ]
  },
  {
   "cell_type": "markdown",
   "metadata": {},
   "source": [
    "### Dropping the instances with very short financial year"
   ]
  },
  {
   "cell_type": "code",
   "execution_count": 99,
   "metadata": {},
   "outputs": [
    {
     "data": {
      "text/plain": [
       "(33, 93)"
      ]
     },
     "execution_count": 99,
     "metadata": {},
     "output_type": "execute_result"
    }
   ],
   "source": [
    "df_2012[df_2012['balsheet_length']<100].shape"
   ]
  },
  {
   "cell_type": "code",
   "execution_count": 100,
   "metadata": {},
   "outputs": [],
   "source": [
    "df_2012 = df_2012.drop(df_2012[df_2012['balsheet_length']<100].index)"
   ]
  },
  {
   "cell_type": "markdown",
   "metadata": {},
   "source": [
    "* Checking for missing values:"
   ]
  },
  {
   "cell_type": "code",
   "execution_count": 101,
   "metadata": {},
   "outputs": [
    {
     "data": {
      "text/plain": [
       "curr_assets/total_assets      53\n",
       "intang_assets/total_assets    53\n",
       "fixed_assets/total_assets     53\n",
       "tang_assets/total_assets      52\n",
       "liq_assets/total_assets       44\n",
       "                              ..\n",
       "labor_avg_flag                 0\n",
       "birth_year_flag                0\n",
       "fast_growth                    0\n",
       "profit_growth                  0\n",
       "ind2_cat_56.0                  0\n",
       "Length: 93, dtype: int64"
      ]
     },
     "execution_count": 101,
     "metadata": {},
     "output_type": "execute_result"
    }
   ],
   "source": [
    "df_2012.isnull().sum()\n",
    "\n",
    "df_2012.isnull().sum().sort_values(ascending=False)"
   ]
  },
  {
   "cell_type": "markdown",
   "metadata": {},
   "source": [
    "* Dropping the observations with missing values"
   ]
  },
  {
   "cell_type": "code",
   "execution_count": 102,
   "metadata": {},
   "outputs": [],
   "source": [
    "\n",
    "df_2012 = df_2012.dropna()"
   ]
  },
  {
   "cell_type": "markdown",
   "metadata": {},
   "source": [
    "* Checking for infinite values in dataset:"
   ]
  },
  {
   "cell_type": "code",
   "execution_count": 103,
   "metadata": {},
   "outputs": [
    {
     "data": {
      "text/plain": [
       "629"
      ]
     },
     "execution_count": 103,
     "metadata": {},
     "output_type": "execute_result"
    }
   ],
   "source": [
    "df_2012.isin([np.inf, -np.inf]).sum().sum()"
   ]
  },
  {
   "cell_type": "markdown",
   "metadata": {},
   "source": [
    "* Dropping the observations with inf values"
   ]
  },
  {
   "cell_type": "code",
   "execution_count": 104,
   "metadata": {},
   "outputs": [],
   "source": [
    "df_2012 = df_2012.replace([np.inf, -np.inf], np.nan).dropna()"
   ]
  },
  {
   "cell_type": "markdown",
   "metadata": {},
   "source": [
    "### Creating a list of flag variables:"
   ]
  },
  {
   "cell_type": "code",
   "execution_count": 106,
   "metadata": {},
   "outputs": [
    {
     "data": {
      "text/plain": [
       "['balsheet_flag',\n",
       " 'birth_year_flag',\n",
       " 'labor_avg_flag',\n",
       " 'founded_year_flag',\n",
       " 'origin_flag',\n",
       " 'foreign_flag',\n",
       " 'ceo_count_flag',\n",
       " 'inoffice_days_flag',\n",
       " 'female_flag',\n",
       " 'gender_flag',\n",
       " 'extra_profit_loss/sales_flag_low',\n",
       " 'inc_bef_tax/sales_flag_low',\n",
       " 'profit_loss_year/sales_flag_low',\n",
       " 'share_eq/total_assets_flag_low',\n",
       " 'extra_profit_loss/sales_flag_high',\n",
       " 'inc_bef_tax/sales_flag_high',\n",
       " 'profit_loss_year/sales_flag_high',\n",
       " 'share_eq/total_assets_flag_high',\n",
       " 'ceo_age_0_25_flag',\n",
       " 'ceo_age_25_65_flag',\n",
       " 'ceo_age_65_120_flag']"
      ]
     },
     "execution_count": 106,
     "metadata": {},
     "output_type": "execute_result"
    }
   ],
   "source": [
    "flag_list = [i for i in df_2012.columns if (\"missing\" in i) | (\"flag\" in i)]\n",
    "\n",
    "flag_list"
   ]
  },
  {
   "cell_type": "markdown",
   "metadata": {},
   "source": [
    "* Dropping the flag variables with no variation"
   ]
  },
  {
   "cell_type": "code",
   "execution_count": 107,
   "metadata": {},
   "outputs": [],
   "source": [
    "for i in flag_list:\n",
    "    if df_2012[i].nunique() == 1:\n",
    "        df_2012 = df_2012.drop(i, axis=1)"
   ]
  },
  {
   "cell_type": "markdown",
   "metadata": {},
   "source": [
    "* Making a copy of the dataframe.\n",
    "* We will use this copy to check the performance of the models on manufacturers and service companies."
   ]
  },
  {
   "cell_type": "code",
   "execution_count": 108,
   "metadata": {},
   "outputs": [],
   "source": [
    "df_2012_cat = df_2012.copy()\n",
    "df_2012 = df_2012.drop(['ind2'], axis=1)"
   ]
  },
  {
   "cell_type": "markdown",
   "metadata": {},
   "source": [
    "### Splitting target variable and the features"
   ]
  },
  {
   "cell_type": "code",
   "execution_count": 110,
   "metadata": {},
   "outputs": [],
   "source": [
    "y = df_2012['fast_growth']\n",
    "X = df_2012.drop('fast_growth', axis=1)"
   ]
  },
  {
   "cell_type": "markdown",
   "metadata": {},
   "source": [
    "### Running a linear regression model on whole data\n",
    "* R-2: 0.086"
   ]
  },
  {
   "cell_type": "code",
   "execution_count": 113,
   "metadata": {},
   "outputs": [
    {
     "name": "stdout",
     "output_type": "stream",
     "text": [
      "                            OLS Regression Results                            \n",
      "==============================================================================\n",
      "Dep. Variable:            fast_growth   R-squared:                       0.086\n",
      "Model:                            OLS   Adj. R-squared:                  0.082\n",
      "Method:                 Least Squares   F-statistic:                     21.78\n",
      "Date:                Thu, 14 Dec 2023   Prob (F-statistic):          9.00e-292\n",
      "Time:                        00:40:44   Log-Likelihood:                -7047.7\n",
      "No. Observations:               18335   AIC:                         1.426e+04\n",
      "Df Residuals:                   18255   BIC:                         1.488e+04\n",
      "Df Model:                          79                                         \n",
      "Covariance Type:            nonrobust                                         \n",
      "=====================================================================================================\n",
      "                                        coef    std err          t      P>|t|      [0.025      0.975]\n",
      "-----------------------------------------------------------------------------------------------------\n",
      "const                                -0.0508      0.117     -0.434      0.665      -0.280       0.179\n",
      "amort                               3.06e-08   1.24e-07      0.247      0.805   -2.12e-07    2.73e-07\n",
      "curr_assets                        1.916e-08   1.85e-08      1.033      0.301   -1.72e-08    5.55e-08\n",
      "curr_liab                         -8.937e-09   9.42e-09     -0.949      0.343   -2.74e-08    9.52e-09\n",
      "extra_exp                         -1.024e-05    4.9e-06     -2.088      0.037   -1.99e-05   -6.29e-07\n",
      "extra_inc                          1.017e-05    4.9e-06      2.076      0.038    5.69e-07    1.98e-05\n",
      "extra_profit_loss                 -1.032e-05    4.9e-06     -2.105      0.035   -1.99e-05   -7.12e-07\n",
      "fixed_assets                       2.313e-08   1.68e-08      1.376      0.169   -9.81e-09    5.61e-08\n",
      "inc_bef_tax                        4.452e-08   9.68e-08      0.460      0.646   -1.45e-07    2.34e-07\n",
      "intang_assets                     -4.863e-08   4.06e-08     -1.197      0.231   -1.28e-07     3.1e-08\n",
      "inventories                       -2.758e-08   2.38e-08     -1.159      0.247   -7.43e-08    1.91e-08\n",
      "liq_assets                        -1.082e-08   2.68e-08     -0.404      0.687   -6.34e-08    4.17e-08\n",
      "material_exp                       7.399e-08   4.32e-08      1.712      0.087   -1.07e-08    1.59e-07\n",
      "personnel_exp                      3.023e-08   5.06e-08      0.598      0.550   -6.89e-08    1.29e-07\n",
      "profit_loss_year                   1.217e-08   9.55e-08      0.127      0.899   -1.75e-07    1.99e-07\n",
      "sales                             -8.348e-08      4e-08     -2.089      0.037   -1.62e-07   -5.14e-09\n",
      "share_eq                          -1.192e-08   9.06e-09     -1.315      0.189   -2.97e-08    5.85e-09\n",
      "subscribed_cap                      1.23e-08   1.08e-08      1.143      0.253   -8.79e-09    3.34e-08\n",
      "tang_assets                       -2.122e-08   1.23e-08     -1.727      0.084   -4.53e-08    2.86e-09\n",
      "balsheet_flag                         0.1040      0.088      1.188      0.235      -0.068       0.276\n",
      "balsheet_length                       0.0003      0.000      0.618      0.536      -0.001       0.001\n",
      "balsheet_notfullyear                 -0.0388      0.066     -0.585      0.559      -0.169       0.091\n",
      "ceo_count                            -0.0005      0.007     -0.067      0.946      -0.014       0.013\n",
      "female                                0.2438      0.141      1.735      0.083      -0.032       0.519\n",
      "inoffice_days                       1.22e-06   2.05e-06      0.595      0.552    -2.8e-06    5.24e-06\n",
      "labor_avg                             0.0091      0.004      2.319      0.020       0.001       0.017\n",
      "profit_growth                      2.201e-05   1.72e-05      1.280      0.201   -1.17e-05    5.57e-05\n",
      "birth_year_flag                      -0.0098      0.010     -1.019      0.308      -0.029       0.009\n",
      "labor_avg_flag                       -0.0056      0.010     -0.573      0.567      -0.025       0.014\n",
      "founded_year_flag                     0.0067      0.005      1.236      0.217      -0.004       0.017\n",
      "origin_flag                           0.0067      0.005      1.236      0.217      -0.004       0.017\n",
      "foreign_flag                          0.0067      0.005      1.236      0.217      -0.004       0.017\n",
      "ceo_count_flag                        0.0067      0.005      1.236      0.217      -0.004       0.017\n",
      "inoffice_days_flag                    0.0067      0.005      1.236      0.217      -0.004       0.017\n",
      "female_flag                           0.0067      0.005      1.236      0.217      -0.004       0.017\n",
      "gender_flag                           0.0067      0.005      1.236      0.217      -0.004       0.017\n",
      "sales_thous                       -8.321e-11      4e-11     -2.081      0.037   -1.62e-10   -4.85e-12\n",
      "sales_thous_log                      -0.0248      0.008     -2.968      0.003      -0.041      -0.008\n",
      "age                                  -0.0011      0.002     -0.561      0.575      -0.005       0.003\n",
      "new                                  -0.0084      0.011     -0.782      0.434      -0.029       0.013\n",
      "age_sq                             4.417e-05   8.51e-05      0.519      0.604      -0.000       0.000\n",
      "foreign_management                   -0.0620      0.044     -1.396      0.163      -0.149       0.025\n",
      "total_assets                      -6.389e-09   1.41e-08     -0.452      0.651   -3.41e-08    2.13e-08\n",
      "extra_exp/sales                       0.0159      0.046      0.342      0.732      -0.075       0.107\n",
      "extra_inc/sales                       0.0057      0.010      0.559      0.576      -0.014       0.026\n",
      "extra_profit_loss/sales              -0.0118      0.069     -0.172      0.864      -0.147       0.123\n",
      "inc_bef_tax/sales                     0.1013      0.069      1.475      0.140      -0.033       0.236\n",
      "inventories/sales                    -0.0008      0.001     -0.730      0.465      -0.003       0.001\n",
      "material_exp/sales                   -0.0019      0.005     -0.376      0.707      -0.012       0.008\n",
      "profit_loss_year/sales                0.0679      0.069      0.980      0.327      -0.068       0.204\n",
      "personnel_exp/sales                  -0.0015      0.006     -0.258      0.797      -0.013       0.010\n",
      "intang_assets/total_assets            0.0641      0.077      0.831      0.406      -0.087       0.215\n",
      "curr_liab/total_assets             4.261e-06   6.68e-06      0.638      0.524   -8.84e-06    1.74e-05\n",
      "fixed_assets/total_assets            -0.0974      0.062     -1.561      0.118      -0.220       0.025\n",
      "liq_assets/total_assets               0.0052      0.008      0.612      0.541      -0.011       0.022\n",
      "curr_assets/total_assets             -0.0176      0.043     -0.405      0.686      -0.103       0.068\n",
      "share_eq/total_assets                 0.0596      0.008      7.139      0.000       0.043       0.076\n",
      "subscribed_cap/total_assets         7.92e-06   8.51e-05      0.093      0.926      -0.000       0.000\n",
      "tang_assets/total_assets              0.0772      0.045      1.704      0.088      -0.012       0.166\n",
      "extra_profit_loss/sales_flag_low     -0.0092      0.228     -0.040      0.968      -0.457       0.439\n",
      "inc_bef_tax/sales_flag_low            0.1405      0.164      0.856      0.392      -0.181       0.462\n",
      "profit_loss_year/sales_flag_low       0.0531      0.165      0.322      0.748      -0.270       0.376\n",
      "share_eq/total_assets_flag_low        0.0629      0.017      3.656      0.000       0.029       0.097\n",
      "extra_profit_loss/sales_flag_high     0.0664      0.104      0.636      0.525      -0.138       0.271\n",
      "inc_bef_tax/sales_flag_high           0.0363      0.111      0.326      0.744      -0.182       0.254\n",
      "profit_loss_year/sales_flag_high     -0.2012      0.119     -1.695      0.090      -0.434       0.031\n",
      "share_eq/total_assets_flag_high       0.0225      0.029      0.778      0.437      -0.034       0.079\n",
      "extra_profit_loss/sales_sq           -0.0941      0.109     -0.861      0.389      -0.308       0.120\n",
      "inc_bef_tax/sales_sq                 -0.3063      0.083     -3.677      0.000      -0.470      -0.143\n",
      "profit_loss_year/sales_sq             0.1312      0.089      1.481      0.139      -0.042       0.305\n",
      "share_eq/total_assets_sq             -0.0790      0.012     -6.590      0.000      -0.102      -0.055\n",
      "ceo_age_0_25_flag                    -0.0173      0.043     -0.402      0.688      -0.102       0.067\n",
      "ceo_age_25_65_flag                   -0.0123      0.040     -0.307      0.759      -0.091       0.066\n",
      "ceo_age_65_120_flag                  -0.0212      0.041     -0.518      0.604      -0.101       0.059\n",
      "sales_thous_log_sq                    0.0046      0.001      4.093      0.000       0.002       0.007\n",
      "gender_male                           0.2446      0.141      1.740      0.082      -0.031       0.520\n",
      "gender_mix                            0.1322      0.072      1.843      0.065      -0.008       0.273\n",
      "origin_Foreign                        0.0421      0.046      0.910      0.363      -0.049       0.133\n",
      "origin_mix                            0.0342      0.042      0.808      0.419      -0.049       0.117\n",
      "ind_2.0                              -0.0182      0.034     -0.533      0.594      -0.085       0.049\n",
      "ind_3.0                              -0.0264      0.022     -1.179      0.238      -0.070       0.017\n",
      "urban_m_2.0                           0.0071      0.008      0.895      0.371      -0.008       0.023\n",
      "urban_m_3.0                           0.0072      0.007      0.969      0.333      -0.007       0.022\n",
      "region_m_East                         0.0050      0.007      0.691      0.490      -0.009       0.019\n",
      "region_m_West                        -0.0073      0.008     -0.868      0.385      -0.024       0.009\n",
      "ind2_cat_27.0                        -0.0012      0.019     -0.064      0.949      -0.038       0.036\n",
      "ind2_cat_28.0                         0.0293      0.015      1.994      0.046       0.001       0.058\n",
      "ind2_cat_29.0                        -0.0018      0.037     -0.048      0.961      -0.075       0.072\n",
      "ind2_cat_30.0                        -0.0044      0.040     -0.110      0.912      -0.082       0.073\n",
      "ind2_cat_33.0                         0.0124      0.015      0.837      0.402      -0.017       0.041\n",
      "ind2_cat_55.0                        -0.0126      0.012     -1.018      0.309      -0.037       0.012\n",
      "ind2_cat_56.0                        -0.0138      0.012     -1.167      0.243      -0.037       0.009\n",
      "==============================================================================\n",
      "Omnibus:                     4064.289   Durbin-Watson:                   2.005\n",
      "Prob(Omnibus):                  0.000   Jarque-Bera (JB):             7340.774\n",
      "Skew:                           1.508   Prob(JB):                         0.00\n",
      "Kurtosis:                       3.717   Cond. No.                     1.13e+16\n",
      "==============================================================================\n",
      "\n",
      "Notes:\n",
      "[1] Standard Errors assume that the covariance matrix of the errors is correctly specified.\n",
      "[2] The smallest eigenvalue is 7.84e-16. This might indicate that there are\n",
      "strong multicollinearity problems or that the design matrix is singular.\n"
     ]
    }
   ],
   "source": [
    "import statsmodels.api as sm\n",
    "X_ols = sm.add_constant(X)\n",
    "model = sm.OLS(y, X_ols)\n",
    "results = model.fit()\n",
    "print(results.summary())\n"
   ]
  },
  {
   "cell_type": "markdown",
   "metadata": {},
   "source": [
    "### Running a logistic regression model on whole data\n",
    "* Pseudo R-2: 0.179"
   ]
  },
  {
   "cell_type": "code",
   "execution_count": 114,
   "metadata": {},
   "outputs": [
    {
     "name": "stdout",
     "output_type": "stream",
     "text": [
      "Warning: Maximum number of iterations has been exceeded.\n",
      "         Current function value: 0.368630\n",
      "         Iterations: 35\n",
      "                           Logit Regression Results                           \n",
      "==============================================================================\n",
      "Dep. Variable:            fast_growth   No. Observations:                18335\n",
      "Model:                          Logit   Df Residuals:                    18253\n",
      "Method:                           MLE   Df Model:                           81\n",
      "Date:                Thu, 14 Dec 2023   Pseudo R-squ.:                  0.1788\n",
      "Time:                        00:40:49   Log-Likelihood:                -6758.8\n",
      "converged:                      False   LL-Null:                       -8230.7\n",
      "Covariance Type:            nonrobust   LLR p-value:                     0.000\n",
      "=====================================================================================================\n",
      "                                        coef    std err          z      P>|z|      [0.025      0.975]\n",
      "-----------------------------------------------------------------------------------------------------\n",
      "const                                -3.9402        nan        nan        nan         nan         nan\n",
      "amort                              4.496e-07   1.05e-06      0.428      0.668   -1.61e-06    2.51e-06\n",
      "curr_assets                       -1.474e-05      0.576  -2.56e-05      1.000      -1.130       1.130\n",
      "curr_liab                          -1.46e-07   2.02e-07     -0.723      0.470   -5.42e-07     2.5e-07\n",
      "extra_exp                         -7.706e-05      0.000     -0.629      0.529      -0.000       0.000\n",
      "extra_inc                          7.576e-05      0.000      0.603      0.547      -0.000       0.000\n",
      "extra_profit_loss                 -7.831e-05      0.000     -0.608      0.543      -0.000       0.000\n",
      "fixed_assets                      -1.488e-05      0.621   -2.4e-05      1.000      -1.216       1.216\n",
      "inc_bef_tax                        6.038e-07   6.93e-07      0.872      0.383   -7.54e-07    1.96e-06\n",
      "intang_assets                     -1.529e-05      0.461  -3.32e-05      1.000      -0.903       0.903\n",
      "inventories                        -2.97e-07   1.34e-07     -2.216      0.027    -5.6e-07   -3.44e-08\n",
      "liq_assets                        -4.827e-08   1.92e-07     -0.251      0.802   -4.25e-07    3.29e-07\n",
      "material_exp                       4.719e-07   3.24e-07      1.458      0.145   -1.63e-07    1.11e-06\n",
      "personnel_exp                      2.017e-07   2.12e-07      0.953      0.341   -2.13e-07    6.16e-07\n",
      "profit_loss_year                  -2.166e-06   8.17e-07     -2.651      0.008   -3.77e-06   -5.64e-07\n",
      "sales                              1.901e-07      0.627   3.03e-07      1.000      -1.229       1.229\n",
      "share_eq                          -2.053e-08   1.19e-07     -0.173      0.863   -2.53e-07    2.12e-07\n",
      "subscribed_cap                     8.235e-08   9.66e-08      0.852      0.394   -1.07e-07    2.72e-07\n",
      "tang_assets                       -1.038e-07   1.01e-07     -1.025      0.305   -3.02e-07    9.47e-08\n",
      "balsheet_flag                         1.9654        nan        nan        nan         nan         nan\n",
      "balsheet_length                       0.0144        nan        nan        nan         nan         nan\n",
      "balsheet_notfullyear                 -0.0833        nan        nan        nan         nan         nan\n",
      "ceo_count                             0.0143      0.033      0.428      0.669      -0.051       0.080\n",
      "female                                1.7970      0.969      1.854      0.064      -0.103       3.697\n",
      "inoffice_days                      6.868e-06    1.6e-05      0.429      0.668   -2.45e-05    3.83e-05\n",
      "labor_avg                             0.0539      0.033      1.646      0.100      -0.010       0.118\n",
      "profit_growth                         0.0001      0.000      0.829      0.407      -0.000       0.000\n",
      "birth_year_flag                      -0.1246      0.084     -1.479      0.139      -0.290       0.041\n",
      "labor_avg_flag                       -0.0312      0.096     -0.325      0.745      -0.219       0.157\n",
      "founded_year_flag                     0.0570        nan        nan        nan         nan         nan\n",
      "origin_flag                           0.0570   3.28e+16   1.74e-18      1.000   -6.42e+16    6.42e+16\n",
      "foreign_flag                          0.0570        nan        nan        nan         nan         nan\n",
      "ceo_count_flag                        0.0570        nan        nan        nan         nan         nan\n",
      "inoffice_days_flag                    0.0570   1.06e+07    5.4e-09      1.000   -2.07e+07    2.07e+07\n",
      "female_flag                           0.0570   1.06e+07    5.4e-09      1.000   -2.07e+07    2.07e+07\n",
      "gender_flag                           0.0570    8.4e+06   6.79e-09      1.000   -1.65e+07    1.65e+07\n",
      "sales_thous                          -0.0007    620.222  -1.17e-06      1.000   -1215.613    1215.612\n",
      "sales_thous_log                      -0.2624      0.073     -3.583      0.000      -0.406      -0.119\n",
      "age                                   0.0023      0.008      0.265      0.791      -0.014       0.019\n",
      "new                                  -0.0805      0.097     -0.828      0.408      -0.271       0.110\n",
      "age_sq                            -1.637e-05      0.000     -0.034      0.973      -0.001       0.001\n",
      "foreign_management                   -0.4492        nan        nan        nan         nan         nan\n",
      "total_assets                       1.494e-05      0.581   2.57e-05      1.000      -1.139       1.139\n",
      "extra_exp/sales                       2.1528      2.003      1.075      0.283      -1.774       6.079\n",
      "extra_inc/sales                      -1.6189      1.951     -0.830      0.407      -5.443       2.205\n",
      "extra_profit_loss/sales               2.5366      2.168      1.170      0.242      -1.714       6.787\n",
      "inc_bef_tax/sales                    -0.2975      0.626     -0.475      0.635      -1.525       0.930\n",
      "inventories/sales                    -0.0052      0.019     -0.270      0.787      -0.043       0.033\n",
      "material_exp/sales                   -0.0230      0.091     -0.253      0.800      -0.201       0.155\n",
      "profit_loss_year/sales                7.3795      0.693     10.642      0.000       6.020       8.739\n",
      "personnel_exp/sales                  -0.0805      0.105     -0.769      0.442      -0.286       0.125\n",
      "intang_assets/total_assets           -0.8350      8e+05  -1.04e-06      1.000   -1.57e+06    1.57e+06\n",
      "curr_liab/total_assets               -0.0101      0.007     -1.445      0.148      -0.024       0.004\n",
      "fixed_assets/total_assets            -1.7101   7.98e+05  -2.14e-06      1.000   -1.57e+06    1.57e+06\n",
      "liq_assets/total_assets              -0.0188      0.098     -0.192      0.848      -0.211       0.174\n",
      "curr_assets/total_assets             -1.3951   7.99e+05  -1.75e-06      1.000   -1.57e+06    1.57e+06\n",
      "share_eq/total_assets                 0.2345      0.085      2.757      0.006       0.068       0.401\n",
      "subscribed_cap/total_assets          -0.0014      0.008     -0.175      0.861      -0.017       0.014\n",
      "tang_assets/total_assets              0.3556      0.387      0.919      0.358      -0.403       1.114\n",
      "extra_profit_loss/sales_flag_low      3.6467    2.8e+05    1.3e-05      1.000   -5.48e+05    5.48e+05\n",
      "inc_bef_tax/sales_flag_low          -15.6423   4898.122     -0.003      0.997   -9615.784    9584.500\n",
      "profit_loss_year/sales_flag_low       8.5400   4898.553      0.002      0.999   -9592.447    9609.527\n",
      "share_eq/total_assets_flag_low        0.3144      0.189      1.664      0.096      -0.056       0.685\n",
      "extra_profit_loss/sales_flag_high     3.1126      1.684      1.848      0.065      -0.188       6.413\n",
      "inc_bef_tax/sales_flag_high           0.7753      1.201      0.646      0.519      -1.578       3.129\n",
      "profit_loss_year/sales_flag_high      7.6825      1.671      4.596      0.000       4.406      10.959\n",
      "share_eq/total_assets_flag_high       0.2560      0.214      1.199      0.231      -0.163       0.675\n",
      "extra_profit_loss/sales_sq           -2.8911      1.986     -1.456      0.145      -6.784       1.002\n",
      "inc_bef_tax/sales_sq                 -0.7863      0.843     -0.933      0.351      -2.438       0.865\n",
      "profit_loss_year/sales_sq           -17.6410      1.312    -13.449      0.000     -20.212     -15.070\n",
      "share_eq/total_assets_sq             -0.5781      0.110     -5.250      0.000      -0.794      -0.362\n",
      "ceo_age_0_25_flag                    -1.3444        nan        nan        nan         nan         nan\n",
      "ceo_age_25_65_flag                   -1.2822        nan        nan        nan         nan         nan\n",
      "ceo_age_65_120_flag                  -1.3136        nan        nan        nan         nan         nan\n",
      "sales_thous_log_sq                    0.0344      0.009      3.750      0.000       0.016       0.052\n",
      "gender_male                           1.8243      0.981      1.860      0.063      -0.098       3.747\n",
      "gender_mix                            0.9968      0.454      2.198      0.028       0.108       1.886\n",
      "origin_Foreign                        0.4145        nan        nan        nan         nan         nan\n",
      "origin_mix                            0.2558      0.795      0.322      0.748      -1.302       1.814\n",
      "ind_2.0                              -1.1364        nan        nan        nan         nan         nan\n",
      "ind_3.0                              -0.8246   8.22e+05     -1e-06      1.000   -1.61e+06    1.61e+06\n",
      "urban_m_2.0                           0.0551      0.059      0.934      0.350      -0.060       0.171\n",
      "urban_m_3.0                           0.0467      0.057      0.820      0.412      -0.065       0.158\n",
      "region_m_East                         0.0243      0.056      0.437      0.662      -0.085       0.133\n",
      "region_m_West                        -0.0867      0.065     -1.327      0.185      -0.215       0.041\n",
      "ind2_cat_27.0                         0.0320      0.278      0.115      0.909      -0.514       0.578\n",
      "ind2_cat_28.0                         0.1640        nan        nan        nan         nan         nan\n",
      "ind2_cat_29.0                        -1.0240        nan        nan        nan         nan         nan\n",
      "ind2_cat_30.0                        -0.9551        nan        nan        nan         nan         nan\n",
      "ind2_cat_33.0                         0.0700         -0       -inf      0.000       0.070       0.070\n",
      "ind2_cat_55.0                        -0.4293         -0        inf      0.000      -0.429      -0.429\n",
      "ind2_cat_56.0                        -0.3953          0       -inf      0.000      -0.395      -0.395\n",
      "=====================================================================================================\n",
      "\n",
      "Possibly complete quasi-separation: A fraction 0.15 of observations can be\n",
      "perfectly predicted. This might indicate that there is complete\n",
      "quasi-separation. In this case some parameters will not be identified.\n"
     ]
    },
    {
     "name": "stderr",
     "output_type": "stream",
     "text": [
      "c:\\Users\\PA\\anaconda3\\lib\\site-packages\\statsmodels\\base\\model.py:607: ConvergenceWarning: Maximum Likelihood optimization failed to converge. Check mle_retvals\n"
     ]
    }
   ],
   "source": [
    "import statsmodels.api as sm\n",
    "X_ols = sm.add_constant(X)\n",
    "model = sm.Logit(y, X_ols)\n",
    "results = model.fit()\n",
    "print(results.summary())\n"
   ]
  },
  {
   "cell_type": "markdown",
   "metadata": {},
   "source": [
    "* Splitting the data into train and test (holdout) sets"
   ]
  },
  {
   "cell_type": "code",
   "execution_count": 115,
   "metadata": {},
   "outputs": [],
   "source": [
    "from sklearn.model_selection import train_test_split\n",
    "X_train, X_test, y_train, y_test = train_test_split(X, y,\n",
    "                                                    test_size=0.2,\n",
    "                                                    random_state=123,\n",
    "                                                    stratify=y)"
   ]
  },
  {
   "cell_type": "markdown",
   "metadata": {},
   "source": [
    "* Checking the frequency of classes in different sets"
   ]
  },
  {
   "cell_type": "code",
   "execution_count": 116,
   "metadata": {},
   "outputs": [
    {
     "data": {
      "text/plain": [
       "(0    0.834361\n",
       " 1    0.165639\n",
       " Name: fast_growth, dtype: float64,\n",
       " 0    0.834333\n",
       " 1    0.165667\n",
       " Name: fast_growth, dtype: float64,\n",
       " 0    0.83447\n",
       " 1    0.16553\n",
       " Name: fast_growth, dtype: float64)"
      ]
     },
     "execution_count": 116,
     "metadata": {},
     "output_type": "execute_result"
    }
   ],
   "source": [
    "y.value_counts(normalize=True), y_train.value_counts(normalize=True), y_test.value_counts(normalize=True)"
   ]
  },
  {
   "cell_type": "markdown",
   "metadata": {},
   "source": [
    "* creaiting lists for storing the results"
   ]
  },
  {
   "cell_type": "code",
   "execution_count": 141,
   "metadata": {},
   "outputs": [],
   "source": [
    "models = []\n",
    "CV_RMSE = []\n",
    "CV_AUC = []\n",
    "Expected_loss= []\n",
    "Optimal_threshold = []"
   ]
  },
  {
   "cell_type": "markdown",
   "metadata": {},
   "source": [
    "## Logit Regressions"
   ]
  },
  {
   "cell_type": "markdown",
   "metadata": {},
   "source": [
    "* Defining the model\n",
    "* considering 5 folds\n",
    "* comuting 2 measures for the model: rmse and auc\n",
    "* Defining a loss function to find the optimal threshold\n",
    "* implementing the trained model on the holdout set, computing the confusion matrix using the optimal threshold."
   ]
  },
  {
   "cell_type": "code",
   "execution_count": 142,
   "metadata": {},
   "outputs": [
    {
     "name": "stdout",
     "output_type": "stream",
     "text": [
      "Average CV AUC: 0.6033845979588273\n",
      "Average CV RMSE: 0.4105188563225467\n",
      "Optimal Threshold: 0.7676767676767677\n",
      "Confusion Matrix:\n",
      " [[3060    0]\n",
      " [ 606    1]]\n",
      "Expected Loss: 0.9915462230706299\n"
     ]
    }
   ],
   "source": [
    "import numpy as np\n",
    "import pandas as pd\n",
    "from sklearn.linear_model import LogisticRegression\n",
    "from sklearn.metrics import roc_auc_score, mean_squared_error, confusion_matrix\n",
    "from sklearn.model_selection import cross_val_score, StratifiedKFold\n",
    "\n",
    "\n",
    "# Step 1: Cross-Validated Performance\n",
    "lr = LogisticRegression(max_iter=5000) \n",
    "cv = StratifiedKFold(n_splits=5)\n",
    "\n",
    "cv_auc_scores = cross_val_score(lr, X_train, y_train, cv=cv, scoring='roc_auc')\n",
    "cv_rmse_scores = cross_val_score(lr, X_train, y_train, cv=cv, scoring='neg_mean_squared_error')\n",
    "cv_rmse_scores = np.sqrt(-cv_rmse_scores)\n",
    "\n",
    "print(\"Average CV AUC:\", np.mean(cv_auc_scores))\n",
    "print(\"Average CV RMSE:\", np.mean(cv_rmse_scores))\n",
    "\n",
    "# Step 2: Define Loss Function and Compute Optimal Threshold\n",
    "def custom_loss(y_true, y_pred, fp_cost=4, fn_cost=6):\n",
    "    fp = np.sum((y_pred == 1) & (y_true == 0)) * fp_cost\n",
    "    fn = np.sum((y_pred == 0) & (y_true == 1)) * fn_cost\n",
    "    return fp + fn\n",
    "\n",
    "lr.fit(X_train, y_train)\n",
    "probabilities = lr.predict_proba(X_train)[:, 1]\n",
    "\n",
    "thresholds = np.linspace(0, 1, 100)\n",
    "losses = []\n",
    "\n",
    "for threshold in thresholds:\n",
    "    predictions = (probabilities >= threshold).astype(int)\n",
    "    loss = custom_loss(y_train, predictions)\n",
    "    losses.append(loss)\n",
    "\n",
    "optimal_threshold = thresholds[np.argmin(losses)]\n",
    "print(\"Optimal Threshold:\", optimal_threshold)\n",
    "\n",
    "# Step 3: Confusion Table on Test Set\n",
    "probabilities = lr.predict_proba(X_test)[:, 1]\n",
    "optimal_predictions = (probabilities >= optimal_threshold).astype(int)\n",
    "conf_matrix = confusion_matrix(y_test, optimal_predictions)\n",
    "print(\"Confusion Matrix:\\n\", conf_matrix)"
   ]
  },
  {
   "cell_type": "markdown",
   "metadata": {},
   "source": [
    "* Computing the Average Expected Loss of Logit model on the holdout set:"
   ]
  },
  {
   "cell_type": "code",
   "execution_count": null,
   "metadata": {},
   "outputs": [],
   "source": [
    "# computing the expected loss on the test set\n",
    "fp_cost = 4\n",
    "fn_cost = 6\n",
    "fp = conf_matrix[0, 1] * fp_cost\n",
    "fn = conf_matrix[1, 0] * fn_cost\n",
    "expected_loss = (fp + fn) / len(y_test)\n",
    "print(\"Expected Loss:\", expected_loss)"
   ]
  },
  {
   "cell_type": "code",
   "execution_count": 143,
   "metadata": {},
   "outputs": [],
   "source": [
    "# saving the results in the lists\n",
    "models.append('Logistic Regression')\n",
    "CV_AUC.append(np.mean(cv_auc_scores))\n",
    "CV_RMSE.append(np.mean(cv_rmse_scores))\n",
    "Expected_loss.append(expected_loss)\n",
    "Optimal_threshold.append(optimal_threshold)"
   ]
  },
  {
   "cell_type": "markdown",
   "metadata": {},
   "source": [
    "# Random Forest"
   ]
  },
  {
   "cell_type": "markdown",
   "metadata": {},
   "source": [
    "* Defining the model\n",
    "* considering 5 folds\n",
    "* comuting 2 measures for the model: rmse and auc\n",
    "* Defining a loss function to find the optimal threshold\n",
    "* implementing the trained model on the holdout set, computing the confusion matrix using the optimal threshold."
   ]
  },
  {
   "cell_type": "code",
   "execution_count": 186,
   "metadata": {},
   "outputs": [
    {
     "name": "stdout",
     "output_type": "stream",
     "text": [
      "Average CV AUC: 0.8499202461312947\n",
      "Average CV RMSE: 0.4055724128625247\n",
      "Optimal Threshold: 0.3535353535353536\n",
      "Confusion Matrix:\n",
      " [[2659  401]\n",
      " [ 284  323]]\n"
     ]
    }
   ],
   "source": [
    "import numpy as np\n",
    "import pandas as pd\n",
    "from sklearn.ensemble import RandomForestClassifier\n",
    "from sklearn.metrics import roc_auc_score, mean_squared_error, confusion_matrix\n",
    "from sklearn.model_selection import cross_val_score, StratifiedKFold\n",
    "\n",
    "\n",
    "# Step 1: Cross-Validated Performance\n",
    "rf = RandomForestClassifier()\n",
    "cv = StratifiedKFold(n_splits=5)\n",
    "\n",
    "cv_auc_scores = cross_val_score(rf, X_train, y_train, cv=cv, scoring='roc_auc')\n",
    "cv_rmse_scores = cross_val_score(rf, X_train, y_train, cv=cv, scoring='neg_mean_squared_error')\n",
    "cv_rmse_scores = np.sqrt(-cv_rmse_scores)\n",
    "\n",
    "print(\"Average CV AUC:\", np.mean(cv_auc_scores))\n",
    "print(\"Average CV RMSE:\", np.mean(cv_rmse_scores))\n",
    "\n",
    "# Step 2: Define Loss Function and Compute Optimal Threshold\n",
    "def custom_loss(y_true, y_pred, fp_cost=4, fn_cost=6):\n",
    "    fp = np.sum((y_pred == 1) & (y_true == 0)) * fp_cost\n",
    "    fn = np.sum((y_pred == 0) & (y_true == 1)) * fn_cost\n",
    "    return fp + fn\n",
    "\n",
    "rf.fit(X_train, y_train)\n",
    "probabilities = rf.predict_proba(X_train)[:, 1]\n",
    "\n",
    "thresholds = np.linspace(0, 1, 100)\n",
    "losses = []\n",
    "\n",
    "for threshold in thresholds:\n",
    "    predictions = (probabilities >= threshold).astype(int)\n",
    "    loss = custom_loss(y_train, predictions)\n",
    "    losses.append(loss)\n",
    "\n",
    "optimal_threshold = thresholds[np.argmin(losses)]\n",
    "print(\"Optimal Threshold:\", optimal_threshold)\n",
    "\n",
    "# Step 3: Confusion Table on Test Set\n",
    "probabilities = rf.predict_proba(X_test)[:, 1]\n",
    "optimal_predictions = (probabilities >= optimal_threshold).astype(int)\n",
    "conf_matrix = confusion_matrix(y_test, optimal_predictions)\n",
    "print(\"Confusion Matrix:\\n\", conf_matrix)\n"
   ]
  },
  {
   "cell_type": "markdown",
   "metadata": {},
   "source": [
    "* Computing the Average Expected Loss of RF model on the holdout set:"
   ]
  },
  {
   "cell_type": "code",
   "execution_count": 185,
   "metadata": {},
   "outputs": [
    {
     "name": "stdout",
     "output_type": "stream",
     "text": [
      "Expected Loss: 0.9091900736296701\n"
     ]
    }
   ],
   "source": [
    "# computing the expected loss on the test set\n",
    "fp_cost = 4\n",
    "fn_cost = 6\n",
    "fp = conf_matrix[0, 1] * fp_cost\n",
    "fn = conf_matrix[1, 0] * fn_cost\n",
    "expected_loss = (fp + fn) / len(y_test)\n",
    "print(\"Expected Loss:\", expected_loss)"
   ]
  },
  {
   "cell_type": "code",
   "execution_count": 146,
   "metadata": {},
   "outputs": [],
   "source": [
    "# saving the results in the lists\n",
    "models.append('Random Forest')\n",
    "CV_AUC.append(np.mean(cv_auc_scores))\n",
    "CV_RMSE.append(np.mean(cv_rmse_scores))\n",
    "Expected_loss.append(expected_loss)\n",
    "Optimal_threshold.append(optimal_threshold)\n"
   ]
  },
  {
   "cell_type": "markdown",
   "metadata": {},
   "source": [
    "## GBM"
   ]
  },
  {
   "cell_type": "markdown",
   "metadata": {},
   "source": [
    "* Defining the model\n",
    "* considering 5 folds\n",
    "* comuting 2 measures for the model: rmse and auc\n",
    "* Defining a loss function to find the optimal threshold\n",
    "* implementing the trained model on the holdout set, computing the confusion matrix using the optimal threshold."
   ]
  },
  {
   "cell_type": "code",
   "execution_count": 147,
   "metadata": {},
   "outputs": [
    {
     "name": "stdout",
     "output_type": "stream",
     "text": [
      "Average CV AUC: 0.8572844237313001\n",
      "Average CV RMSE: 0.39770034693687756\n",
      "Optimal Threshold: 0.393939393939394\n",
      "Confusion Matrix:\n",
      " [[2815  245]\n",
      " [ 365  242]]\n"
     ]
    }
   ],
   "source": [
    "import numpy as np\n",
    "import pandas as pd\n",
    "from sklearn.ensemble import GradientBoostingClassifier\n",
    "from sklearn.metrics import roc_auc_score, mean_squared_error, confusion_matrix\n",
    "from sklearn.model_selection import cross_val_score, StratifiedKFold\n",
    "\n",
    "# Step 1: Cross-Validated Performance\n",
    "gbm = GradientBoostingClassifier()\n",
    "cv = StratifiedKFold(n_splits=5)\n",
    "\n",
    "cv_auc_scores = cross_val_score(gbm, X_train, y_train, cv=cv, scoring='roc_auc')\n",
    "cv_rmse_scores = cross_val_score(gbm, X_train, y_train, cv=cv, scoring='neg_mean_squared_error')\n",
    "cv_rmse_scores = np.sqrt(-cv_rmse_scores)\n",
    "\n",
    "print(\"Average CV AUC:\", np.mean(cv_auc_scores))\n",
    "print(\"Average CV RMSE:\", np.mean(cv_rmse_scores))\n",
    "\n",
    "# Step 2: Define Loss Function and Compute Optimal Threshold\n",
    "def custom_loss(y_true, y_pred, fp_cost=4, fn_cost=6):\n",
    "    fp = np.sum((y_pred == 1) & (y_true == 0)) * fp_cost\n",
    "    fn = np.sum((y_pred == 0) & (y_true == 1)) * fn_cost\n",
    "    return fp + fn\n",
    "\n",
    "gbm.fit(X_train, y_train)\n",
    "probabilities = gbm.predict_proba(X_train)[:, 1]\n",
    "\n",
    "thresholds = np.linspace(0, 1, 100)\n",
    "losses = []\n",
    "\n",
    "for threshold in thresholds:\n",
    "    predictions = (probabilities >= threshold).astype(int)\n",
    "    loss = custom_loss(y_train, predictions)\n",
    "    losses.append(loss)\n",
    "\n",
    "optimal_threshold = thresholds[np.argmin(losses)]\n",
    "print(\"Optimal Threshold:\", optimal_threshold)\n",
    "\n",
    "# Step 3: Confusion Table on Test Set\n",
    "probabilities = gbm.predict_proba(X_test)[:, 1]\n",
    "optimal_predictions = (probabilities >= optimal_threshold).astype(int)\n",
    "conf_matrix = confusion_matrix(y_test, optimal_predictions)\n",
    "print(\"Confusion Matrix:\\n\", conf_matrix)\n"
   ]
  },
  {
   "cell_type": "markdown",
   "metadata": {},
   "source": [
    "* Computing the Average Expected Loss of GBM model on the holdout set:"
   ]
  },
  {
   "cell_type": "code",
   "execution_count": 148,
   "metadata": {},
   "outputs": [
    {
     "name": "stdout",
     "output_type": "stream",
     "text": [
      "Expected Loss: 0.8644668666484865\n"
     ]
    }
   ],
   "source": [
    "# computing the expected loss on the test set\n",
    "fp_cost = 4\n",
    "fn_cost = 6\n",
    "fp = conf_matrix[0, 1] * fp_cost\n",
    "fn = conf_matrix[1, 0] * fn_cost\n",
    "expected_loss = (fp + fn) / len(y_test)\n",
    "print(\"Expected Loss:\", expected_loss)"
   ]
  },
  {
   "cell_type": "code",
   "execution_count": 149,
   "metadata": {},
   "outputs": [],
   "source": [
    "# saving the results in the lists\n",
    "models.append('Gradient Boosting')\n",
    "CV_AUC.append(np.mean(cv_auc_scores))\n",
    "CV_RMSE.append(np.mean(cv_rmse_scores))\n",
    "Expected_loss.append(expected_loss)\n",
    "Optimal_threshold.append(optimal_threshold)"
   ]
  },
  {
   "cell_type": "markdown",
   "metadata": {},
   "source": [
    "### Comparing the results of 3 models:"
   ]
  },
  {
   "cell_type": "code",
   "execution_count": 151,
   "metadata": {},
   "outputs": [
    {
     "data": {
      "text/html": [
       "<div>\n",
       "<style scoped>\n",
       "    .dataframe tbody tr th:only-of-type {\n",
       "        vertical-align: middle;\n",
       "    }\n",
       "\n",
       "    .dataframe tbody tr th {\n",
       "        vertical-align: top;\n",
       "    }\n",
       "\n",
       "    .dataframe thead th {\n",
       "        text-align: right;\n",
       "    }\n",
       "</style>\n",
       "<table border=\"1\" class=\"dataframe\">\n",
       "  <thead>\n",
       "    <tr style=\"text-align: right;\">\n",
       "      <th></th>\n",
       "      <th>Model</th>\n",
       "      <th>CV_AUC</th>\n",
       "      <th>CV_RMSE</th>\n",
       "      <th>Expected_loss</th>\n",
       "      <th>Optimal_threshold</th>\n",
       "    </tr>\n",
       "  </thead>\n",
       "  <tbody>\n",
       "    <tr>\n",
       "      <th>0</th>\n",
       "      <td>Logistic Regression</td>\n",
       "      <td>0.603</td>\n",
       "      <td>0.411</td>\n",
       "      <td>0.992</td>\n",
       "      <td>0.768</td>\n",
       "    </tr>\n",
       "    <tr>\n",
       "      <th>1</th>\n",
       "      <td>Random Forest</td>\n",
       "      <td>0.851</td>\n",
       "      <td>0.402</td>\n",
       "      <td>0.874</td>\n",
       "      <td>0.333</td>\n",
       "    </tr>\n",
       "    <tr>\n",
       "      <th>2</th>\n",
       "      <td>Gradient Boosting</td>\n",
       "      <td>0.857</td>\n",
       "      <td>0.398</td>\n",
       "      <td>0.864</td>\n",
       "      <td>0.394</td>\n",
       "    </tr>\n",
       "  </tbody>\n",
       "</table>\n",
       "</div>"
      ],
      "text/plain": [
       "                 Model  CV_AUC  CV_RMSE  Expected_loss  Optimal_threshold\n",
       "0  Logistic Regression   0.603    0.411          0.992              0.768\n",
       "1        Random Forest   0.851    0.402          0.874              0.333\n",
       "2    Gradient Boosting   0.857    0.398          0.864              0.394"
      ]
     },
     "execution_count": 151,
     "metadata": {},
     "output_type": "execute_result"
    }
   ],
   "source": [
    "# creating a dataframe for the results\n",
    "results_df = pd.DataFrame({'Model': models, 'CV_AUC': CV_AUC, 'CV_RMSE': CV_RMSE, \n",
    "                           'Expected_loss': Expected_loss, 'Optimal_threshold': Optimal_threshold})\n",
    "\n",
    "pd.options.display.float_format = '{:.3f}'.format\n",
    "results_df"
   ]
  },
  {
   "cell_type": "code",
   "execution_count": 153,
   "metadata": {},
   "outputs": [],
   "source": [
    "# saving the results in a csv file\n",
    "results_df.to_csv('results.csv', index=False)"
   ]
  },
  {
   "cell_type": "markdown",
   "metadata": {},
   "source": [
    "## TASK II"
   ]
  },
  {
   "cell_type": "markdown",
   "metadata": {},
   "source": [
    "* Separating the manufacturing and service companies"
   ]
  },
  {
   "cell_type": "code",
   "execution_count": 161,
   "metadata": {},
   "outputs": [],
   "source": [
    "# manufacturing companies: ind2<44\n",
    "df_2012_cat['ind2_manufacturing'] = np.where(df_2012_cat['ind2']<44, 1, 0)"
   ]
  },
  {
   "cell_type": "markdown",
   "metadata": {},
   "source": [
    "* Storing each section in a separate dataframe"
   ]
  },
  {
   "cell_type": "code",
   "execution_count": 162,
   "metadata": {},
   "outputs": [],
   "source": [
    "df_2012_cat_manufacturing = df_2012_cat[df_2012_cat['ind2_manufacturing']==1]\n",
    "df_2012_cat_service = df_2012_cat[df_2012_cat['ind2_manufacturing']==0]"
   ]
  },
  {
   "cell_type": "markdown",
   "metadata": {},
   "source": [
    "* Dropping the extra columns and missing observations"
   ]
  },
  {
   "cell_type": "code",
   "execution_count": 163,
   "metadata": {},
   "outputs": [],
   "source": [
    "df_2012_cat_manufacturing = df_2012_cat_manufacturing.drop('ind2_manufacturing', axis=1)\n",
    "df_2012_cat_service = df_2012_cat_service.drop('ind2_manufacturing', axis=1)\n",
    "\n",
    "df_2012_cat_manufacturing = df_2012_cat_manufacturing.drop('ind2', axis=1)\n",
    "df_2012_cat_service = df_2012_cat_service.drop('ind2', axis=1)\n",
    "\n",
    "df_2012_cat_manufacturing = df_2012_cat_manufacturing.dropna()\n",
    "df_2012_cat_service = df_2012_cat_service.dropna()"
   ]
  },
  {
   "cell_type": "markdown",
   "metadata": {},
   "source": [
    "* Separating the target variable from the predictors for both sections"
   ]
  },
  {
   "cell_type": "code",
   "execution_count": 164,
   "metadata": {},
   "outputs": [],
   "source": [
    "y_manufacturing = df_2012_cat_manufacturing['fast_growth']\n",
    "X_manufacturing = df_2012_cat_manufacturing.drop('fast_growth', axis=1)\n",
    "\n",
    "y_service = df_2012_cat_service['fast_growth']\n",
    "X_service = df_2012_cat_service.drop('fast_growth', axis=1)"
   ]
  },
  {
   "cell_type": "code",
   "execution_count": 165,
   "metadata": {},
   "outputs": [
    {
     "data": {
      "text/plain": [
       "((5226, 91), (5226,), (13109, 91), (13109,))"
      ]
     },
     "execution_count": 165,
     "metadata": {},
     "output_type": "execute_result"
    }
   ],
   "source": [
    "X_manufacturing.shape, y_manufacturing.shape, X_service.shape, y_service.shape"
   ]
  },
  {
   "cell_type": "markdown",
   "metadata": {},
   "source": [
    "### The performance of RF model on Manufacturing and Service Sectors"
   ]
  },
  {
   "cell_type": "markdown",
   "metadata": {},
   "source": [
    "### Manufacturing Companies"
   ]
  },
  {
   "cell_type": "code",
   "execution_count": 175,
   "metadata": {},
   "outputs": [
    {
     "name": "stdout",
     "output_type": "stream",
     "text": [
      "Confusion Matrix:\n",
      " [[3806  169]\n",
      " [  97 1154]]\n"
     ]
    }
   ],
   "source": [
    "# Running the trained rf model on the Manufacturing companies\n",
    "probabilities = rf.predict_proba(X_manufacturing)[:, 1]\n",
    "optimal_predictions = (probabilities >= 0.333).astype(int)\n",
    "conf_matrix = confusion_matrix(y_manufacturing, optimal_predictions)\n",
    "print(\"Confusion Matrix:\\n\", conf_matrix)"
   ]
  },
  {
   "cell_type": "code",
   "execution_count": 176,
   "metadata": {},
   "outputs": [
    {
     "name": "stdout",
     "output_type": "stream",
     "text": [
      "Average Loss: 0.24071947952544967\n"
     ]
    }
   ],
   "source": [
    "# Computing the expected loss on the manufacturing data\n",
    "fp_cost = 4\n",
    "fn_cost = 6\n",
    "fp = conf_matrix[0, 1] * fp_cost\n",
    "fn = conf_matrix[1, 0] * fn_cost\n",
    "expected_loss = (fp + fn) / len(y_manufacturing)\n",
    "print(\"Average Loss- Random Forest - Manufacturing:\", expected_loss)"
   ]
  },
  {
   "cell_type": "markdown",
   "metadata": {},
   "source": [
    "### Service Companies"
   ]
  },
  {
   "cell_type": "code",
   "execution_count": 170,
   "metadata": {},
   "outputs": [
    {
     "name": "stdout",
     "output_type": "stream",
     "text": [
      "Confusion Matrix:\n",
      " [[11039   284]\n",
      " [  135  1651]]\n"
     ]
    }
   ],
   "source": [
    "# Running the trained rf model on the service companies\n",
    "probabilities = rf.predict_proba(X_service)[:, 1]\n",
    "optimal_predictions = (probabilities >= 0.333).astype(int)\n",
    "conf_matrix = confusion_matrix(y_service, optimal_predictions)\n",
    "print(\"Confusion Matrix:\\n\", conf_matrix)"
   ]
  },
  {
   "cell_type": "code",
   "execution_count": 171,
   "metadata": {},
   "outputs": [
    {
     "name": "stdout",
     "output_type": "stream",
     "text": [
      "Average Loss: 0.3723689246077306\n"
     ]
    }
   ],
   "source": [
    "# Computing the expected loss on the service data\n",
    "fp_cost = 4\n",
    "fn_cost = 6\n",
    "fp = conf_matrix[0, 1] * fp_cost\n",
    "fn = conf_matrix[1, 0] * fn_cost\n",
    "expected_loss = (fp + fn) / len(y_manufacturing)\n",
    "print(\"Average Loss- Random Forest - Service:\", expected_loss)"
   ]
  },
  {
   "cell_type": "markdown",
   "metadata": {},
   "source": [
    "### The performance of GBM model on Manufacturing and Service Sectors"
   ]
  },
  {
   "cell_type": "markdown",
   "metadata": {},
   "source": [
    "### Manufacturing Companies"
   ]
  },
  {
   "cell_type": "code",
   "execution_count": 178,
   "metadata": {},
   "outputs": [
    {
     "name": "stdout",
     "output_type": "stream",
     "text": [
      "Confusion Matrix:\n",
      " [[3511  464]\n",
      " [ 595  656]]\n"
     ]
    }
   ],
   "source": [
    "# Running the trained gbm model on the manufacturing companies\n",
    "probabilities = gbm.predict_proba(X_manufacturing)[:, 1]\n",
    "optimal_predictions = (probabilities >= 0.394).astype(int)\n",
    "conf_matrix = confusion_matrix(y_manufacturing, optimal_predictions)\n",
    "print(\"Confusion Matrix:\\n\", conf_matrix)"
   ]
  },
  {
   "cell_type": "code",
   "execution_count": 179,
   "metadata": {},
   "outputs": [
    {
     "name": "stdout",
     "output_type": "stream",
     "text": [
      "Average Loss: 1.0382701875239189\n"
     ]
    }
   ],
   "source": [
    "# computing the expected loss on the manufacturing data\n",
    "fp_cost = 4\n",
    "fn_cost = 6\n",
    "fp = conf_matrix[0, 1] * fp_cost\n",
    "fn = conf_matrix[1, 0] * fn_cost\n",
    "expected_loss = (fp + fn) / len(y_manufacturing)\n",
    "print(\"Average Loss - GBM - Manufacturing:\", expected_loss)"
   ]
  },
  {
   "cell_type": "markdown",
   "metadata": {},
   "source": [
    "### Service Companies"
   ]
  },
  {
   "cell_type": "code",
   "execution_count": 180,
   "metadata": {},
   "outputs": [
    {
     "name": "stdout",
     "output_type": "stream",
     "text": [
      "Confusion Matrix:\n",
      " [[10722   601]\n",
      " [ 1020   766]]\n"
     ]
    }
   ],
   "source": [
    "# running the trained gbm model on the service companies\n",
    "probabilities = gbm.predict_proba(X_service)[:, 1]\n",
    "optimal_predictions = (probabilities >= 0.394).astype(int)\n",
    "conf_matrix = confusion_matrix(y_service, optimal_predictions)\n",
    "print(\"Confusion Matrix:\\n\", conf_matrix)"
   ]
  },
  {
   "cell_type": "code",
   "execution_count": 182,
   "metadata": {},
   "outputs": [
    {
     "name": "stdout",
     "output_type": "stream",
     "text": [
      "Average Loss: 1.631075392269422\n"
     ]
    }
   ],
   "source": [
    "# computing the expected loss on the Service data\n",
    "fp_cost = 4\n",
    "fn_cost = 6\n",
    "fp = conf_matrix[0, 1] * fp_cost\n",
    "fn = conf_matrix[1, 0] * fn_cost\n",
    "expected_loss = (fp + fn) / len(y_manufacturing)\n",
    "print(\"Average Loss - GBM- Service:\", expected_loss)"
   ]
  }
 ],
 "metadata": {
  "kernelspec": {
   "display_name": "Python 3",
   "language": "python",
   "name": "python3"
  },
  "language_info": {
   "codemirror_mode": {
    "name": "ipython",
    "version": 3
   },
   "file_extension": ".py",
   "mimetype": "text/x-python",
   "name": "python",
   "nbconvert_exporter": "python",
   "pygments_lexer": "ipython3",
   "version": "3.10.9"
  }
 },
 "nbformat": 4,
 "nbformat_minor": 2
}
