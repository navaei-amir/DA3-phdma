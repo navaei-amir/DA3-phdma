{
 "cells": [
  {
   "cell_type": "markdown",
   "metadata": {},
   "source": [
    "## Assignment 3 - Prediction with Machine Learning for Economists\n",
    "\n",
    "### Amirhooshang Navei - CEU, Fall 2023"
   ]
  },
  {
   "cell_type": "code",
   "execution_count": 1,
   "metadata": {},
   "outputs": [],
   "source": [
    "# importing the necessary libraries\n",
    "import numpy as np\n",
    "import pandas as pd\n",
    "import matplotlib.pyplot as plt\n",
    "import seaborn as sns\n",
    "import os\n"
   ]
  },
  {
   "cell_type": "markdown",
   "metadata": {},
   "source": [
    "### Import Data"
   ]
  },
  {
   "cell_type": "code",
   "execution_count": 2,
   "metadata": {},
   "outputs": [
    {
     "data": {
      "text/html": [
       "<div>\n",
       "<style scoped>\n",
       "    .dataframe tbody tr th:only-of-type {\n",
       "        vertical-align: middle;\n",
       "    }\n",
       "\n",
       "    .dataframe tbody tr th {\n",
       "        vertical-align: top;\n",
       "    }\n",
       "\n",
       "    .dataframe thead th {\n",
       "        text-align: right;\n",
       "    }\n",
       "</style>\n",
       "<table border=\"1\" class=\"dataframe\">\n",
       "  <thead>\n",
       "    <tr style=\"text-align: right;\">\n",
       "      <th></th>\n",
       "      <th>comp_id</th>\n",
       "      <th>begin</th>\n",
       "      <th>end</th>\n",
       "      <th>COGS</th>\n",
       "      <th>amort</th>\n",
       "      <th>curr_assets</th>\n",
       "      <th>curr_liab</th>\n",
       "      <th>extra_exp</th>\n",
       "      <th>extra_inc</th>\n",
       "      <th>extra_profit_loss</th>\n",
       "      <th>...</th>\n",
       "      <th>gender</th>\n",
       "      <th>origin</th>\n",
       "      <th>nace_main</th>\n",
       "      <th>ind2</th>\n",
       "      <th>ind</th>\n",
       "      <th>urban_m</th>\n",
       "      <th>region_m</th>\n",
       "      <th>founded_date</th>\n",
       "      <th>exit_date</th>\n",
       "      <th>labor_avg</th>\n",
       "    </tr>\n",
       "  </thead>\n",
       "  <tbody>\n",
       "    <tr>\n",
       "      <th>0</th>\n",
       "      <td>1001034.0</td>\n",
       "      <td>2005-01-01</td>\n",
       "      <td>2005-12-31</td>\n",
       "      <td>NaN</td>\n",
       "      <td>692.592590</td>\n",
       "      <td>7266.666504</td>\n",
       "      <td>7574.074219</td>\n",
       "      <td>0.0</td>\n",
       "      <td>0.0</td>\n",
       "      <td>0.0</td>\n",
       "      <td>...</td>\n",
       "      <td>mix</td>\n",
       "      <td>Domestic</td>\n",
       "      <td>5630.0</td>\n",
       "      <td>56.0</td>\n",
       "      <td>3.0</td>\n",
       "      <td>1</td>\n",
       "      <td>Central</td>\n",
       "      <td>1990-11-19</td>\n",
       "      <td>NaN</td>\n",
       "      <td>NaN</td>\n",
       "    </tr>\n",
       "    <tr>\n",
       "      <th>1</th>\n",
       "      <td>1001034.0</td>\n",
       "      <td>2006-01-01</td>\n",
       "      <td>2006-12-31</td>\n",
       "      <td>NaN</td>\n",
       "      <td>603.703674</td>\n",
       "      <td>13122.222656</td>\n",
       "      <td>12211.111328</td>\n",
       "      <td>0.0</td>\n",
       "      <td>0.0</td>\n",
       "      <td>0.0</td>\n",
       "      <td>...</td>\n",
       "      <td>mix</td>\n",
       "      <td>Domestic</td>\n",
       "      <td>5630.0</td>\n",
       "      <td>56.0</td>\n",
       "      <td>3.0</td>\n",
       "      <td>1</td>\n",
       "      <td>Central</td>\n",
       "      <td>1990-11-19</td>\n",
       "      <td>NaN</td>\n",
       "      <td>NaN</td>\n",
       "    </tr>\n",
       "    <tr>\n",
       "      <th>2</th>\n",
       "      <td>1001034.0</td>\n",
       "      <td>2007-01-01</td>\n",
       "      <td>2007-12-31</td>\n",
       "      <td>NaN</td>\n",
       "      <td>425.925934</td>\n",
       "      <td>8196.295898</td>\n",
       "      <td>7800.000000</td>\n",
       "      <td>0.0</td>\n",
       "      <td>0.0</td>\n",
       "      <td>0.0</td>\n",
       "      <td>...</td>\n",
       "      <td>mix</td>\n",
       "      <td>Domestic</td>\n",
       "      <td>5630.0</td>\n",
       "      <td>56.0</td>\n",
       "      <td>3.0</td>\n",
       "      <td>1</td>\n",
       "      <td>Central</td>\n",
       "      <td>1990-11-19</td>\n",
       "      <td>NaN</td>\n",
       "      <td>NaN</td>\n",
       "    </tr>\n",
       "    <tr>\n",
       "      <th>3</th>\n",
       "      <td>1001034.0</td>\n",
       "      <td>2008-01-01</td>\n",
       "      <td>2008-12-31</td>\n",
       "      <td>NaN</td>\n",
       "      <td>300.000000</td>\n",
       "      <td>8485.185547</td>\n",
       "      <td>7781.481445</td>\n",
       "      <td>0.0</td>\n",
       "      <td>0.0</td>\n",
       "      <td>0.0</td>\n",
       "      <td>...</td>\n",
       "      <td>mix</td>\n",
       "      <td>Domestic</td>\n",
       "      <td>5630.0</td>\n",
       "      <td>56.0</td>\n",
       "      <td>3.0</td>\n",
       "      <td>1</td>\n",
       "      <td>Central</td>\n",
       "      <td>1990-11-19</td>\n",
       "      <td>NaN</td>\n",
       "      <td>NaN</td>\n",
       "    </tr>\n",
       "    <tr>\n",
       "      <th>4</th>\n",
       "      <td>1001034.0</td>\n",
       "      <td>2009-01-01</td>\n",
       "      <td>2009-12-31</td>\n",
       "      <td>NaN</td>\n",
       "      <td>207.407410</td>\n",
       "      <td>5137.037109</td>\n",
       "      <td>15300.000000</td>\n",
       "      <td>0.0</td>\n",
       "      <td>0.0</td>\n",
       "      <td>0.0</td>\n",
       "      <td>...</td>\n",
       "      <td>mix</td>\n",
       "      <td>Domestic</td>\n",
       "      <td>5630.0</td>\n",
       "      <td>56.0</td>\n",
       "      <td>3.0</td>\n",
       "      <td>1</td>\n",
       "      <td>Central</td>\n",
       "      <td>1990-11-19</td>\n",
       "      <td>NaN</td>\n",
       "      <td>0.083333</td>\n",
       "    </tr>\n",
       "  </tbody>\n",
       "</table>\n",
       "<p>5 rows × 48 columns</p>\n",
       "</div>"
      ],
      "text/plain": [
       "     comp_id       begin         end  COGS       amort   curr_assets  \\\n",
       "0  1001034.0  2005-01-01  2005-12-31   NaN  692.592590   7266.666504   \n",
       "1  1001034.0  2006-01-01  2006-12-31   NaN  603.703674  13122.222656   \n",
       "2  1001034.0  2007-01-01  2007-12-31   NaN  425.925934   8196.295898   \n",
       "3  1001034.0  2008-01-01  2008-12-31   NaN  300.000000   8485.185547   \n",
       "4  1001034.0  2009-01-01  2009-12-31   NaN  207.407410   5137.037109   \n",
       "\n",
       "      curr_liab  extra_exp  extra_inc  extra_profit_loss  ...  gender  \\\n",
       "0   7574.074219        0.0        0.0                0.0  ...     mix   \n",
       "1  12211.111328        0.0        0.0                0.0  ...     mix   \n",
       "2   7800.000000        0.0        0.0                0.0  ...     mix   \n",
       "3   7781.481445        0.0        0.0                0.0  ...     mix   \n",
       "4  15300.000000        0.0        0.0                0.0  ...     mix   \n",
       "\n",
       "     origin  nace_main  ind2  ind  urban_m  region_m  founded_date  exit_date  \\\n",
       "0  Domestic     5630.0  56.0  3.0        1   Central    1990-11-19        NaN   \n",
       "1  Domestic     5630.0  56.0  3.0        1   Central    1990-11-19        NaN   \n",
       "2  Domestic     5630.0  56.0  3.0        1   Central    1990-11-19        NaN   \n",
       "3  Domestic     5630.0  56.0  3.0        1   Central    1990-11-19        NaN   \n",
       "4  Domestic     5630.0  56.0  3.0        1   Central    1990-11-19        NaN   \n",
       "\n",
       "   labor_avg  \n",
       "0        NaN  \n",
       "1        NaN  \n",
       "2        NaN  \n",
       "3        NaN  \n",
       "4   0.083333  \n",
       "\n",
       "[5 rows x 48 columns]"
      ]
     },
     "execution_count": 2,
     "metadata": {},
     "output_type": "execute_result"
    }
   ],
   "source": [
    "df = pd.read_csv(r'C:\\Users\\PA\\Documents\\Austria\\CEU\\3rd Semester\\Prediction\\Git\\DA3-phdma\\HW3\\Data Cleaning- Prep code\\cs_bisnode_panel.csv')\n",
    "\n",
    "df.head()"
   ]
  },
  {
   "cell_type": "code",
   "execution_count": 3,
   "metadata": {},
   "outputs": [
    {
     "data": {
      "text/plain": [
       "(287829, 48)"
      ]
     },
     "execution_count": 3,
     "metadata": {},
     "output_type": "execute_result"
    }
   ],
   "source": [
    "df.shape"
   ]
  },
  {
   "cell_type": "code",
   "execution_count": 4,
   "metadata": {},
   "outputs": [
    {
     "data": {
      "text/plain": [
       "(28469, 48)"
      ]
     },
     "execution_count": 4,
     "metadata": {},
     "output_type": "execute_result"
    }
   ],
   "source": [
    "# checking for how many observations the \"year\"==2012\n",
    "df[df['year']==2012].shape"
   ]
  },
  {
   "cell_type": "code",
   "execution_count": 5,
   "metadata": {},
   "outputs": [
    {
     "data": {
      "text/plain": [
       "((28474, 48), (28151, 48))"
      ]
     },
     "execution_count": 5,
     "metadata": {},
     "output_type": "execute_result"
    }
   ],
   "source": [
    "df[df['year']==2013].shape, df[df['year']==2014].shape"
   ]
  },
  {
   "cell_type": "code",
   "execution_count": 6,
   "metadata": {},
   "outputs": [
    {
     "data": {
      "text/plain": [
       "D                       287829\n",
       "finished_prod           270344\n",
       "wages                   269846\n",
       "COGS                    269572\n",
       "net_exp_sales           269572\n",
       "net_dom_sales           269572\n",
       "exit_year               248970\n",
       "exit_date               231649\n",
       "labor_avg               146532\n",
       "birth_year              111818\n",
       "founded_year             56457\n",
       "origin                   56427\n",
       "female                   56427\n",
       "ceo_count                56427\n",
       "foreign                  56427\n",
       "inoffice_days            56427\n",
       "gender                   56427\n",
       "extra_exp                18529\n",
       "extra_inc                18529\n",
       "extra_profit_loss        17203\n",
       "profit_loss_year          9884\n",
       "ind                       9769\n",
       "material_exp              8040\n",
       "personnel_exp             8040\n",
       "amort                     8040\n",
       "sales                     7437\n",
       "inc_bef_tax               7437\n",
       "tang_assets               1470\n",
       "nace_main                 1038\n",
       "ind2                      1038\n",
       "region_m                   840\n",
       "intang_assets              140\n",
       "fixed_assets               131\n",
       "curr_assets                131\n",
       "subscribed_cap             131\n",
       "share_eq                   131\n",
       "liq_assets                 131\n",
       "inventories                131\n",
       "curr_liab                  131\n",
       "founded_date                51\n",
       "end                          0\n",
       "urban_m                      0\n",
       "balsheet_length              0\n",
       "balsheet_notfullyear         0\n",
       "begin                        0\n",
       "balsheet_flag                0\n",
       "year                         0\n",
       "comp_id                      0\n",
       "dtype: int64"
      ]
     },
     "execution_count": 6,
     "metadata": {},
     "output_type": "execute_result"
    }
   ],
   "source": [
    "# checking for the missing values in each column\n",
    "df.isnull().sum()\n",
    "\n",
    "# sorting the missing values in descending order\n",
    "df.isnull().sum().sort_values(ascending=False)"
   ]
  },
  {
   "cell_type": "code",
   "execution_count": 7,
   "metadata": {},
   "outputs": [],
   "source": [
    "# only keeping the observations with year==2012 or year==2013\n",
    "df_2 = df[df['year'].isin([2010, 2011, 2012, 2013, 2014, 2015])]"
   ]
  },
  {
   "cell_type": "code",
   "execution_count": 8,
   "metadata": {},
   "outputs": [
    {
     "data": {
      "text/plain": [
       "(167606, 48)"
      ]
     },
     "execution_count": 8,
     "metadata": {},
     "output_type": "execute_result"
    }
   ],
   "source": [
    "df_2.shape"
   ]
  },
  {
   "cell_type": "markdown",
   "metadata": {},
   "source": [
    "### Dropping the columns with many missing values"
   ]
  },
  {
   "cell_type": "code",
   "execution_count": 9,
   "metadata": {},
   "outputs": [
    {
     "data": {
      "text/plain": [
       "D                       167606\n",
       "finished_prod           158855\n",
       "wages                   158707\n",
       "COGS                    158556\n",
       "net_exp_sales           158556\n",
       "net_dom_sales           158556\n",
       "exit_year               150648\n",
       "exit_date               147067\n",
       "labor_avg                53346\n",
       "birth_year               43221\n",
       "founded_year             18409\n",
       "gender                   18403\n",
       "inoffice_days            18403\n",
       "ceo_count                18403\n",
       "foreign                  18403\n",
       "origin                   18403\n",
       "female                   18403\n",
       "ind                       4966\n",
       "amort                     4117\n",
       "personnel_exp             4117\n",
       "material_exp              4117\n",
       "extra_profit_loss         3755\n",
       "extra_inc                 3751\n",
       "extra_exp                 3751\n",
       "sales                     3742\n",
       "inc_bef_tax               3742\n",
       "region_m                   459\n",
       "profit_loss_year            67\n",
       "nace_main                   59\n",
       "ind2                        59\n",
       "tang_assets                 57\n",
       "inventories                 57\n",
       "curr_liab                   57\n",
       "curr_assets                 57\n",
       "subscribed_cap              57\n",
       "share_eq                    57\n",
       "liq_assets                  57\n",
       "intang_assets               57\n",
       "fixed_assets                57\n",
       "founded_date                11\n",
       "end                          0\n",
       "urban_m                      0\n",
       "year                         0\n",
       "balsheet_notfullyear         0\n",
       "begin                        0\n",
       "balsheet_flag                0\n",
       "balsheet_length              0\n",
       "comp_id                      0\n",
       "dtype: int64"
      ]
     },
     "execution_count": 9,
     "metadata": {},
     "output_type": "execute_result"
    }
   ],
   "source": [
    "# checking the missing values in each column\n",
    "df_2.isnull().sum()\n",
    "\n",
    "# sorting the missing values in descending order\n",
    "df_2.isnull().sum().sort_values(ascending=False)"
   ]
  },
  {
   "cell_type": "code",
   "execution_count": 10,
   "metadata": {},
   "outputs": [],
   "source": [
    "# dropping the columns with many missing values\n",
    "df_2 = df_2.drop(['D', 'COGS', 'finished_prod', 'net_dom_sales', 'net_exp_sales', 'wages'], axis=1)"
   ]
  },
  {
   "cell_type": "markdown",
   "metadata": {},
   "source": [
    "### Stacking- Unstacking"
   ]
  },
  {
   "cell_type": "code",
   "execution_count": 11,
   "metadata": {},
   "outputs": [],
   "source": [
    "# Copying from the book's code: # add all missing year and comp_id combinations -\n",
    "\n",
    "df_2 = (\n",
    "    df_2.set_index([\"year\", \"comp_id\"])\n",
    "    .unstack(fill_value=\"toReplace\")\n",
    "    .stack()\n",
    "    .reset_index()\n",
    ")\n",
    "df_2 = df_2.replace(\"toReplace\", np.nan)"
   ]
  },
  {
   "cell_type": "code",
   "execution_count": 12,
   "metadata": {},
   "outputs": [],
   "source": [
    "# sorting the df_2 by comp_id and year\n",
    "df_2 = df_2.sort_values(['comp_id', 'year'])"
   ]
  },
  {
   "cell_type": "code",
   "execution_count": 13,
   "metadata": {},
   "outputs": [
    {
     "data": {
      "text/html": [
       "<div>\n",
       "<style scoped>\n",
       "    .dataframe tbody tr th:only-of-type {\n",
       "        vertical-align: middle;\n",
       "    }\n",
       "\n",
       "    .dataframe tbody tr th {\n",
       "        vertical-align: top;\n",
       "    }\n",
       "\n",
       "    .dataframe thead th {\n",
       "        text-align: right;\n",
       "    }\n",
       "</style>\n",
       "<table border=\"1\" class=\"dataframe\">\n",
       "  <thead>\n",
       "    <tr style=\"text-align: right;\">\n",
       "      <th></th>\n",
       "      <th>year</th>\n",
       "      <th>comp_id</th>\n",
       "      <th>begin</th>\n",
       "      <th>end</th>\n",
       "      <th>amort</th>\n",
       "      <th>curr_assets</th>\n",
       "      <th>curr_liab</th>\n",
       "      <th>extra_exp</th>\n",
       "      <th>extra_inc</th>\n",
       "      <th>extra_profit_loss</th>\n",
       "      <th>...</th>\n",
       "      <th>gender</th>\n",
       "      <th>origin</th>\n",
       "      <th>nace_main</th>\n",
       "      <th>ind2</th>\n",
       "      <th>ind</th>\n",
       "      <th>urban_m</th>\n",
       "      <th>region_m</th>\n",
       "      <th>founded_date</th>\n",
       "      <th>exit_date</th>\n",
       "      <th>labor_avg</th>\n",
       "    </tr>\n",
       "  </thead>\n",
       "  <tbody>\n",
       "    <tr>\n",
       "      <th>0</th>\n",
       "      <td>2010</td>\n",
       "      <td>1001034.0</td>\n",
       "      <td>2010-01-01</td>\n",
       "      <td>2010-12-31</td>\n",
       "      <td>177.777771</td>\n",
       "      <td>2096.296387</td>\n",
       "      <td>19629.628906</td>\n",
       "      <td>0.0</td>\n",
       "      <td>0.0</td>\n",
       "      <td>0.0</td>\n",
       "      <td>...</td>\n",
       "      <td>mix</td>\n",
       "      <td>Domestic</td>\n",
       "      <td>5630.0</td>\n",
       "      <td>56.0</td>\n",
       "      <td>3.0</td>\n",
       "      <td>1.0</td>\n",
       "      <td>Central</td>\n",
       "      <td>1990-11-19</td>\n",
       "      <td>NaN</td>\n",
       "      <td>0.083333</td>\n",
       "    </tr>\n",
       "    <tr>\n",
       "      <th>39375</th>\n",
       "      <td>2011</td>\n",
       "      <td>1001034.0</td>\n",
       "      <td>2011-01-01</td>\n",
       "      <td>2011-12-31</td>\n",
       "      <td>155.555557</td>\n",
       "      <td>3607.407471</td>\n",
       "      <td>22555.554688</td>\n",
       "      <td>0.0</td>\n",
       "      <td>0.0</td>\n",
       "      <td>0.0</td>\n",
       "      <td>...</td>\n",
       "      <td>mix</td>\n",
       "      <td>Domestic</td>\n",
       "      <td>5630.0</td>\n",
       "      <td>56.0</td>\n",
       "      <td>3.0</td>\n",
       "      <td>1.0</td>\n",
       "      <td>Central</td>\n",
       "      <td>1990-11-19</td>\n",
       "      <td>NaN</td>\n",
       "      <td>0.083333</td>\n",
       "    </tr>\n",
       "    <tr>\n",
       "      <th>78750</th>\n",
       "      <td>2012</td>\n",
       "      <td>1001034.0</td>\n",
       "      <td>2012-01-01</td>\n",
       "      <td>2012-12-31</td>\n",
       "      <td>140.740738</td>\n",
       "      <td>148.148148</td>\n",
       "      <td>21429.628906</td>\n",
       "      <td>0.0</td>\n",
       "      <td>0.0</td>\n",
       "      <td>0.0</td>\n",
       "      <td>...</td>\n",
       "      <td>mix</td>\n",
       "      <td>Domestic</td>\n",
       "      <td>5630.0</td>\n",
       "      <td>56.0</td>\n",
       "      <td>3.0</td>\n",
       "      <td>1.0</td>\n",
       "      <td>Central</td>\n",
       "      <td>1990-11-19</td>\n",
       "      <td>NaN</td>\n",
       "      <td>0.083333</td>\n",
       "    </tr>\n",
       "    <tr>\n",
       "      <th>118125</th>\n",
       "      <td>2013</td>\n",
       "      <td>1001034.0</td>\n",
       "      <td>2013-01-01</td>\n",
       "      <td>2013-12-31</td>\n",
       "      <td>140.740738</td>\n",
       "      <td>140.740738</td>\n",
       "      <td>21851.851562</td>\n",
       "      <td>0.0</td>\n",
       "      <td>0.0</td>\n",
       "      <td>0.0</td>\n",
       "      <td>...</td>\n",
       "      <td>mix</td>\n",
       "      <td>Domestic</td>\n",
       "      <td>5630.0</td>\n",
       "      <td>56.0</td>\n",
       "      <td>3.0</td>\n",
       "      <td>1.0</td>\n",
       "      <td>Central</td>\n",
       "      <td>1990-11-19</td>\n",
       "      <td>NaN</td>\n",
       "      <td>NaN</td>\n",
       "    </tr>\n",
       "    <tr>\n",
       "      <th>157500</th>\n",
       "      <td>2014</td>\n",
       "      <td>1001034.0</td>\n",
       "      <td>2014-01-01</td>\n",
       "      <td>2014-12-31</td>\n",
       "      <td>29.629629</td>\n",
       "      <td>144.444443</td>\n",
       "      <td>22340.740234</td>\n",
       "      <td>0.0</td>\n",
       "      <td>0.0</td>\n",
       "      <td>0.0</td>\n",
       "      <td>...</td>\n",
       "      <td>mix</td>\n",
       "      <td>Domestic</td>\n",
       "      <td>5630.0</td>\n",
       "      <td>56.0</td>\n",
       "      <td>3.0</td>\n",
       "      <td>1.0</td>\n",
       "      <td>Central</td>\n",
       "      <td>1990-11-19</td>\n",
       "      <td>NaN</td>\n",
       "      <td>NaN</td>\n",
       "    </tr>\n",
       "  </tbody>\n",
       "</table>\n",
       "<p>5 rows × 42 columns</p>\n",
       "</div>"
      ],
      "text/plain": [
       "        year    comp_id       begin         end       amort  curr_assets  \\\n",
       "0       2010  1001034.0  2010-01-01  2010-12-31  177.777771  2096.296387   \n",
       "39375   2011  1001034.0  2011-01-01  2011-12-31  155.555557  3607.407471   \n",
       "78750   2012  1001034.0  2012-01-01  2012-12-31  140.740738   148.148148   \n",
       "118125  2013  1001034.0  2013-01-01  2013-12-31  140.740738   140.740738   \n",
       "157500  2014  1001034.0  2014-01-01  2014-12-31   29.629629   144.444443   \n",
       "\n",
       "           curr_liab  extra_exp  extra_inc  extra_profit_loss  ...  gender  \\\n",
       "0       19629.628906        0.0        0.0                0.0  ...     mix   \n",
       "39375   22555.554688        0.0        0.0                0.0  ...     mix   \n",
       "78750   21429.628906        0.0        0.0                0.0  ...     mix   \n",
       "118125  21851.851562        0.0        0.0                0.0  ...     mix   \n",
       "157500  22340.740234        0.0        0.0                0.0  ...     mix   \n",
       "\n",
       "          origin  nace_main  ind2  ind  urban_m  region_m  founded_date  \\\n",
       "0       Domestic     5630.0  56.0  3.0      1.0   Central    1990-11-19   \n",
       "39375   Domestic     5630.0  56.0  3.0      1.0   Central    1990-11-19   \n",
       "78750   Domestic     5630.0  56.0  3.0      1.0   Central    1990-11-19   \n",
       "118125  Domestic     5630.0  56.0  3.0      1.0   Central    1990-11-19   \n",
       "157500  Domestic     5630.0  56.0  3.0      1.0   Central    1990-11-19   \n",
       "\n",
       "        exit_date  labor_avg  \n",
       "0             NaN   0.083333  \n",
       "39375         NaN   0.083333  \n",
       "78750         NaN   0.083333  \n",
       "118125        NaN        NaN  \n",
       "157500        NaN        NaN  \n",
       "\n",
       "[5 rows x 42 columns]"
      ]
     },
     "execution_count": 13,
     "metadata": {},
     "output_type": "execute_result"
    }
   ],
   "source": [
    "df_2.head()"
   ]
  },
  {
   "cell_type": "markdown",
   "metadata": {},
   "source": [
    "### Define a new variable: profit_growth"
   ]
  },
  {
   "cell_type": "code",
   "execution_count": 14,
   "metadata": {},
   "outputs": [],
   "source": [
    "# generating the \"profit_growth\": Growth rate of profit_loss_year compared to the previous year\n",
    "df_2['profit_growth'] = df_2['profit_loss_year'].div(df_2['profit_loss_year'].shift(1))-1"
   ]
  },
  {
   "cell_type": "code",
   "execution_count": 15,
   "metadata": {},
   "outputs": [
    {
     "data": {
      "text/html": [
       "<div>\n",
       "<style scoped>\n",
       "    .dataframe tbody tr th:only-of-type {\n",
       "        vertical-align: middle;\n",
       "    }\n",
       "\n",
       "    .dataframe tbody tr th {\n",
       "        vertical-align: top;\n",
       "    }\n",
       "\n",
       "    .dataframe thead th {\n",
       "        text-align: right;\n",
       "    }\n",
       "</style>\n",
       "<table border=\"1\" class=\"dataframe\">\n",
       "  <thead>\n",
       "    <tr style=\"text-align: right;\">\n",
       "      <th></th>\n",
       "      <th>year</th>\n",
       "      <th>comp_id</th>\n",
       "      <th>begin</th>\n",
       "      <th>end</th>\n",
       "      <th>amort</th>\n",
       "      <th>curr_assets</th>\n",
       "      <th>curr_liab</th>\n",
       "      <th>extra_exp</th>\n",
       "      <th>extra_inc</th>\n",
       "      <th>extra_profit_loss</th>\n",
       "      <th>...</th>\n",
       "      <th>origin</th>\n",
       "      <th>nace_main</th>\n",
       "      <th>ind2</th>\n",
       "      <th>ind</th>\n",
       "      <th>urban_m</th>\n",
       "      <th>region_m</th>\n",
       "      <th>founded_date</th>\n",
       "      <th>exit_date</th>\n",
       "      <th>labor_avg</th>\n",
       "      <th>profit_growth</th>\n",
       "    </tr>\n",
       "  </thead>\n",
       "  <tbody>\n",
       "    <tr>\n",
       "      <th>0</th>\n",
       "      <td>2010</td>\n",
       "      <td>1001034.0</td>\n",
       "      <td>2010-01-01</td>\n",
       "      <td>2010-12-31</td>\n",
       "      <td>177.777771</td>\n",
       "      <td>2096.296387</td>\n",
       "      <td>19629.628906</td>\n",
       "      <td>0.0</td>\n",
       "      <td>0.0</td>\n",
       "      <td>0.0</td>\n",
       "      <td>...</td>\n",
       "      <td>Domestic</td>\n",
       "      <td>5630.0</td>\n",
       "      <td>56.0</td>\n",
       "      <td>3.0</td>\n",
       "      <td>1.0</td>\n",
       "      <td>Central</td>\n",
       "      <td>1990-11-19</td>\n",
       "      <td>NaN</td>\n",
       "      <td>0.083333</td>\n",
       "      <td>NaN</td>\n",
       "    </tr>\n",
       "    <tr>\n",
       "      <th>39375</th>\n",
       "      <td>2011</td>\n",
       "      <td>1001034.0</td>\n",
       "      <td>2011-01-01</td>\n",
       "      <td>2011-12-31</td>\n",
       "      <td>155.555557</td>\n",
       "      <td>3607.407471</td>\n",
       "      <td>22555.554688</td>\n",
       "      <td>0.0</td>\n",
       "      <td>0.0</td>\n",
       "      <td>0.0</td>\n",
       "      <td>...</td>\n",
       "      <td>Domestic</td>\n",
       "      <td>5630.0</td>\n",
       "      <td>56.0</td>\n",
       "      <td>3.0</td>\n",
       "      <td>1.0</td>\n",
       "      <td>Central</td>\n",
       "      <td>1990-11-19</td>\n",
       "      <td>NaN</td>\n",
       "      <td>0.083333</td>\n",
       "      <td>-0.791953</td>\n",
       "    </tr>\n",
       "    <tr>\n",
       "      <th>78750</th>\n",
       "      <td>2012</td>\n",
       "      <td>1001034.0</td>\n",
       "      <td>2012-01-01</td>\n",
       "      <td>2012-12-31</td>\n",
       "      <td>140.740738</td>\n",
       "      <td>148.148148</td>\n",
       "      <td>21429.628906</td>\n",
       "      <td>0.0</td>\n",
       "      <td>0.0</td>\n",
       "      <td>0.0</td>\n",
       "      <td>...</td>\n",
       "      <td>Domestic</td>\n",
       "      <td>5630.0</td>\n",
       "      <td>56.0</td>\n",
       "      <td>3.0</td>\n",
       "      <td>1.0</td>\n",
       "      <td>Central</td>\n",
       "      <td>1990-11-19</td>\n",
       "      <td>NaN</td>\n",
       "      <td>0.083333</td>\n",
       "      <td>0.575472</td>\n",
       "    </tr>\n",
       "    <tr>\n",
       "      <th>118125</th>\n",
       "      <td>2013</td>\n",
       "      <td>1001034.0</td>\n",
       "      <td>2013-01-01</td>\n",
       "      <td>2013-12-31</td>\n",
       "      <td>140.740738</td>\n",
       "      <td>140.740738</td>\n",
       "      <td>21851.851562</td>\n",
       "      <td>0.0</td>\n",
       "      <td>0.0</td>\n",
       "      <td>0.0</td>\n",
       "      <td>...</td>\n",
       "      <td>Domestic</td>\n",
       "      <td>5630.0</td>\n",
       "      <td>56.0</td>\n",
       "      <td>3.0</td>\n",
       "      <td>1.0</td>\n",
       "      <td>Central</td>\n",
       "      <td>1990-11-19</td>\n",
       "      <td>NaN</td>\n",
       "      <td>NaN</td>\n",
       "      <td>-0.744012</td>\n",
       "    </tr>\n",
       "    <tr>\n",
       "      <th>157500</th>\n",
       "      <td>2014</td>\n",
       "      <td>1001034.0</td>\n",
       "      <td>2014-01-01</td>\n",
       "      <td>2014-12-31</td>\n",
       "      <td>29.629629</td>\n",
       "      <td>144.444443</td>\n",
       "      <td>22340.740234</td>\n",
       "      <td>0.0</td>\n",
       "      <td>0.0</td>\n",
       "      <td>0.0</td>\n",
       "      <td>...</td>\n",
       "      <td>Domestic</td>\n",
       "      <td>5630.0</td>\n",
       "      <td>56.0</td>\n",
       "      <td>3.0</td>\n",
       "      <td>1.0</td>\n",
       "      <td>Central</td>\n",
       "      <td>1990-11-19</td>\n",
       "      <td>NaN</td>\n",
       "      <td>NaN</td>\n",
       "      <td>-0.292398</td>\n",
       "    </tr>\n",
       "  </tbody>\n",
       "</table>\n",
       "<p>5 rows × 43 columns</p>\n",
       "</div>"
      ],
      "text/plain": [
       "        year    comp_id       begin         end       amort  curr_assets  \\\n",
       "0       2010  1001034.0  2010-01-01  2010-12-31  177.777771  2096.296387   \n",
       "39375   2011  1001034.0  2011-01-01  2011-12-31  155.555557  3607.407471   \n",
       "78750   2012  1001034.0  2012-01-01  2012-12-31  140.740738   148.148148   \n",
       "118125  2013  1001034.0  2013-01-01  2013-12-31  140.740738   140.740738   \n",
       "157500  2014  1001034.0  2014-01-01  2014-12-31   29.629629   144.444443   \n",
       "\n",
       "           curr_liab  extra_exp  extra_inc  extra_profit_loss  ...    origin  \\\n",
       "0       19629.628906        0.0        0.0                0.0  ...  Domestic   \n",
       "39375   22555.554688        0.0        0.0                0.0  ...  Domestic   \n",
       "78750   21429.628906        0.0        0.0                0.0  ...  Domestic   \n",
       "118125  21851.851562        0.0        0.0                0.0  ...  Domestic   \n",
       "157500  22340.740234        0.0        0.0                0.0  ...  Domestic   \n",
       "\n",
       "        nace_main  ind2  ind  urban_m  region_m  founded_date  exit_date  \\\n",
       "0          5630.0  56.0  3.0      1.0   Central    1990-11-19        NaN   \n",
       "39375      5630.0  56.0  3.0      1.0   Central    1990-11-19        NaN   \n",
       "78750      5630.0  56.0  3.0      1.0   Central    1990-11-19        NaN   \n",
       "118125     5630.0  56.0  3.0      1.0   Central    1990-11-19        NaN   \n",
       "157500     5630.0  56.0  3.0      1.0   Central    1990-11-19        NaN   \n",
       "\n",
       "        labor_avg  profit_growth  \n",
       "0        0.083333            NaN  \n",
       "39375    0.083333      -0.791953  \n",
       "78750    0.083333       0.575472  \n",
       "118125        NaN      -0.744012  \n",
       "157500        NaN      -0.292398  \n",
       "\n",
       "[5 rows x 43 columns]"
      ]
     },
     "execution_count": 15,
     "metadata": {},
     "output_type": "execute_result"
    }
   ],
   "source": [
    "df_2.head()"
   ]
  },
  {
   "cell_type": "code",
   "execution_count": 16,
   "metadata": {},
   "outputs": [],
   "source": [
    "# shifting the \"profit_growth\" column by -1\n",
    "df_2['profit_growth'] = df_2['profit_growth'].shift(-1)"
   ]
  },
  {
   "cell_type": "code",
   "execution_count": 17,
   "metadata": {},
   "outputs": [
    {
     "data": {
      "text/html": [
       "<div>\n",
       "<style scoped>\n",
       "    .dataframe tbody tr th:only-of-type {\n",
       "        vertical-align: middle;\n",
       "    }\n",
       "\n",
       "    .dataframe tbody tr th {\n",
       "        vertical-align: top;\n",
       "    }\n",
       "\n",
       "    .dataframe thead th {\n",
       "        text-align: right;\n",
       "    }\n",
       "</style>\n",
       "<table border=\"1\" class=\"dataframe\">\n",
       "  <thead>\n",
       "    <tr style=\"text-align: right;\">\n",
       "      <th></th>\n",
       "      <th>year</th>\n",
       "      <th>comp_id</th>\n",
       "      <th>begin</th>\n",
       "      <th>end</th>\n",
       "      <th>amort</th>\n",
       "      <th>curr_assets</th>\n",
       "      <th>curr_liab</th>\n",
       "      <th>extra_exp</th>\n",
       "      <th>extra_inc</th>\n",
       "      <th>extra_profit_loss</th>\n",
       "      <th>...</th>\n",
       "      <th>origin</th>\n",
       "      <th>nace_main</th>\n",
       "      <th>ind2</th>\n",
       "      <th>ind</th>\n",
       "      <th>urban_m</th>\n",
       "      <th>region_m</th>\n",
       "      <th>founded_date</th>\n",
       "      <th>exit_date</th>\n",
       "      <th>labor_avg</th>\n",
       "      <th>profit_growth</th>\n",
       "    </tr>\n",
       "  </thead>\n",
       "  <tbody>\n",
       "    <tr>\n",
       "      <th>0</th>\n",
       "      <td>2010</td>\n",
       "      <td>1001034.0</td>\n",
       "      <td>2010-01-01</td>\n",
       "      <td>2010-12-31</td>\n",
       "      <td>177.777771</td>\n",
       "      <td>2096.296387</td>\n",
       "      <td>19629.628906</td>\n",
       "      <td>0.0</td>\n",
       "      <td>0.0</td>\n",
       "      <td>0.0</td>\n",
       "      <td>...</td>\n",
       "      <td>Domestic</td>\n",
       "      <td>5630.0</td>\n",
       "      <td>56.0</td>\n",
       "      <td>3.0</td>\n",
       "      <td>1.0</td>\n",
       "      <td>Central</td>\n",
       "      <td>1990-11-19</td>\n",
       "      <td>NaN</td>\n",
       "      <td>0.083333</td>\n",
       "      <td>-0.791953</td>\n",
       "    </tr>\n",
       "    <tr>\n",
       "      <th>39375</th>\n",
       "      <td>2011</td>\n",
       "      <td>1001034.0</td>\n",
       "      <td>2011-01-01</td>\n",
       "      <td>2011-12-31</td>\n",
       "      <td>155.555557</td>\n",
       "      <td>3607.407471</td>\n",
       "      <td>22555.554688</td>\n",
       "      <td>0.0</td>\n",
       "      <td>0.0</td>\n",
       "      <td>0.0</td>\n",
       "      <td>...</td>\n",
       "      <td>Domestic</td>\n",
       "      <td>5630.0</td>\n",
       "      <td>56.0</td>\n",
       "      <td>3.0</td>\n",
       "      <td>1.0</td>\n",
       "      <td>Central</td>\n",
       "      <td>1990-11-19</td>\n",
       "      <td>NaN</td>\n",
       "      <td>0.083333</td>\n",
       "      <td>0.575472</td>\n",
       "    </tr>\n",
       "    <tr>\n",
       "      <th>78750</th>\n",
       "      <td>2012</td>\n",
       "      <td>1001034.0</td>\n",
       "      <td>2012-01-01</td>\n",
       "      <td>2012-12-31</td>\n",
       "      <td>140.740738</td>\n",
       "      <td>148.148148</td>\n",
       "      <td>21429.628906</td>\n",
       "      <td>0.0</td>\n",
       "      <td>0.0</td>\n",
       "      <td>0.0</td>\n",
       "      <td>...</td>\n",
       "      <td>Domestic</td>\n",
       "      <td>5630.0</td>\n",
       "      <td>56.0</td>\n",
       "      <td>3.0</td>\n",
       "      <td>1.0</td>\n",
       "      <td>Central</td>\n",
       "      <td>1990-11-19</td>\n",
       "      <td>NaN</td>\n",
       "      <td>0.083333</td>\n",
       "      <td>-0.744012</td>\n",
       "    </tr>\n",
       "    <tr>\n",
       "      <th>118125</th>\n",
       "      <td>2013</td>\n",
       "      <td>1001034.0</td>\n",
       "      <td>2013-01-01</td>\n",
       "      <td>2013-12-31</td>\n",
       "      <td>140.740738</td>\n",
       "      <td>140.740738</td>\n",
       "      <td>21851.851562</td>\n",
       "      <td>0.0</td>\n",
       "      <td>0.0</td>\n",
       "      <td>0.0</td>\n",
       "      <td>...</td>\n",
       "      <td>Domestic</td>\n",
       "      <td>5630.0</td>\n",
       "      <td>56.0</td>\n",
       "      <td>3.0</td>\n",
       "      <td>1.0</td>\n",
       "      <td>Central</td>\n",
       "      <td>1990-11-19</td>\n",
       "      <td>NaN</td>\n",
       "      <td>NaN</td>\n",
       "      <td>-0.292398</td>\n",
       "    </tr>\n",
       "    <tr>\n",
       "      <th>157500</th>\n",
       "      <td>2014</td>\n",
       "      <td>1001034.0</td>\n",
       "      <td>2014-01-01</td>\n",
       "      <td>2014-12-31</td>\n",
       "      <td>29.629629</td>\n",
       "      <td>144.444443</td>\n",
       "      <td>22340.740234</td>\n",
       "      <td>0.0</td>\n",
       "      <td>0.0</td>\n",
       "      <td>0.0</td>\n",
       "      <td>...</td>\n",
       "      <td>Domestic</td>\n",
       "      <td>5630.0</td>\n",
       "      <td>56.0</td>\n",
       "      <td>3.0</td>\n",
       "      <td>1.0</td>\n",
       "      <td>Central</td>\n",
       "      <td>1990-11-19</td>\n",
       "      <td>NaN</td>\n",
       "      <td>NaN</td>\n",
       "      <td>0.239669</td>\n",
       "    </tr>\n",
       "  </tbody>\n",
       "</table>\n",
       "<p>5 rows × 43 columns</p>\n",
       "</div>"
      ],
      "text/plain": [
       "        year    comp_id       begin         end       amort  curr_assets  \\\n",
       "0       2010  1001034.0  2010-01-01  2010-12-31  177.777771  2096.296387   \n",
       "39375   2011  1001034.0  2011-01-01  2011-12-31  155.555557  3607.407471   \n",
       "78750   2012  1001034.0  2012-01-01  2012-12-31  140.740738   148.148148   \n",
       "118125  2013  1001034.0  2013-01-01  2013-12-31  140.740738   140.740738   \n",
       "157500  2014  1001034.0  2014-01-01  2014-12-31   29.629629   144.444443   \n",
       "\n",
       "           curr_liab  extra_exp  extra_inc  extra_profit_loss  ...    origin  \\\n",
       "0       19629.628906        0.0        0.0                0.0  ...  Domestic   \n",
       "39375   22555.554688        0.0        0.0                0.0  ...  Domestic   \n",
       "78750   21429.628906        0.0        0.0                0.0  ...  Domestic   \n",
       "118125  21851.851562        0.0        0.0                0.0  ...  Domestic   \n",
       "157500  22340.740234        0.0        0.0                0.0  ...  Domestic   \n",
       "\n",
       "        nace_main  ind2  ind  urban_m  region_m  founded_date  exit_date  \\\n",
       "0          5630.0  56.0  3.0      1.0   Central    1990-11-19        NaN   \n",
       "39375      5630.0  56.0  3.0      1.0   Central    1990-11-19        NaN   \n",
       "78750      5630.0  56.0  3.0      1.0   Central    1990-11-19        NaN   \n",
       "118125     5630.0  56.0  3.0      1.0   Central    1990-11-19        NaN   \n",
       "157500     5630.0  56.0  3.0      1.0   Central    1990-11-19        NaN   \n",
       "\n",
       "        labor_avg  profit_growth  \n",
       "0        0.083333      -0.791953  \n",
       "39375    0.083333       0.575472  \n",
       "78750    0.083333      -0.744012  \n",
       "118125        NaN      -0.292398  \n",
       "157500        NaN       0.239669  \n",
       "\n",
       "[5 rows x 43 columns]"
      ]
     },
     "execution_count": 17,
     "metadata": {},
     "output_type": "execute_result"
    }
   ],
   "source": [
    "df_2.head()"
   ]
  },
  {
   "cell_type": "markdown",
   "metadata": {},
   "source": [
    "# Define the binary Target Variable"
   ]
  },
  {
   "cell_type": "code",
   "execution_count": 18,
   "metadata": {},
   "outputs": [],
   "source": [
    "# defining a new variable, \"fast_growth\", which is equal to 1 if the \"profit_growth\" is greater than 0.3, year==2012, and \"profit_loss_year\" is greater than 0, otherwise 0\n",
    "df_2['fast_growth'] = np.where((df_2['profit_growth']>0.3) & (df_2['year']==2012) & (df_2['profit_loss_year']>0), 1, 0)\n"
   ]
  },
  {
   "cell_type": "code",
   "execution_count": 19,
   "metadata": {},
   "outputs": [
    {
     "data": {
      "text/html": [
       "<div>\n",
       "<style scoped>\n",
       "    .dataframe tbody tr th:only-of-type {\n",
       "        vertical-align: middle;\n",
       "    }\n",
       "\n",
       "    .dataframe tbody tr th {\n",
       "        vertical-align: top;\n",
       "    }\n",
       "\n",
       "    .dataframe thead th {\n",
       "        text-align: right;\n",
       "    }\n",
       "</style>\n",
       "<table border=\"1\" class=\"dataframe\">\n",
       "  <thead>\n",
       "    <tr style=\"text-align: right;\">\n",
       "      <th></th>\n",
       "      <th>year</th>\n",
       "      <th>comp_id</th>\n",
       "      <th>begin</th>\n",
       "      <th>end</th>\n",
       "      <th>amort</th>\n",
       "      <th>curr_assets</th>\n",
       "      <th>curr_liab</th>\n",
       "      <th>extra_exp</th>\n",
       "      <th>extra_inc</th>\n",
       "      <th>extra_profit_loss</th>\n",
       "      <th>...</th>\n",
       "      <th>nace_main</th>\n",
       "      <th>ind2</th>\n",
       "      <th>ind</th>\n",
       "      <th>urban_m</th>\n",
       "      <th>region_m</th>\n",
       "      <th>founded_date</th>\n",
       "      <th>exit_date</th>\n",
       "      <th>labor_avg</th>\n",
       "      <th>profit_growth</th>\n",
       "      <th>fast_growth</th>\n",
       "    </tr>\n",
       "  </thead>\n",
       "  <tbody>\n",
       "    <tr>\n",
       "      <th>0</th>\n",
       "      <td>2010</td>\n",
       "      <td>1001034.0</td>\n",
       "      <td>2010-01-01</td>\n",
       "      <td>2010-12-31</td>\n",
       "      <td>177.777771</td>\n",
       "      <td>2096.296387</td>\n",
       "      <td>19629.628906</td>\n",
       "      <td>0.0</td>\n",
       "      <td>0.0</td>\n",
       "      <td>0.0</td>\n",
       "      <td>...</td>\n",
       "      <td>5630.0</td>\n",
       "      <td>56.0</td>\n",
       "      <td>3.0</td>\n",
       "      <td>1.0</td>\n",
       "      <td>Central</td>\n",
       "      <td>1990-11-19</td>\n",
       "      <td>NaN</td>\n",
       "      <td>0.083333</td>\n",
       "      <td>-0.791953</td>\n",
       "      <td>0</td>\n",
       "    </tr>\n",
       "    <tr>\n",
       "      <th>39375</th>\n",
       "      <td>2011</td>\n",
       "      <td>1001034.0</td>\n",
       "      <td>2011-01-01</td>\n",
       "      <td>2011-12-31</td>\n",
       "      <td>155.555557</td>\n",
       "      <td>3607.407471</td>\n",
       "      <td>22555.554688</td>\n",
       "      <td>0.0</td>\n",
       "      <td>0.0</td>\n",
       "      <td>0.0</td>\n",
       "      <td>...</td>\n",
       "      <td>5630.0</td>\n",
       "      <td>56.0</td>\n",
       "      <td>3.0</td>\n",
       "      <td>1.0</td>\n",
       "      <td>Central</td>\n",
       "      <td>1990-11-19</td>\n",
       "      <td>NaN</td>\n",
       "      <td>0.083333</td>\n",
       "      <td>0.575472</td>\n",
       "      <td>0</td>\n",
       "    </tr>\n",
       "    <tr>\n",
       "      <th>78750</th>\n",
       "      <td>2012</td>\n",
       "      <td>1001034.0</td>\n",
       "      <td>2012-01-01</td>\n",
       "      <td>2012-12-31</td>\n",
       "      <td>140.740738</td>\n",
       "      <td>148.148148</td>\n",
       "      <td>21429.628906</td>\n",
       "      <td>0.0</td>\n",
       "      <td>0.0</td>\n",
       "      <td>0.0</td>\n",
       "      <td>...</td>\n",
       "      <td>5630.0</td>\n",
       "      <td>56.0</td>\n",
       "      <td>3.0</td>\n",
       "      <td>1.0</td>\n",
       "      <td>Central</td>\n",
       "      <td>1990-11-19</td>\n",
       "      <td>NaN</td>\n",
       "      <td>0.083333</td>\n",
       "      <td>-0.744012</td>\n",
       "      <td>0</td>\n",
       "    </tr>\n",
       "    <tr>\n",
       "      <th>118125</th>\n",
       "      <td>2013</td>\n",
       "      <td>1001034.0</td>\n",
       "      <td>2013-01-01</td>\n",
       "      <td>2013-12-31</td>\n",
       "      <td>140.740738</td>\n",
       "      <td>140.740738</td>\n",
       "      <td>21851.851562</td>\n",
       "      <td>0.0</td>\n",
       "      <td>0.0</td>\n",
       "      <td>0.0</td>\n",
       "      <td>...</td>\n",
       "      <td>5630.0</td>\n",
       "      <td>56.0</td>\n",
       "      <td>3.0</td>\n",
       "      <td>1.0</td>\n",
       "      <td>Central</td>\n",
       "      <td>1990-11-19</td>\n",
       "      <td>NaN</td>\n",
       "      <td>NaN</td>\n",
       "      <td>-0.292398</td>\n",
       "      <td>0</td>\n",
       "    </tr>\n",
       "    <tr>\n",
       "      <th>157500</th>\n",
       "      <td>2014</td>\n",
       "      <td>1001034.0</td>\n",
       "      <td>2014-01-01</td>\n",
       "      <td>2014-12-31</td>\n",
       "      <td>29.629629</td>\n",
       "      <td>144.444443</td>\n",
       "      <td>22340.740234</td>\n",
       "      <td>0.0</td>\n",
       "      <td>0.0</td>\n",
       "      <td>0.0</td>\n",
       "      <td>...</td>\n",
       "      <td>5630.0</td>\n",
       "      <td>56.0</td>\n",
       "      <td>3.0</td>\n",
       "      <td>1.0</td>\n",
       "      <td>Central</td>\n",
       "      <td>1990-11-19</td>\n",
       "      <td>NaN</td>\n",
       "      <td>NaN</td>\n",
       "      <td>0.239669</td>\n",
       "      <td>0</td>\n",
       "    </tr>\n",
       "  </tbody>\n",
       "</table>\n",
       "<p>5 rows × 44 columns</p>\n",
       "</div>"
      ],
      "text/plain": [
       "        year    comp_id       begin         end       amort  curr_assets  \\\n",
       "0       2010  1001034.0  2010-01-01  2010-12-31  177.777771  2096.296387   \n",
       "39375   2011  1001034.0  2011-01-01  2011-12-31  155.555557  3607.407471   \n",
       "78750   2012  1001034.0  2012-01-01  2012-12-31  140.740738   148.148148   \n",
       "118125  2013  1001034.0  2013-01-01  2013-12-31  140.740738   140.740738   \n",
       "157500  2014  1001034.0  2014-01-01  2014-12-31   29.629629   144.444443   \n",
       "\n",
       "           curr_liab  extra_exp  extra_inc  extra_profit_loss  ...  nace_main  \\\n",
       "0       19629.628906        0.0        0.0                0.0  ...     5630.0   \n",
       "39375   22555.554688        0.0        0.0                0.0  ...     5630.0   \n",
       "78750   21429.628906        0.0        0.0                0.0  ...     5630.0   \n",
       "118125  21851.851562        0.0        0.0                0.0  ...     5630.0   \n",
       "157500  22340.740234        0.0        0.0                0.0  ...     5630.0   \n",
       "\n",
       "        ind2  ind  urban_m  region_m  founded_date  exit_date  labor_avg  \\\n",
       "0       56.0  3.0      1.0   Central    1990-11-19        NaN   0.083333   \n",
       "39375   56.0  3.0      1.0   Central    1990-11-19        NaN   0.083333   \n",
       "78750   56.0  3.0      1.0   Central    1990-11-19        NaN   0.083333   \n",
       "118125  56.0  3.0      1.0   Central    1990-11-19        NaN        NaN   \n",
       "157500  56.0  3.0      1.0   Central    1990-11-19        NaN        NaN   \n",
       "\n",
       "        profit_growth  fast_growth  \n",
       "0           -0.791953            0  \n",
       "39375        0.575472            0  \n",
       "78750       -0.744012            0  \n",
       "118125      -0.292398            0  \n",
       "157500       0.239669            0  \n",
       "\n",
       "[5 rows x 44 columns]"
      ]
     },
     "execution_count": 19,
     "metadata": {},
     "output_type": "execute_result"
    }
   ],
   "source": [
    "df_2.head()"
   ]
  },
  {
   "cell_type": "code",
   "execution_count": 20,
   "metadata": {},
   "outputs": [
    {
     "data": {
      "text/plain": [
       "-1570.370361328125"
      ]
     },
     "execution_count": 20,
     "metadata": {},
     "output_type": "execute_result"
    }
   ],
   "source": [
    "# checking the \"profit_loss_year\" for the second observation\n",
    "df_2['profit_loss_year'].iloc[1]"
   ]
  },
  {
   "cell_type": "code",
   "execution_count": 21,
   "metadata": {},
   "outputs": [
    {
     "data": {
      "text/plain": [
       "count    236250.000000\n",
       "mean          0.015374\n",
       "std           0.123034\n",
       "min           0.000000\n",
       "25%           0.000000\n",
       "50%           0.000000\n",
       "75%           0.000000\n",
       "max           1.000000\n",
       "Name: fast_growth, dtype: float64"
      ]
     },
     "execution_count": 21,
     "metadata": {},
     "output_type": "execute_result"
    }
   ],
   "source": [
    "# checking the statistics of the \"fast_growth\" variable\n",
    "df_2['fast_growth'].describe()\n"
   ]
  },
  {
   "cell_type": "code",
   "execution_count": 22,
   "metadata": {},
   "outputs": [],
   "source": [
    "# dropping the observations with year != 2012\n",
    "df_2012 = df_2[df_2['year']==2012]"
   ]
  },
  {
   "cell_type": "code",
   "execution_count": 23,
   "metadata": {},
   "outputs": [
    {
     "data": {
      "text/plain": [
       "(39375, 44)"
      ]
     },
     "execution_count": 23,
     "metadata": {},
     "output_type": "execute_result"
    }
   ],
   "source": [
    "df_2012.shape"
   ]
  },
  {
   "cell_type": "code",
   "execution_count": 24,
   "metadata": {},
   "outputs": [
    {
     "data": {
      "text/plain": [
       "count    39375.000000\n",
       "mean         0.092241\n",
       "std          0.289370\n",
       "min          0.000000\n",
       "25%          0.000000\n",
       "50%          0.000000\n",
       "75%          0.000000\n",
       "max          1.000000\n",
       "Name: fast_growth, dtype: float64"
      ]
     },
     "execution_count": 24,
     "metadata": {},
     "output_type": "execute_result"
    }
   ],
   "source": [
    "df_2012['fast_growth'].describe()"
   ]
  },
  {
   "cell_type": "code",
   "execution_count": 25,
   "metadata": {},
   "outputs": [],
   "source": [
    "# Dropping the observations with missing values in the \"profit_loss_year\" variable\n",
    "df_2012 = df_2012.dropna(subset=['profit_loss_year'])"
   ]
  },
  {
   "cell_type": "code",
   "execution_count": 26,
   "metadata": {},
   "outputs": [
    {
     "data": {
      "text/plain": [
       "(28449, 44)"
      ]
     },
     "execution_count": 26,
     "metadata": {},
     "output_type": "execute_result"
    }
   ],
   "source": [
    "df_2012.shape"
   ]
  },
  {
   "cell_type": "code",
   "execution_count": 27,
   "metadata": {},
   "outputs": [
    {
     "data": {
      "text/plain": [
       "([<matplotlib.axis.XTick at 0x28986206530>,\n",
       "  <matplotlib.axis.XTick at 0x28986206500>],\n",
       " [Text(0, 0, '0'), Text(1, 0, '1')])"
      ]
     },
     "execution_count": 27,
     "metadata": {},
     "output_type": "execute_result"
    },
    {
     "data": {
      "image/png": "[encoded data removed]",
      "text/plain": [
       "<Figure size 640x480 with 1 Axes>"
      ]
     },
     "metadata": {},
     "output_type": "display_data"
    }
   ],
   "source": [
    "# plotting the histogram of the \"fast_growth\" variable considering it is a binary variable\n",
    "df_2012['fast_growth'].hist()\n",
    "# setting the xticks to be 0 and 1\n",
    "plt.xticks([0,1])"
   ]
  },
  {
   "cell_type": "code",
   "execution_count": 28,
   "metadata": {},
   "outputs": [
    {
     "data": {
      "text/plain": [
       "0    0.872333\n",
       "1    0.127667\n",
       "Name: fast_growth, dtype: float64"
      ]
     },
     "execution_count": 28,
     "metadata": {},
     "output_type": "execute_result"
    }
   ],
   "source": [
    "# checking the ratio of 1s to all values in the \"fast_growth\" variable\n",
    "df_2012['fast_growth'].value_counts(normalize=True)\n"
   ]
  },
  {
   "cell_type": "code",
   "execution_count": 29,
   "metadata": {},
   "outputs": [
    {
     "data": {
      "text/plain": [
       "exit_year               25052\n",
       "exit_date               24485\n",
       "birth_year               7653\n",
       "labor_avg                7061\n",
       "profit_growth            3574\n",
       "founded_year             3184\n",
       "gender                   3182\n",
       "inoffice_days            3182\n",
       "ceo_count                3182\n",
       "female                   3182\n",
       "foreign                  3182\n",
       "origin                   3182\n",
       "material_exp             1092\n",
       "personnel_exp            1092\n",
       "amort                    1092\n",
       "inc_bef_tax              1023\n",
       "extra_profit_loss        1023\n",
       "extra_inc                1023\n",
       "extra_exp                1023\n",
       "sales                    1023\n",
       "ind                       854\n",
       "region_m                   78\n",
       "nace_main                   6\n",
       "ind2                        6\n",
       "founded_date                3\n",
       "urban_m                     0\n",
       "year                        0\n",
       "balsheet_flag               0\n",
       "balsheet_notfullyear        0\n",
       "balsheet_length             0\n",
       "comp_id                     0\n",
       "tang_assets                 0\n",
       "subscribed_cap              0\n",
       "share_eq                    0\n",
       "profit_loss_year            0\n",
       "liq_assets                  0\n",
       "inventories                 0\n",
       "intang_assets               0\n",
       "fixed_assets                0\n",
       "curr_liab                   0\n",
       "curr_assets                 0\n",
       "end                         0\n",
       "begin                       0\n",
       "fast_growth                 0\n",
       "dtype: int64"
      ]
     },
     "execution_count": 29,
     "metadata": {},
     "output_type": "execute_result"
    }
   ],
   "source": [
    "# checking the missing values in each column\n",
    "df_2012.isnull().sum()\n",
    "\n",
    "# sorting the missing values in descending order\n",
    "df_2012.isnull().sum().sort_values(ascending=False)"
   ]
  },
  {
   "cell_type": "code",
   "execution_count": 30,
   "metadata": {},
   "outputs": [
    {
     "data": {
      "text/plain": [
       "4"
      ]
     },
     "execution_count": 30,
     "metadata": {},
     "output_type": "execute_result"
    }
   ],
   "source": [
    "# check if for any observation \"exit_year\" is smaller than \"year\"\n",
    "sum(df_2012['exit_year']<df_2012['year'])"
   ]
  },
  {
   "cell_type": "code",
   "execution_count": 31,
   "metadata": {},
   "outputs": [],
   "source": [
    "# dropping the observations with \"exit_year\" smaller than \"year\"\n",
    "df_2012 = df_2012.drop(df_2012[df_2012['exit_year']<df_2012['year']].index)"
   ]
  },
  {
   "cell_type": "code",
   "execution_count": 32,
   "metadata": {},
   "outputs": [
    {
     "data": {
      "text/plain": [
       "(28445, 44)"
      ]
     },
     "execution_count": 32,
     "metadata": {},
     "output_type": "execute_result"
    }
   ],
   "source": [
    "df_2012.shape"
   ]
  },
  {
   "cell_type": "code",
   "execution_count": 33,
   "metadata": {},
   "outputs": [
    {
     "data": {
      "text/html": [
       "<div>\n",
       "<style scoped>\n",
       "    .dataframe tbody tr th:only-of-type {\n",
       "        vertical-align: middle;\n",
       "    }\n",
       "\n",
       "    .dataframe tbody tr th {\n",
       "        vertical-align: top;\n",
       "    }\n",
       "\n",
       "    .dataframe thead th {\n",
       "        text-align: right;\n",
       "    }\n",
       "</style>\n",
       "<table border=\"1\" class=\"dataframe\">\n",
       "  <thead>\n",
       "    <tr style=\"text-align: right;\">\n",
       "      <th></th>\n",
       "      <th>year</th>\n",
       "      <th>comp_id</th>\n",
       "      <th>begin</th>\n",
       "      <th>end</th>\n",
       "      <th>amort</th>\n",
       "      <th>curr_assets</th>\n",
       "      <th>curr_liab</th>\n",
       "      <th>extra_exp</th>\n",
       "      <th>extra_inc</th>\n",
       "      <th>extra_profit_loss</th>\n",
       "      <th>...</th>\n",
       "      <th>nace_main</th>\n",
       "      <th>ind2</th>\n",
       "      <th>ind</th>\n",
       "      <th>urban_m</th>\n",
       "      <th>region_m</th>\n",
       "      <th>founded_date</th>\n",
       "      <th>exit_date</th>\n",
       "      <th>labor_avg</th>\n",
       "      <th>profit_growth</th>\n",
       "      <th>fast_growth</th>\n",
       "    </tr>\n",
       "  </thead>\n",
       "  <tbody>\n",
       "    <tr>\n",
       "      <th>78750</th>\n",
       "      <td>2012</td>\n",
       "      <td>1001034.0</td>\n",
       "      <td>2012-01-01</td>\n",
       "      <td>2012-12-31</td>\n",
       "      <td>140.740738</td>\n",
       "      <td>148.148148</td>\n",
       "      <td>21429.628906</td>\n",
       "      <td>0.0</td>\n",
       "      <td>0.0</td>\n",
       "      <td>0.0</td>\n",
       "      <td>...</td>\n",
       "      <td>5630.0</td>\n",
       "      <td>56.0</td>\n",
       "      <td>3.0</td>\n",
       "      <td>1.0</td>\n",
       "      <td>Central</td>\n",
       "      <td>1990-11-19</td>\n",
       "      <td>NaN</td>\n",
       "      <td>0.083333</td>\n",
       "      <td>-0.744012</td>\n",
       "      <td>0</td>\n",
       "    </tr>\n",
       "    <tr>\n",
       "      <th>78751</th>\n",
       "      <td>2012</td>\n",
       "      <td>1001541.0</td>\n",
       "      <td>2012-01-01</td>\n",
       "      <td>2012-12-31</td>\n",
       "      <td>481.481476</td>\n",
       "      <td>9629.629883</td>\n",
       "      <td>1303.703735</td>\n",
       "      <td>0.0</td>\n",
       "      <td>0.0</td>\n",
       "      <td>0.0</td>\n",
       "      <td>...</td>\n",
       "      <td>5610.0</td>\n",
       "      <td>56.0</td>\n",
       "      <td>3.0</td>\n",
       "      <td>3.0</td>\n",
       "      <td>Central</td>\n",
       "      <td>2008-02-24</td>\n",
       "      <td>NaN</td>\n",
       "      <td>NaN</td>\n",
       "      <td>-1.113189</td>\n",
       "      <td>0</td>\n",
       "    </tr>\n",
       "    <tr>\n",
       "      <th>78752</th>\n",
       "      <td>2012</td>\n",
       "      <td>1002029.0</td>\n",
       "      <td>2012-01-01</td>\n",
       "      <td>2012-12-31</td>\n",
       "      <td>14929.629883</td>\n",
       "      <td>203885.187500</td>\n",
       "      <td>120444.453125</td>\n",
       "      <td>0.0</td>\n",
       "      <td>0.0</td>\n",
       "      <td>0.0</td>\n",
       "      <td>...</td>\n",
       "      <td>2711.0</td>\n",
       "      <td>27.0</td>\n",
       "      <td>2.0</td>\n",
       "      <td>3.0</td>\n",
       "      <td>East</td>\n",
       "      <td>2006-07-03</td>\n",
       "      <td>NaN</td>\n",
       "      <td>0.458333</td>\n",
       "      <td>0.211428</td>\n",
       "      <td>0</td>\n",
       "    </tr>\n",
       "    <tr>\n",
       "      <th>78753</th>\n",
       "      <td>2012</td>\n",
       "      <td>1003200.0</td>\n",
       "      <td>2012-01-01</td>\n",
       "      <td>2012-12-31</td>\n",
       "      <td>25.925926</td>\n",
       "      <td>22.222221</td>\n",
       "      <td>10996.295898</td>\n",
       "      <td>0.0</td>\n",
       "      <td>0.0</td>\n",
       "      <td>0.0</td>\n",
       "      <td>...</td>\n",
       "      <td>5630.0</td>\n",
       "      <td>56.0</td>\n",
       "      <td>3.0</td>\n",
       "      <td>1.0</td>\n",
       "      <td>Central</td>\n",
       "      <td>2003-10-21</td>\n",
       "      <td>2014-08-09</td>\n",
       "      <td>NaN</td>\n",
       "      <td>NaN</td>\n",
       "      <td>0</td>\n",
       "    </tr>\n",
       "    <tr>\n",
       "      <th>78756</th>\n",
       "      <td>2012</td>\n",
       "      <td>1007261.0</td>\n",
       "      <td>2012-01-01</td>\n",
       "      <td>2012-12-31</td>\n",
       "      <td>0.000000</td>\n",
       "      <td>255.555557</td>\n",
       "      <td>9207.407227</td>\n",
       "      <td>0.0</td>\n",
       "      <td>0.0</td>\n",
       "      <td>0.0</td>\n",
       "      <td>...</td>\n",
       "      <td>5610.0</td>\n",
       "      <td>56.0</td>\n",
       "      <td>3.0</td>\n",
       "      <td>1.0</td>\n",
       "      <td>Central</td>\n",
       "      <td>2010-08-26</td>\n",
       "      <td>2015-11-19</td>\n",
       "      <td>0.083333</td>\n",
       "      <td>NaN</td>\n",
       "      <td>0</td>\n",
       "    </tr>\n",
       "  </tbody>\n",
       "</table>\n",
       "<p>5 rows × 44 columns</p>\n",
       "</div>"
      ],
      "text/plain": [
       "       year    comp_id       begin         end         amort    curr_assets  \\\n",
       "78750  2012  1001034.0  2012-01-01  2012-12-31    140.740738     148.148148   \n",
       "78751  2012  1001541.0  2012-01-01  2012-12-31    481.481476    9629.629883   \n",
       "78752  2012  1002029.0  2012-01-01  2012-12-31  14929.629883  203885.187500   \n",
       "78753  2012  1003200.0  2012-01-01  2012-12-31     25.925926      22.222221   \n",
       "78756  2012  1007261.0  2012-01-01  2012-12-31      0.000000     255.555557   \n",
       "\n",
       "           curr_liab  extra_exp  extra_inc  extra_profit_loss  ...  nace_main  \\\n",
       "78750   21429.628906        0.0        0.0                0.0  ...     5630.0   \n",
       "78751    1303.703735        0.0        0.0                0.0  ...     5610.0   \n",
       "78752  120444.453125        0.0        0.0                0.0  ...     2711.0   \n",
       "78753   10996.295898        0.0        0.0                0.0  ...     5630.0   \n",
       "78756    9207.407227        0.0        0.0                0.0  ...     5610.0   \n",
       "\n",
       "       ind2  ind  urban_m  region_m  founded_date   exit_date  labor_avg  \\\n",
       "78750  56.0  3.0      1.0   Central    1990-11-19         NaN   0.083333   \n",
       "78751  56.0  3.0      3.0   Central    2008-02-24         NaN        NaN   \n",
       "78752  27.0  2.0      3.0      East    2006-07-03         NaN   0.458333   \n",
       "78753  56.0  3.0      1.0   Central    2003-10-21  2014-08-09        NaN   \n",
       "78756  56.0  3.0      1.0   Central    2010-08-26  2015-11-19   0.083333   \n",
       "\n",
       "       profit_growth  fast_growth  \n",
       "78750      -0.744012            0  \n",
       "78751      -1.113189            0  \n",
       "78752       0.211428            0  \n",
       "78753            NaN            0  \n",
       "78756            NaN            0  \n",
       "\n",
       "[5 rows x 44 columns]"
      ]
     },
     "execution_count": 33,
     "metadata": {},
     "output_type": "execute_result"
    }
   ],
   "source": [
    "df_2012.head()"
   ]
  },
  {
   "cell_type": "code",
   "execution_count": 34,
   "metadata": {},
   "outputs": [
    {
     "data": {
      "text/plain": [
       "2016.0    1407\n",
       "2015.0    1131\n",
       "2014.0     489\n",
       "2013.0     240\n",
       "2017.0      66\n",
       "2012.0      60\n",
       "Name: exit_year, dtype: int64"
      ]
     },
     "execution_count": 34,
     "metadata": {},
     "output_type": "execute_result"
    }
   ],
   "source": [
    "# checking the values of the \"exit_year\" variable\n",
    "df_2012['exit_year'].value_counts()"
   ]
  },
  {
   "cell_type": "code",
   "execution_count": 35,
   "metadata": {},
   "outputs": [],
   "source": [
    "# dropping the \"exit_year\" and \"exit_date\" variables\n",
    "df_2012 = df_2012.drop(['exit_year', 'exit_date'], axis=1)"
   ]
  },
  {
   "cell_type": "code",
   "execution_count": 36,
   "metadata": {},
   "outputs": [
    {
     "data": {
      "text/plain": [
       "<Axes: >"
      ]
     },
     "execution_count": 36,
     "metadata": {},
     "output_type": "execute_result"
    },
    {
     "data": {
      "image/png": "[encoded data removed]",
      "text/plain": [
       "<Figure size 640x480 with 1 Axes>"
      ]
     },
     "metadata": {},
     "output_type": "display_data"
    }
   ],
   "source": [
    "# checking the distribution of \"birth_year\"\n",
    "df_2012['birth_year'].hist()"
   ]
  },
  {
   "cell_type": "code",
   "execution_count": 37,
   "metadata": {},
   "outputs": [
    {
     "data": {
      "text/plain": [
       "count    20793.000000\n",
       "mean      1965.760653\n",
       "std         11.514953\n",
       "min       1920.000000\n",
       "25%       1957.000000\n",
       "50%       1967.000000\n",
       "75%       1975.000000\n",
       "max       2016.000000\n",
       "Name: birth_year, dtype: float64"
      ]
     },
     "execution_count": 37,
     "metadata": {},
     "output_type": "execute_result"
    }
   ],
   "source": [
    "# checking the statistics of \"birth_year\"\n",
    "df_2012['birth_year'].describe()"
   ]
  },
  {
   "cell_type": "code",
   "execution_count": 38,
   "metadata": {},
   "outputs": [],
   "source": [
    "# replacing the missing values in \"birth_year\" with the median\n",
    "# adding a flag variable to indicate the missing values\n",
    "df_2012['birth_year_missing'] = np.where(df_2012['birth_year'].isnull(), 1, 0)\n",
    "df_2012['birth_year'] = df_2012['birth_year'].fillna(df_2012['birth_year'].median())"
   ]
  },
  {
   "cell_type": "code",
   "execution_count": 39,
   "metadata": {},
   "outputs": [],
   "source": [
    "# adding a flag variable to indicate the missing values for \"labor_avg\" and filling the missing values with the average\n",
    "df_2012['labor_avg_missing'] = np.where(df_2012['labor_avg'].isnull(), 1, 0)\n",
    "df_2012['labor_avg'] = df_2012['labor_avg'].fillna(df_2012['labor_avg'].mean())"
   ]
  },
  {
   "cell_type": "code",
   "execution_count": 40,
   "metadata": {},
   "outputs": [
    {
     "data": {
      "text/plain": [
       "<Axes: >"
      ]
     },
     "execution_count": 40,
     "metadata": {},
     "output_type": "execute_result"
    },
    {
     "data": {
      "image/png": "[encoded data removed]",
      "text/plain": [
       "<Figure size 640x480 with 1 Axes>"
      ]
     },
     "metadata": {},
     "output_type": "display_data"
    }
   ],
   "source": [
    "# Checking the distribution of \"founded_year\"\n",
    "df_2012['founded_year'].hist()"
   ]
  },
  {
   "cell_type": "code",
   "execution_count": 41,
   "metadata": {},
   "outputs": [
    {
     "data": {
      "text/plain": [
       "count    25261.000000\n",
       "mean      2003.453466\n",
       "std          6.898892\n",
       "min       1978.000000\n",
       "25%       1998.000000\n",
       "50%       2005.000000\n",
       "75%       2010.000000\n",
       "max       2012.000000\n",
       "Name: founded_year, dtype: float64"
      ]
     },
     "execution_count": 41,
     "metadata": {},
     "output_type": "execute_result"
    }
   ],
   "source": [
    "# checking the statistics of \"founded_year\"\n",
    "df_2012['founded_year'].describe()"
   ]
  },
  {
   "cell_type": "code",
   "execution_count": 42,
   "metadata": {},
   "outputs": [],
   "source": [
    "# replacing the missing values in \"founded_year\" with the median and adding a flag variable to indicate the missing values\n",
    "df_2012['founded_year_missing'] = np.where(df_2012['founded_year'].isnull(), 1, 0)\n",
    "df_2012['founded_year'] = df_2012['founded_year'].fillna(df_2012['founded_year'].median())"
   ]
  },
  {
   "cell_type": "code",
   "execution_count": 43,
   "metadata": {},
   "outputs": [
    {
     "data": {
      "text/plain": [
       "<Axes: >"
      ]
     },
     "execution_count": 43,
     "metadata": {},
     "output_type": "execute_result"
    },
    {
     "data": {
      "image/png": "[encoded data removed]",
      "text/plain": [
       "<Figure size 640x480 with 1 Axes>"
      ]
     },
     "metadata": {},
     "output_type": "display_data"
    }
   ],
   "source": [
    "# checking the distribution of \"origin\"\n",
    "df_2012['origin'].hist()"
   ]
  },
  {
   "cell_type": "code",
   "execution_count": 44,
   "metadata": {},
   "outputs": [
    {
     "data": {
      "text/plain": [
       "count        25263\n",
       "unique           3\n",
       "top       Domestic\n",
       "freq         22135\n",
       "Name: origin, dtype: object"
      ]
     },
     "execution_count": 44,
     "metadata": {},
     "output_type": "execute_result"
    }
   ],
   "source": [
    "# checking the statistics of \"origin\"\n",
    "df_2012['origin'].describe()"
   ]
  },
  {
   "cell_type": "code",
   "execution_count": 45,
   "metadata": {},
   "outputs": [],
   "source": [
    "# replacing the missing values in \"origin\" with the mode and adding a flag variable to indicate the missing values\n",
    "df_2012['origin_missing'] = np.where(df_2012['origin'].isnull(), 1, 0)\n",
    "df_2012['origin'] = df_2012['origin'].fillna(df_2012['origin'].mode()[0])"
   ]
  },
  {
   "cell_type": "code",
   "execution_count": 46,
   "metadata": {},
   "outputs": [
    {
     "data": {
      "text/plain": [
       "profit_growth           3572\n",
       "foreign                 3182\n",
       "ceo_count               3182\n",
       "inoffice_days           3182\n",
       "gender                  3182\n",
       "female                  3182\n",
       "material_exp            1091\n",
       "amort                   1091\n",
       "personnel_exp           1091\n",
       "extra_exp               1022\n",
       "extra_inc               1022\n",
       "extra_profit_loss       1022\n",
       "inc_bef_tax             1022\n",
       "sales                   1022\n",
       "ind                      854\n",
       "region_m                  78\n",
       "ind2                       6\n",
       "nace_main                  6\n",
       "founded_date               3\n",
       "urban_m                    0\n",
       "labor_avg                  0\n",
       "fast_growth                0\n",
       "origin                     0\n",
       "birth_year_missing         0\n",
       "labor_avg_missing          0\n",
       "birth_year                 0\n",
       "founded_year_missing       0\n",
       "year                       0\n",
       "balsheet_length            0\n",
       "founded_year               0\n",
       "inventories                0\n",
       "begin                      0\n",
       "end                        0\n",
       "curr_assets                0\n",
       "curr_liab                  0\n",
       "fixed_assets               0\n",
       "intang_assets              0\n",
       "liq_assets                 0\n",
       "balsheet_notfullyear       0\n",
       "profit_loss_year           0\n",
       "share_eq                   0\n",
       "subscribed_cap             0\n",
       "tang_assets                0\n",
       "balsheet_flag              0\n",
       "comp_id                    0\n",
       "origin_missing             0\n",
       "dtype: int64"
      ]
     },
     "execution_count": 46,
     "metadata": {},
     "output_type": "execute_result"
    }
   ],
   "source": [
    "# checking the missing values in each column\n",
    "df_2012.isnull().sum()\n",
    "\n",
    "# sorting the missing values in descending order\n",
    "df_2012.isnull().sum().sort_values(ascending=False)"
   ]
  },
  {
   "cell_type": "code",
   "execution_count": 47,
   "metadata": {},
   "outputs": [],
   "source": [
    "# Drop the observations with missing values in the \"profit_growth\" variable\n",
    "df_2012 = df_2012.dropna(subset=['profit_growth'])"
   ]
  },
  {
   "cell_type": "code",
   "execution_count": 48,
   "metadata": {},
   "outputs": [
    {
     "data": {
      "text/plain": [
       "foreign                 2618\n",
       "female                  2618\n",
       "ceo_count               2618\n",
       "inoffice_days           2618\n",
       "gender                  2618\n",
       "ind                      770\n",
       "amort                    428\n",
       "personnel_exp            428\n",
       "material_exp             428\n",
       "extra_exp                372\n",
       "extra_inc                372\n",
       "extra_profit_loss        372\n",
       "sales                    372\n",
       "inc_bef_tax              372\n",
       "region_m                  66\n",
       "ind2                       6\n",
       "nace_main                  6\n",
       "founded_date               2\n",
       "labor_avg                  0\n",
       "urban_m                    0\n",
       "profit_growth              0\n",
       "fast_growth                0\n",
       "origin                     0\n",
       "birth_year_missing         0\n",
       "labor_avg_missing          0\n",
       "birth_year                 0\n",
       "founded_year_missing       0\n",
       "year                       0\n",
       "balsheet_length            0\n",
       "founded_year               0\n",
       "inventories                0\n",
       "begin                      0\n",
       "end                        0\n",
       "curr_assets                0\n",
       "curr_liab                  0\n",
       "fixed_assets               0\n",
       "intang_assets              0\n",
       "liq_assets                 0\n",
       "balsheet_notfullyear       0\n",
       "profit_loss_year           0\n",
       "share_eq                   0\n",
       "subscribed_cap             0\n",
       "tang_assets                0\n",
       "balsheet_flag              0\n",
       "comp_id                    0\n",
       "origin_missing             0\n",
       "dtype: int64"
      ]
     },
     "execution_count": 48,
     "metadata": {},
     "output_type": "execute_result"
    }
   ],
   "source": [
    "# checking the missing values in each column\n",
    "df_2012.isnull().sum()\n",
    "\n",
    "# sorting the missing values in descending order\n",
    "df_2012.isnull().sum().sort_values(ascending=False)"
   ]
  },
  {
   "cell_type": "code",
   "execution_count": 49,
   "metadata": {},
   "outputs": [
    {
     "data": {
      "text/plain": [
       "(24873, 46)"
      ]
     },
     "execution_count": 49,
     "metadata": {},
     "output_type": "execute_result"
    }
   ],
   "source": [
    "df_2012.shape"
   ]
  },
  {
   "cell_type": "code",
   "execution_count": 50,
   "metadata": {},
   "outputs": [
    {
     "data": {
      "text/plain": [
       "<Axes: >"
      ]
     },
     "execution_count": 50,
     "metadata": {},
     "output_type": "execute_result"
    },
    {
     "data": {
      "image/png": "[encoded data removed]",
      "text/plain": [
       "<Figure size 640x480 with 1 Axes>"
      ]
     },
     "metadata": {},
     "output_type": "display_data"
    }
   ],
   "source": [
    "# checking the distribution of \"foreign\"\n",
    "df_2012['foreign'].hist()"
   ]
  },
  {
   "cell_type": "code",
   "execution_count": 51,
   "metadata": {},
   "outputs": [],
   "source": [
    "# create a flag variable to indicate the missing values for \"foreign\" and fill the missing values with the mode\n",
    "df_2012['foreign_missing'] = np.where(df_2012['foreign'].isnull(), 1, 0)\n",
    "df_2012['foreign'] = df_2012['foreign'].fillna(df_2012['foreign'].mode()[0])"
   ]
  },
  {
   "cell_type": "code",
   "execution_count": 52,
   "metadata": {},
   "outputs": [
    {
     "data": {
      "text/plain": [
       "<Axes: >"
      ]
     },
     "execution_count": 52,
     "metadata": {},
     "output_type": "execute_result"
    },
    {
     "data": {
      "image/png": "[encoded data removed]",
      "text/plain": [
       "<Figure size 640x480 with 1 Axes>"
      ]
     },
     "metadata": {},
     "output_type": "display_data"
    }
   ],
   "source": [
    "# checking the distribution of \"ceo_count\"\n",
    "df_2012['ceo_count'].hist()"
   ]
  },
  {
   "cell_type": "code",
   "execution_count": 53,
   "metadata": {},
   "outputs": [],
   "source": [
    "# create a flag variable to indicate the missing values for \"ceo_count\" and fill the missing values with the mode\n",
    "df_2012['ceo_count_missing'] = np.where(df_2012['ceo_count'].isnull(), 1, 0)\n",
    "df_2012['ceo_count'] = df_2012['ceo_count'].fillna(df_2012['ceo_count'].mode()[0])"
   ]
  },
  {
   "cell_type": "code",
   "execution_count": 54,
   "metadata": {},
   "outputs": [
    {
     "data": {
      "text/plain": [
       "<Axes: >"
      ]
     },
     "execution_count": 54,
     "metadata": {},
     "output_type": "execute_result"
    },
    {
     "data": {
      "image/png": "[encoded data removed]",
      "text/plain": [
       "<Figure size 640x480 with 1 Axes>"
      ]
     },
     "metadata": {},
     "output_type": "display_data"
    }
   ],
   "source": [
    "# checking the distribution of \"inoffice_days\"\n",
    "df_2012['inoffice_days'].hist()"
   ]
  },
  {
   "cell_type": "code",
   "execution_count": 55,
   "metadata": {},
   "outputs": [],
   "source": [
    "# create a flag variable to indicate the missing values for \"inoffice_days\" and fill the missing values with the mean\n",
    "df_2012['inoffice_days_missing'] = np.where(df_2012['inoffice_days'].isnull(), 1, 0)\n",
    "df_2012['inoffice_days'] = df_2012['inoffice_days'].fillna(df_2012['inoffice_days'].mean())"
   ]
  },
  {
   "cell_type": "code",
   "execution_count": 56,
   "metadata": {},
   "outputs": [
    {
     "data": {
      "text/plain": [
       "<Axes: >"
      ]
     },
     "execution_count": 56,
     "metadata": {},
     "output_type": "execute_result"
    },
    {
     "data": {
      "image/png": "[encoded data removed]",
      "text/plain": [
       "<Figure size 640x480 with 1 Axes>"
      ]
     },
     "metadata": {},
     "output_type": "display_data"
    }
   ],
   "source": [
    "# checking the distribution of \"female\"\n",
    "df_2012['female'].hist()"
   ]
  },
  {
   "cell_type": "code",
   "execution_count": 57,
   "metadata": {},
   "outputs": [],
   "source": [
    "# create a flag variable for missing values of \"female\" and fill the missing values with the mean\n",
    "df_2012['female_missing'] = np.where(df_2012['female'].isnull(), 1, 0)\n",
    "df_2012['female'] = df_2012['female'].fillna(df_2012['female'].mean())"
   ]
  },
  {
   "cell_type": "code",
   "execution_count": 58,
   "metadata": {},
   "outputs": [
    {
     "data": {
      "text/plain": [
       "<Axes: >"
      ]
     },
     "execution_count": 58,
     "metadata": {},
     "output_type": "execute_result"
    },
    {
     "data": {
      "image/png": "[encoded data removed]",
      "text/plain": [
       "<Figure size 640x480 with 1 Axes>"
      ]
     },
     "metadata": {},
     "output_type": "display_data"
    }
   ],
   "source": [
    "# checking the distribution of \"gender\"\n",
    "df_2012['gender'].hist()"
   ]
  },
  {
   "cell_type": "code",
   "execution_count": 59,
   "metadata": {},
   "outputs": [],
   "source": [
    "# create a flag variable for missing values of \"gender\"\n",
    "df_2012[\"gender_missing\"] = np.where(df_2012['gender'].isnull(), 1, 0)\n",
    "\n",
    "# filling the missing values based on \"female\"\n",
    "df_2012.loc[df_2012['female'] == 1, 'gender'] = 'female' \n",
    "df_2012.loc[(df_2012['female'] > 0) & (df_2012['female'] < 1), 'gender'] = 'mix' \n",
    "df_2012.loc[df_2012['female'] == 0, 'gender'] = 'male'"
   ]
  },
  {
   "cell_type": "code",
   "execution_count": 60,
   "metadata": {},
   "outputs": [],
   "source": [
    "# saving the new dataset in a csv file\n",
    "df_2012.to_csv('cs_bisnode_panel_clean.0.csv', index=False)"
   ]
  },
  {
   "cell_type": "markdown",
   "metadata": {},
   "source": [
    "## Dropping the missing observations"
   ]
  },
  {
   "cell_type": "code",
   "execution_count": 61,
   "metadata": {},
   "outputs": [],
   "source": [
    "# dropping the observations with missing values in \"liq_assets\", \"fixed_assets\", \"curr_assets\", \"inc_bef_tax\", \"profit_loss_year\", \"tang_assets\"\n",
    "df_2012 = df_2012.dropna(subset=['liq_assets', 'fixed_assets', 'curr_assets', 'inc_bef_tax', 'profit_loss_year', 'tang_assets', 'ind'])"
   ]
  },
  {
   "cell_type": "code",
   "execution_count": 62,
   "metadata": {},
   "outputs": [
    {
     "data": {
      "text/plain": [
       "region_m                 64\n",
       "amort                    54\n",
       "personnel_exp            54\n",
       "material_exp             54\n",
       "founded_date              2\n",
       "year                      0\n",
       "birth_year                0\n",
       "inoffice_days             0\n",
       "gender                    0\n",
       "origin                    0\n",
       "nace_main                 0\n",
       "ind2                      0\n",
       "ind                       0\n",
       "urban_m                   0\n",
       "labor_avg                 0\n",
       "foreign                   0\n",
       "profit_growth             0\n",
       "fast_growth               0\n",
       "birth_year_missing        0\n",
       "labor_avg_missing         0\n",
       "founded_year_missing      0\n",
       "origin_missing            0\n",
       "foreign_missing           0\n",
       "ceo_count_missing         0\n",
       "inoffice_days_missing     0\n",
       "female_missing            0\n",
       "female                    0\n",
       "founded_year              0\n",
       "ceo_count                 0\n",
       "intang_assets             0\n",
       "begin                     0\n",
       "end                       0\n",
       "curr_assets               0\n",
       "curr_liab                 0\n",
       "extra_exp                 0\n",
       "extra_inc                 0\n",
       "extra_profit_loss         0\n",
       "fixed_assets              0\n",
       "inc_bef_tax               0\n",
       "inventories               0\n",
       "comp_id                   0\n",
       "liq_assets                0\n",
       "profit_loss_year          0\n",
       "sales                     0\n",
       "share_eq                  0\n",
       "subscribed_cap            0\n",
       "tang_assets               0\n",
       "balsheet_flag             0\n",
       "balsheet_length           0\n",
       "balsheet_notfullyear      0\n",
       "gender_missing            0\n",
       "dtype: int64"
      ]
     },
     "execution_count": 62,
     "metadata": {},
     "output_type": "execute_result"
    }
   ],
   "source": [
    "# checking the missing values in each column\n",
    "df_2012.isnull().sum()\n",
    "\n",
    "# sorting the missing values in descending order\n",
    "df_2012.isnull().sum().sort_values(ascending=False)"
   ]
  },
  {
   "cell_type": "code",
   "execution_count": 63,
   "metadata": {},
   "outputs": [
    {
     "data": {
      "text/plain": [
       "(23748, 51)"
      ]
     },
     "execution_count": 63,
     "metadata": {},
     "output_type": "execute_result"
    }
   ],
   "source": [
    "df_2012.shape"
   ]
  },
  {
   "cell_type": "code",
   "execution_count": 64,
   "metadata": {},
   "outputs": [],
   "source": [
    "# dropping the observations with missing values\n",
    "df_2012 = df_2012.dropna() "
   ]
  },
  {
   "cell_type": "code",
   "execution_count": 65,
   "metadata": {},
   "outputs": [
    {
     "data": {
      "text/plain": [
       "<Axes: >"
      ]
     },
     "execution_count": 65,
     "metadata": {},
     "output_type": "execute_result"
    },
    {
     "data": {
      "image/png": "[encoded data removed]",
      "text/plain": [
       "<Figure size 640x480 with 1 Axes>"
      ]
     },
     "metadata": {},
     "output_type": "display_data"
    }
   ],
   "source": [
    "# checking the distribution of \"fast_growth\"\n",
    "df_2012['fast_growth'].hist()"
   ]
  },
  {
   "cell_type": "markdown",
   "metadata": {},
   "source": [
    "### Feature Engineering"
   ]
  },
  {
   "cell_type": "code",
   "execution_count": 66,
   "metadata": {},
   "outputs": [],
   "source": [
    "# creating a flag variable for negative values of \"sales\"\n",
    "df_2012['sales_neg'] = np.where(df_2012['sales']<0, 1, 0)\n",
    "\n",
    "# replacing the negative values of \"sales\" with 1\n",
    "df_2012['sales'] = df_2012['sales'].mask(df_2012['sales']<0, 1)"
   ]
  },
  {
   "cell_type": "code",
   "execution_count": 67,
   "metadata": {},
   "outputs": [
    {
     "name": "stderr",
     "output_type": "stream",
     "text": [
      "c:\\Users\\PA\\anaconda3\\lib\\site-packages\\pandas\\core\\arraylike.py:402: RuntimeWarning: divide by zero encountered in log\n",
      "  result = getattr(ufunc, method)(*inputs, **kwargs)\n"
     ]
    },
    {
     "data": {
      "text/plain": [
       "<Axes: >"
      ]
     },
     "execution_count": 67,
     "metadata": {},
     "output_type": "execute_result"
    },
    {
     "data": {
      "image/png": "[encoded data removed]",
      "text/plain": [
       "<Figure size 640x480 with 1 Axes>"
      ]
     },
     "metadata": {},
     "output_type": "display_data"
    }
   ],
   "source": [
    "# define \"sales_mil\" as \"sales\" divided by 1,000,\n",
    "df_2012['sales_mil'] = df_2012['sales'].div(1000)\n",
    "\n",
    "# define \"sales_mil_log\" as the log of \"sales_mil\" if \"sales_mil\" is greater than 0, otherwise 0\n",
    "df_2012['sales_mil_log'] = np.where(df_2012['sales_mil']>0, np.log(df_2012['sales_mil']), 0)\n",
    "\n",
    "# checking the distribution of \"sales_mil_log\"\n",
    "df_2012['sales_mil_log'].hist()"
   ]
  },
  {
   "cell_type": "code",
   "execution_count": 68,
   "metadata": {},
   "outputs": [],
   "source": [
    "# define the \"age\" = \"year\" - \"founded_year\"\n",
    "df_2012['age'] = df_2012['year'] - df_2012['founded_year']\n",
    "\n",
    "# define the \"new\" = 1 if \"age\" is smaller-equal than 1, otherwise 0\n",
    "df_2012['new'] = np.where(df_2012['age']<=1, 1, 0)\n",
    "\n"
   ]
  },
  {
   "cell_type": "code",
   "execution_count": 69,
   "metadata": {},
   "outputs": [],
   "source": [
    "# dropping the observations with \"sales\">10000000 or \"sales\"<1000\n",
    "df_2012 = df_2012.drop(df_2012[(df_2012['sales']>10000000) | (df_2012['sales']<1000)].index)\n"
   ]
  },
  {
   "cell_type": "code",
   "execution_count": 70,
   "metadata": {},
   "outputs": [
    {
     "data": {
      "text/plain": [
       "(19119, 56)"
      ]
     },
     "execution_count": 70,
     "metadata": {},
     "output_type": "execute_result"
    }
   ],
   "source": [
    "df_2012.shape"
   ]
  },
  {
   "cell_type": "markdown",
   "metadata": {},
   "source": [
    "### cat for ind2"
   ]
  },
  {
   "cell_type": "code",
   "execution_count": 71,
   "metadata": {},
   "outputs": [],
   "source": [
    "df_2012[\"ind2_cat\"] = df_2012[\"ind2\"].copy()\n",
    "df_2012[\"ind2_cat\"] = np.where(df_2012[\"ind2\"] > 56, 60, df_2012[\"ind2_cat\"])\n",
    "df_2012[\"ind2_cat\"] = np.where(df_2012[\"ind2\"] < 26, 20, df_2012[\"ind2_cat\"])\n",
    "df_2012[\"ind2_cat\"] = np.where(\n",
    "    (df_2012[\"ind2\"] < 55) & (df_2012[\"ind2\"] > 35), 40, df_2012[\"ind2_cat\"]\n",
    ")\n",
    "df_2012[\"ind2_cat\"] = np.where(df_2012[\"ind2\"] == 31, 30, df_2012[\"ind2_cat\"])\n",
    "df_2012[\"ind2_cat\"] = np.where(df_2012[\"ind2\"].isna(), 99, df_2012[\"ind2_cat\"])"
   ]
  },
  {
   "cell_type": "code",
   "execution_count": 72,
   "metadata": {},
   "outputs": [
    {
     "data": {
      "text/plain": [
       "ind2_cat\n",
       "26.0      992\n",
       "27.0      607\n",
       "28.0     1781\n",
       "29.0      257\n",
       "30.0      156\n",
       "33.0     1773\n",
       "55.0     2141\n",
       "56.0    11412\n",
       "Name: comp_id, dtype: int64"
      ]
     },
     "execution_count": 72,
     "metadata": {},
     "output_type": "execute_result"
    }
   ],
   "source": [
    "df_2012.groupby(\"ind2_cat\").count()[\"comp_id\"]"
   ]
  },
  {
   "cell_type": "code",
   "execution_count": 73,
   "metadata": {},
   "outputs": [],
   "source": [
    "# define \"age_sq\" = \"age\" squared\n",
    "df_2012[\"age_sq\"] = df_2012[\"age\"] ** 2\n",
    "\n",
    "# define \"foreign_management\" as a categorical variable\n",
    "df_2012[\"foreign_management\"] = np.where(\n",
    "    df_2012[\"foreign\"] >= 0.5, 1, np.where(df_2012[\"foreign\"].isna(), np.nan, 0)\n",
    ")"
   ]
  },
  {
   "cell_type": "code",
   "execution_count": 74,
   "metadata": {},
   "outputs": [],
   "source": [
    "# create a flag variable, \"flag_asset_problem\" for negative values of \"intang_assets\", \"curr_assets\", \"fixed_assets\"\n",
    "df_2012[\"flag_asset_problem\"] = np.where(\n",
    "    (df_2012[\"intang_assets\"] < 0)\n",
    "    | (df_2012[\"curr_assets\"] < 0)\n",
    "    | (df_2012[\"fixed_assets\"] < 0),\n",
    "    1,\n",
    "    0,\n",
    ")\n",
    "\n",
    "# changing the negative values of \"intang_assets\", \"curr_assets\", \"fixed_assets\" to 0\n",
    "df_2012[\"intang_assets\"] = np.where(df_2012[\"intang_assets\"] < 0, 0, df_2012[\"intang_assets\"])\n",
    "df_2012[\"curr_assets\"] = np.where(df_2012[\"curr_assets\"] < 0, 0, df_2012[\"curr_assets\"])\n",
    "df_2012[\"fixed_assets\"] = np.where(df_2012[\"fixed_assets\"] < 0, 0, df_2012[\"fixed_assets\"])\n"
   ]
  },
  {
   "cell_type": "code",
   "execution_count": 75,
   "metadata": {},
   "outputs": [],
   "source": [
    "# define \"total_assets\" = \"intang_assets\" + \"curr_assets\" + \"fixed_assets\"\n",
    "df_2012[\"total_assets\"] = (\n",
    "    df_2012[\"intang_assets\"] + df_2012[\"curr_assets\"] + df_2012[\"fixed_assets\"]\n",
    ")"
   ]
  },
  {
   "cell_type": "code",
   "execution_count": 76,
   "metadata": {},
   "outputs": [],
   "source": [
    "# profit-loss variables:\n",
    "pl_names = [\n",
    "    \"extra_exp\",\n",
    "    \"extra_inc\",\n",
    "    \"extra_profit_loss\",\n",
    "    \"inc_bef_tax\",\n",
    "    \"inventories\",\n",
    "    \"material_exp\",\n",
    "    \"profit_loss_year\",\n",
    "    \"personnel_exp\",\n",
    "]\n",
    "\n",
    "# balance sheet variables:\n",
    "bs_names = [\n",
    "    \"intang_assets\",\n",
    "    \"curr_liab\",\n",
    "    \"fixed_assets\",\n",
    "    \"liq_assets\",\n",
    "    \"curr_assets\",\n",
    "    \"share_eq\",\n",
    "    \"subscribed_cap\",\n",
    "    \"tang_assets\",\n",
    "]"
   ]
  },
  {
   "cell_type": "code",
   "execution_count": 77,
   "metadata": {},
   "outputs": [],
   "source": [
    "# normalizing the profit-loss variables by \"sales\" and saving them in new columns\n",
    "for i in pl_names:\n",
    "    df_2012[i + \"/sales\"] = df_2012[i] / df_2012[\"sales\"]\n",
    "\n",
    "# normalizing the balance sheet variables by \"total_assets\" and saving them in new columns\n",
    "for i in bs_names:\n",
    "    df_2012[i + \"/total_assets\"] = df_2012[i] / df_2012[\"total_assets\"]"
   ]
  },
  {
   "cell_type": "code",
   "execution_count": 78,
   "metadata": {},
   "outputs": [],
   "source": [
    "# list of variables that should be between -1 and 1\n",
    "var_list = [\n",
    "    \"extra_profit_loss/sales\",\n",
    "    \"inc_bef_tax/sales\",\n",
    "    \"profit_loss_year/sales\",\n",
    "    \"share_eq/total_assets\",\n",
    "]\n",
    "\n",
    "# create a \"_flag_low\" variable for the variables in \"var_list\" that are smaller than -1\n",
    "for i in var_list:\n",
    "    df_2012[i + \"_flag_low\"] = np.where(df_2012[i] < -1, 1, 0)\n",
    "\n",
    "# replace the values smaller than -1 with -1\n",
    "for i in var_list:\n",
    "    df_2012[i] = np.where(df_2012[i] < -1, -1, df_2012[i])\n",
    "\n",
    "# create a \"_flag_high\" variable for the variables in \"var_list\" that are greater than 1\n",
    "for i in var_list:\n",
    "    df_2012[i + \"_flag_high\"] = np.where(df_2012[i] > 1, 1, 0)\n",
    "\n",
    "# replace the values greater than 1 with 1\n",
    "for i in var_list:\n",
    "    df_2012[i] = np.where(df_2012[i] > 1, 1, df_2012[i])\n",
    "\n",
    "# adding the quadratic terms of the variables in \"var_list\"\n",
    "for i in var_list:\n",
    "    df_2012[i + \"_sq\"] = df_2012[i] ** 2"
   ]
  },
  {
   "cell_type": "code",
   "execution_count": 79,
   "metadata": {},
   "outputs": [
    {
     "data": {
      "text/plain": [
       "['balsheet_flag',\n",
       " 'birth_year_missing',\n",
       " 'labor_avg_missing',\n",
       " 'founded_year_missing',\n",
       " 'origin_missing',\n",
       " 'foreign_missing',\n",
       " 'ceo_count_missing',\n",
       " 'inoffice_days_missing',\n",
       " 'female_missing',\n",
       " 'gender_missing',\n",
       " 'flag_asset_problem',\n",
       " 'extra_profit_loss/sales_flag_low',\n",
       " 'inc_bef_tax/sales_flag_low',\n",
       " 'profit_loss_year/sales_flag_low',\n",
       " 'share_eq/total_assets_flag_low',\n",
       " 'extra_profit_loss/sales_flag_high',\n",
       " 'inc_bef_tax/sales_flag_high',\n",
       " 'profit_loss_year/sales_flag_high',\n",
       " 'share_eq/total_assets_flag_high']"
      ]
     },
     "execution_count": 79,
     "metadata": {},
     "output_type": "execute_result"
    }
   ],
   "source": [
    "# a list of flag variables if \"missing\" or \"flag\" is in the variable name\n",
    "flag_list = [i for i in df_2012.columns if (\"missing\" in i) | (\"flag\" in i)]\n",
    "\n",
    "flag_list\n"
   ]
  },
  {
   "cell_type": "code",
   "execution_count": 80,
   "metadata": {},
   "outputs": [],
   "source": [
    "# dropping the flag variables with no variation\n",
    "for i in flag_list:\n",
    "    if df_2012[i].nunique() == 1:\n",
    "        df_2012 = df_2012.drop(i, axis=1)"
   ]
  },
  {
   "cell_type": "code",
   "execution_count": 81,
   "metadata": {},
   "outputs": [],
   "source": [
    "# define the \"ceo_age\" = \"year\" - \"birth_year\"\n",
    "df_2012[\"ceo_age\"] = df_2012[\"year\"] - df_2012[\"birth_year\"]\n",
    "\n",
    "# binning the \"ceo_age\" variable in 3 bins: 0-25, 25-65, 65-120 and define a flag variable for each bin\n",
    "df_2012[\"ceo_age_0_25_flag\"] = np.where(df_2012[\"ceo_age\"] <= 25, 1, 0)\n",
    "df_2012[\"ceo_age_25_65_flag\"] = np.where(\n",
    "    (df_2012[\"ceo_age\"] > 25) & (df_2012[\"ceo_age\"] <= 65), 1, 0\n",
    ")\n",
    "df_2012[\"ceo_age_65_120_flag\"] = np.where(df_2012[\"ceo_age\"] > 65, 1, 0)\n",
    "\n",
    "# if \"ceo_age\"<25, replace it with 25, if \"ceo_age\">65, replace it with 65, otherwise replace it mean\n",
    "df_2012[\"ceo_age\"] = np.where(df_2012[\"ceo_age\"] < 25, 25, df_2012[\"ceo_age\"])\n",
    "df_2012[\"ceo_age\"] = np.where(df_2012[\"ceo_age\"] > 65, 65, df_2012[\"ceo_age\"])\n",
    "df_2012[\"ceo_age\"] = np.where(\n",
    "    (df_2012[\"ceo_age\"] > 25) & (df_2012[\"ceo_age\"] < 65),\n",
    "    df_2012[\"ceo_age\"].mean(),\n",
    "    df_2012[\"ceo_age\"],\n",
    ")"
   ]
  },
  {
   "cell_type": "code",
   "execution_count": 82,
   "metadata": {},
   "outputs": [],
   "source": [
    "# adding the quadratic term of \"sales_mil_log\"\n",
    "df_2012[\"sales_mil_log_sq\"] = df_2012[\"sales_mil_log\"] ** 2"
   ]
  },
  {
   "cell_type": "code",
   "execution_count": 89,
   "metadata": {},
   "outputs": [
    {
     "name": "stdout",
     "output_type": "stream",
     "text": [
      "Collecting scikit-misc\n",
      "  Downloading scikit_misc-0.3.0-cp310-cp310-win_amd64.whl (10.0 MB)\n",
      "     ---------------------------------------- 10.0/10.0 MB 3.4 MB/s eta 0:00:00\n",
      "Requirement already satisfied: numpy>=1.22.3 in c:\\users\\pa\\anaconda3\\lib\\site-packages (from scikit-misc) (1.23.5)\n",
      "Installing collected packages: scikit-misc\n",
      "Successfully installed scikit-misc-0.3.0\n",
      "Note: you may need to restart the kernel to use updated packages.\n"
     ]
    }
   ],
   "source": [
    "pip install scikit-misc"
   ]
  },
  {
   "cell_type": "code",
   "execution_count": 90,
   "metadata": {},
   "outputs": [
    {
     "data": {
      "image/png": "[encoded data removed]",
      "text/plain": [
       "<Figure size 640x480 with 1 Axes>"
      ]
     },
     "metadata": {
      "image/png": {
       "height": 480,
       "width": 640
      }
     },
     "output_type": "display_data"
    },
    {
     "data": {
      "text/plain": [
       "<Figure Size: (640 x 480)>"
      ]
     },
     "execution_count": 90,
     "metadata": {},
     "output_type": "execute_result"
    }
   ],
   "source": [
    "from plotnine import *\n",
    "# from ggplot import ggplot\n",
    "(\n",
    "    ggplot(df_2012, aes(x=\"sales_mil_log\", y=\"fast_growth\"))\n",
    "    + geom_point(color='blue')\n",
    "    + geom_smooth(method=\"lm\", formula=\"y ~ x + I(x**2)\", color=\"green\", se=False)\n",
    "    + geom_smooth(method=\"loess\", color=\"red\", se=False, size=1.5, span=0.9)\n",
    "    + labs(x=\"sales_mil_log\", y=\"fast_growth\")\n",
    "    + theme_bw()\n",
    ")"
   ]
  },
  {
   "cell_type": "code",
   "execution_count": 102,
   "metadata": {},
   "outputs": [
    {
     "name": "stderr",
     "output_type": "stream",
     "text": [
      "c:\\Users\\PA\\anaconda3\\lib\\site-packages\\plotnine\\layer.py:364: PlotnineWarning: geom_point : Removed 1942 rows containing missing values.\n"
     ]
    },
    {
     "data": {
      "image/png": "[encoded data removed]",
      "text/plain": [
       "<Figure size 640x480 with 1 Axes>"
      ]
     },
     "metadata": {
      "image/png": {
       "height": 480,
       "width": 640
      }
     },
     "output_type": "display_data"
    },
    {
     "data": {
      "text/plain": [
       "<Figure Size: (640 x 480)>"
      ]
     },
     "execution_count": 102,
     "metadata": {},
     "output_type": "execute_result"
    }
   ],
   "source": [
    "import statsmodels.formula.api as smf\n",
    "from sympy import sequence\n",
    "(\n",
    "    ggplot(df_2012, aes(x=\"profit_growth\", y=\"fast_growth\"))\n",
    "    + geom_point(color=\"blue\")\n",
    "    + geom_smooth(method=\"loess\", color='red', se=False, size=1.5, span=0.9)\n",
    "    + labs(x=\"profit_growth\", y=\"Fast growth\")\n",
    "    + scale_x_continuous(limits=(-6, 10))\n",
    "    + theme_bw()\n",
    ")"
   ]
  }
 ],
 "metadata": {
  "kernelspec": {
   "display_name": "Python 3",
   "language": "python",
   "name": "python3"
  },
  "language_info": {
   "codemirror_mode": {
    "name": "ipython",
    "version": 3
   },
   "file_extension": ".py",
   "mimetype": "text/x-python",
   "name": "python",
   "nbconvert_exporter": "python",
   "pygments_lexer": "ipython3",
   "version": "3.10.9"
  }
 },
 "nbformat": 4,
 "nbformat_minor": 2
}
